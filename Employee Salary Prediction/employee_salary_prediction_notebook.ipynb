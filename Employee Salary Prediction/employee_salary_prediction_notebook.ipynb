# install seaborn library
!{sys.executable} -m pip install sagemaker==1.72.0 -U
!pip install seaborn
!pip install tensorflow
import tensorflow as tf
import pandas as pd
import numpy as np
import seaborn as sns
import matplotlib.pyplot as plt
