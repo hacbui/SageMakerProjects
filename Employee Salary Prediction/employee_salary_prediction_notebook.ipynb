{
 "cells": [
  {
   "cell_type": "markdown",
   "metadata": {
    "colab_type": "text",
    "id": "M27qF7CTrBqc"
   },
   "source": [
    "# TASK #1: UNDERSTAND THE PROBLEM STATEMENT "
   ]
  },
  {
   "cell_type": "markdown",
   "metadata": {
    "colab_type": "text",
    "id": "xNl52nl3qiyL"
   },
   "source": [
    "- The objective of this case study is to predict the employee salary based on the number of years of experience. \n",
    "- In simple linear regression, we predict the value of one variable Y based on another variable X.\n",
    "- X is called the independent variable and Y is called the dependant variable.\n",
    "- Why simple? Because it examines relationship between two variables only.\n",
    "- Why linear? when the independent variable increases (or decreases), the dependent variable increases (or decreases) in a linear fashion.\n"
   ]
  },
  {
   "cell_type": "markdown",
   "metadata": {
    "colab_type": "text",
    "id": "zKmFmyaGunc7"
   },
   "source": [
    "# TASK #2: IMPORT LIBRARIES AND DATASETS"
   ]
  },
  {
   "cell_type": "code",
   "execution_count": 2,
   "metadata": {
    "tags": []
   },
   "outputs": [
    {
     "name": "stdout",
     "output_type": "stream",
     "text": [
      "/bin/bash: line 1: {sys.executable}: command not found\n",
      "Requirement already satisfied: seaborn in /opt/conda/lib/python3.10/site-packages (0.11.2)\n",
      "Requirement already satisfied: numpy>=1.15 in /opt/conda/lib/python3.10/site-packages (from seaborn) (1.24.3)\n",
      "Requirement already satisfied: scipy>=1.0 in /opt/conda/lib/python3.10/site-packages (from seaborn) (1.9.1)\n",
      "Requirement already satisfied: pandas>=0.23 in /opt/conda/lib/python3.10/site-packages (from seaborn) (1.4.4)\n",
      "Requirement already satisfied: matplotlib>=2.2 in /opt/conda/lib/python3.10/site-packages (from seaborn) (3.5.2)\n",
      "Requirement already satisfied: cycler>=0.10 in /opt/conda/lib/python3.10/site-packages (from matplotlib>=2.2->seaborn) (0.11.0)\n",
      "Requirement already satisfied: fonttools>=4.22.0 in /opt/conda/lib/python3.10/site-packages (from matplotlib>=2.2->seaborn) (4.25.0)\n",
      "Requirement already satisfied: kiwisolver>=1.0.1 in /opt/conda/lib/python3.10/site-packages (from matplotlib>=2.2->seaborn) (1.4.2)\n",
      "Requirement already satisfied: packaging>=20.0 in /opt/conda/lib/python3.10/site-packages (from matplotlib>=2.2->seaborn) (21.3)\n",
      "Requirement already satisfied: pillow>=6.2.0 in /opt/conda/lib/python3.10/site-packages (from matplotlib>=2.2->seaborn) (10.0.0)\n",
      "Requirement already satisfied: pyparsing>=2.2.1 in /opt/conda/lib/python3.10/site-packages (from matplotlib>=2.2->seaborn) (3.0.9)\n",
      "Requirement already satisfied: python-dateutil>=2.7 in /opt/conda/lib/python3.10/site-packages (from matplotlib>=2.2->seaborn) (2.8.2)\n",
      "Requirement already satisfied: pytz>=2020.1 in /opt/conda/lib/python3.10/site-packages (from pandas>=0.23->seaborn) (2022.1)\n",
      "Requirement already satisfied: six>=1.5 in /opt/conda/lib/python3.10/site-packages (from python-dateutil>=2.7->matplotlib>=2.2->seaborn) (1.16.0)\n",
      "\u001b[33mWARNING: Running pip as the 'root' user can result in broken permissions and conflicting behaviour with the system package manager. It is recommended to use a virtual environment instead: https://pip.pypa.io/warnings/venv\u001b[0m\u001b[33m\n",
      "\u001b[0mRequirement already satisfied: tensorflow in /opt/conda/lib/python3.10/site-packages (2.13.0)\n",
      "Requirement already satisfied: absl-py>=1.0.0 in /opt/conda/lib/python3.10/site-packages (from tensorflow) (1.4.0)\n",
      "Requirement already satisfied: astunparse>=1.6.0 in /opt/conda/lib/python3.10/site-packages (from tensorflow) (1.6.3)\n",
      "Requirement already satisfied: flatbuffers>=23.1.21 in /opt/conda/lib/python3.10/site-packages (from tensorflow) (23.5.26)\n",
      "Requirement already satisfied: gast<=0.4.0,>=0.2.1 in /opt/conda/lib/python3.10/site-packages (from tensorflow) (0.4.0)\n",
      "Requirement already satisfied: google-pasta>=0.1.1 in /opt/conda/lib/python3.10/site-packages (from tensorflow) (0.2.0)\n",
      "Requirement already satisfied: grpcio<2.0,>=1.24.3 in /opt/conda/lib/python3.10/site-packages (from tensorflow) (1.57.0)\n",
      "Requirement already satisfied: h5py>=2.9.0 in /opt/conda/lib/python3.10/site-packages (from tensorflow) (3.7.0)\n",
      "Requirement already satisfied: keras<2.14,>=2.13.1 in /opt/conda/lib/python3.10/site-packages (from tensorflow) (2.13.1)\n",
      "Requirement already satisfied: libclang>=13.0.0 in /opt/conda/lib/python3.10/site-packages (from tensorflow) (16.0.6)\n",
      "Requirement already satisfied: numpy<=1.24.3,>=1.22 in /opt/conda/lib/python3.10/site-packages (from tensorflow) (1.24.3)\n",
      "Requirement already satisfied: opt-einsum>=2.3.2 in /opt/conda/lib/python3.10/site-packages (from tensorflow) (3.3.0)\n",
      "Requirement already satisfied: packaging in /opt/conda/lib/python3.10/site-packages (from tensorflow) (21.3)\n",
      "Requirement already satisfied: protobuf!=4.21.0,!=4.21.1,!=4.21.2,!=4.21.3,!=4.21.4,!=4.21.5,<5.0.0dev,>=3.20.3 in /opt/conda/lib/python3.10/site-packages (from tensorflow) (4.23.4)\n",
      "Requirement already satisfied: setuptools in /opt/conda/lib/python3.10/site-packages (from tensorflow) (68.0.0)\n",
      "Requirement already satisfied: six>=1.12.0 in /opt/conda/lib/python3.10/site-packages (from tensorflow) (1.16.0)\n",
      "Requirement already satisfied: tensorboard<2.14,>=2.13 in /opt/conda/lib/python3.10/site-packages (from tensorflow) (2.13.0)\n",
      "Requirement already satisfied: tensorflow-estimator<2.14,>=2.13.0 in /opt/conda/lib/python3.10/site-packages (from tensorflow) (2.13.0)\n",
      "Requirement already satisfied: termcolor>=1.1.0 in /opt/conda/lib/python3.10/site-packages (from tensorflow) (2.3.0)\n",
      "Requirement already satisfied: typing-extensions<4.6.0,>=3.6.6 in /opt/conda/lib/python3.10/site-packages (from tensorflow) (4.3.0)\n",
      "Requirement already satisfied: wrapt>=1.11.0 in /opt/conda/lib/python3.10/site-packages (from tensorflow) (1.14.1)\n",
      "Requirement already satisfied: tensorflow-io-gcs-filesystem>=0.23.1 in /opt/conda/lib/python3.10/site-packages (from tensorflow) (0.33.0)\n",
      "Requirement already satisfied: wheel<1.0,>=0.23.0 in /opt/conda/lib/python3.10/site-packages (from astunparse>=1.6.0->tensorflow) (0.41.0)\n",
      "Requirement already satisfied: google-auth<3,>=1.6.3 in /opt/conda/lib/python3.10/site-packages (from tensorboard<2.14,>=2.13->tensorflow) (2.22.0)\n",
      "Requirement already satisfied: google-auth-oauthlib<1.1,>=0.5 in /opt/conda/lib/python3.10/site-packages (from tensorboard<2.14,>=2.13->tensorflow) (1.0.0)\n",
      "Requirement already satisfied: markdown>=2.6.8 in /opt/conda/lib/python3.10/site-packages (from tensorboard<2.14,>=2.13->tensorflow) (3.3.4)\n",
      "Requirement already satisfied: requests<3,>=2.21.0 in /opt/conda/lib/python3.10/site-packages (from tensorboard<2.14,>=2.13->tensorflow) (2.31.0)\n",
      "Requirement already satisfied: tensorboard-data-server<0.8.0,>=0.7.0 in /opt/conda/lib/python3.10/site-packages (from tensorboard<2.14,>=2.13->tensorflow) (0.7.1)\n",
      "Requirement already satisfied: werkzeug>=1.0.1 in /opt/conda/lib/python3.10/site-packages (from tensorboard<2.14,>=2.13->tensorflow) (2.3.6)\n",
      "Requirement already satisfied: pyparsing!=3.0.5,>=2.0.2 in /opt/conda/lib/python3.10/site-packages (from packaging->tensorflow) (3.0.9)\n",
      "Requirement already satisfied: cachetools<6.0,>=2.0.0 in /opt/conda/lib/python3.10/site-packages (from google-auth<3,>=1.6.3->tensorboard<2.14,>=2.13->tensorflow) (5.3.1)\n",
      "Requirement already satisfied: pyasn1-modules>=0.2.1 in /opt/conda/lib/python3.10/site-packages (from google-auth<3,>=1.6.3->tensorboard<2.14,>=2.13->tensorflow) (0.2.8)\n",
      "Requirement already satisfied: rsa<5,>=3.1.4 in /opt/conda/lib/python3.10/site-packages (from google-auth<3,>=1.6.3->tensorboard<2.14,>=2.13->tensorflow) (4.7.2)\n",
      "Requirement already satisfied: urllib3<2.0 in /opt/conda/lib/python3.10/site-packages (from google-auth<3,>=1.6.3->tensorboard<2.14,>=2.13->tensorflow) (1.26.16)\n",
      "Requirement already satisfied: requests-oauthlib>=0.7.0 in /opt/conda/lib/python3.10/site-packages (from google-auth-oauthlib<1.1,>=0.5->tensorboard<2.14,>=2.13->tensorflow) (1.3.1)\n",
      "Requirement already satisfied: charset-normalizer<4,>=2 in /opt/conda/lib/python3.10/site-packages (from requests<3,>=2.21.0->tensorboard<2.14,>=2.13->tensorflow) (2.0.4)\n",
      "Requirement already satisfied: idna<4,>=2.5 in /opt/conda/lib/python3.10/site-packages (from requests<3,>=2.21.0->tensorboard<2.14,>=2.13->tensorflow) (3.3)\n",
      "Requirement already satisfied: certifi>=2017.4.17 in /opt/conda/lib/python3.10/site-packages (from requests<3,>=2.21.0->tensorboard<2.14,>=2.13->tensorflow) (2023.7.22)\n",
      "Requirement already satisfied: MarkupSafe>=2.1.1 in /opt/conda/lib/python3.10/site-packages (from werkzeug>=1.0.1->tensorboard<2.14,>=2.13->tensorflow) (2.1.3)\n",
      "Requirement already satisfied: pyasn1<0.5.0,>=0.4.6 in /opt/conda/lib/python3.10/site-packages (from pyasn1-modules>=0.2.1->google-auth<3,>=1.6.3->tensorboard<2.14,>=2.13->tensorflow) (0.4.8)\n",
      "Requirement already satisfied: oauthlib>=3.0.0 in /opt/conda/lib/python3.10/site-packages (from requests-oauthlib>=0.7.0->google-auth-oauthlib<1.1,>=0.5->tensorboard<2.14,>=2.13->tensorflow) (3.2.2)\n",
      "\u001b[33mWARNING: Running pip as the 'root' user can result in broken permissions and conflicting behaviour with the system package manager. It is recommended to use a virtual environment instead: https://pip.pypa.io/warnings/venv\u001b[0m\u001b[33m\n",
      "\u001b[0m"
     ]
    },
    {
     "name": "stderr",
     "output_type": "stream",
     "text": [
      "2023-09-02 05:43:12.754501: I tensorflow/tsl/cuda/cudart_stub.cc:28] Could not find cuda drivers on your machine, GPU will not be used.\n",
      "2023-09-02 05:43:12.832619: I tensorflow/tsl/cuda/cudart_stub.cc:28] Could not find cuda drivers on your machine, GPU will not be used.\n",
      "2023-09-02 05:43:12.833809: I tensorflow/core/platform/cpu_feature_guard.cc:182] This TensorFlow binary is optimized to use available CPU instructions in performance-critical operations.\n",
      "To enable the following instructions: AVX2 AVX512F FMA, in other operations, rebuild TensorFlow with the appropriate compiler flags.\n",
      "2023-09-02 05:43:14.074805: W tensorflow/compiler/tf2tensorrt/utils/py_utils.cc:38] TF-TRT Warning: Could not find TensorRT\n"
     ]
    }
   ],
   "source": [
    "# install seaborn library\n",
    "!{sys.executable} -m pip install sagemaker==1.72.0 -U\n",
    "!pip install seaborn\n",
    "!pip install tensorflow\n",
    "import tensorflow as tf\n",
    "import pandas as pd\n",
    "import numpy as np\n",
    "import seaborn as sns\n",
    "import matplotlib.pyplot as plt\n"
   ]
  },
  {
   "cell_type": "code",
   "execution_count": 3,
   "metadata": {
    "colab": {},
    "colab_type": "code",
    "id": "tjIiJdM4u1IE",
    "tags": []
   },
   "outputs": [],
   "source": [
    "# read the csv file \n",
    "salary_df = pd.read_csv('salary.csv') "
   ]
  },
  {
   "cell_type": "code",
   "execution_count": 4,
   "metadata": {
    "colab": {
     "base_uri": "https://localhost:8080/",
     "height": 204
    },
    "colab_type": "code",
    "id": "q4_wPDKCu5Uc",
    "outputId": "886d2aaf-0205-4f46-96a7-629d0f367d2f",
    "tags": []
   },
   "outputs": [
    {
     "data": {
      "text/html": [
       "<div>\n",
       "<style scoped>\n",
       "    .dataframe tbody tr th:only-of-type {\n",
       "        vertical-align: middle;\n",
       "    }\n",
       "\n",
       "    .dataframe tbody tr th {\n",
       "        vertical-align: top;\n",
       "    }\n",
       "\n",
       "    .dataframe thead th {\n",
       "        text-align: right;\n",
       "    }\n",
       "</style>\n",
       "<table border=\"1\" class=\"dataframe\">\n",
       "  <thead>\n",
       "    <tr style=\"text-align: right;\">\n",
       "      <th></th>\n",
       "      <th>YearsExperience</th>\n",
       "      <th>Salary</th>\n",
       "    </tr>\n",
       "  </thead>\n",
       "  <tbody>\n",
       "    <tr>\n",
       "      <th>0</th>\n",
       "      <td>1.1</td>\n",
       "      <td>39343</td>\n",
       "    </tr>\n",
       "    <tr>\n",
       "      <th>1</th>\n",
       "      <td>1.3</td>\n",
       "      <td>46205</td>\n",
       "    </tr>\n",
       "    <tr>\n",
       "      <th>2</th>\n",
       "      <td>1.5</td>\n",
       "      <td>37731</td>\n",
       "    </tr>\n",
       "    <tr>\n",
       "      <th>3</th>\n",
       "      <td>2.0</td>\n",
       "      <td>43525</td>\n",
       "    </tr>\n",
       "    <tr>\n",
       "      <th>4</th>\n",
       "      <td>2.2</td>\n",
       "      <td>39891</td>\n",
       "    </tr>\n",
       "    <tr>\n",
       "      <th>5</th>\n",
       "      <td>2.9</td>\n",
       "      <td>56642</td>\n",
       "    </tr>\n",
       "    <tr>\n",
       "      <th>6</th>\n",
       "      <td>3.0</td>\n",
       "      <td>60150</td>\n",
       "    </tr>\n",
       "    <tr>\n",
       "      <th>7</th>\n",
       "      <td>3.2</td>\n",
       "      <td>54445</td>\n",
       "    </tr>\n",
       "    <tr>\n",
       "      <th>8</th>\n",
       "      <td>3.2</td>\n",
       "      <td>64445</td>\n",
       "    </tr>\n",
       "    <tr>\n",
       "      <th>9</th>\n",
       "      <td>3.7</td>\n",
       "      <td>57189</td>\n",
       "    </tr>\n",
       "    <tr>\n",
       "      <th>10</th>\n",
       "      <td>3.9</td>\n",
       "      <td>63218</td>\n",
       "    </tr>\n",
       "    <tr>\n",
       "      <th>11</th>\n",
       "      <td>4.0</td>\n",
       "      <td>55794</td>\n",
       "    </tr>\n",
       "    <tr>\n",
       "      <th>12</th>\n",
       "      <td>4.0</td>\n",
       "      <td>56957</td>\n",
       "    </tr>\n",
       "    <tr>\n",
       "      <th>13</th>\n",
       "      <td>4.1</td>\n",
       "      <td>57081</td>\n",
       "    </tr>\n",
       "    <tr>\n",
       "      <th>14</th>\n",
       "      <td>4.5</td>\n",
       "      <td>61111</td>\n",
       "    </tr>\n",
       "    <tr>\n",
       "      <th>15</th>\n",
       "      <td>4.9</td>\n",
       "      <td>67938</td>\n",
       "    </tr>\n",
       "    <tr>\n",
       "      <th>16</th>\n",
       "      <td>5.1</td>\n",
       "      <td>66029</td>\n",
       "    </tr>\n",
       "    <tr>\n",
       "      <th>17</th>\n",
       "      <td>5.3</td>\n",
       "      <td>83088</td>\n",
       "    </tr>\n",
       "    <tr>\n",
       "      <th>18</th>\n",
       "      <td>5.9</td>\n",
       "      <td>81363</td>\n",
       "    </tr>\n",
       "    <tr>\n",
       "      <th>19</th>\n",
       "      <td>6.0</td>\n",
       "      <td>93940</td>\n",
       "    </tr>\n",
       "    <tr>\n",
       "      <th>20</th>\n",
       "      <td>6.8</td>\n",
       "      <td>91738</td>\n",
       "    </tr>\n",
       "    <tr>\n",
       "      <th>21</th>\n",
       "      <td>7.1</td>\n",
       "      <td>98273</td>\n",
       "    </tr>\n",
       "    <tr>\n",
       "      <th>22</th>\n",
       "      <td>7.9</td>\n",
       "      <td>101302</td>\n",
       "    </tr>\n",
       "    <tr>\n",
       "      <th>23</th>\n",
       "      <td>8.2</td>\n",
       "      <td>113812</td>\n",
       "    </tr>\n",
       "    <tr>\n",
       "      <th>24</th>\n",
       "      <td>8.7</td>\n",
       "      <td>109431</td>\n",
       "    </tr>\n",
       "    <tr>\n",
       "      <th>25</th>\n",
       "      <td>9.0</td>\n",
       "      <td>105582</td>\n",
       "    </tr>\n",
       "    <tr>\n",
       "      <th>26</th>\n",
       "      <td>9.5</td>\n",
       "      <td>116969</td>\n",
       "    </tr>\n",
       "    <tr>\n",
       "      <th>27</th>\n",
       "      <td>9.6</td>\n",
       "      <td>112635</td>\n",
       "    </tr>\n",
       "    <tr>\n",
       "      <th>28</th>\n",
       "      <td>10.3</td>\n",
       "      <td>122391</td>\n",
       "    </tr>\n",
       "    <tr>\n",
       "      <th>29</th>\n",
       "      <td>10.5</td>\n",
       "      <td>121872</td>\n",
       "    </tr>\n",
       "    <tr>\n",
       "      <th>30</th>\n",
       "      <td>11.2</td>\n",
       "      <td>127345</td>\n",
       "    </tr>\n",
       "    <tr>\n",
       "      <th>31</th>\n",
       "      <td>11.5</td>\n",
       "      <td>126756</td>\n",
       "    </tr>\n",
       "    <tr>\n",
       "      <th>32</th>\n",
       "      <td>12.3</td>\n",
       "      <td>128765</td>\n",
       "    </tr>\n",
       "    <tr>\n",
       "      <th>33</th>\n",
       "      <td>12.9</td>\n",
       "      <td>135675</td>\n",
       "    </tr>\n",
       "    <tr>\n",
       "      <th>34</th>\n",
       "      <td>13.5</td>\n",
       "      <td>139465</td>\n",
       "    </tr>\n",
       "  </tbody>\n",
       "</table>\n",
       "</div>"
      ],
      "text/plain": [
       "    YearsExperience  Salary\n",
       "0               1.1   39343\n",
       "1               1.3   46205\n",
       "2               1.5   37731\n",
       "3               2.0   43525\n",
       "4               2.2   39891\n",
       "5               2.9   56642\n",
       "6               3.0   60150\n",
       "7               3.2   54445\n",
       "8               3.2   64445\n",
       "9               3.7   57189\n",
       "10              3.9   63218\n",
       "11              4.0   55794\n",
       "12              4.0   56957\n",
       "13              4.1   57081\n",
       "14              4.5   61111\n",
       "15              4.9   67938\n",
       "16              5.1   66029\n",
       "17              5.3   83088\n",
       "18              5.9   81363\n",
       "19              6.0   93940\n",
       "20              6.8   91738\n",
       "21              7.1   98273\n",
       "22              7.9  101302\n",
       "23              8.2  113812\n",
       "24              8.7  109431\n",
       "25              9.0  105582\n",
       "26              9.5  116969\n",
       "27              9.6  112635\n",
       "28             10.3  122391\n",
       "29             10.5  121872\n",
       "30             11.2  127345\n",
       "31             11.5  126756\n",
       "32             12.3  128765\n",
       "33             12.9  135675\n",
       "34             13.5  139465"
      ]
     },
     "execution_count": 4,
     "metadata": {},
     "output_type": "execute_result"
    }
   ],
   "source": [
    "salary_df"
   ]
  },
  {
   "cell_type": "markdown",
   "metadata": {},
   "source": [
    "MINI CHALLENGE\n",
    " - Use head and tail methods to print the first and last 7 rows of the dataframe\n",
    " - Try to find the maximum salary value in the dataframe "
   ]
  },
  {
   "cell_type": "code",
   "execution_count": 5,
   "metadata": {
    "tags": []
   },
   "outputs": [
    {
     "data": {
      "text/html": [
       "<div>\n",
       "<style scoped>\n",
       "    .dataframe tbody tr th:only-of-type {\n",
       "        vertical-align: middle;\n",
       "    }\n",
       "\n",
       "    .dataframe tbody tr th {\n",
       "        vertical-align: top;\n",
       "    }\n",
       "\n",
       "    .dataframe thead th {\n",
       "        text-align: right;\n",
       "    }\n",
       "</style>\n",
       "<table border=\"1\" class=\"dataframe\">\n",
       "  <thead>\n",
       "    <tr style=\"text-align: right;\">\n",
       "      <th></th>\n",
       "      <th>YearsExperience</th>\n",
       "      <th>Salary</th>\n",
       "    </tr>\n",
       "  </thead>\n",
       "  <tbody>\n",
       "    <tr>\n",
       "      <th>0</th>\n",
       "      <td>1.1</td>\n",
       "      <td>39343</td>\n",
       "    </tr>\n",
       "    <tr>\n",
       "      <th>1</th>\n",
       "      <td>1.3</td>\n",
       "      <td>46205</td>\n",
       "    </tr>\n",
       "    <tr>\n",
       "      <th>2</th>\n",
       "      <td>1.5</td>\n",
       "      <td>37731</td>\n",
       "    </tr>\n",
       "    <tr>\n",
       "      <th>3</th>\n",
       "      <td>2.0</td>\n",
       "      <td>43525</td>\n",
       "    </tr>\n",
       "    <tr>\n",
       "      <th>4</th>\n",
       "      <td>2.2</td>\n",
       "      <td>39891</td>\n",
       "    </tr>\n",
       "    <tr>\n",
       "      <th>5</th>\n",
       "      <td>2.9</td>\n",
       "      <td>56642</td>\n",
       "    </tr>\n",
       "    <tr>\n",
       "      <th>6</th>\n",
       "      <td>3.0</td>\n",
       "      <td>60150</td>\n",
       "    </tr>\n",
       "  </tbody>\n",
       "</table>\n",
       "</div>"
      ],
      "text/plain": [
       "   YearsExperience  Salary\n",
       "0              1.1   39343\n",
       "1              1.3   46205\n",
       "2              1.5   37731\n",
       "3              2.0   43525\n",
       "4              2.2   39891\n",
       "5              2.9   56642\n",
       "6              3.0   60150"
      ]
     },
     "execution_count": 5,
     "metadata": {},
     "output_type": "execute_result"
    }
   ],
   "source": [
    "salary_df.head(7)"
   ]
  },
  {
   "cell_type": "code",
   "execution_count": 6,
   "metadata": {
    "tags": []
   },
   "outputs": [
    {
     "data": {
      "text/html": [
       "<div>\n",
       "<style scoped>\n",
       "    .dataframe tbody tr th:only-of-type {\n",
       "        vertical-align: middle;\n",
       "    }\n",
       "\n",
       "    .dataframe tbody tr th {\n",
       "        vertical-align: top;\n",
       "    }\n",
       "\n",
       "    .dataframe thead th {\n",
       "        text-align: right;\n",
       "    }\n",
       "</style>\n",
       "<table border=\"1\" class=\"dataframe\">\n",
       "  <thead>\n",
       "    <tr style=\"text-align: right;\">\n",
       "      <th></th>\n",
       "      <th>YearsExperience</th>\n",
       "      <th>Salary</th>\n",
       "    </tr>\n",
       "  </thead>\n",
       "  <tbody>\n",
       "    <tr>\n",
       "      <th>28</th>\n",
       "      <td>10.3</td>\n",
       "      <td>122391</td>\n",
       "    </tr>\n",
       "    <tr>\n",
       "      <th>29</th>\n",
       "      <td>10.5</td>\n",
       "      <td>121872</td>\n",
       "    </tr>\n",
       "    <tr>\n",
       "      <th>30</th>\n",
       "      <td>11.2</td>\n",
       "      <td>127345</td>\n",
       "    </tr>\n",
       "    <tr>\n",
       "      <th>31</th>\n",
       "      <td>11.5</td>\n",
       "      <td>126756</td>\n",
       "    </tr>\n",
       "    <tr>\n",
       "      <th>32</th>\n",
       "      <td>12.3</td>\n",
       "      <td>128765</td>\n",
       "    </tr>\n",
       "    <tr>\n",
       "      <th>33</th>\n",
       "      <td>12.9</td>\n",
       "      <td>135675</td>\n",
       "    </tr>\n",
       "    <tr>\n",
       "      <th>34</th>\n",
       "      <td>13.5</td>\n",
       "      <td>139465</td>\n",
       "    </tr>\n",
       "  </tbody>\n",
       "</table>\n",
       "</div>"
      ],
      "text/plain": [
       "    YearsExperience  Salary\n",
       "28             10.3  122391\n",
       "29             10.5  121872\n",
       "30             11.2  127345\n",
       "31             11.5  126756\n",
       "32             12.3  128765\n",
       "33             12.9  135675\n",
       "34             13.5  139465"
      ]
     },
     "execution_count": 6,
     "metadata": {},
     "output_type": "execute_result"
    }
   ],
   "source": [
    "salary_df.tail(7)"
   ]
  },
  {
   "cell_type": "code",
   "execution_count": 7,
   "metadata": {
    "tags": []
   },
   "outputs": [
    {
     "data": {
      "text/plain": [
       "139465"
      ]
     },
     "execution_count": 7,
     "metadata": {},
     "output_type": "execute_result"
    }
   ],
   "source": [
    "salary_df['Salary'].max()"
   ]
  },
  {
   "cell_type": "markdown",
   "metadata": {
    "colab_type": "text",
    "id": "tMcr7xqMQre2"
   },
   "source": [
    "# TASK #3: PERFORM EXPLORATORY DATA ANALYSIS AND VISUALIZATION"
   ]
  },
  {
   "cell_type": "code",
   "execution_count": 8,
   "metadata": {
    "tags": []
   },
   "outputs": [
    {
     "data": {
      "text/plain": [
       "<AxesSubplot:>"
      ]
     },
     "execution_count": 8,
     "metadata": {},
     "output_type": "execute_result"
    },
    {
     "data": {
      "image/png": "[encoded data removed]",
      "text/plain": [
       "<Figure size 640x480 with 1 Axes>"
      ]
     },
     "metadata": {},
     "output_type": "display_data"
    }
   ],
   "source": [
    "# check if there are any Null values\n",
    "sns.heatmap(salary_df.isnull(), yticklabels = False, cbar = False, cmap=\"Blues\")\n"
   ]
  },
  {
   "cell_type": "code",
   "execution_count": 9,
   "metadata": {
    "colab": {
     "base_uri": "https://localhost:8080/",
     "height": 272
    },
    "colab_type": "code",
    "id": "hMq3-KWOx0e1",
    "outputId": "22a5b184-1f07-46ef-dfc1-f8377fd7042f",
    "scrolled": true,
    "tags": []
   },
   "outputs": [
    {
     "name": "stdout",
     "output_type": "stream",
     "text": [
      "<class 'pandas.core.frame.DataFrame'>\n",
      "RangeIndex: 35 entries, 0 to 34\n",
      "Data columns (total 2 columns):\n",
      " #   Column           Non-Null Count  Dtype  \n",
      "---  ------           --------------  -----  \n",
      " 0   YearsExperience  35 non-null     float64\n",
      " 1   Salary           35 non-null     int64  \n",
      "dtypes: float64(1), int64(1)\n",
      "memory usage: 688.0 bytes\n"
     ]
    }
   ],
   "source": [
    "# Check the dataframe info\n",
    "\n",
    "salary_df.info()"
   ]
  },
  {
   "cell_type": "code",
   "execution_count": 10,
   "metadata": {
    "colab": {
     "base_uri": "https://localhost:8080/",
     "height": 297
    },
    "colab_type": "code",
    "id": "Nn1Oxk2SzPX3",
    "outputId": "95f0265a-5e75-4a32-d771-4b3d15850c3c",
    "tags": []
   },
   "outputs": [
    {
     "data": {
      "text/html": [
       "<div>\n",
       "<style scoped>\n",
       "    .dataframe tbody tr th:only-of-type {\n",
       "        vertical-align: middle;\n",
       "    }\n",
       "\n",
       "    .dataframe tbody tr th {\n",
       "        vertical-align: top;\n",
       "    }\n",
       "\n",
       "    .dataframe thead th {\n",
       "        text-align: right;\n",
       "    }\n",
       "</style>\n",
       "<table border=\"1\" class=\"dataframe\">\n",
       "  <thead>\n",
       "    <tr style=\"text-align: right;\">\n",
       "      <th></th>\n",
       "      <th>YearsExperience</th>\n",
       "      <th>Salary</th>\n",
       "    </tr>\n",
       "  </thead>\n",
       "  <tbody>\n",
       "    <tr>\n",
       "      <th>count</th>\n",
       "      <td>35.000000</td>\n",
       "      <td>35.000000</td>\n",
       "    </tr>\n",
       "    <tr>\n",
       "      <th>mean</th>\n",
       "      <td>6.308571</td>\n",
       "      <td>83945.600000</td>\n",
       "    </tr>\n",
       "    <tr>\n",
       "      <th>std</th>\n",
       "      <td>3.618610</td>\n",
       "      <td>32162.673003</td>\n",
       "    </tr>\n",
       "    <tr>\n",
       "      <th>min</th>\n",
       "      <td>1.100000</td>\n",
       "      <td>37731.000000</td>\n",
       "    </tr>\n",
       "    <tr>\n",
       "      <th>25%</th>\n",
       "      <td>3.450000</td>\n",
       "      <td>57019.000000</td>\n",
       "    </tr>\n",
       "    <tr>\n",
       "      <th>50%</th>\n",
       "      <td>5.300000</td>\n",
       "      <td>81363.000000</td>\n",
       "    </tr>\n",
       "    <tr>\n",
       "      <th>75%</th>\n",
       "      <td>9.250000</td>\n",
       "      <td>113223.500000</td>\n",
       "    </tr>\n",
       "    <tr>\n",
       "      <th>max</th>\n",
       "      <td>13.500000</td>\n",
       "      <td>139465.000000</td>\n",
       "    </tr>\n",
       "  </tbody>\n",
       "</table>\n",
       "</div>"
      ],
      "text/plain": [
       "       YearsExperience         Salary\n",
       "count        35.000000      35.000000\n",
       "mean          6.308571   83945.600000\n",
       "std           3.618610   32162.673003\n",
       "min           1.100000   37731.000000\n",
       "25%           3.450000   57019.000000\n",
       "50%           5.300000   81363.000000\n",
       "75%           9.250000  113223.500000\n",
       "max          13.500000  139465.000000"
      ]
     },
     "execution_count": 10,
     "metadata": {},
     "output_type": "execute_result"
    }
   ],
   "source": [
    "# Statistical summary of the dataframe\n",
    "\n",
    "salary_df.describe()"
   ]
  },
  {
   "cell_type": "markdown",
   "metadata": {},
   "source": [
    "MINI CHALLENGE\n",
    " - What are the number of years of experience corresponding to employees with minimum and maximim salaries?"
   ]
  },
  {
   "cell_type": "code",
   "execution_count": 11,
   "metadata": {
    "tags": []
   },
   "outputs": [
    {
     "data": {
      "text/html": [
       "<div>\n",
       "<style scoped>\n",
       "    .dataframe tbody tr th:only-of-type {\n",
       "        vertical-align: middle;\n",
       "    }\n",
       "\n",
       "    .dataframe tbody tr th {\n",
       "        vertical-align: top;\n",
       "    }\n",
       "\n",
       "    .dataframe thead th {\n",
       "        text-align: right;\n",
       "    }\n",
       "</style>\n",
       "<table border=\"1\" class=\"dataframe\">\n",
       "  <thead>\n",
       "    <tr style=\"text-align: right;\">\n",
       "      <th></th>\n",
       "      <th>YearsExperience</th>\n",
       "      <th>Salary</th>\n",
       "    </tr>\n",
       "  </thead>\n",
       "  <tbody>\n",
       "    <tr>\n",
       "      <th>34</th>\n",
       "      <td>13.5</td>\n",
       "      <td>139465</td>\n",
       "    </tr>\n",
       "  </tbody>\n",
       "</table>\n",
       "</div>"
      ],
      "text/plain": [
       "    YearsExperience  Salary\n",
       "34             13.5  139465"
      ]
     },
     "execution_count": 11,
     "metadata": {},
     "output_type": "execute_result"
    }
   ],
   "source": [
    "max = salary_df[salary_df['Salary']==salary_df['Salary'].max()]\n",
    "max"
   ]
  },
  {
   "cell_type": "code",
   "execution_count": 12,
   "metadata": {
    "tags": []
   },
   "outputs": [
    {
     "data": {
      "text/html": [
       "<div>\n",
       "<style scoped>\n",
       "    .dataframe tbody tr th:only-of-type {\n",
       "        vertical-align: middle;\n",
       "    }\n",
       "\n",
       "    .dataframe tbody tr th {\n",
       "        vertical-align: top;\n",
       "    }\n",
       "\n",
       "    .dataframe thead th {\n",
       "        text-align: right;\n",
       "    }\n",
       "</style>\n",
       "<table border=\"1\" class=\"dataframe\">\n",
       "  <thead>\n",
       "    <tr style=\"text-align: right;\">\n",
       "      <th></th>\n",
       "      <th>YearsExperience</th>\n",
       "      <th>Salary</th>\n",
       "    </tr>\n",
       "  </thead>\n",
       "  <tbody>\n",
       "    <tr>\n",
       "      <th>2</th>\n",
       "      <td>1.5</td>\n",
       "      <td>37731</td>\n",
       "    </tr>\n",
       "  </tbody>\n",
       "</table>\n",
       "</div>"
      ],
      "text/plain": [
       "   YearsExperience  Salary\n",
       "2              1.5   37731"
      ]
     },
     "execution_count": 12,
     "metadata": {},
     "output_type": "execute_result"
    }
   ],
   "source": [
    "min = salary_df[salary_df['Salary']==salary_df['Salary'].min()]\n",
    "min"
   ]
  },
  {
   "cell_type": "code",
   "execution_count": 13,
   "metadata": {
    "tags": []
   },
   "outputs": [
    {
     "name": "stdout",
     "output_type": "stream",
     "text": [
      "13.5\n"
     ]
    }
   ],
   "source": [
    "max_value_a = salary_df.loc[salary_df['Salary'].idxmax(), 'YearsExperience']\n",
    "print(max_value_a)"
   ]
  },
  {
   "cell_type": "code",
   "execution_count": 14,
   "metadata": {
    "tags": []
   },
   "outputs": [
    {
     "data": {
      "text/plain": [
       "array([[<AxesSubplot:title={'center':'YearsExperience'}>,\n",
       "        <AxesSubplot:title={'center':'Salary'}>]], dtype=object)"
      ]
     },
     "execution_count": 14,
     "metadata": {},
     "output_type": "execute_result"
    },
    {
     "data": {
      "image/png": "[encoded data removed]",
      "text/plain": [
       "<Figure size 2000x1000 with 2 Axes>"
      ]
     },
     "metadata": {},
     "output_type": "display_data"
    }
   ],
   "source": [
    "salary_df.hist(bins = 30, figsize = (20,10), color = 'b')\n"
   ]
  },
  {
   "cell_type": "code",
   "execution_count": 15,
   "metadata": {
    "colab": {
     "base_uri": "https://localhost:8080/",
     "height": 1000
    },
    "colab_type": "code",
    "id": "Ka9uFRXSkWHw",
    "outputId": "f42a681e-93d4-4b1f-a29c-f58fc8a6f974",
    "tags": []
   },
   "outputs": [
    {
     "data": {
      "text/plain": [
       "<seaborn.axisgrid.PairGrid at 0x7fd839ad7070>"
      ]
     },
     "execution_count": 15,
     "metadata": {},
     "output_type": "execute_result"
    },
    {
     "data": {
      "image/png": "[encoded data removed]",
      "text/plain": [
       "<Figure size 500x500 with 6 Axes>"
      ]
     },
     "metadata": {},
     "output_type": "display_data"
    }
   ],
   "source": [
    "# plot pairplot\n",
    "\n",
    "sns.pairplot(salary_df)"
   ]
  },
  {
   "cell_type": "code",
   "execution_count": 16,
   "metadata": {
    "colab": {
     "base_uri": "https://localhost:8080/",
     "height": 297
    },
    "colab_type": "code",
    "id": "9q-tFxvskWDa",
    "outputId": "8834e9ec-7676-4e86-c5e7-20f4e9eccbcb",
    "tags": []
   },
   "outputs": [
    {
     "data": {
      "image/png": "[encoded data removed]",
      "text/plain": [
       "<Figure size 640x480 with 2 Axes>"
      ]
     },
     "metadata": {},
     "output_type": "display_data"
    }
   ],
   "source": [
    "corr_matrix = salary_df.corr()\n",
    "sns.heatmap(corr_matrix, annot = True)\n",
    "plt.show()"
   ]
  },
  {
   "cell_type": "markdown",
   "metadata": {},
   "source": [
    "MINI CHALLENGE\n",
    "- Use regplot in Seaborn to obtain a straight line fit between \"salary\" and \"years of experience\""
   ]
  },
  {
   "cell_type": "code",
   "execution_count": 17,
   "metadata": {
    "tags": []
   },
   "outputs": [
    {
     "data": {
      "text/plain": [
       "<AxesSubplot:xlabel='YearsExperience', ylabel='Salary'>"
      ]
     },
     "execution_count": 17,
     "metadata": {},
     "output_type": "execute_result"
    },
    {
     "data": {
      "image/png": "[encoded data removed]",
      "text/plain": [
       "<Figure size 640x480 with 1 Axes>"
      ]
     },
     "metadata": {},
     "output_type": "display_data"
    }
   ],
   "source": [
    "sns.regplot(x='YearsExperience', y='Salary', data = salary_df)"
   ]
  },
  {
   "cell_type": "markdown",
   "metadata": {
    "colab_type": "text",
    "id": "53qDZFRn3-S1"
   },
   "source": [
    "# TASK #4: CREATE TRAINING AND TESTING DATASET"
   ]
  },
  {
   "cell_type": "code",
   "execution_count": 18,
   "metadata": {
    "colab": {},
    "colab_type": "code",
    "id": "4OXZB2F21e4H",
    "tags": []
   },
   "outputs": [],
   "source": [
    "X = salary_df[['YearsExperience']]\n",
    "y = salary_df[['Salary']]\n"
   ]
  },
  {
   "cell_type": "code",
   "execution_count": 19,
   "metadata": {
    "scrolled": true,
    "tags": []
   },
   "outputs": [
    {
     "data": {
      "text/html": [
       "<div>\n",
       "<style scoped>\n",
       "    .dataframe tbody tr th:only-of-type {\n",
       "        vertical-align: middle;\n",
       "    }\n",
       "\n",
       "    .dataframe tbody tr th {\n",
       "        vertical-align: top;\n",
       "    }\n",
       "\n",
       "    .dataframe thead th {\n",
       "        text-align: right;\n",
       "    }\n",
       "</style>\n",
       "<table border=\"1\" class=\"dataframe\">\n",
       "  <thead>\n",
       "    <tr style=\"text-align: right;\">\n",
       "      <th></th>\n",
       "      <th>YearsExperience</th>\n",
       "    </tr>\n",
       "  </thead>\n",
       "  <tbody>\n",
       "    <tr>\n",
       "      <th>0</th>\n",
       "      <td>1.1</td>\n",
       "    </tr>\n",
       "    <tr>\n",
       "      <th>1</th>\n",
       "      <td>1.3</td>\n",
       "    </tr>\n",
       "    <tr>\n",
       "      <th>2</th>\n",
       "      <td>1.5</td>\n",
       "    </tr>\n",
       "    <tr>\n",
       "      <th>3</th>\n",
       "      <td>2.0</td>\n",
       "    </tr>\n",
       "    <tr>\n",
       "      <th>4</th>\n",
       "      <td>2.2</td>\n",
       "    </tr>\n",
       "    <tr>\n",
       "      <th>5</th>\n",
       "      <td>2.9</td>\n",
       "    </tr>\n",
       "    <tr>\n",
       "      <th>6</th>\n",
       "      <td>3.0</td>\n",
       "    </tr>\n",
       "    <tr>\n",
       "      <th>7</th>\n",
       "      <td>3.2</td>\n",
       "    </tr>\n",
       "    <tr>\n",
       "      <th>8</th>\n",
       "      <td>3.2</td>\n",
       "    </tr>\n",
       "    <tr>\n",
       "      <th>9</th>\n",
       "      <td>3.7</td>\n",
       "    </tr>\n",
       "    <tr>\n",
       "      <th>10</th>\n",
       "      <td>3.9</td>\n",
       "    </tr>\n",
       "    <tr>\n",
       "      <th>11</th>\n",
       "      <td>4.0</td>\n",
       "    </tr>\n",
       "    <tr>\n",
       "      <th>12</th>\n",
       "      <td>4.0</td>\n",
       "    </tr>\n",
       "    <tr>\n",
       "      <th>13</th>\n",
       "      <td>4.1</td>\n",
       "    </tr>\n",
       "    <tr>\n",
       "      <th>14</th>\n",
       "      <td>4.5</td>\n",
       "    </tr>\n",
       "    <tr>\n",
       "      <th>15</th>\n",
       "      <td>4.9</td>\n",
       "    </tr>\n",
       "    <tr>\n",
       "      <th>16</th>\n",
       "      <td>5.1</td>\n",
       "    </tr>\n",
       "    <tr>\n",
       "      <th>17</th>\n",
       "      <td>5.3</td>\n",
       "    </tr>\n",
       "    <tr>\n",
       "      <th>18</th>\n",
       "      <td>5.9</td>\n",
       "    </tr>\n",
       "    <tr>\n",
       "      <th>19</th>\n",
       "      <td>6.0</td>\n",
       "    </tr>\n",
       "    <tr>\n",
       "      <th>20</th>\n",
       "      <td>6.8</td>\n",
       "    </tr>\n",
       "    <tr>\n",
       "      <th>21</th>\n",
       "      <td>7.1</td>\n",
       "    </tr>\n",
       "    <tr>\n",
       "      <th>22</th>\n",
       "      <td>7.9</td>\n",
       "    </tr>\n",
       "    <tr>\n",
       "      <th>23</th>\n",
       "      <td>8.2</td>\n",
       "    </tr>\n",
       "    <tr>\n",
       "      <th>24</th>\n",
       "      <td>8.7</td>\n",
       "    </tr>\n",
       "    <tr>\n",
       "      <th>25</th>\n",
       "      <td>9.0</td>\n",
       "    </tr>\n",
       "    <tr>\n",
       "      <th>26</th>\n",
       "      <td>9.5</td>\n",
       "    </tr>\n",
       "    <tr>\n",
       "      <th>27</th>\n",
       "      <td>9.6</td>\n",
       "    </tr>\n",
       "    <tr>\n",
       "      <th>28</th>\n",
       "      <td>10.3</td>\n",
       "    </tr>\n",
       "    <tr>\n",
       "      <th>29</th>\n",
       "      <td>10.5</td>\n",
       "    </tr>\n",
       "    <tr>\n",
       "      <th>30</th>\n",
       "      <td>11.2</td>\n",
       "    </tr>\n",
       "    <tr>\n",
       "      <th>31</th>\n",
       "      <td>11.5</td>\n",
       "    </tr>\n",
       "    <tr>\n",
       "      <th>32</th>\n",
       "      <td>12.3</td>\n",
       "    </tr>\n",
       "    <tr>\n",
       "      <th>33</th>\n",
       "      <td>12.9</td>\n",
       "    </tr>\n",
       "    <tr>\n",
       "      <th>34</th>\n",
       "      <td>13.5</td>\n",
       "    </tr>\n",
       "  </tbody>\n",
       "</table>\n",
       "</div>"
      ],
      "text/plain": [
       "    YearsExperience\n",
       "0               1.1\n",
       "1               1.3\n",
       "2               1.5\n",
       "3               2.0\n",
       "4               2.2\n",
       "5               2.9\n",
       "6               3.0\n",
       "7               3.2\n",
       "8               3.2\n",
       "9               3.7\n",
       "10              3.9\n",
       "11              4.0\n",
       "12              4.0\n",
       "13              4.1\n",
       "14              4.5\n",
       "15              4.9\n",
       "16              5.1\n",
       "17              5.3\n",
       "18              5.9\n",
       "19              6.0\n",
       "20              6.8\n",
       "21              7.1\n",
       "22              7.9\n",
       "23              8.2\n",
       "24              8.7\n",
       "25              9.0\n",
       "26              9.5\n",
       "27              9.6\n",
       "28             10.3\n",
       "29             10.5\n",
       "30             11.2\n",
       "31             11.5\n",
       "32             12.3\n",
       "33             12.9\n",
       "34             13.5"
      ]
     },
     "execution_count": 19,
     "metadata": {},
     "output_type": "execute_result"
    }
   ],
   "source": [
    "X"
   ]
  },
  {
   "cell_type": "code",
   "execution_count": 20,
   "metadata": {
    "tags": []
   },
   "outputs": [
    {
     "data": {
      "text/html": [
       "<div>\n",
       "<style scoped>\n",
       "    .dataframe tbody tr th:only-of-type {\n",
       "        vertical-align: middle;\n",
       "    }\n",
       "\n",
       "    .dataframe tbody tr th {\n",
       "        vertical-align: top;\n",
       "    }\n",
       "\n",
       "    .dataframe thead th {\n",
       "        text-align: right;\n",
       "    }\n",
       "</style>\n",
       "<table border=\"1\" class=\"dataframe\">\n",
       "  <thead>\n",
       "    <tr style=\"text-align: right;\">\n",
       "      <th></th>\n",
       "      <th>Salary</th>\n",
       "    </tr>\n",
       "  </thead>\n",
       "  <tbody>\n",
       "    <tr>\n",
       "      <th>0</th>\n",
       "      <td>39343</td>\n",
       "    </tr>\n",
       "    <tr>\n",
       "      <th>1</th>\n",
       "      <td>46205</td>\n",
       "    </tr>\n",
       "    <tr>\n",
       "      <th>2</th>\n",
       "      <td>37731</td>\n",
       "    </tr>\n",
       "    <tr>\n",
       "      <th>3</th>\n",
       "      <td>43525</td>\n",
       "    </tr>\n",
       "    <tr>\n",
       "      <th>4</th>\n",
       "      <td>39891</td>\n",
       "    </tr>\n",
       "    <tr>\n",
       "      <th>5</th>\n",
       "      <td>56642</td>\n",
       "    </tr>\n",
       "    <tr>\n",
       "      <th>6</th>\n",
       "      <td>60150</td>\n",
       "    </tr>\n",
       "    <tr>\n",
       "      <th>7</th>\n",
       "      <td>54445</td>\n",
       "    </tr>\n",
       "    <tr>\n",
       "      <th>8</th>\n",
       "      <td>64445</td>\n",
       "    </tr>\n",
       "    <tr>\n",
       "      <th>9</th>\n",
       "      <td>57189</td>\n",
       "    </tr>\n",
       "    <tr>\n",
       "      <th>10</th>\n",
       "      <td>63218</td>\n",
       "    </tr>\n",
       "    <tr>\n",
       "      <th>11</th>\n",
       "      <td>55794</td>\n",
       "    </tr>\n",
       "    <tr>\n",
       "      <th>12</th>\n",
       "      <td>56957</td>\n",
       "    </tr>\n",
       "    <tr>\n",
       "      <th>13</th>\n",
       "      <td>57081</td>\n",
       "    </tr>\n",
       "    <tr>\n",
       "      <th>14</th>\n",
       "      <td>61111</td>\n",
       "    </tr>\n",
       "    <tr>\n",
       "      <th>15</th>\n",
       "      <td>67938</td>\n",
       "    </tr>\n",
       "    <tr>\n",
       "      <th>16</th>\n",
       "      <td>66029</td>\n",
       "    </tr>\n",
       "    <tr>\n",
       "      <th>17</th>\n",
       "      <td>83088</td>\n",
       "    </tr>\n",
       "    <tr>\n",
       "      <th>18</th>\n",
       "      <td>81363</td>\n",
       "    </tr>\n",
       "    <tr>\n",
       "      <th>19</th>\n",
       "      <td>93940</td>\n",
       "    </tr>\n",
       "    <tr>\n",
       "      <th>20</th>\n",
       "      <td>91738</td>\n",
       "    </tr>\n",
       "    <tr>\n",
       "      <th>21</th>\n",
       "      <td>98273</td>\n",
       "    </tr>\n",
       "    <tr>\n",
       "      <th>22</th>\n",
       "      <td>101302</td>\n",
       "    </tr>\n",
       "    <tr>\n",
       "      <th>23</th>\n",
       "      <td>113812</td>\n",
       "    </tr>\n",
       "    <tr>\n",
       "      <th>24</th>\n",
       "      <td>109431</td>\n",
       "    </tr>\n",
       "    <tr>\n",
       "      <th>25</th>\n",
       "      <td>105582</td>\n",
       "    </tr>\n",
       "    <tr>\n",
       "      <th>26</th>\n",
       "      <td>116969</td>\n",
       "    </tr>\n",
       "    <tr>\n",
       "      <th>27</th>\n",
       "      <td>112635</td>\n",
       "    </tr>\n",
       "    <tr>\n",
       "      <th>28</th>\n",
       "      <td>122391</td>\n",
       "    </tr>\n",
       "    <tr>\n",
       "      <th>29</th>\n",
       "      <td>121872</td>\n",
       "    </tr>\n",
       "    <tr>\n",
       "      <th>30</th>\n",
       "      <td>127345</td>\n",
       "    </tr>\n",
       "    <tr>\n",
       "      <th>31</th>\n",
       "      <td>126756</td>\n",
       "    </tr>\n",
       "    <tr>\n",
       "      <th>32</th>\n",
       "      <td>128765</td>\n",
       "    </tr>\n",
       "    <tr>\n",
       "      <th>33</th>\n",
       "      <td>135675</td>\n",
       "    </tr>\n",
       "    <tr>\n",
       "      <th>34</th>\n",
       "      <td>139465</td>\n",
       "    </tr>\n",
       "  </tbody>\n",
       "</table>\n",
       "</div>"
      ],
      "text/plain": [
       "    Salary\n",
       "0    39343\n",
       "1    46205\n",
       "2    37731\n",
       "3    43525\n",
       "4    39891\n",
       "5    56642\n",
       "6    60150\n",
       "7    54445\n",
       "8    64445\n",
       "9    57189\n",
       "10   63218\n",
       "11   55794\n",
       "12   56957\n",
       "13   57081\n",
       "14   61111\n",
       "15   67938\n",
       "16   66029\n",
       "17   83088\n",
       "18   81363\n",
       "19   93940\n",
       "20   91738\n",
       "21   98273\n",
       "22  101302\n",
       "23  113812\n",
       "24  109431\n",
       "25  105582\n",
       "26  116969\n",
       "27  112635\n",
       "28  122391\n",
       "29  121872\n",
       "30  127345\n",
       "31  126756\n",
       "32  128765\n",
       "33  135675\n",
       "34  139465"
      ]
     },
     "execution_count": 20,
     "metadata": {},
     "output_type": "execute_result"
    }
   ],
   "source": [
    "y"
   ]
  },
  {
   "cell_type": "code",
   "execution_count": 21,
   "metadata": {
    "colab": {
     "base_uri": "https://localhost:8080/",
     "height": 34
    },
    "colab_type": "code",
    "id": "XpGU63Ne1e9P",
    "outputId": "e16c74ca-dc1c-416c-dc44-7f927bb99bc6",
    "tags": []
   },
   "outputs": [
    {
     "data": {
      "text/plain": [
       "(35, 1)"
      ]
     },
     "execution_count": 21,
     "metadata": {},
     "output_type": "execute_result"
    }
   ],
   "source": [
    "X.shape"
   ]
  },
  {
   "cell_type": "code",
   "execution_count": 22,
   "metadata": {
    "colab": {
     "base_uri": "https://localhost:8080/",
     "height": 34
    },
    "colab_type": "code",
    "id": "OjGj0RALA0qZ",
    "outputId": "26559a6c-880b-45b4-a1e8-3c4b92bea889",
    "tags": []
   },
   "outputs": [
    {
     "data": {
      "text/plain": [
       "(35, 1)"
      ]
     },
     "execution_count": 22,
     "metadata": {},
     "output_type": "execute_result"
    }
   ],
   "source": [
    "y.shape"
   ]
  },
  {
   "cell_type": "code",
   "execution_count": 23,
   "metadata": {
    "colab": {},
    "colab_type": "code",
    "id": "jIeiK1maA6mm",
    "tags": []
   },
   "outputs": [],
   "source": [
    "#convert X and y to a Numpy array, to train linear learner, it requires data to be in float32 format so choose astype 'float32'\n",
    "X = np.array(X).astype('float32')\n",
    "y = np.array(y).astype('float32')"
   ]
  },
  {
   "cell_type": "code",
   "execution_count": 24,
   "metadata": {
    "tags": []
   },
   "outputs": [
    {
     "data": {
      "text/plain": [
       "array([[ 1.1],\n",
       "       [ 1.3],\n",
       "       [ 1.5],\n",
       "       [ 2. ],\n",
       "       [ 2.2],\n",
       "       [ 2.9],\n",
       "       [ 3. ],\n",
       "       [ 3.2],\n",
       "       [ 3.2],\n",
       "       [ 3.7],\n",
       "       [ 3.9],\n",
       "       [ 4. ],\n",
       "       [ 4. ],\n",
       "       [ 4.1],\n",
       "       [ 4.5],\n",
       "       [ 4.9],\n",
       "       [ 5.1],\n",
       "       [ 5.3],\n",
       "       [ 5.9],\n",
       "       [ 6. ],\n",
       "       [ 6.8],\n",
       "       [ 7.1],\n",
       "       [ 7.9],\n",
       "       [ 8.2],\n",
       "       [ 8.7],\n",
       "       [ 9. ],\n",
       "       [ 9.5],\n",
       "       [ 9.6],\n",
       "       [10.3],\n",
       "       [10.5],\n",
       "       [11.2],\n",
       "       [11.5],\n",
       "       [12.3],\n",
       "       [12.9],\n",
       "       [13.5]], dtype=float32)"
      ]
     },
     "execution_count": 24,
     "metadata": {},
     "output_type": "execute_result"
    }
   ],
   "source": [
    "# Only take the numerical variables and scale them\n",
    "X "
   ]
  },
  {
   "cell_type": "code",
   "execution_count": 25,
   "metadata": {
    "colab": {},
    "colab_type": "code",
    "id": "GoReLFfnA6uF",
    "tags": []
   },
   "outputs": [],
   "source": [
    "# split the data into test and train sets\n",
    "from sklearn.model_selection import train_test_split\n",
    "\n",
    "X_train, X_test, y_train, y_test = train_test_split(X, y, test_size = 0.2) #20% of data for testing\n"
   ]
  },
  {
   "cell_type": "markdown",
   "metadata": {},
   "source": [
    "MINI CHALLENGE\n",
    " - Try splitting the data into 75% for training and the rest for testing\n",
    " - Verify that the split was successful by obtaining the shape of both X_train and X_test\n",
    " - Did you notice any change in the order of the data? why?"
   ]
  },
  {
   "cell_type": "code",
   "execution_count": 26,
   "metadata": {
    "tags": []
   },
   "outputs": [],
   "source": [
    "#Try splitting the data into 75% for training and the rest for testing\n",
    "X_train, X_test, y_train, y_test = train_test_split(X, y, train_size=0.75)"
   ]
  },
  {
   "cell_type": "code",
   "execution_count": 27,
   "metadata": {
    "tags": []
   },
   "outputs": [
    {
     "data": {
      "text/plain": [
       "(26, 1)"
      ]
     },
     "execution_count": 27,
     "metadata": {},
     "output_type": "execute_result"
    }
   ],
   "source": [
    "#Verify that the split was successful by obtaining the shape of both X_train and X_test\n",
    "X_train.shape\n"
   ]
  },
  {
   "cell_type": "code",
   "execution_count": 28,
   "metadata": {
    "tags": []
   },
   "outputs": [
    {
     "data": {
      "text/plain": [
       "(9, 1)"
      ]
     },
     "execution_count": 28,
     "metadata": {},
     "output_type": "execute_result"
    }
   ],
   "source": [
    "#Verify that the split was successful by obtaining the shape of both X_train and X_test\n",
    "X_test.shape"
   ]
  },
  {
   "cell_type": "code",
   "execution_count": 29,
   "metadata": {
    "tags": []
   },
   "outputs": [
    {
     "data": {
      "text/plain": [
       "array([[ 1.1],\n",
       "       [ 2.9],\n",
       "       [10.5],\n",
       "       [ 4.9],\n",
       "       [ 9.6],\n",
       "       [ 3.2],\n",
       "       [ 9. ],\n",
       "       [13.5],\n",
       "       [ 8.2],\n",
       "       [ 2.2],\n",
       "       [ 7.1],\n",
       "       [ 5.1],\n",
       "       [ 7.9],\n",
       "       [10.3],\n",
       "       [ 5.3],\n",
       "       [12.3],\n",
       "       [ 4.5],\n",
       "       [12.9],\n",
       "       [ 2. ],\n",
       "       [ 1.5],\n",
       "       [ 4. ],\n",
       "       [ 4.1],\n",
       "       [ 8.7],\n",
       "       [ 6.8],\n",
       "       [ 3.7],\n",
       "       [ 9.5]], dtype=float32)"
      ]
     },
     "execution_count": 29,
     "metadata": {},
     "output_type": "execute_result"
    }
   ],
   "source": [
    "X_train"
   ]
  },
  {
   "cell_type": "code",
   "execution_count": 30,
   "metadata": {
    "tags": []
   },
   "outputs": [
    {
     "data": {
      "text/plain": [
       "array([[ 6. ],\n",
       "       [ 3. ],\n",
       "       [ 4. ],\n",
       "       [ 3.9],\n",
       "       [ 3.2],\n",
       "       [11.2],\n",
       "       [11.5],\n",
       "       [ 1.3],\n",
       "       [ 5.9]], dtype=float32)"
      ]
     },
     "execution_count": 30,
     "metadata": {},
     "output_type": "execute_result"
    }
   ],
   "source": [
    "X_test"
   ]
  },
  {
   "cell_type": "markdown",
   "metadata": {
    "colab_type": "text",
    "id": "idWHLv5alF4C"
   },
   "source": [
    "# TASK #5: TRAIN A LINEAR REGRESSION MODEL IN SK-LEARN (NOTE THAT SAGEMAKER BUILT-IN ALGORITHMS ARE NOT USED HERE)"
   ]
  },
  {
   "cell_type": "code",
   "execution_count": 31,
   "metadata": {
    "colab": {
     "base_uri": "https://localhost:8080/",
     "height": 34
    },
    "colab_type": "code",
    "id": "yHL-6mKwBURs",
    "outputId": "10d71b6d-9c2b-4bab-8b27-d3c5883e6a25",
    "tags": []
   },
   "outputs": [
    {
     "data": {
      "text/plain": [
       "LinearRegression()"
      ]
     },
     "execution_count": 31,
     "metadata": {},
     "output_type": "execute_result"
    }
   ],
   "source": [
    "# using linear regression model\n",
    "from sklearn.linear_model import LinearRegression\n",
    "from sklearn.metrics import mean_squared_error, accuracy_score\n",
    "\n",
    "regresssion_model_sklearn = LinearRegression(fit_intercept = True)\n",
    "regresssion_model_sklearn.fit(X_train, y_train)\n"
   ]
  },
  {
   "cell_type": "code",
   "execution_count": 32,
   "metadata": {
    "colab": {
     "base_uri": "https://localhost:8080/",
     "height": 34
    },
    "colab_type": "code",
    "id": "elD8m5N0BgEY",
    "outputId": "16a1813d-a0f1-4d1f-dc02-d7ad5a445417",
    "tags": []
   },
   "outputs": [
    {
     "data": {
      "text/plain": [
       "0.9573575950682459"
      ]
     },
     "execution_count": 32,
     "metadata": {},
     "output_type": "execute_result"
    }
   ],
   "source": [
    "regresssion_model_sklearn_accuracy = regresssion_model_sklearn.score(X_test, y_test)\n",
    "regresssion_model_sklearn_accuracy"
   ]
  },
  {
   "cell_type": "code",
   "execution_count": 33,
   "metadata": {
    "tags": []
   },
   "outputs": [
    {
     "name": "stdout",
     "output_type": "stream",
     "text": [
      "Linear Model Coefficient (m):  [[8848.877]]\n",
      "Linear Model Coefficient (b):  [27595.84]\n"
     ]
    }
   ],
   "source": [
    "# y = m*X + b\n",
    "print('Linear Model Coefficient (m): ', regresssion_model_sklearn.coef_)\n",
    "print('Linear Model Coefficient (b): ', regresssion_model_sklearn.intercept_)"
   ]
  },
  {
   "cell_type": "markdown",
   "metadata": {},
   "source": [
    "MINI CHALLENGE\n",
    "- Retrain the model while setting the fit_intercept = False, what do you notice?"
   ]
  },
  {
   "cell_type": "code",
   "execution_count": 34,
   "metadata": {
    "tags": []
   },
   "outputs": [
    {
     "data": {
      "text/plain": [
       "LinearRegression(fit_intercept=False)"
      ]
     },
     "execution_count": 34,
     "metadata": {},
     "output_type": "execute_result"
    }
   ],
   "source": [
    "regresssion_model_sklearn = LinearRegression(fit_intercept = False)\n",
    "regresssion_model_sklearn.fit(X_train, y_train)"
   ]
  },
  {
   "cell_type": "code",
   "execution_count": 35,
   "metadata": {
    "tags": []
   },
   "outputs": [
    {
     "data": {
      "text/plain": [
       "0.6297547864219084"
      ]
     },
     "execution_count": 35,
     "metadata": {},
     "output_type": "execute_result"
    }
   ],
   "source": [
    "regresssion_model_sklearn_accuracy = regresssion_model_sklearn.score(X_test, y_test)\n",
    "regresssion_model_sklearn_accuracy"
   ]
  },
  {
   "cell_type": "code",
   "execution_count": 36,
   "metadata": {
    "tags": []
   },
   "outputs": [
    {
     "name": "stdout",
     "output_type": "stream",
     "text": [
      "Linear Model Coefficient (m):  [[12082.751]]\n",
      "Linear Model Coefficient (b):  0.0\n"
     ]
    }
   ],
   "source": [
    "print('Linear Model Coefficient (m): ', regresssion_model_sklearn.coef_)\n",
    "print('Linear Model Coefficient (b): ', regresssion_model_sklearn.intercept_)"
   ]
  },
  {
   "cell_type": "markdown",
   "metadata": {},
   "source": [
    "# TASK #6: EVALUATE TRAINED MODEL PERFORMANCE (NOTE THAT SAGEMAKER BUILT-IN ALGORITHMS ARE NOT USED HERE)"
   ]
  },
  {
   "cell_type": "code",
   "execution_count": 37,
   "metadata": {
    "tags": []
   },
   "outputs": [],
   "source": [
    "y_predict = regresssion_model_sklearn.predict(X_test)"
   ]
  },
  {
   "cell_type": "code",
   "execution_count": 38,
   "metadata": {
    "scrolled": true,
    "tags": []
   },
   "outputs": [
    {
     "data": {
      "text/plain": [
       "array([[ 72496.51 ],\n",
       "       [ 36248.254],\n",
       "       [ 48331.004],\n",
       "       [ 47122.73 ],\n",
       "       [ 38664.805],\n",
       "       [135326.81 ],\n",
       "       [138951.64 ],\n",
       "       [ 15707.576],\n",
       "       [ 71288.234]], dtype=float32)"
      ]
     },
     "execution_count": 38,
     "metadata": {},
     "output_type": "execute_result"
    }
   ],
   "source": [
    "y_predict"
   ]
  },
  {
   "cell_type": "code",
   "execution_count": 39,
   "metadata": {
    "tags": []
   },
   "outputs": [
    {
     "data": {
      "text/plain": [
       "Text(0.5, 1.0, 'Salary vs. Years of Experience')"
      ]
     },
     "execution_count": 39,
     "metadata": {},
     "output_type": "execute_result"
    },
    {
     "data": {
      "image/png": "[encoded data removed]",
      "text/plain": [
       "<Figure size 640x480 with 1 Axes>"
      ]
     },
     "metadata": {},
     "output_type": "display_data"
    }
   ],
   "source": [
    "plt.scatter(X_train, y_train, color = 'gray')\n",
    "plt.plot(X_train, regresssion_model_sklearn.predict(X_train), color = 'red')\n",
    "plt.ylabel('Salary')\n",
    "plt.xlabel('Number of Years of Experience')\n",
    "plt.title('Salary vs. Years of Experience')"
   ]
  },
  {
   "cell_type": "markdown",
   "metadata": {},
   "source": [
    "MINI CHALLENGE\n",
    " - Use the trained model, obtain the salary corresponding to eployees who have years of experience = 5"
   ]
  },
  {
   "cell_type": "code",
   "execution_count": 40,
   "metadata": {
    "tags": []
   },
   "outputs": [],
   "source": [
    "num_years_exp=[[5]]\n"
   ]
  },
  {
   "cell_type": "code",
   "execution_count": 41,
   "metadata": {
    "tags": []
   },
   "outputs": [
    {
     "data": {
      "text/plain": [
       "array([[60413.75488281]])"
      ]
     },
     "execution_count": 41,
     "metadata": {},
     "output_type": "execute_result"
    }
   ],
   "source": [
    "salary = regresssion_model_sklearn.predict(num_years_exp)\n",
    "salary"
   ]
  },
  {
   "cell_type": "markdown",
   "metadata": {},
   "source": [
    "# TASK #7: TRAIN A LINEAR LEARNER MODEL USING SAGEMAKER"
   ]
  },
  {
   "cell_type": "code",
   "execution_count": 42,
   "metadata": {
    "tags": []
   },
   "outputs": [
    {
     "name": "stdout",
     "output_type": "stream",
     "text": [
      "arn:aws:iam::088098056408:role/service-role/AmazonSageMaker-ExecutionRole-20230827T150686\n"
     ]
    }
   ],
   "source": [
    "# Boto3 is the Amazon Web Services (AWS) Software Development Kit (SDK) for Python\n",
    "# Boto3 allows Python developer to write software that makes use of services like Amazon S3 and Amazon EC2\n",
    "\n",
    "import sagemaker\n",
    "import boto3\n",
    "from sagemaker import Session\n",
    "\n",
    "# Let's create a Sagemaker session\n",
    "sagemaker_session = sagemaker.Session()\n",
    "bucket = Session().default_bucket()\n",
    "# Let's define the S3 bucket and prefix that we want to use in this session\n",
    "bucket = 'sagemaker-practical-hac' # bucket named 'sagemaker-practical' was created beforehand\n",
    "prefix = 'linear_learner' # prefix is the subfolder within the bucket.\n",
    "\n",
    "# Let's get the execution role for the notebook instance. \n",
    "# This is the IAM role that you created when you created your notebook instance. You pass the role to the training job.\n",
    "# Note that AWS Identity and Access Management (IAM) role that Amazon SageMaker can assume to perform tasks on your behalf (for example, reading training results, called model artifacts, from the S3 bucket and writing training results to Amazon S3). \n",
    "role = sagemaker.get_execution_role()\n",
    "print(role)"
   ]
  },
  {
   "cell_type": "code",
   "execution_count": 43,
   "metadata": {
    "tags": []
   },
   "outputs": [
    {
     "data": {
      "text/plain": [
       "(26, 1)"
      ]
     },
     "execution_count": 43,
     "metadata": {},
     "output_type": "execute_result"
    }
   ],
   "source": [
    "X_train.shape"
   ]
  },
  {
   "cell_type": "code",
   "execution_count": 44,
   "metadata": {
    "tags": []
   },
   "outputs": [],
   "source": [
    "y_train = y_train[:,0]"
   ]
  },
  {
   "cell_type": "code",
   "execution_count": 45,
   "metadata": {
    "tags": []
   },
   "outputs": [
    {
     "data": {
      "text/plain": [
       "(26,)"
      ]
     },
     "execution_count": 45,
     "metadata": {},
     "output_type": "execute_result"
    }
   ],
   "source": [
    "y_train.shape"
   ]
  },
  {
   "cell_type": "code",
   "execution_count": 46,
   "metadata": {
    "tags": []
   },
   "outputs": [
    {
     "data": {
      "text/plain": [
       "0"
      ]
     },
     "execution_count": 46,
     "metadata": {},
     "output_type": "execute_result"
    }
   ],
   "source": [
    "#this whole step is to convert data to the format that sagemaker accepts\n",
    "import io # The io module allows for dealing with various types of I/O (input/output) (text I/O, binary I/O and raw I/O). \n",
    "import numpy as np\n",
    "import sagemaker.amazon.common as smac # sagemaker common libary\n",
    "\n",
    "# Code below converts the data in numpy array format to RecordIO format\n",
    "# This is the format required by Sagemaker Linear Learner \n",
    "\n",
    "buf = io.BytesIO() # create an in-memory byte array (buf is a buffer I will be writing to)\n",
    "smac.write_numpy_to_dense_tensor(buf, X_train, y_train)\n",
    "buf.seek(0)\n",
    "# When you write to in-memory byte arrays, it increments 1 every time you write to it\n",
    "# Let's reset that back to zero \n"
   ]
  },
  {
   "cell_type": "code",
   "execution_count": 47,
   "metadata": {
    "tags": []
   },
   "outputs": [
    {
     "name": "stdout",
     "output_type": "stream",
     "text": [
      "uploaded training data location: s3://sagemaker-practical-hac/linear_learner/train/linear-train-data\n"
     ]
    }
   ],
   "source": [
    "import os\n",
    "\n",
    "# Code to upload RecordIO data to S3\n",
    " \n",
    "# Key refers to the name of the file    \n",
    "key = 'linear-train-data'\n",
    "\n",
    "# The following code uploads the data in record-io format to S3 bucket to be accessed later for training\n",
    "boto3.resource('s3').Bucket(bucket).Object(os.path.join(prefix, 'train', key)).upload_fileobj(buf)\n",
    "\n",
    "# Let's print out the training data location in s3\n",
    "s3_train_data = 's3://{}/{}/train/{}'.format(bucket, prefix, key)\n",
    "print('uploaded training data location: {}'.format(s3_train_data))"
   ]
  },
  {
   "cell_type": "code",
   "execution_count": 48,
   "metadata": {
    "tags": []
   },
   "outputs": [
    {
     "data": {
      "text/plain": [
       "(9, 1)"
      ]
     },
     "execution_count": 48,
     "metadata": {},
     "output_type": "execute_result"
    }
   ],
   "source": [
    "X_test.shape"
   ]
  },
  {
   "cell_type": "code",
   "execution_count": 49,
   "metadata": {
    "tags": []
   },
   "outputs": [
    {
     "data": {
      "text/plain": [
       "(9, 1)"
      ]
     },
     "execution_count": 49,
     "metadata": {},
     "output_type": "execute_result"
    }
   ],
   "source": [
    "y_test.shape"
   ]
  },
  {
   "cell_type": "code",
   "execution_count": 50,
   "metadata": {
    "tags": []
   },
   "outputs": [],
   "source": [
    "# Make sure that the target label is a vector\n",
    "y_test = y_test[:,0]\n"
   ]
  },
  {
   "cell_type": "code",
   "execution_count": 51,
   "metadata": {
    "tags": []
   },
   "outputs": [
    {
     "data": {
      "text/plain": [
       "(9,)"
      ]
     },
     "execution_count": 51,
     "metadata": {},
     "output_type": "execute_result"
    }
   ],
   "source": [
    "y_test.shape"
   ]
  },
  {
   "cell_type": "code",
   "execution_count": 52,
   "metadata": {
    "tags": []
   },
   "outputs": [
    {
     "data": {
      "text/plain": [
       "0"
      ]
     },
     "execution_count": 52,
     "metadata": {},
     "output_type": "execute_result"
    }
   ],
   "source": [
    "# Code to upload RecordIO data to S3\n",
    "\n",
    "buf = io.BytesIO() # create an in-memory byte array (buf is a buffer I will be writing to)\n",
    "smac.write_numpy_to_dense_tensor(buf, X_test, y_test)\n",
    "buf.seek(0) \n",
    "# When you write to in-memory byte arrays, it increments 1 every time you write to it\n",
    "# Let's reset that back to zero \n"
   ]
  },
  {
   "cell_type": "code",
   "execution_count": 53,
   "metadata": {
    "tags": []
   },
   "outputs": [
    {
     "name": "stdout",
     "output_type": "stream",
     "text": [
      "uploaded training data location: s3://sagemaker-practical-hac/linear_learner/test/linear-test-data\n"
     ]
    }
   ],
   "source": [
    "# Key refers to the name of the file    \n",
    "key = 'linear-test-data'\n",
    "\n",
    "# The following code uploads the data in record-io format to S3 bucket to be accessed later for training\n",
    "boto3.resource('s3').Bucket(bucket).Object(os.path.join(prefix, 'test', key)).upload_fileobj(buf)\n",
    "\n",
    "# Let's print out the testing data location in s3\n",
    "s3_test_data = 's3://{}/{}/test/{}'.format(bucket, prefix, key)\n",
    "print('uploaded training data location: {}'.format(s3_test_data))"
   ]
  },
  {
   "cell_type": "code",
   "execution_count": 54,
   "metadata": {
    "tags": []
   },
   "outputs": [
    {
     "name": "stdout",
     "output_type": "stream",
     "text": [
      "Training artifacts will be uploaded to: s3://sagemaker-practical-hac/linear_learner/output\n"
     ]
    }
   ],
   "source": [
    "# create an output placeholder in S3 bucket to store the linear learner output\n",
    "\n",
    "output_location = 's3://{}/{}/output'.format(bucket, prefix)\n",
    "print('Training artifacts will be uploaded to: {}'.format(output_location))"
   ]
  },
  {
   "cell_type": "code",
   "execution_count": 55,
   "metadata": {
    "tags": []
   },
   "outputs": [
    {
     "name": "stderr",
     "output_type": "stream",
     "text": [
      "The method get_image_uri has been renamed in sagemaker>=2.\n",
      "See: https://sagemaker.readthedocs.io/en/stable/v2.html for details.\n"
     ]
    }
   ],
   "source": [
    "# This code is used to get the training container of sagemaker built-in algorithms\n",
    "# all we have to do is to specify the name of the algorithm, that we want to use\n",
    "\n",
    "# Let's obtain a reference to the linearLearner container image\n",
    "# Note that all regression models are named estimators\n",
    "# You don't have to specify (hardcode) the region, get_image_uri will get the current region name using boto3.Session\n",
    "\n",
    "from sagemaker.amazon.amazon_estimator import get_image_uri\n",
    "\n",
    "container = get_image_uri(boto3.Session().region_name, 'linear-learner')"
   ]
  },
  {
   "cell_type": "code",
   "execution_count": 56,
   "metadata": {
    "tags": []
   },
   "outputs": [
    {
     "name": "stderr",
     "output_type": "stream",
     "text": [
      "train_instance_count has been renamed in sagemaker>=2.\n",
      "See: https://sagemaker.readthedocs.io/en/stable/v2.html for details.\n",
      "train_instance_type has been renamed in sagemaker>=2.\n",
      "See: https://sagemaker.readthedocs.io/en/stable/v2.html for details.\n",
      "INFO:sagemaker:Creating training-job with name: linear-learner-2023-09-02-05-43-24-436\n"
     ]
    },
    {
     "name": "stdout",
     "output_type": "stream",
     "text": [
      "2023-09-02 05:43:24 Starting - Starting the training job...\n",
      "2023-09-02 05:43:39 Starting - Preparing the instances for training......\n",
      "2023-09-02 05:44:49 Downloading - Downloading input data...\n",
      "2023-09-02 05:45:14 Training - Downloading the training image.........\n",
      "2023-09-02 05:46:55 Uploading - Uploading generated training model\u001b[34mDocker entrypoint called with argument(s): train\u001b[0m\n",
      "\u001b[34mRunning default environment configuration script\u001b[0m\n",
      "\u001b[34m[09/02/2023 05:46:44 INFO 140628399605568] Reading default configuration from /opt/amazon/lib/python3.7/site-packages/algorithm/resources/default-input.json: {'mini_batch_size': '1000', 'epochs': '15', 'feature_dim': 'auto', 'use_bias': 'true', 'binary_classifier_model_selection_criteria': 'accuracy', 'f_beta': '1.0', 'target_recall': '0.8', 'target_precision': '0.8', 'num_models': 'auto', 'num_calibration_samples': '10000000', 'init_method': 'uniform', 'init_scale': '0.07', 'init_sigma': '0.01', 'init_bias': '0.0', 'optimizer': 'auto', 'loss': 'auto', 'margin': '1.0', 'quantile': '0.5', 'loss_insensitivity': '0.01', 'huber_delta': '1.0', 'num_classes': '1', 'accuracy_top_k': '3', 'wd': 'auto', 'l1': 'auto', 'momentum': 'auto', 'learning_rate': 'auto', 'beta_1': 'auto', 'beta_2': 'auto', 'bias_lr_mult': 'auto', 'bias_wd_mult': 'auto', 'use_lr_scheduler': 'true', 'lr_scheduler_step': 'auto', 'lr_scheduler_factor': 'auto', 'lr_scheduler_minimum_lr': 'auto', 'positive_example_weight_mult': '1.0', 'balance_multiclass_weights': 'false', 'normalize_data': 'true', 'normalize_label': 'auto', 'unbias_data': 'auto', 'unbias_label': 'auto', 'num_point_for_scaler': '10000', '_kvstore': 'auto', '_num_gpus': 'auto', '_num_kv_servers': 'auto', '_log_level': 'info', '_tuning_objective_metric': '', 'early_stopping_patience': '3', 'early_stopping_tolerance': '0.001', '_enable_profiler': 'false'}\u001b[0m\n",
      "\u001b[34m[09/02/2023 05:46:44 INFO 140628399605568] Merging with provided configuration from /opt/ml/input/config/hyperparameters.json: {'epochs': '50', 'feature_dim': '1', 'loss': 'absolute_loss', 'mini_batch_size': '5', 'num_models': '32', 'predictor_type': 'regressor'}\u001b[0m\n",
      "\u001b[34m[09/02/2023 05:46:44 INFO 140628399605568] Final configuration: {'mini_batch_size': '5', 'epochs': '50', 'feature_dim': '1', 'use_bias': 'true', 'binary_classifier_model_selection_criteria': 'accuracy', 'f_beta': '1.0', 'target_recall': '0.8', 'target_precision': '0.8', 'num_models': '32', 'num_calibration_samples': '10000000', 'init_method': 'uniform', 'init_scale': '0.07', 'init_sigma': '0.01', 'init_bias': '0.0', 'optimizer': 'auto', 'loss': 'absolute_loss', 'margin': '1.0', 'quantile': '0.5', 'loss_insensitivity': '0.01', 'huber_delta': '1.0', 'num_classes': '1', 'accuracy_top_k': '3', 'wd': 'auto', 'l1': 'auto', 'momentum': 'auto', 'learning_rate': 'auto', 'beta_1': 'auto', 'beta_2': 'auto', 'bias_lr_mult': 'auto', 'bias_wd_mult': 'auto', 'use_lr_scheduler': 'true', 'lr_scheduler_step': 'auto', 'lr_scheduler_factor': 'auto', 'lr_scheduler_minimum_lr': 'auto', 'positive_example_weight_mult': '1.0', 'balance_multiclass_weights': 'false', 'normalize_data': 'true', 'normalize_label': 'auto', 'unbias_data': 'auto', 'unbias_label': 'auto', 'num_point_for_scaler': '10000', '_kvstore': 'auto', '_num_gpus': 'auto', '_num_kv_servers': 'auto', '_log_level': 'info', '_tuning_objective_metric': '', 'early_stopping_patience': '3', 'early_stopping_tolerance': '0.001', '_enable_profiler': 'false', 'predictor_type': 'regressor'}\u001b[0m\n",
      "\u001b[34m[09/02/2023 05:46:46 WARNING 140628399605568] Loggers have already been setup.\u001b[0m\n",
      "\u001b[34m[09/02/2023 05:46:46 INFO 140628399605568] Final configuration: {'mini_batch_size': '5', 'epochs': '50', 'feature_dim': '1', 'use_bias': 'true', 'binary_classifier_model_selection_criteria': 'accuracy', 'f_beta': '1.0', 'target_recall': '0.8', 'target_precision': '0.8', 'num_models': '32', 'num_calibration_samples': '10000000', 'init_method': 'uniform', 'init_scale': '0.07', 'init_sigma': '0.01', 'init_bias': '0.0', 'optimizer': 'auto', 'loss': 'absolute_loss', 'margin': '1.0', 'quantile': '0.5', 'loss_insensitivity': '0.01', 'huber_delta': '1.0', 'num_classes': '1', 'accuracy_top_k': '3', 'wd': 'auto', 'l1': 'auto', 'momentum': 'auto', 'learning_rate': 'auto', 'beta_1': 'auto', 'beta_2': 'auto', 'bias_lr_mult': 'auto', 'bias_wd_mult': 'auto', 'use_lr_scheduler': 'true', 'lr_scheduler_step': 'auto', 'lr_scheduler_factor': 'auto', 'lr_scheduler_minimum_lr': 'auto', 'positive_example_weight_mult': '1.0', 'balance_multiclass_weights': 'false', 'normalize_data': 'true', 'normalize_label': 'auto', 'unbias_data': 'auto', 'unbias_label': 'auto', 'num_point_for_scaler': '10000', '_kvstore': 'auto', '_num_gpus': 'auto', '_num_kv_servers': 'auto', '_log_level': 'info', '_tuning_objective_metric': '', 'early_stopping_patience': '3', 'early_stopping_tolerance': '0.001', '_enable_profiler': 'false', 'predictor_type': 'regressor'}\u001b[0m\n",
      "\u001b[34m[09/02/2023 05:46:46 WARNING 140628399605568] Loggers have already been setup.\u001b[0m\n",
      "\u001b[34mProcess 7 is a worker.\u001b[0m\n",
      "\u001b[34m[09/02/2023 05:46:46 INFO 140628399605568] Using default worker.\u001b[0m\n",
      "\u001b[34m[09/02/2023 05:46:47 INFO 140628399605568] Checkpoint loading and saving are disabled.\u001b[0m\n",
      "\u001b[34m[2023-09-02 05:46:47.090] [tensorio] [info] epoch_stats={\"data_pipeline\": \"/opt/ml/input/data/train\", \"epoch\": 0, \"duration\": 14, \"num_examples\": 1, \"num_bytes\": 240}\u001b[0m\n",
      "\u001b[34m[09/02/2023 05:46:47 INFO 140628399605568] Create Store: local\u001b[0m\n",
      "\u001b[34m[2023-09-02 05:46:47.131] [tensorio] [info] epoch_stats={\"data_pipeline\": \"/opt/ml/input/data/train\", \"epoch\": 1, \"duration\": 41, \"num_examples\": 6, \"num_bytes\": 1248}\u001b[0m\n",
      "\u001b[34m[09/02/2023 05:46:47 INFO 140628399605568] Scaler algorithm parameters\n",
      " <algorithm.scaler.ScalerAlgorithmStable object at 0x7fe609bf4a90>\u001b[0m\n",
      "\u001b[34m[09/02/2023 05:46:47 INFO 140628399605568] Scaling model computed with parameters:\n",
      " {'stdev_label': \u001b[0m\n",
      "\u001b[34m[32352.729]\u001b[0m\n",
      "\u001b[34m<NDArray 1 @cpu(0)>, 'stdev_weight': \u001b[0m\n",
      "\u001b[34m[3.6140964]\u001b[0m\n",
      "\u001b[34m<NDArray 1 @cpu(0)>, 'mean_label': \u001b[0m\n",
      "\u001b[34m[84476.45]\u001b[0m\n",
      "\u001b[34m<NDArray 1 @cpu(0)>, 'mean_weight': \u001b[0m\n",
      "\u001b[34m[6.452]\u001b[0m\n",
      "\u001b[34m<NDArray 1 @cpu(0)>}\u001b[0m\n",
      "\u001b[34m[09/02/2023 05:46:47 INFO 140628399605568] nvidia-smi: took 0.031 seconds to run.\u001b[0m\n",
      "\u001b[34m[09/02/2023 05:46:47 INFO 140628399605568] nvidia-smi identified 0 GPUs.\u001b[0m\n",
      "\u001b[34m[09/02/2023 05:46:47 INFO 140628399605568] Number of GPUs being used: 0\u001b[0m\n",
      "\u001b[34m#metrics {\"StartTime\": 1693633607.2331426, \"EndTime\": 1693633607.2331765, \"Dimensions\": {\"Algorithm\": \"Linear Learner\", \"Host\": \"algo-1\", \"Operation\": \"training\", \"Meta\": \"init_train_data_iter\"}, \"Metrics\": {\"Total Records Seen\": {\"sum\": 31.0, \"count\": 1, \"min\": 31, \"max\": 31}, \"Total Batches Seen\": {\"sum\": 7.0, \"count\": 1, \"min\": 7, \"max\": 7}, \"Max Records Seen Between Resets\": {\"sum\": 26.0, \"count\": 1, \"min\": 26, \"max\": 26}, \"Max Batches Seen Between Resets\": {\"sum\": 6.0, \"count\": 1, \"min\": 6, \"max\": 6}, \"Reset Count\": {\"sum\": 2.0, \"count\": 1, \"min\": 2, \"max\": 2}, \"Number of Records Since Last Reset\": {\"sum\": 0.0, \"count\": 1, \"min\": 0, \"max\": 0}, \"Number of Batches Since Last Reset\": {\"sum\": 0.0, \"count\": 1, \"min\": 0, \"max\": 0}}}\u001b[0m\n",
      "\u001b[34m[2023-09-02 05:46:47.344] [tensorio] [info] epoch_stats={\"data_pipeline\": \"/opt/ml/input/data/train\", \"epoch\": 4, \"duration\": 110, \"num_examples\": 6, \"num_bytes\": 1248}\u001b[0m\n",
      "\u001b[34m#metrics {\"StartTime\": 1693633607.3443944, \"EndTime\": 1693633607.344471, \"Dimensions\": {\"Algorithm\": \"Linear Learner\", \"Host\": \"algo-1\", \"Operation\": \"training\", \"epoch\": 0, \"model\": 0}, \"Metrics\": {\"train_absolute_loss_objective\": {\"sum\": 0.898029375076294, \"count\": 1, \"min\": 0.898029375076294, \"max\": 0.898029375076294}}}\u001b[0m\n",
      "\u001b[34m#metrics {\"StartTime\": 1693633607.3445497, \"EndTime\": 1693633607.3445902, \"Dimensions\": {\"Algorithm\": \"Linear Learner\", \"Host\": \"algo-1\", \"Operation\": \"training\", \"epoch\": 0, \"model\": 1}, \"Metrics\": {\"train_absolute_loss_objective\": {\"sum\": 0.9175072097778321, \"count\": 1, \"min\": 0.9175072097778321, \"max\": 0.9175072097778321}}}\u001b[0m\n",
      "\u001b[34m#metrics {\"StartTime\": 1693633607.3446484, \"EndTime\": 1693633607.3446653, \"Dimensions\": {\"Algorithm\": \"Linear Learner\", \"Host\": \"algo-1\", \"Operation\": \"training\", \"epoch\": 0, \"model\": 2}, \"Metrics\": {\"train_absolute_loss_objective\": {\"sum\": 0.9003888511657715, \"count\": 1, \"min\": 0.9003888511657715, \"max\": 0.9003888511657715}}}\u001b[0m\n",
      "\u001b[34m#metrics {\"StartTime\": 1693633607.344718, \"EndTime\": 1693633607.3447342, \"Dimensions\": {\"Algorithm\": \"Linear Learner\", \"Host\": \"algo-1\", \"Operation\": \"training\", \"epoch\": 0, \"model\": 3}, \"Metrics\": {\"train_absolute_loss_objective\": {\"sum\": 0.9165117931365967, \"count\": 1, \"min\": 0.9165117931365967, \"max\": 0.9165117931365967}}}\u001b[0m\n",
      "\u001b[34m#metrics {\"StartTime\": 1693633607.3447793, \"EndTime\": 1693633607.344795, \"Dimensions\": {\"Algorithm\": \"Linear Learner\", \"Host\": \"algo-1\", \"Operation\": \"training\", \"epoch\": 0, \"model\": 4}, \"Metrics\": {\"train_absolute_loss_objective\": {\"sum\": 0.9526094722747803, \"count\": 1, \"min\": 0.9526094722747803, \"max\": 0.9526094722747803}}}\u001b[0m\n",
      "\u001b[34m#metrics {\"StartTime\": 1693633607.344844, \"EndTime\": 1693633607.3448598, \"Dimensions\": {\"Algorithm\": \"Linear Learner\", \"Host\": \"algo-1\", \"Operation\": \"training\", \"epoch\": 0, \"model\": 5}, \"Metrics\": {\"train_absolute_loss_objective\": {\"sum\": 0.9612159347534179, \"count\": 1, \"min\": 0.9612159347534179, \"max\": 0.9612159347534179}}}\u001b[0m\n",
      "\u001b[34m#metrics {\"StartTime\": 1693633607.3449116, \"EndTime\": 1693633607.344928, \"Dimensions\": {\"Algorithm\": \"Linear Learner\", \"Host\": \"algo-1\", \"Operation\": \"training\", \"epoch\": 0, \"model\": 6}, \"Metrics\": {\"train_absolute_loss_objective\": {\"sum\": 1.014988956451416, \"count\": 1, \"min\": 1.014988956451416, \"max\": 1.014988956451416}}}\u001b[0m\n",
      "\u001b[34m#metrics {\"StartTime\": 1693633607.3449812, \"EndTime\": 1693633607.3449984, \"Dimensions\": {\"Algorithm\": \"Linear Learner\", \"Host\": \"algo-1\", \"Operation\": \"training\", \"epoch\": 0, \"model\": 7}, \"Metrics\": {\"train_absolute_loss_objective\": {\"sum\": 1.0091604995727539, \"count\": 1, \"min\": 1.0091604995727539, \"max\": 1.0091604995727539}}}\u001b[0m\n",
      "\u001b[34m#metrics {\"StartTime\": 1693633607.345058, \"EndTime\": 1693633607.345075, \"Dimensions\": {\"Algorithm\": \"Linear Learner\", \"Host\": \"algo-1\", \"Operation\": \"training\", \"epoch\": 0, \"model\": 8}, \"Metrics\": {\"train_absolute_loss_objective\": {\"sum\": 0.9521252536773681, \"count\": 1, \"min\": 0.9521252536773681, \"max\": 0.9521252536773681}}}\u001b[0m\n",
      "\u001b[34m#metrics {\"StartTime\": 1693633607.3451283, \"EndTime\": 1693633607.3451457, \"Dimensions\": {\"Algorithm\": \"Linear Learner\", \"Host\": \"algo-1\", \"Operation\": \"training\", \"epoch\": 0, \"model\": 9}, \"Metrics\": {\"train_absolute_loss_objective\": {\"sum\": 0.8862600040435791, \"count\": 1, \"min\": 0.8862600040435791, \"max\": 0.8862600040435791}}}\u001b[0m\n",
      "\u001b[34m#metrics {\"StartTime\": 1693633607.3452032, \"EndTime\": 1693633607.3452203, \"Dimensions\": {\"Algorithm\": \"Linear Learner\", \"Host\": \"algo-1\", \"Operation\": \"training\", \"epoch\": 0, \"model\": 10}, \"Metrics\": {\"train_absolute_loss_objective\": {\"sum\": 0.8928137683868408, \"count\": 1, \"min\": 0.8928137683868408, \"max\": 0.8928137683868408}}}\u001b[0m\n",
      "\u001b[34m#metrics {\"StartTime\": 1693633607.3452764, \"EndTime\": 1693633607.345293, \"Dimensions\": {\"Algorithm\": \"Linear Learner\", \"Host\": \"algo-1\", \"Operation\": \"training\", \"epoch\": 0, \"model\": 11}, \"Metrics\": {\"train_absolute_loss_objective\": {\"sum\": 0.8783214950561523, \"count\": 1, \"min\": 0.8783214950561523, \"max\": 0.8783214950561523}}}\u001b[0m\n",
      "\u001b[34m#metrics {\"StartTime\": 1693633607.345347, \"EndTime\": 1693633607.3453634, \"Dimensions\": {\"Algorithm\": \"Linear Learner\", \"Host\": \"algo-1\", \"Operation\": \"training\", \"epoch\": 0, \"model\": 12}, \"Metrics\": {\"train_absolute_loss_objective\": {\"sum\": 0.960472002029419, \"count\": 1, \"min\": 0.960472002029419, \"max\": 0.960472002029419}}}\u001b[0m\n",
      "\u001b[34m#metrics {\"StartTime\": 1693633607.3454213, \"EndTime\": 1693633607.3454373, \"Dimensions\": {\"Algorithm\": \"Linear Learner\", \"Host\": \"algo-1\", \"Operation\": \"training\", \"epoch\": 0, \"model\": 13}, \"Metrics\": {\"train_absolute_loss_objective\": {\"sum\": 0.9836857700347901, \"count\": 1, \"min\": 0.9836857700347901, \"max\": 0.9836857700347901}}}\u001b[0m\n",
      "\u001b[34m#metrics {\"StartTime\": 1693633607.3454933, \"EndTime\": 1693633607.34551, \"Dimensions\": {\"Algorithm\": \"Linear Learner\", \"Host\": \"algo-1\", \"Operation\": \"training\", \"epoch\": 0, \"model\": 14}, \"Metrics\": {\"train_absolute_loss_objective\": {\"sum\": 0.9591570568084716, \"count\": 1, \"min\": 0.9591570568084716, \"max\": 0.9591570568084716}}}\u001b[0m\n",
      "\u001b[34m#metrics {\"StartTime\": 1693633607.3455625, \"EndTime\": 1693633607.3455787, \"Dimensions\": {\"Algorithm\": \"Linear Learner\", \"Host\": \"algo-1\", \"Operation\": \"training\", \"epoch\": 0, \"model\": 15}, \"Metrics\": {\"train_absolute_loss_objective\": {\"sum\": 0.9892493438720703, \"count\": 1, \"min\": 0.9892493438720703, \"max\": 0.9892493438720703}}}\u001b[0m\n",
      "\u001b[34m#metrics {\"StartTime\": 1693633607.3456297, \"EndTime\": 1693633607.345645, \"Dimensions\": {\"Algorithm\": \"Linear Learner\", \"Host\": \"algo-1\", \"Operation\": \"training\", \"epoch\": 0, \"model\": 16}, \"Metrics\": {\"train_absolute_loss_objective\": {\"sum\": 0.8627073192596435, \"count\": 1, \"min\": 0.8627073192596435, \"max\": 0.8627073192596435}}}\u001b[0m\n",
      "\u001b[34m#metrics {\"StartTime\": 1693633607.3456926, \"EndTime\": 1693633607.3457081, \"Dimensions\": {\"Algorithm\": \"Linear Learner\", \"Host\": \"algo-1\", \"Operation\": \"training\", \"epoch\": 0, \"model\": 17}, \"Metrics\": {\"train_absolute_loss_objective\": {\"sum\": 0.9128564739227295, \"count\": 1, \"min\": 0.9128564739227295, \"max\": 0.9128564739227295}}}\u001b[0m\n",
      "\u001b[34m#metrics {\"StartTime\": 1693633607.3457546, \"EndTime\": 1693633607.3457692, \"Dimensions\": {\"Algorithm\": \"Linear Learner\", \"Host\": \"algo-1\", \"Operation\": \"training\", \"epoch\": 0, \"model\": 18}, \"Metrics\": {\"train_absolute_loss_objective\": {\"sum\": 0.8891888236999512, \"count\": 1, \"min\": 0.8891888236999512, \"max\": 0.8891888236999512}}}\u001b[0m\n",
      "\u001b[34m#metrics {\"StartTime\": 1693633607.345815, \"EndTime\": 1693633607.3458302, \"Dimensions\": {\"Algorithm\": \"Linear Learner\", \"Host\": \"algo-1\", \"Operation\": \"training\", \"epoch\": 0, \"model\": 19}, \"Metrics\": {\"train_absolute_loss_objective\": {\"sum\": 0.8865451812744141, \"count\": 1, \"min\": 0.8865451812744141, \"max\": 0.8865451812744141}}}\u001b[0m\n",
      "\u001b[34m#metrics {\"StartTime\": 1693633607.3458767, \"EndTime\": 1693633607.345892, \"Dimensions\": {\"Algorithm\": \"Linear Learner\", \"Host\": \"algo-1\", \"Operation\": \"training\", \"epoch\": 0, \"model\": 20}, \"Metrics\": {\"train_absolute_loss_objective\": {\"sum\": 1.003749532699585, \"count\": 1, \"min\": 1.003749532699585, \"max\": 1.003749532699585}}}\u001b[0m\n",
      "\u001b[34m#metrics {\"StartTime\": 1693633607.3459382, \"EndTime\": 1693633607.3459532, \"Dimensions\": {\"Algorithm\": \"Linear Learner\", \"Host\": \"algo-1\", \"Operation\": \"training\", \"epoch\": 0, \"model\": 21}, \"Metrics\": {\"train_absolute_loss_objective\": {\"sum\": 0.9954456901550293, \"count\": 1, \"min\": 0.9954456901550293, \"max\": 0.9954456901550293}}}\u001b[0m\n",
      "\u001b[34m#metrics {\"StartTime\": 1693633607.346, \"EndTime\": 1693633607.346015, \"Dimensions\": {\"Algorithm\": \"Linear Learner\", \"Host\": \"algo-1\", \"Operation\": \"training\", \"epoch\": 0, \"model\": 22}, \"Metrics\": {\"train_absolute_loss_objective\": {\"sum\": 0.961827278137207, \"count\": 1, \"min\": 0.961827278137207, \"max\": 0.961827278137207}}}\u001b[0m\n",
      "\u001b[34m#metrics {\"StartTime\": 1693633607.3460665, \"EndTime\": 1693633607.346082, \"Dimensions\": {\"Algorithm\": \"Linear Learner\", \"Host\": \"algo-1\", \"Operation\": \"training\", \"epoch\": 0, \"model\": 23}, \"Metrics\": {\"train_absolute_loss_objective\": {\"sum\": 1.019052677154541, \"count\": 1, \"min\": 1.019052677154541, \"max\": 1.019052677154541}}}\u001b[0m\n",
      "\u001b[34m#metrics {\"StartTime\": 1693633607.346136, \"EndTime\": 1693633607.3461523, \"Dimensions\": {\"Algorithm\": \"Linear Learner\", \"Host\": \"algo-1\", \"Operation\": \"training\", \"epoch\": 0, \"model\": 24}, \"Metrics\": {\"train_absolute_loss_objective\": {\"sum\": 0.8644346714019775, \"count\": 1, \"min\": 0.8644346714019775, \"max\": 0.8644346714019775}}}\u001b[0m\n",
      "\u001b[34m#metrics {\"StartTime\": 1693633607.3461936, \"EndTime\": 1693633607.3462086, \"Dimensions\": {\"Algorithm\": \"Linear Learner\", \"Host\": \"algo-1\", \"Operation\": \"training\", \"epoch\": 0, \"model\": 25}, \"Metrics\": {\"train_absolute_loss_objective\": {\"sum\": 0.9294283103942871, \"count\": 1, \"min\": 0.9294283103942871, \"max\": 0.9294283103942871}}}\u001b[0m\n",
      "\u001b[34m#metrics {\"StartTime\": 1693633607.3462524, \"EndTime\": 1693633607.346267, \"Dimensions\": {\"Algorithm\": \"Linear Learner\", \"Host\": \"algo-1\", \"Operation\": \"training\", \"epoch\": 0, \"model\": 26}, \"Metrics\": {\"train_absolute_loss_objective\": {\"sum\": 0.9176306247711181, \"count\": 1, \"min\": 0.9176306247711181, \"max\": 0.9176306247711181}}}\u001b[0m\n",
      "\u001b[34m#metrics {\"StartTime\": 1693633607.3463142, \"EndTime\": 1693633607.3463302, \"Dimensions\": {\"Algorithm\": \"Linear Learner\", \"Host\": \"algo-1\", \"Operation\": \"training\", \"epoch\": 0, \"model\": 27}, \"Metrics\": {\"train_absolute_loss_objective\": {\"sum\": 0.9072807216644287, \"count\": 1, \"min\": 0.9072807216644287, \"max\": 0.9072807216644287}}}\u001b[0m\n",
      "\u001b[34m#metrics {\"StartTime\": 1693633607.3463707, \"EndTime\": 1693633607.3463855, \"Dimensions\": {\"Algorithm\": \"Linear Learner\", \"Host\": \"algo-1\", \"Operation\": \"training\", \"epoch\": 0, \"model\": 28}, \"Metrics\": {\"train_absolute_loss_objective\": {\"sum\": 1.09300537109375, \"count\": 1, \"min\": 1.09300537109375, \"max\": 1.09300537109375}}}\u001b[0m\n",
      "\u001b[34m#metrics {\"StartTime\": 1693633607.3464375, \"EndTime\": 1693633607.3464546, \"Dimensions\": {\"Algorithm\": \"Linear Learner\", \"Host\": \"algo-1\", \"Operation\": \"training\", \"epoch\": 0, \"model\": 29}, \"Metrics\": {\"train_absolute_loss_objective\": {\"sum\": 1.093533763885498, \"count\": 1, \"min\": 1.093533763885498, \"max\": 1.093533763885498}}}\u001b[0m\n",
      "\u001b[34m#metrics {\"StartTime\": 1693633607.3465164, \"EndTime\": 1693633607.3465335, \"Dimensions\": {\"Algorithm\": \"Linear Learner\", \"Host\": \"algo-1\", \"Operation\": \"training\", \"epoch\": 0, \"model\": 30}, \"Metrics\": {\"train_absolute_loss_objective\": {\"sum\": 1.104723606109619, \"count\": 1, \"min\": 1.104723606109619, \"max\": 1.104723606109619}}}\u001b[0m\n",
      "\u001b[34m#metrics {\"StartTime\": 1693633607.3465886, \"EndTime\": 1693633607.3466046, \"Dimensions\": {\"Algorithm\": \"Linear Learner\", \"Host\": \"algo-1\", \"Operation\": \"training\", \"epoch\": 0, \"model\": 31}, \"Metrics\": {\"train_absolute_loss_objective\": {\"sum\": 1.102616424560547, \"count\": 1, \"min\": 1.102616424560547, \"max\": 1.102616424560547}}}\u001b[0m\n",
      "\u001b[34m[09/02/2023 05:46:47 INFO 140628399605568] #quality_metric: host=algo-1, epoch=0, train absolute_loss_objective <loss>=0.898029375076294\u001b[0m\n",
      "\u001b[34m[09/02/2023 05:46:47 INFO 140628399605568] #early_stopping_criteria_metric: host=algo-1, epoch=0, criteria=absolute_loss_objective, value=0.8627073192596435\u001b[0m\n",
      "\u001b[34m[09/02/2023 05:46:47 INFO 140628399605568] Epoch 0: Loss improved. Updating best model\u001b[0m\n",
      "\u001b[34m[09/02/2023 05:46:47 INFO 140628399605568] Saving model for epoch: 0\u001b[0m\n",
      "\u001b[34m[09/02/2023 05:46:47 INFO 140628399605568] Saved checkpoint to \"/tmp/tmpymhb8xaf/mx-mod-0000.params\"\u001b[0m\n",
      "\u001b[34m[09/02/2023 05:46:47 INFO 140628399605568] #progress_metric: host=algo-1, completed 2.0 % of epochs\u001b[0m\n",
      "\u001b[34m#metrics {\"StartTime\": 1693633607.2334394, \"EndTime\": 1693633607.3583596, \"Dimensions\": {\"Algorithm\": \"Linear Learner\", \"Host\": \"algo-1\", \"Operation\": \"training\", \"epoch\": 0, \"Meta\": \"training_data_iter\"}, \"Metrics\": {\"Total Records Seen\": {\"sum\": 57.0, \"count\": 1, \"min\": 57, \"max\": 57}, \"Total Batches Seen\": {\"sum\": 13.0, \"count\": 1, \"min\": 13, \"max\": 13}, \"Max Records Seen Between Resets\": {\"sum\": 26.0, \"count\": 1, \"min\": 26, \"max\": 26}, \"Max Batches Seen Between Resets\": {\"sum\": 6.0, \"count\": 1, \"min\": 6, \"max\": 6}, \"Reset Count\": {\"sum\": 3.0, \"count\": 1, \"min\": 3, \"max\": 3}, \"Number of Records Since Last Reset\": {\"sum\": 26.0, \"count\": 1, \"min\": 26, \"max\": 26}, \"Number of Batches Since Last Reset\": {\"sum\": 6.0, \"count\": 1, \"min\": 6, \"max\": 6}}}\u001b[0m\n",
      "\u001b[34m[09/02/2023 05:46:47 INFO 140628399605568] #throughput_metric: host=algo-1, train throughput=207.9294062913516 records/second\u001b[0m\n",
      "\u001b[34m[2023-09-02 05:46:47.439] [tensorio] [info] epoch_stats={\"data_pipeline\": \"/opt/ml/input/data/train\", \"epoch\": 6, \"duration\": 80, \"num_examples\": 6, \"num_bytes\": 1248}\u001b[0m\n",
      "\u001b[34m#metrics {\"StartTime\": 1693633607.4394546, \"EndTime\": 1693633607.4395223, \"Dimensions\": {\"Algorithm\": \"Linear Learner\", \"Host\": \"algo-1\", \"Operation\": \"training\", \"epoch\": 1, \"model\": 0}, \"Metrics\": {\"train_absolute_loss_objective\": {\"sum\": 0.874832067489624, \"count\": 1, \"min\": 0.874832067489624, \"max\": 0.874832067489624}}}\u001b[0m\n",
      "\u001b[34m#metrics {\"StartTime\": 1693633607.4395926, \"EndTime\": 1693633607.4396124, \"Dimensions\": {\"Algorithm\": \"Linear Learner\", \"Host\": \"algo-1\", \"Operation\": \"training\", \"epoch\": 1, \"model\": 1}, \"Metrics\": {\"train_absolute_loss_objective\": {\"sum\": 0.8948968887329102, \"count\": 1, \"min\": 0.8948968887329102, \"max\": 0.8948968887329102}}}\u001b[0m\n",
      "\u001b[34m#metrics {\"StartTime\": 1693633607.4396734, \"EndTime\": 1693633607.439691, \"Dimensions\": {\"Algorithm\": \"Linear Learner\", \"Host\": \"algo-1\", \"Operation\": \"training\", \"epoch\": 1, \"model\": 2}, \"Metrics\": {\"train_absolute_loss_objective\": {\"sum\": 0.8772626113891602, \"count\": 1, \"min\": 0.8772626113891602, \"max\": 0.8772626113891602}}}\u001b[0m\n",
      "\u001b[34m#metrics {\"StartTime\": 1693633607.439745, \"EndTime\": 1693633607.439762, \"Dimensions\": {\"Algorithm\": \"Linear Learner\", \"Host\": \"algo-1\", \"Operation\": \"training\", \"epoch\": 1, \"model\": 3}, \"Metrics\": {\"train_absolute_loss_objective\": {\"sum\": 0.8938715171813965, \"count\": 1, \"min\": 0.8938715171813965, \"max\": 0.8938715171813965}}}\u001b[0m\n",
      "\u001b[34m#metrics {\"StartTime\": 1693633607.439819, \"EndTime\": 1693633607.4398363, \"Dimensions\": {\"Algorithm\": \"Linear Learner\", \"Host\": \"algo-1\", \"Operation\": \"training\", \"epoch\": 1, \"model\": 4}, \"Metrics\": {\"train_absolute_loss_objective\": {\"sum\": 0.3870627164840698, \"count\": 1, \"min\": 0.3870627164840698, \"max\": 0.3870627164840698}}}\u001b[0m\n",
      "\u001b[34m#metrics {\"StartTime\": 1693633607.4398773, \"EndTime\": 1693633607.4398935, \"Dimensions\": {\"Algorithm\": \"Linear Learner\", \"Host\": \"algo-1\", \"Operation\": \"training\", \"epoch\": 1, \"model\": 5}, \"Metrics\": {\"train_absolute_loss_objective\": {\"sum\": 0.3949633264541626, \"count\": 1, \"min\": 0.3949633264541626, \"max\": 0.3949633264541626}}}\u001b[0m\n",
      "\u001b[34m#metrics {\"StartTime\": 1693633607.4399374, \"EndTime\": 1693633607.439952, \"Dimensions\": {\"Algorithm\": \"Linear Learner\", \"Host\": \"algo-1\", \"Operation\": \"training\", \"epoch\": 1, \"model\": 6}, \"Metrics\": {\"train_absolute_loss_objective\": {\"sum\": 0.4154373216629028, \"count\": 1, \"min\": 0.4154373216629028, \"max\": 0.4154373216629028}}}\u001b[0m\n",
      "\u001b[34m#metrics {\"StartTime\": 1693633607.4400053, \"EndTime\": 1693633607.440022, \"Dimensions\": {\"Algorithm\": \"Linear Learner\", \"Host\": \"algo-1\", \"Operation\": \"training\", \"epoch\": 1, \"model\": 7}, \"Metrics\": {\"train_absolute_loss_objective\": {\"sum\": 0.43897553443908693, \"count\": 1, \"min\": 0.43897553443908693, \"max\": 0.43897553443908693}}}\u001b[0m\n",
      "\u001b[34m#metrics {\"StartTime\": 1693633607.4400814, \"EndTime\": 1693633607.440099, \"Dimensions\": {\"Algorithm\": \"Linear Learner\", \"Host\": \"algo-1\", \"Operation\": \"training\", \"epoch\": 1, \"model\": 8}, \"Metrics\": {\"train_absolute_loss_objective\": {\"sum\": 0.9306327247619629, \"count\": 1, \"min\": 0.9306327247619629, \"max\": 0.9306327247619629}}}\u001b[0m\n",
      "\u001b[34m#metrics {\"StartTime\": 1693633607.4401498, \"EndTime\": 1693633607.4401653, \"Dimensions\": {\"Algorithm\": \"Linear Learner\", \"Host\": \"algo-1\", \"Operation\": \"training\", \"epoch\": 1, \"model\": 9}, \"Metrics\": {\"train_absolute_loss_objective\": {\"sum\": 0.862709150314331, \"count\": 1, \"min\": 0.862709150314331, \"max\": 0.862709150314331}}}\u001b[0m\n",
      "\u001b[34m#metrics {\"StartTime\": 1693633607.4402192, \"EndTime\": 1693633607.4402356, \"Dimensions\": {\"Algorithm\": \"Linear Learner\", \"Host\": \"algo-1\", \"Operation\": \"training\", \"epoch\": 1, \"model\": 10}, \"Metrics\": {\"train_absolute_loss_objective\": {\"sum\": 0.8694602394104004, \"count\": 1, \"min\": 0.8694602394104004, \"max\": 0.8694602394104004}}}\u001b[0m\n",
      "\u001b[34m#metrics {\"StartTime\": 1693633607.4402902, \"EndTime\": 1693633607.440307, \"Dimensions\": {\"Algorithm\": \"Linear Learner\", \"Host\": \"algo-1\", \"Operation\": \"training\", \"epoch\": 1, \"model\": 11}, \"Metrics\": {\"train_absolute_loss_objective\": {\"sum\": 0.8545316410064697, \"count\": 1, \"min\": 0.8545316410064697, \"max\": 0.8545316410064697}}}\u001b[0m\n",
      "\u001b[34m#metrics {\"StartTime\": 1693633607.4403622, \"EndTime\": 1693633607.4403777, \"Dimensions\": {\"Algorithm\": \"Linear Learner\", \"Host\": \"algo-1\", \"Operation\": \"training\", \"epoch\": 1, \"model\": 12}, \"Metrics\": {\"train_absolute_loss_objective\": {\"sum\": 0.3947951984405518, \"count\": 1, \"min\": 0.3947951984405518, \"max\": 0.3947951984405518}}}\u001b[0m\n",
      "\u001b[34m#metrics {\"StartTime\": 1693633607.4404306, \"EndTime\": 1693633607.4404476, \"Dimensions\": {\"Algorithm\": \"Linear Learner\", \"Host\": \"algo-1\", \"Operation\": \"training\", \"epoch\": 1, \"model\": 13}, \"Metrics\": {\"train_absolute_loss_objective\": {\"sum\": 0.41606425762176513, \"count\": 1, \"min\": 0.41606425762176513, \"max\": 0.41606425762176513}}}\u001b[0m\n",
      "\u001b[34m#metrics {\"StartTime\": 1693633607.4404938, \"EndTime\": 1693633607.4405096, \"Dimensions\": {\"Algorithm\": \"Linear Learner\", \"Host\": \"algo-1\", \"Operation\": \"training\", \"epoch\": 1, \"model\": 14}, \"Metrics\": {\"train_absolute_loss_objective\": {\"sum\": 0.3935904598236084, \"count\": 1, \"min\": 0.3935904598236084, \"max\": 0.3935904598236084}}}\u001b[0m\n",
      "\u001b[34m#metrics {\"StartTime\": 1693633607.4405587, \"EndTime\": 1693633607.4405918, \"Dimensions\": {\"Algorithm\": \"Linear Learner\", \"Host\": \"algo-1\", \"Operation\": \"training\", \"epoch\": 1, \"model\": 15}, \"Metrics\": {\"train_absolute_loss_objective\": {\"sum\": 0.42116168975830076, \"count\": 1, \"min\": 0.42116168975830076, \"max\": 0.42116168975830076}}}\u001b[0m\n",
      "\u001b[34m#metrics {\"StartTime\": 1693633607.4406495, \"EndTime\": 1693633607.4406667, \"Dimensions\": {\"Algorithm\": \"Linear Learner\", \"Host\": \"algo-1\", \"Operation\": \"training\", \"epoch\": 1, \"model\": 16}, \"Metrics\": {\"train_absolute_loss_objective\": {\"sum\": 0.8386591911315918, \"count\": 1, \"min\": 0.8386591911315918, \"max\": 0.8386591911315918}}}\u001b[0m\n",
      "\u001b[34m#metrics {\"StartTime\": 1693633607.4407184, \"EndTime\": 1693633607.4407334, \"Dimensions\": {\"Algorithm\": \"Linear Learner\", \"Host\": \"algo-1\", \"Operation\": \"training\", \"epoch\": 1, \"model\": 17}, \"Metrics\": {\"train_absolute_loss_objective\": {\"sum\": 0.890138235092163, \"count\": 1, \"min\": 0.890138235092163, \"max\": 0.890138235092163}}}\u001b[0m\n",
      "\u001b[34m#metrics {\"StartTime\": 1693633607.4407828, \"EndTime\": 1693633607.4407983, \"Dimensions\": {\"Algorithm\": \"Linear Learner\", \"Host\": \"algo-1\", \"Operation\": \"training\", \"epoch\": 1, \"model\": 18}, \"Metrics\": {\"train_absolute_loss_objective\": {\"sum\": 0.8658388519287109, \"count\": 1, \"min\": 0.8658388519287109, \"max\": 0.8658388519287109}}}\u001b[0m\n",
      "\u001b[34m#metrics {\"StartTime\": 1693633607.4408576, \"EndTime\": 1693633607.440875, \"Dimensions\": {\"Algorithm\": \"Linear Learner\", \"Host\": \"algo-1\", \"Operation\": \"training\", \"epoch\": 1, \"model\": 19}, \"Metrics\": {\"train_absolute_loss_objective\": {\"sum\": 0.8631250858306885, \"count\": 1, \"min\": 0.8631250858306885, \"max\": 0.8631250858306885}}}\u001b[0m\n",
      "\u001b[34m#metrics {\"StartTime\": 1693633607.440925, \"EndTime\": 1693633607.4409413, \"Dimensions\": {\"Algorithm\": \"Linear Learner\", \"Host\": \"algo-1\", \"Operation\": \"training\", \"epoch\": 1, \"model\": 20}, \"Metrics\": {\"train_absolute_loss_objective\": {\"sum\": 0.496491641998291, \"count\": 1, \"min\": 0.496491641998291, \"max\": 0.496491641998291}}}\u001b[0m\n",
      "\u001b[34m#metrics {\"StartTime\": 1693633607.4409802, \"EndTime\": 1693633607.440994, \"Dimensions\": {\"Algorithm\": \"Linear Learner\", \"Host\": \"algo-1\", \"Operation\": \"training\", \"epoch\": 1, \"model\": 21}, \"Metrics\": {\"train_absolute_loss_objective\": {\"sum\": 0.4359833097457886, \"count\": 1, \"min\": 0.4359833097457886, \"max\": 0.4359833097457886}}}\u001b[0m\n",
      "\u001b[34m#metrics {\"StartTime\": 1693633607.4410415, \"EndTime\": 1693633607.4410563, \"Dimensions\": {\"Algorithm\": \"Linear Learner\", \"Host\": \"algo-1\", \"Operation\": \"training\", \"epoch\": 1, \"model\": 22}, \"Metrics\": {\"train_absolute_loss_objective\": {\"sum\": 0.47436640739440916, \"count\": 1, \"min\": 0.47436640739440916, \"max\": 0.47436640739440916}}}\u001b[0m\n",
      "\u001b[34m#metrics {\"StartTime\": 1693633607.4411125, \"EndTime\": 1693633607.44113, \"Dimensions\": {\"Algorithm\": \"Linear Learner\", \"Host\": \"algo-1\", \"Operation\": \"training\", \"epoch\": 1, \"model\": 23}, \"Metrics\": {\"train_absolute_loss_objective\": {\"sum\": 0.45893210887908936, \"count\": 1, \"min\": 0.45893210887908936, \"max\": 0.45893210887908936}}}\u001b[0m\n",
      "\u001b[34m#metrics {\"StartTime\": 1693633607.4411895, \"EndTime\": 1693633607.4412057, \"Dimensions\": {\"Algorithm\": \"Linear Learner\", \"Host\": \"algo-1\", \"Operation\": \"training\", \"epoch\": 1, \"model\": 24}, \"Metrics\": {\"train_absolute_loss_objective\": {\"sum\": 0.8815897369384765, \"count\": 1, \"min\": 0.8815897369384765, \"max\": 0.8815897369384765}}}\u001b[0m\n",
      "\u001b[34m#metrics {\"StartTime\": 1693633607.4412372, \"EndTime\": 1693633607.4412456, \"Dimensions\": {\"Algorithm\": \"Linear Learner\", \"Host\": \"algo-1\", \"Operation\": \"training\", \"epoch\": 1, \"model\": 25}, \"Metrics\": {\"train_absolute_loss_objective\": {\"sum\": 0.9091998291015625, \"count\": 1, \"min\": 0.9091998291015625, \"max\": 0.9091998291015625}}}\u001b[0m\n",
      "\u001b[34m#metrics {\"StartTime\": 1693633607.4412987, \"EndTime\": 1693633607.4413145, \"Dimensions\": {\"Algorithm\": \"Linear Learner\", \"Host\": \"algo-1\", \"Operation\": \"training\", \"epoch\": 1, \"model\": 26}, \"Metrics\": {\"train_absolute_loss_objective\": {\"sum\": 0.8981605434417724, \"count\": 1, \"min\": 0.8981605434417724, \"max\": 0.8981605434417724}}}\u001b[0m\n",
      "\u001b[34m#metrics {\"StartTime\": 1693633607.4413674, \"EndTime\": 1693633607.4413834, \"Dimensions\": {\"Algorithm\": \"Linear Learner\", \"Host\": \"algo-1\", \"Operation\": \"training\", \"epoch\": 1, \"model\": 27}, \"Metrics\": {\"train_absolute_loss_objective\": {\"sum\": 0.8973647594451905, \"count\": 1, \"min\": 0.8973647594451905, \"max\": 0.8973647594451905}}}\u001b[0m\n",
      "\u001b[34m#metrics {\"StartTime\": 1693633607.4414384, \"EndTime\": 1693633607.441451, \"Dimensions\": {\"Algorithm\": \"Linear Learner\", \"Host\": \"algo-1\", \"Operation\": \"training\", \"epoch\": 1, \"model\": 28}, \"Metrics\": {\"train_absolute_loss_objective\": {\"sum\": 0.9210485553741455, \"count\": 1, \"min\": 0.9210485553741455, \"max\": 0.9210485553741455}}}\u001b[0m\n",
      "\u001b[34m#metrics {\"StartTime\": 1693633607.4415066, \"EndTime\": 1693633607.4415228, \"Dimensions\": {\"Algorithm\": \"Linear Learner\", \"Host\": \"algo-1\", \"Operation\": \"training\", \"epoch\": 1, \"model\": 29}, \"Metrics\": {\"train_absolute_loss_objective\": {\"sum\": 0.920302848815918, \"count\": 1, \"min\": 0.920302848815918, \"max\": 0.920302848815918}}}\u001b[0m\n",
      "\u001b[34m#metrics {\"StartTime\": 1693633607.4415772, \"EndTime\": 1693633607.4415917, \"Dimensions\": {\"Algorithm\": \"Linear Learner\", \"Host\": \"algo-1\", \"Operation\": \"training\", \"epoch\": 1, \"model\": 30}, \"Metrics\": {\"train_absolute_loss_objective\": {\"sum\": 0.9175527954101562, \"count\": 1, \"min\": 0.9175527954101562, \"max\": 0.9175527954101562}}}\u001b[0m\n",
      "\u001b[34m#metrics {\"StartTime\": 1693633607.4416504, \"EndTime\": 1693633607.441667, \"Dimensions\": {\"Algorithm\": \"Linear Learner\", \"Host\": \"algo-1\", \"Operation\": \"training\", \"epoch\": 1, \"model\": 31}, \"Metrics\": {\"train_absolute_loss_objective\": {\"sum\": 0.9249486446380615, \"count\": 1, \"min\": 0.9249486446380615, \"max\": 0.9249486446380615}}}\u001b[0m\n",
      "\u001b[34m[09/02/2023 05:46:47 INFO 140628399605568] #quality_metric: host=algo-1, epoch=1, train absolute_loss_objective <loss>=0.874832067489624\u001b[0m\n",
      "\u001b[34m[09/02/2023 05:46:47 INFO 140628399605568] #early_stopping_criteria_metric: host=algo-1, epoch=1, criteria=absolute_loss_objective, value=0.3870627164840698\u001b[0m\n",
      "\u001b[34m[09/02/2023 05:46:47 INFO 140628399605568] Epoch 1: Loss improved. Updating best model\u001b[0m\n",
      "\u001b[34m[09/02/2023 05:46:47 INFO 140628399605568] Saving model for epoch: 1\u001b[0m\n",
      "\u001b[34m[09/02/2023 05:46:47 INFO 140628399605568] Saved checkpoint to \"/tmp/tmptosv59n9/mx-mod-0000.params\"\u001b[0m\n",
      "\u001b[34m[09/02/2023 05:46:47 INFO 140628399605568] #progress_metric: host=algo-1, completed 4.0 % of epochs\u001b[0m\n",
      "\u001b[34m#metrics {\"StartTime\": 1693633607.3586411, \"EndTime\": 1693633607.4492075, \"Dimensions\": {\"Algorithm\": \"Linear Learner\", \"Host\": \"algo-1\", \"Operation\": \"training\", \"epoch\": 1, \"Meta\": \"training_data_iter\"}, \"Metrics\": {\"Total Records Seen\": {\"sum\": 83.0, \"count\": 1, \"min\": 83, \"max\": 83}, \"Total Batches Seen\": {\"sum\": 19.0, \"count\": 1, \"min\": 19, \"max\": 19}, \"Max Records Seen Between Resets\": {\"sum\": 26.0, \"count\": 1, \"min\": 26, \"max\": 26}, \"Max Batches Seen Between Resets\": {\"sum\": 6.0, \"count\": 1, \"min\": 6, \"max\": 6}, \"Reset Count\": {\"sum\": 4.0, \"count\": 1, \"min\": 4, \"max\": 4}, \"Number of Records Since Last Reset\": {\"sum\": 26.0, \"count\": 1, \"min\": 26, \"max\": 26}, \"Number of Batches Since Last Reset\": {\"sum\": 6.0, \"count\": 1, \"min\": 6, \"max\": 6}}}\u001b[0m\n",
      "\u001b[34m[09/02/2023 05:46:47 INFO 140628399605568] #throughput_metric: host=algo-1, train throughput=286.6935101399134 records/second\u001b[0m\n",
      "\u001b[34m[2023-09-02 05:46:47.539] [tensorio] [info] epoch_stats={\"data_pipeline\": \"/opt/ml/input/data/train\", \"epoch\": 8, \"duration\": 90, \"num_examples\": 6, \"num_bytes\": 1248}\u001b[0m\n",
      "\u001b[34m#metrics {\"StartTime\": 1693633607.539704, \"EndTime\": 1693633607.539784, \"Dimensions\": {\"Algorithm\": \"Linear Learner\", \"Host\": \"algo-1\", \"Operation\": \"training\", \"epoch\": 2, \"model\": 0}, \"Metrics\": {\"train_absolute_loss_objective\": {\"sum\": 0.8539199733734131, \"count\": 1, \"min\": 0.8539199733734131, \"max\": 0.8539199733734131}}}\u001b[0m\n",
      "\u001b[34m#metrics {\"StartTime\": 1693633607.539861, \"EndTime\": 1693633607.5398817, \"Dimensions\": {\"Algorithm\": \"Linear Learner\", \"Host\": \"algo-1\", \"Operation\": \"training\", \"epoch\": 2, \"model\": 1}, \"Metrics\": {\"train_absolute_loss_objective\": {\"sum\": 0.8739089298248292, \"count\": 1, \"min\": 0.8739089298248292, \"max\": 0.8739089298248292}}}\u001b[0m\n",
      "\u001b[34m#metrics {\"StartTime\": 1693633607.5399408, \"EndTime\": 1693633607.5399585, \"Dimensions\": {\"Algorithm\": \"Linear Learner\", \"Host\": \"algo-1\", \"Operation\": \"training\", \"epoch\": 2, \"model\": 2}, \"Metrics\": {\"train_absolute_loss_objective\": {\"sum\": 0.8563505554199219, \"count\": 1, \"min\": 0.8563505554199219, \"max\": 0.8563505554199219}}}\u001b[0m\n",
      "\u001b[34m#metrics {\"StartTime\": 1693633607.5400248, \"EndTime\": 1693633607.5400426, \"Dimensions\": {\"Algorithm\": \"Linear Learner\", \"Host\": \"algo-1\", \"Operation\": \"training\", \"epoch\": 2, \"model\": 3}, \"Metrics\": {\"train_absolute_loss_objective\": {\"sum\": 0.8728835296630859, \"count\": 1, \"min\": 0.8728835296630859, \"max\": 0.8728835296630859}}}\u001b[0m\n",
      "\u001b[34m#metrics {\"StartTime\": 1693633607.5400999, \"EndTime\": 1693633607.540117, \"Dimensions\": {\"Algorithm\": \"Linear Learner\", \"Host\": \"algo-1\", \"Operation\": \"training\", \"epoch\": 2, \"model\": 4}, \"Metrics\": {\"train_absolute_loss_objective\": {\"sum\": 0.3468124794960022, \"count\": 1, \"min\": 0.3468124794960022, \"max\": 0.3468124794960022}}}\u001b[0m\n",
      "\u001b[34m#metrics {\"StartTime\": 1693633607.5401695, \"EndTime\": 1693633607.540186, \"Dimensions\": {\"Algorithm\": \"Linear Learner\", \"Host\": \"algo-1\", \"Operation\": \"training\", \"epoch\": 2, \"model\": 5}, \"Metrics\": {\"train_absolute_loss_objective\": {\"sum\": 0.35041680812835696, \"count\": 1, \"min\": 0.35041680812835696, \"max\": 0.35041680812835696}}}\u001b[0m\n",
      "\u001b[34m#metrics {\"StartTime\": 1693633607.5402398, \"EndTime\": 1693633607.5402563, \"Dimensions\": {\"Algorithm\": \"Linear Learner\", \"Host\": \"algo-1\", \"Operation\": \"training\", \"epoch\": 2, \"model\": 6}, \"Metrics\": {\"train_absolute_loss_objective\": {\"sum\": 0.2049060583114624, \"count\": 1, \"min\": 0.2049060583114624, \"max\": 0.2049060583114624}}}\u001b[0m\n",
      "\u001b[34m#metrics {\"StartTime\": 1693633607.5403075, \"EndTime\": 1693633607.5403228, \"Dimensions\": {\"Algorithm\": \"Linear Learner\", \"Host\": \"algo-1\", \"Operation\": \"training\", \"epoch\": 2, \"model\": 7}, \"Metrics\": {\"train_absolute_loss_objective\": {\"sum\": 0.30923561096191404, \"count\": 1, \"min\": 0.30923561096191404, \"max\": 0.30923561096191404}}}\u001b[0m\n",
      "\u001b[34m#metrics {\"StartTime\": 1693633607.5403736, \"EndTime\": 1693633607.5403845, \"Dimensions\": {\"Algorithm\": \"Linear Learner\", \"Host\": \"algo-1\", \"Operation\": \"training\", \"epoch\": 2, \"model\": 8}, \"Metrics\": {\"train_absolute_loss_objective\": {\"sum\": 0.9097649002075195, \"count\": 1, \"min\": 0.9097649002075195, \"max\": 0.9097649002075195}}}\u001b[0m\n",
      "\u001b[34m#metrics {\"StartTime\": 1693633607.5404105, \"EndTime\": 1693633607.540418, \"Dimensions\": {\"Algorithm\": \"Linear Learner\", \"Host\": \"algo-1\", \"Operation\": \"training\", \"epoch\": 2, \"model\": 9}, \"Metrics\": {\"train_absolute_loss_objective\": {\"sum\": 0.8417233657836914, \"count\": 1, \"min\": 0.8417233657836914, \"max\": 0.8417233657836914}}}\u001b[0m\n",
      "\u001b[34m#metrics {\"StartTime\": 1693633607.540441, \"EndTime\": 1693633607.540453, \"Dimensions\": {\"Algorithm\": \"Linear Learner\", \"Host\": \"algo-1\", \"Operation\": \"training\", \"epoch\": 2, \"model\": 10}, \"Metrics\": {\"train_absolute_loss_objective\": {\"sum\": 0.8485500621795654, \"count\": 1, \"min\": 0.8485500621795654, \"max\": 0.8485500621795654}}}\u001b[0m\n",
      "\u001b[34m#metrics {\"StartTime\": 1693633607.540502, \"EndTime\": 1693633607.5405173, \"Dimensions\": {\"Algorithm\": \"Linear Learner\", \"Host\": \"algo-1\", \"Operation\": \"training\", \"epoch\": 2, \"model\": 11}, \"Metrics\": {\"train_absolute_loss_objective\": {\"sum\": 0.8335461139678955, \"count\": 1, \"min\": 0.8335461139678955, \"max\": 0.8335461139678955}}}\u001b[0m\n",
      "\u001b[34m#metrics {\"StartTime\": 1693633607.5405915, \"EndTime\": 1693633607.5406082, \"Dimensions\": {\"Algorithm\": \"Linear Learner\", \"Host\": \"algo-1\", \"Operation\": \"training\", \"epoch\": 2, \"model\": 12}, \"Metrics\": {\"train_absolute_loss_objective\": {\"sum\": 0.34854655742645263, \"count\": 1, \"min\": 0.34854655742645263, \"max\": 0.34854655742645263}}}\u001b[0m\n",
      "\u001b[34m#metrics {\"StartTime\": 1693633607.5406482, \"EndTime\": 1693633607.5406623, \"Dimensions\": {\"Algorithm\": \"Linear Learner\", \"Host\": \"algo-1\", \"Operation\": \"training\", \"epoch\": 2, \"model\": 13}, \"Metrics\": {\"train_absolute_loss_objective\": {\"sum\": 0.30183720111846923, \"count\": 1, \"min\": 0.30183720111846923, \"max\": 0.30183720111846923}}}\u001b[0m\n",
      "\u001b[34m#metrics {\"StartTime\": 1693633607.5407174, \"EndTime\": 1693633607.5407314, \"Dimensions\": {\"Algorithm\": \"Linear Learner\", \"Host\": \"algo-1\", \"Operation\": \"training\", \"epoch\": 2, \"model\": 14}, \"Metrics\": {\"train_absolute_loss_objective\": {\"sum\": 0.3483200287818909, \"count\": 1, \"min\": 0.3483200287818909, \"max\": 0.3483200287818909}}}\u001b[0m\n",
      "\u001b[34m#metrics {\"StartTime\": 1693633607.5407605, \"EndTime\": 1693633607.5407732, \"Dimensions\": {\"Algorithm\": \"Linear Learner\", \"Host\": \"algo-1\", \"Operation\": \"training\", \"epoch\": 2, \"model\": 15}, \"Metrics\": {\"train_absolute_loss_objective\": {\"sum\": 0.3035557651519775, \"count\": 1, \"min\": 0.3035557651519775, \"max\": 0.3035557651519775}}}\u001b[0m\n",
      "\u001b[34m#metrics {\"StartTime\": 1693633607.5408142, \"EndTime\": 1693633607.5408232, \"Dimensions\": {\"Algorithm\": \"Linear Learner\", \"Host\": \"algo-1\", \"Operation\": \"training\", \"epoch\": 2, \"model\": 16}, \"Metrics\": {\"train_absolute_loss_objective\": {\"sum\": 0.8180753326416016, \"count\": 1, \"min\": 0.8180753326416016, \"max\": 0.8180753326416016}}}\u001b[0m\n",
      "\u001b[34m#metrics {\"StartTime\": 1693633607.5408506, \"EndTime\": 1693633607.5408628, \"Dimensions\": {\"Algorithm\": \"Linear Learner\", \"Host\": \"algo-1\", \"Operation\": \"training\", \"epoch\": 2, \"model\": 17}, \"Metrics\": {\"train_absolute_loss_objective\": {\"sum\": 0.8692817211151123, \"count\": 1, \"min\": 0.8692817211151123, \"max\": 0.8692817211151123}}}\u001b[0m\n",
      "\u001b[34m#metrics {\"StartTime\": 1693633607.540913, \"EndTime\": 1693633607.540928, \"Dimensions\": {\"Algorithm\": \"Linear Learner\", \"Host\": \"algo-1\", \"Operation\": \"training\", \"epoch\": 2, \"model\": 18}, \"Metrics\": {\"train_absolute_loss_objective\": {\"sum\": 0.8451462459564208, \"count\": 1, \"min\": 0.8451462459564208, \"max\": 0.8451462459564208}}}\u001b[0m\n",
      "\u001b[34m#metrics {\"StartTime\": 1693633607.5409737, \"EndTime\": 1693633607.5409827, \"Dimensions\": {\"Algorithm\": \"Linear Learner\", \"Host\": \"algo-1\", \"Operation\": \"training\", \"epoch\": 2, \"model\": 19}, \"Metrics\": {\"train_absolute_loss_objective\": {\"sum\": 0.8423680782318115, \"count\": 1, \"min\": 0.8423680782318115, \"max\": 0.8423680782318115}}}\u001b[0m\n",
      "\u001b[34m#metrics {\"StartTime\": 1693633607.5410116, \"EndTime\": 1693633607.5410244, \"Dimensions\": {\"Algorithm\": \"Linear Learner\", \"Host\": \"algo-1\", \"Operation\": \"training\", \"epoch\": 2, \"model\": 20}, \"Metrics\": {\"train_absolute_loss_objective\": {\"sum\": 0.384622745513916, \"count\": 1, \"min\": 0.384622745513916, \"max\": 0.384622745513916}}}\u001b[0m\n",
      "\u001b[34m#metrics {\"StartTime\": 1693633607.5410702, \"EndTime\": 1693633607.5410798, \"Dimensions\": {\"Algorithm\": \"Linear Learner\", \"Host\": \"algo-1\", \"Operation\": \"training\", \"epoch\": 2, \"model\": 21}, \"Metrics\": {\"train_absolute_loss_objective\": {\"sum\": 0.27017013311386107, \"count\": 1, \"min\": 0.27017013311386107, \"max\": 0.27017013311386107}}}\u001b[0m\n",
      "\u001b[34m#metrics {\"StartTime\": 1693633607.5411048, \"EndTime\": 1693633607.5411117, \"Dimensions\": {\"Algorithm\": \"Linear Learner\", \"Host\": \"algo-1\", \"Operation\": \"training\", \"epoch\": 2, \"model\": 22}, \"Metrics\": {\"train_absolute_loss_objective\": {\"sum\": 0.38103169441223145, \"count\": 1, \"min\": 0.38103169441223145, \"max\": 0.38103169441223145}}}\u001b[0m\n",
      "\u001b[34m#metrics {\"StartTime\": 1693633607.5411565, \"EndTime\": 1693633607.541166, \"Dimensions\": {\"Algorithm\": \"Linear Learner\", \"Host\": \"algo-1\", \"Operation\": \"training\", \"epoch\": 2, \"model\": 23}, \"Metrics\": {\"train_absolute_loss_objective\": {\"sum\": 0.27793667078018186, \"count\": 1, \"min\": 0.27793667078018186, \"max\": 0.27793667078018186}}}\u001b[0m\n",
      "\u001b[34m#metrics {\"StartTime\": 1693633607.5412018, \"EndTime\": 1693633607.5412152, \"Dimensions\": {\"Algorithm\": \"Linear Learner\", \"Host\": \"algo-1\", \"Operation\": \"training\", \"epoch\": 2, \"model\": 24}, \"Metrics\": {\"train_absolute_loss_objective\": {\"sum\": 0.898585958480835, \"count\": 1, \"min\": 0.898585958480835, \"max\": 0.898585958480835}}}\u001b[0m\n",
      "\u001b[34m#metrics {\"StartTime\": 1693633607.5412626, \"EndTime\": 1693633607.5412772, \"Dimensions\": {\"Algorithm\": \"Linear Learner\", \"Host\": \"algo-1\", \"Operation\": \"training\", \"epoch\": 2, \"model\": 25}, \"Metrics\": {\"train_absolute_loss_objective\": {\"sum\": 0.8944813919067383, \"count\": 1, \"min\": 0.8944813919067383, \"max\": 0.8944813919067383}}}\u001b[0m\n",
      "\u001b[34m#metrics {\"StartTime\": 1693633607.5413318, \"EndTime\": 1693633607.5413477, \"Dimensions\": {\"Algorithm\": \"Linear Learner\", \"Host\": \"algo-1\", \"Operation\": \"training\", \"epoch\": 2, \"model\": 26}, \"Metrics\": {\"train_absolute_loss_objective\": {\"sum\": 0.8929088497161866, \"count\": 1, \"min\": 0.8929088497161866, \"max\": 0.8929088497161866}}}\u001b[0m\n",
      "\u001b[34m#metrics {\"StartTime\": 1693633607.5414047, \"EndTime\": 1693633607.5414214, \"Dimensions\": {\"Algorithm\": \"Linear Learner\", \"Host\": \"algo-1\", \"Operation\": \"training\", \"epoch\": 2, \"model\": 27}, \"Metrics\": {\"train_absolute_loss_objective\": {\"sum\": 0.9017871475219726, \"count\": 1, \"min\": 0.9017871475219726, \"max\": 0.9017871475219726}}}\u001b[0m\n",
      "\u001b[34m#metrics {\"StartTime\": 1693633607.5414634, \"EndTime\": 1693633607.5414789, \"Dimensions\": {\"Algorithm\": \"Linear Learner\", \"Host\": \"algo-1\", \"Operation\": \"training\", \"epoch\": 2, \"model\": 28}, \"Metrics\": {\"train_absolute_loss_objective\": {\"sum\": 0.9731136989593506, \"count\": 1, \"min\": 0.9731136989593506, \"max\": 0.9731136989593506}}}\u001b[0m\n",
      "\u001b[34m#metrics {\"StartTime\": 1693633607.5415199, \"EndTime\": 1693633607.5415337, \"Dimensions\": {\"Algorithm\": \"Linear Learner\", \"Host\": \"algo-1\", \"Operation\": \"training\", \"epoch\": 2, \"model\": 29}, \"Metrics\": {\"train_absolute_loss_objective\": {\"sum\": 0.9746820163726807, \"count\": 1, \"min\": 0.9746820163726807, \"max\": 0.9746820163726807}}}\u001b[0m\n",
      "\u001b[34m#metrics {\"StartTime\": 1693633607.5415874, \"EndTime\": 1693633607.5416033, \"Dimensions\": {\"Algorithm\": \"Linear Learner\", \"Host\": \"algo-1\", \"Operation\": \"training\", \"epoch\": 2, \"model\": 30}, \"Metrics\": {\"train_absolute_loss_objective\": {\"sum\": 0.9721932029724121, \"count\": 1, \"min\": 0.9721932029724121, \"max\": 0.9721932029724121}}}\u001b[0m\n",
      "\u001b[34m#metrics {\"StartTime\": 1693633607.541657, \"EndTime\": 1693633607.541673, \"Dimensions\": {\"Algorithm\": \"Linear Learner\", \"Host\": \"algo-1\", \"Operation\": \"training\", \"epoch\": 2, \"model\": 31}, \"Metrics\": {\"train_absolute_loss_objective\": {\"sum\": 0.9553462791442872, \"count\": 1, \"min\": 0.9553462791442872, \"max\": 0.9553462791442872}}}\u001b[0m\n",
      "\u001b[34m[09/02/2023 05:46:47 INFO 140628399605568] #quality_metric: host=algo-1, epoch=2, train absolute_loss_objective <loss>=0.8539199733734131\u001b[0m\n",
      "\u001b[34m[09/02/2023 05:46:47 INFO 140628399605568] #early_stopping_criteria_metric: host=algo-1, epoch=2, criteria=absolute_loss_objective, value=0.2049060583114624\u001b[0m\n",
      "\u001b[34m[09/02/2023 05:46:47 INFO 140628399605568] Epoch 2: Loss improved. Updating best model\u001b[0m\n",
      "\u001b[34m[09/02/2023 05:46:47 INFO 140628399605568] Saving model for epoch: 2\u001b[0m\n",
      "\u001b[34m[09/02/2023 05:46:47 INFO 140628399605568] Saved checkpoint to \"/tmp/tmps7u3u0tw/mx-mod-0000.params\"\u001b[0m\n",
      "\u001b[34m[09/02/2023 05:46:47 INFO 140628399605568] #progress_metric: host=algo-1, completed 6.0 % of epochs\u001b[0m\n",
      "\u001b[34m#metrics {\"StartTime\": 1693633607.4494636, \"EndTime\": 1693633607.5499737, \"Dimensions\": {\"Algorithm\": \"Linear Learner\", \"Host\": \"algo-1\", \"Operation\": \"training\", \"epoch\": 2, \"Meta\": \"training_data_iter\"}, \"Metrics\": {\"Total Records Seen\": {\"sum\": 109.0, \"count\": 1, \"min\": 109, \"max\": 109}, \"Total Batches Seen\": {\"sum\": 25.0, \"count\": 1, \"min\": 25, \"max\": 25}, \"Max Records Seen Between Resets\": {\"sum\": 26.0, \"count\": 1, \"min\": 26, \"max\": 26}, \"Max Batches Seen Between Resets\": {\"sum\": 6.0, \"count\": 1, \"min\": 6, \"max\": 6}, \"Reset Count\": {\"sum\": 5.0, \"count\": 1, \"min\": 5, \"max\": 5}, \"Number of Records Since Last Reset\": {\"sum\": 26.0, \"count\": 1, \"min\": 26, \"max\": 26}, \"Number of Batches Since Last Reset\": {\"sum\": 6.0, \"count\": 1, \"min\": 6, \"max\": 6}}}\u001b[0m\n",
      "\u001b[34m[09/02/2023 05:46:47 INFO 140628399605568] #throughput_metric: host=algo-1, train throughput=258.32990794566757 records/second\u001b[0m\n",
      "\u001b[34m[2023-09-02 05:46:47.633] [tensorio] [info] epoch_stats={\"data_pipeline\": \"/opt/ml/input/data/train\", \"epoch\": 10, \"duration\": 83, \"num_examples\": 6, \"num_bytes\": 1248}\u001b[0m\n",
      "\u001b[34m#metrics {\"StartTime\": 1693633607.6337576, \"EndTime\": 1693633607.633826, \"Dimensions\": {\"Algorithm\": \"Linear Learner\", \"Host\": \"algo-1\", \"Operation\": \"training\", \"epoch\": 3, \"model\": 0}, \"Metrics\": {\"train_absolute_loss_objective\": {\"sum\": 0.8342140388488769, \"count\": 1, \"min\": 0.8342140388488769, \"max\": 0.8342140388488769}}}\u001b[0m\n",
      "\u001b[34m#metrics {\"StartTime\": 1693633607.633901, \"EndTime\": 1693633607.6339202, \"Dimensions\": {\"Algorithm\": \"Linear Learner\", \"Host\": \"algo-1\", \"Operation\": \"training\", \"epoch\": 3, \"model\": 1}, \"Metrics\": {\"train_absolute_loss_objective\": {\"sum\": 0.8534461879730224, \"count\": 1, \"min\": 0.8534461879730224, \"max\": 0.8534461879730224}}}\u001b[0m\n",
      "\u001b[34m#metrics {\"StartTime\": 1693633607.6339555, \"EndTime\": 1693633607.6339679, \"Dimensions\": {\"Algorithm\": \"Linear Learner\", \"Host\": \"algo-1\", \"Operation\": \"training\", \"epoch\": 3, \"model\": 2}, \"Metrics\": {\"train_absolute_loss_objective\": {\"sum\": 0.8365735340118409, \"count\": 1, \"min\": 0.8365735340118409, \"max\": 0.8365735340118409}}}\u001b[0m\n",
      "\u001b[34m#metrics {\"StartTime\": 1693633607.634021, \"EndTime\": 1693633607.6340384, \"Dimensions\": {\"Algorithm\": \"Linear Learner\", \"Host\": \"algo-1\", \"Operation\": \"training\", \"epoch\": 3, \"model\": 3}, \"Metrics\": {\"train_absolute_loss_objective\": {\"sum\": 0.8524508094787597, \"count\": 1, \"min\": 0.8524508094787597, \"max\": 0.8524508094787597}}}\u001b[0m\n",
      "\u001b[34m#metrics {\"StartTime\": 1693633607.6340916, \"EndTime\": 1693633607.6341066, \"Dimensions\": {\"Algorithm\": \"Linear Learner\", \"Host\": \"algo-1\", \"Operation\": \"training\", \"epoch\": 3, \"model\": 4}, \"Metrics\": {\"train_absolute_loss_objective\": {\"sum\": 0.31414897918701173, \"count\": 1, \"min\": 0.31414897918701173, \"max\": 0.31414897918701173}}}\u001b[0m\n",
      "\u001b[34m#metrics {\"StartTime\": 1693633607.6341586, \"EndTime\": 1693633607.6341743, \"Dimensions\": {\"Algorithm\": \"Linear Learner\", \"Host\": \"algo-1\", \"Operation\": \"training\", \"epoch\": 3, \"model\": 5}, \"Metrics\": {\"train_absolute_loss_objective\": {\"sum\": 0.3635529947280884, \"count\": 1, \"min\": 0.3635529947280884, \"max\": 0.3635529947280884}}}\u001b[0m\n",
      "\u001b[34m#metrics {\"StartTime\": 1693633607.6342318, \"EndTime\": 1693633607.6342483, \"Dimensions\": {\"Algorithm\": \"Linear Learner\", \"Host\": \"algo-1\", \"Operation\": \"training\", \"epoch\": 3, \"model\": 6}, \"Metrics\": {\"train_absolute_loss_objective\": {\"sum\": 0.2687809681892395, \"count\": 1, \"min\": 0.2687809681892395, \"max\": 0.2687809681892395}}}\u001b[0m\n",
      "\u001b[34m#metrics {\"StartTime\": 1693633607.6343033, \"EndTime\": 1693633607.6343195, \"Dimensions\": {\"Algorithm\": \"Linear Learner\", \"Host\": \"algo-1\", \"Operation\": \"training\", \"epoch\": 3, \"model\": 7}, \"Metrics\": {\"train_absolute_loss_objective\": {\"sum\": 0.2608164286613464, \"count\": 1, \"min\": 0.2608164286613464, \"max\": 0.2608164286613464}}}\u001b[0m\n",
      "\u001b[34m#metrics {\"StartTime\": 1693633607.634365, \"EndTime\": 1693633607.6343756, \"Dimensions\": {\"Algorithm\": \"Linear Learner\", \"Host\": \"algo-1\", \"Operation\": \"training\", \"epoch\": 3, \"model\": 8}, \"Metrics\": {\"train_absolute_loss_objective\": {\"sum\": 0.889181203842163, \"count\": 1, \"min\": 0.889181203842163, \"max\": 0.889181203842163}}}\u001b[0m\n",
      "\u001b[34m#metrics {\"StartTime\": 1693633607.6344345, \"EndTime\": 1693633607.6344519, \"Dimensions\": {\"Algorithm\": \"Linear Learner\", \"Host\": \"algo-1\", \"Operation\": \"training\", \"epoch\": 3, \"model\": 9}, \"Metrics\": {\"train_absolute_loss_objective\": {\"sum\": 0.8222057723999023, \"count\": 1, \"min\": 0.8222057723999023, \"max\": 0.8222057723999023}}}\u001b[0m\n",
      "\u001b[34m#metrics {\"StartTime\": 1693633607.6345046, \"EndTime\": 1693633607.6345203, \"Dimensions\": {\"Algorithm\": \"Linear Learner\", \"Host\": \"algo-1\", \"Operation\": \"training\", \"epoch\": 3, \"model\": 10}, \"Metrics\": {\"train_absolute_loss_objective\": {\"sum\": 0.8290045166015625, \"count\": 1, \"min\": 0.8290045166015625, \"max\": 0.8290045166015625}}}\u001b[0m\n",
      "\u001b[34m#metrics {\"StartTime\": 1693633607.6345747, \"EndTime\": 1693633607.6345901, \"Dimensions\": {\"Algorithm\": \"Linear Learner\", \"Host\": \"algo-1\", \"Operation\": \"training\", \"epoch\": 3, \"model\": 11}, \"Metrics\": {\"train_absolute_loss_objective\": {\"sum\": 0.814267988204956, \"count\": 1, \"min\": 0.814267988204956, \"max\": 0.814267988204956}}}\u001b[0m\n",
      "\u001b[34m#metrics {\"StartTime\": 1693633607.6346383, \"EndTime\": 1693633607.634648, \"Dimensions\": {\"Algorithm\": \"Linear Learner\", \"Host\": \"algo-1\", \"Operation\": \"training\", \"epoch\": 3, \"model\": 12}, \"Metrics\": {\"train_absolute_loss_objective\": {\"sum\": 0.3568351459503174, \"count\": 1, \"min\": 0.3568351459503174, \"max\": 0.3568351459503174}}}\u001b[0m\n",
      "\u001b[34m#metrics {\"StartTime\": 1693633607.6346984, \"EndTime\": 1693633607.634714, \"Dimensions\": {\"Algorithm\": \"Linear Learner\", \"Host\": \"algo-1\", \"Operation\": \"training\", \"epoch\": 3, \"model\": 13}, \"Metrics\": {\"train_absolute_loss_objective\": {\"sum\": 0.2821480083465576, \"count\": 1, \"min\": 0.2821480083465576, \"max\": 0.2821480083465576}}}\u001b[0m\n",
      "\u001b[34m#metrics {\"StartTime\": 1693633607.6347685, \"EndTime\": 1693633607.6347837, \"Dimensions\": {\"Algorithm\": \"Linear Learner\", \"Host\": \"algo-1\", \"Operation\": \"training\", \"epoch\": 3, \"model\": 14}, \"Metrics\": {\"train_absolute_loss_objective\": {\"sum\": 0.3578291130065918, \"count\": 1, \"min\": 0.3578291130065918, \"max\": 0.3578291130065918}}}\u001b[0m\n",
      "\u001b[34m#metrics {\"StartTime\": 1693633607.6348162, \"EndTime\": 1693633607.6348245, \"Dimensions\": {\"Algorithm\": \"Linear Learner\", \"Host\": \"algo-1\", \"Operation\": \"training\", \"epoch\": 3, \"model\": 15}, \"Metrics\": {\"train_absolute_loss_objective\": {\"sum\": 0.27656748533248904, \"count\": 1, \"min\": 0.27656748533248904, \"max\": 0.27656748533248904}}}\u001b[0m\n",
      "\u001b[34m#metrics {\"StartTime\": 1693633607.6348498, \"EndTime\": 1693633607.6348608, \"Dimensions\": {\"Algorithm\": \"Linear Learner\", \"Host\": \"algo-1\", \"Operation\": \"training\", \"epoch\": 3, \"model\": 16}, \"Metrics\": {\"train_absolute_loss_objective\": {\"sum\": 0.7998909378051757, \"count\": 1, \"min\": 0.7998909378051757, \"max\": 0.7998909378051757}}}\u001b[0m\n",
      "\u001b[34m#metrics {\"StartTime\": 1693633607.6348972, \"EndTime\": 1693633607.6349058, \"Dimensions\": {\"Algorithm\": \"Linear Learner\", \"Host\": \"algo-1\", \"Operation\": \"training\", \"epoch\": 3, \"model\": 17}, \"Metrics\": {\"train_absolute_loss_objective\": {\"sum\": 0.8492291831970215, \"count\": 1, \"min\": 0.8492291831970215, \"max\": 0.8492291831970215}}}\u001b[0m\n",
      "\u001b[34m#metrics {\"StartTime\": 1693633607.634929, \"EndTime\": 1693633607.6349359, \"Dimensions\": {\"Algorithm\": \"Linear Learner\", \"Host\": \"algo-1\", \"Operation\": \"training\", \"epoch\": 3, \"model\": 18}, \"Metrics\": {\"train_absolute_loss_objective\": {\"sum\": 0.8260589504241943, \"count\": 1, \"min\": 0.8260589504241943, \"max\": 0.8260589504241943}}}\u001b[0m\n",
      "\u001b[34m#metrics {\"StartTime\": 1693633607.6349783, \"EndTime\": 1693633607.634994, \"Dimensions\": {\"Algorithm\": \"Linear Learner\", \"Host\": \"algo-1\", \"Operation\": \"training\", \"epoch\": 3, \"model\": 19}, \"Metrics\": {\"train_absolute_loss_objective\": {\"sum\": 0.823205156326294, \"count\": 1, \"min\": 0.823205156326294, \"max\": 0.823205156326294}}}\u001b[0m\n",
      "\u001b[34m#metrics {\"StartTime\": 1693633607.6350253, \"EndTime\": 1693633607.6350331, \"Dimensions\": {\"Algorithm\": \"Linear Learner\", \"Host\": \"algo-1\", \"Operation\": \"training\", \"epoch\": 3, \"model\": 20}, \"Metrics\": {\"train_absolute_loss_objective\": {\"sum\": 0.24406072616577149, \"count\": 1, \"min\": 0.24406072616577149, \"max\": 0.24406072616577149}}}\u001b[0m\n",
      "\u001b[34m#metrics {\"StartTime\": 1693633607.6350558, \"EndTime\": 1693633607.6350656, \"Dimensions\": {\"Algorithm\": \"Linear Learner\", \"Host\": \"algo-1\", \"Operation\": \"training\", \"epoch\": 3, \"model\": 21}, \"Metrics\": {\"train_absolute_loss_objective\": {\"sum\": 0.27885071516036986, \"count\": 1, \"min\": 0.27885071516036986, \"max\": 0.27885071516036986}}}\u001b[0m\n",
      "\u001b[34m#metrics {\"StartTime\": 1693633607.6351075, \"EndTime\": 1693633607.6351168, \"Dimensions\": {\"Algorithm\": \"Linear Learner\", \"Host\": \"algo-1\", \"Operation\": \"training\", \"epoch\": 3, \"model\": 22}, \"Metrics\": {\"train_absolute_loss_objective\": {\"sum\": 0.2402626419067383, \"count\": 1, \"min\": 0.2402626419067383, \"max\": 0.2402626419067383}}}\u001b[0m\n",
      "\u001b[34m#metrics {\"StartTime\": 1693633607.6351595, \"EndTime\": 1693633607.6351738, \"Dimensions\": {\"Algorithm\": \"Linear Learner\", \"Host\": \"algo-1\", \"Operation\": \"training\", \"epoch\": 3, \"model\": 23}, \"Metrics\": {\"train_absolute_loss_objective\": {\"sum\": 0.2789747738838196, \"count\": 1, \"min\": 0.2789747738838196, \"max\": 0.2789747738838196}}}\u001b[0m\n",
      "\u001b[34m#metrics {\"StartTime\": 1693633607.6352198, \"EndTime\": 1693633607.6352346, \"Dimensions\": {\"Algorithm\": \"Linear Learner\", \"Host\": \"algo-1\", \"Operation\": \"training\", \"epoch\": 3, \"model\": 24}, \"Metrics\": {\"train_absolute_loss_objective\": {\"sum\": 0.9085028457641602, \"count\": 1, \"min\": 0.9085028457641602, \"max\": 0.9085028457641602}}}\u001b[0m\n",
      "\u001b[34m#metrics {\"StartTime\": 1693633607.6352732, \"EndTime\": 1693633607.6352878, \"Dimensions\": {\"Algorithm\": \"Linear Learner\", \"Host\": \"algo-1\", \"Operation\": \"training\", \"epoch\": 3, \"model\": 25}, \"Metrics\": {\"train_absolute_loss_objective\": {\"sum\": 0.889655990600586, \"count\": 1, \"min\": 0.889655990600586, \"max\": 0.889655990600586}}}\u001b[0m\n",
      "\u001b[34m#metrics {\"StartTime\": 1693633607.6353326, \"EndTime\": 1693633607.635348, \"Dimensions\": {\"Algorithm\": \"Linear Learner\", \"Host\": \"algo-1\", \"Operation\": \"training\", \"epoch\": 3, \"model\": 26}, \"Metrics\": {\"train_absolute_loss_objective\": {\"sum\": 0.8972080516815185, \"count\": 1, \"min\": 0.8972080516815185, \"max\": 0.8972080516815185}}}\u001b[0m\n",
      "\u001b[34m#metrics {\"StartTime\": 1693633607.6353934, \"EndTime\": 1693633607.635409, \"Dimensions\": {\"Algorithm\": \"Linear Learner\", \"Host\": \"algo-1\", \"Operation\": \"training\", \"epoch\": 3, \"model\": 27}, \"Metrics\": {\"train_absolute_loss_objective\": {\"sum\": 0.9021474170684814, \"count\": 1, \"min\": 0.9021474170684814, \"max\": 0.9021474170684814}}}\u001b[0m\n",
      "\u001b[34m#metrics {\"StartTime\": 1693633607.6354606, \"EndTime\": 1693633607.635477, \"Dimensions\": {\"Algorithm\": \"Linear Learner\", \"Host\": \"algo-1\", \"Operation\": \"training\", \"epoch\": 3, \"model\": 28}, \"Metrics\": {\"train_absolute_loss_objective\": {\"sum\": 0.9444305801391601, \"count\": 1, \"min\": 0.9444305801391601, \"max\": 0.9444305801391601}}}\u001b[0m\n",
      "\u001b[34m#metrics {\"StartTime\": 1693633607.6355302, \"EndTime\": 1693633607.6355464, \"Dimensions\": {\"Algorithm\": \"Linear Learner\", \"Host\": \"algo-1\", \"Operation\": \"training\", \"epoch\": 3, \"model\": 29}, \"Metrics\": {\"train_absolute_loss_objective\": {\"sum\": 0.9449203014373779, \"count\": 1, \"min\": 0.9449203014373779, \"max\": 0.9449203014373779}}}\u001b[0m\n",
      "\u001b[34m#metrics {\"StartTime\": 1693633607.6355977, \"EndTime\": 1693633607.6356134, \"Dimensions\": {\"Algorithm\": \"Linear Learner\", \"Host\": \"algo-1\", \"Operation\": \"training\", \"epoch\": 3, \"model\": 30}, \"Metrics\": {\"train_absolute_loss_objective\": {\"sum\": 0.9653081130981446, \"count\": 1, \"min\": 0.9653081130981446, \"max\": 0.9653081130981446}}}\u001b[0m\n",
      "\u001b[34m#metrics {\"StartTime\": 1693633607.6356606, \"EndTime\": 1693633607.6356757, \"Dimensions\": {\"Algorithm\": \"Linear Learner\", \"Host\": \"algo-1\", \"Operation\": \"training\", \"epoch\": 3, \"model\": 31}, \"Metrics\": {\"train_absolute_loss_objective\": {\"sum\": 0.9487025928497315, \"count\": 1, \"min\": 0.9487025928497315, \"max\": 0.9487025928497315}}}\u001b[0m\n",
      "\u001b[34m[09/02/2023 05:46:47 INFO 140628399605568] #quality_metric: host=algo-1, epoch=3, train absolute_loss_objective <loss>=0.8342140388488769\u001b[0m\n",
      "\u001b[34m[09/02/2023 05:46:47 INFO 140628399605568] #early_stopping_criteria_metric: host=algo-1, epoch=3, criteria=absolute_loss_objective, value=0.2402626419067383\u001b[0m\n",
      "\u001b[34m[09/02/2023 05:46:47 INFO 140628399605568] Saving model for epoch: 3\u001b[0m\n",
      "\u001b[34m[09/02/2023 05:46:47 INFO 140628399605568] Saved checkpoint to \"/tmp/tmpmoykrkjf/mx-mod-0000.params\"\u001b[0m\n",
      "\u001b[34m[09/02/2023 05:46:47 INFO 140628399605568] #progress_metric: host=algo-1, completed 8.0 % of epochs\u001b[0m\n",
      "\u001b[34m#metrics {\"StartTime\": 1693633607.55026, \"EndTime\": 1693633607.6424067, \"Dimensions\": {\"Algorithm\": \"Linear Learner\", \"Host\": \"algo-1\", \"Operation\": \"training\", \"epoch\": 3, \"Meta\": \"training_data_iter\"}, \"Metrics\": {\"Total Records Seen\": {\"sum\": 135.0, \"count\": 1, \"min\": 135, \"max\": 135}, \"Total Batches Seen\": {\"sum\": 31.0, \"count\": 1, \"min\": 31, \"max\": 31}, \"Max Records Seen Between Resets\": {\"sum\": 26.0, \"count\": 1, \"min\": 26, \"max\": 26}, \"Max Batches Seen Between Resets\": {\"sum\": 6.0, \"count\": 1, \"min\": 6, \"max\": 6}, \"Reset Count\": {\"sum\": 6.0, \"count\": 1, \"min\": 6, \"max\": 6}, \"Number of Records Since Last Reset\": {\"sum\": 26.0, \"count\": 1, \"min\": 26, \"max\": 26}, \"Number of Batches Since Last Reset\": {\"sum\": 6.0, \"count\": 1, \"min\": 6, \"max\": 6}}}\u001b[0m\n",
      "\u001b[34m[09/02/2023 05:46:47 INFO 140628399605568] #throughput_metric: host=algo-1, train throughput=281.8235487180547 records/second\u001b[0m\n",
      "\u001b[34m[2023-09-02 05:46:47.726] [tensorio] [info] epoch_stats={\"data_pipeline\": \"/opt/ml/input/data/train\", \"epoch\": 12, \"duration\": 83, \"num_examples\": 6, \"num_bytes\": 1248}\u001b[0m\n",
      "\u001b[34m#metrics {\"StartTime\": 1693633607.7267241, \"EndTime\": 1693633607.726791, \"Dimensions\": {\"Algorithm\": \"Linear Learner\", \"Host\": \"algo-1\", \"Operation\": \"training\", \"epoch\": 4, \"model\": 0}, \"Metrics\": {\"train_absolute_loss_objective\": {\"sum\": 0.8146057987213134, \"count\": 1, \"min\": 0.8146057987213134, \"max\": 0.8146057987213134}}}\u001b[0m\n",
      "\u001b[34m#metrics {\"StartTime\": 1693633607.7268603, \"EndTime\": 1693633607.7268786, \"Dimensions\": {\"Algorithm\": \"Linear Learner\", \"Host\": \"algo-1\", \"Operation\": \"training\", \"epoch\": 4, \"model\": 1}, \"Metrics\": {\"train_absolute_loss_objective\": {\"sum\": 0.8335821723937988, \"count\": 1, \"min\": 0.8335821723937988, \"max\": 0.8335821723937988}}}\u001b[0m\n",
      "\u001b[34m#metrics {\"StartTime\": 1693633607.7269452, \"EndTime\": 1693633607.7269642, \"Dimensions\": {\"Algorithm\": \"Linear Learner\", \"Host\": \"algo-1\", \"Operation\": \"training\", \"epoch\": 4, \"model\": 2}, \"Metrics\": {\"train_absolute_loss_objective\": {\"sum\": 0.8169652652740479, \"count\": 1, \"min\": 0.8169652652740479, \"max\": 0.8169652652740479}}}\u001b[0m\n",
      "\u001b[34m#metrics {\"StartTime\": 1693633607.7270243, \"EndTime\": 1693633607.7270415, \"Dimensions\": {\"Algorithm\": \"Linear Learner\", \"Host\": \"algo-1\", \"Operation\": \"training\", \"epoch\": 4, \"model\": 3}, \"Metrics\": {\"train_absolute_loss_objective\": {\"sum\": 0.8325867938995362, \"count\": 1, \"min\": 0.8325867938995362, \"max\": 0.8325867938995362}}}\u001b[0m\n",
      "\u001b[34m#metrics {\"StartTime\": 1693633607.7271037, \"EndTime\": 1693633607.727121, \"Dimensions\": {\"Algorithm\": \"Linear Learner\", \"Host\": \"algo-1\", \"Operation\": \"training\", \"epoch\": 4, \"model\": 4}, \"Metrics\": {\"train_absolute_loss_objective\": {\"sum\": 0.30387056827545167, \"count\": 1, \"min\": 0.30387056827545167, \"max\": 0.30387056827545167}}}\u001b[0m\n",
      "\u001b[34m#metrics {\"StartTime\": 1693633607.7271698, \"EndTime\": 1693633607.7271857, \"Dimensions\": {\"Algorithm\": \"Linear Learner\", \"Host\": \"algo-1\", \"Operation\": \"training\", \"epoch\": 4, \"model\": 5}, \"Metrics\": {\"train_absolute_loss_objective\": {\"sum\": 0.3425337266921997, \"count\": 1, \"min\": 0.3425337266921997, \"max\": 0.3425337266921997}}}\u001b[0m\n",
      "\u001b[34m#metrics {\"StartTime\": 1693633607.727245, \"EndTime\": 1693633607.7272615, \"Dimensions\": {\"Algorithm\": \"Linear Learner\", \"Host\": \"algo-1\", \"Operation\": \"training\", \"epoch\": 4, \"model\": 6}, \"Metrics\": {\"train_absolute_loss_objective\": {\"sum\": 0.24694702744483948, \"count\": 1, \"min\": 0.24694702744483948, \"max\": 0.24694702744483948}}}\u001b[0m\n",
      "\u001b[34m#metrics {\"StartTime\": 1693633607.7273123, \"EndTime\": 1693633607.7273288, \"Dimensions\": {\"Algorithm\": \"Linear Learner\", \"Host\": \"algo-1\", \"Operation\": \"training\", \"epoch\": 4, \"model\": 7}, \"Metrics\": {\"train_absolute_loss_objective\": {\"sum\": 0.32202630043029784, \"count\": 1, \"min\": 0.32202630043029784, \"max\": 0.32202630043029784}}}\u001b[0m\n",
      "\u001b[34m#metrics {\"StartTime\": 1693633607.7273917, \"EndTime\": 1693633607.7274086, \"Dimensions\": {\"Algorithm\": \"Linear Learner\", \"Host\": \"algo-1\", \"Operation\": \"training\", \"epoch\": 4, \"model\": 8}, \"Metrics\": {\"train_absolute_loss_objective\": {\"sum\": 0.8697083663940429, \"count\": 1, \"min\": 0.8697083663940429, \"max\": 0.8697083663940429}}}\u001b[0m\n",
      "\u001b[34m#metrics {\"StartTime\": 1693633607.7274597, \"EndTime\": 1693633607.7274761, \"Dimensions\": {\"Algorithm\": \"Linear Learner\", \"Host\": \"algo-1\", \"Operation\": \"training\", \"epoch\": 4, \"model\": 9}, \"Metrics\": {\"train_absolute_loss_objective\": {\"sum\": 0.8023471832275391, \"count\": 1, \"min\": 0.8023471832275391, \"max\": 0.8023471832275391}}}\u001b[0m\n",
      "\u001b[34m#metrics {\"StartTime\": 1693633607.7275379, \"EndTime\": 1693633607.7275548, \"Dimensions\": {\"Algorithm\": \"Linear Learner\", \"Host\": \"algo-1\", \"Operation\": \"training\", \"epoch\": 4, \"model\": 10}, \"Metrics\": {\"train_absolute_loss_objective\": {\"sum\": 0.8094013214111329, \"count\": 1, \"min\": 0.8094013214111329, \"max\": 0.8094013214111329}}}\u001b[0m\n",
      "\u001b[34m#metrics {\"StartTime\": 1693633607.7276058, \"EndTime\": 1693633607.727622, \"Dimensions\": {\"Algorithm\": \"Linear Learner\", \"Host\": \"algo-1\", \"Operation\": \"training\", \"epoch\": 4, \"model\": 11}, \"Metrics\": {\"train_absolute_loss_objective\": {\"sum\": 0.7944097328186035, \"count\": 1, \"min\": 0.7944097328186035, \"max\": 0.7944097328186035}}}\u001b[0m\n",
      "\u001b[34m#metrics {\"StartTime\": 1693633607.7276783, \"EndTime\": 1693633607.727694, \"Dimensions\": {\"Algorithm\": \"Linear Learner\", \"Host\": \"algo-1\", \"Operation\": \"training\", \"epoch\": 4, \"model\": 12}, \"Metrics\": {\"train_absolute_loss_objective\": {\"sum\": 0.332435736656189, \"count\": 1, \"min\": 0.332435736656189, \"max\": 0.332435736656189}}}\u001b[0m\n",
      "\u001b[34m#metrics {\"StartTime\": 1693633607.727743, \"EndTime\": 1693633607.7277584, \"Dimensions\": {\"Algorithm\": \"Linear Learner\", \"Host\": \"algo-1\", \"Operation\": \"training\", \"epoch\": 4, \"model\": 13}, \"Metrics\": {\"train_absolute_loss_objective\": {\"sum\": 0.29514299631118773, \"count\": 1, \"min\": 0.29514299631118773, \"max\": 0.29514299631118773}}}\u001b[0m\n",
      "\u001b[34m#metrics {\"StartTime\": 1693633607.727811, \"EndTime\": 1693633607.7278285, \"Dimensions\": {\"Algorithm\": \"Linear Learner\", \"Host\": \"algo-1\", \"Operation\": \"training\", \"epoch\": 4, \"model\": 14}, \"Metrics\": {\"train_absolute_loss_objective\": {\"sum\": 0.3333336639404297, \"count\": 1, \"min\": 0.3333336639404297, \"max\": 0.3333336639404297}}}\u001b[0m\n",
      "\u001b[34m#metrics {\"StartTime\": 1693633607.7278771, \"EndTime\": 1693633607.7278922, \"Dimensions\": {\"Algorithm\": \"Linear Learner\", \"Host\": \"algo-1\", \"Operation\": \"training\", \"epoch\": 4, \"model\": 15}, \"Metrics\": {\"train_absolute_loss_objective\": {\"sum\": 0.3263541150093079, \"count\": 1, \"min\": 0.3263541150093079, \"max\": 0.3263541150093079}}}\u001b[0m\n",
      "\u001b[34m#metrics {\"StartTime\": 1693633607.7279513, \"EndTime\": 1693633607.7279685, \"Dimensions\": {\"Algorithm\": \"Linear Learner\", \"Host\": \"algo-1\", \"Operation\": \"training\", \"epoch\": 4, \"model\": 16}, \"Metrics\": {\"train_absolute_loss_objective\": {\"sum\": 0.7809810161590576, \"count\": 1, \"min\": 0.7809810161590576, \"max\": 0.7809810161590576}}}\u001b[0m\n",
      "\u001b[34m#metrics {\"StartTime\": 1693633607.7280233, \"EndTime\": 1693633607.7280412, \"Dimensions\": {\"Algorithm\": \"Linear Learner\", \"Host\": \"algo-1\", \"Operation\": \"training\", \"epoch\": 4, \"model\": 17}, \"Metrics\": {\"train_absolute_loss_objective\": {\"sum\": 0.8298413181304931, \"count\": 1, \"min\": 0.8298413181304931, \"max\": 0.8298413181304931}}}\u001b[0m\n",
      "\u001b[34m#metrics {\"StartTime\": 1693633607.7281008, \"EndTime\": 1693633607.7281182, \"Dimensions\": {\"Algorithm\": \"Linear Learner\", \"Host\": \"algo-1\", \"Operation\": \"training\", \"epoch\": 4, \"model\": 18}, \"Metrics\": {\"train_absolute_loss_objective\": {\"sum\": 0.8070217895507813, \"count\": 1, \"min\": 0.8070217895507813, \"max\": 0.8070217895507813}}}\u001b[0m\n",
      "\u001b[34m#metrics {\"StartTime\": 1693633607.7281828, \"EndTime\": 1693633607.7282, \"Dimensions\": {\"Algorithm\": \"Linear Learner\", \"Host\": \"algo-1\", \"Operation\": \"training\", \"epoch\": 4, \"model\": 19}, \"Metrics\": {\"train_absolute_loss_objective\": {\"sum\": 0.8039353466033936, \"count\": 1, \"min\": 0.8039353466033936, \"max\": 0.8039353466033936}}}\u001b[0m\n",
      "\u001b[34m#metrics {\"StartTime\": 1693633607.7282603, \"EndTime\": 1693633607.728277, \"Dimensions\": {\"Algorithm\": \"Linear Learner\", \"Host\": \"algo-1\", \"Operation\": \"training\", \"epoch\": 4, \"model\": 20}, \"Metrics\": {\"train_absolute_loss_objective\": {\"sum\": 0.3115904951095581, \"count\": 1, \"min\": 0.3115904951095581, \"max\": 0.3115904951095581}}}\u001b[0m\n",
      "\u001b[34m#metrics {\"StartTime\": 1693633607.7283387, \"EndTime\": 1693633607.7283556, \"Dimensions\": {\"Algorithm\": \"Linear Learner\", \"Host\": \"algo-1\", \"Operation\": \"training\", \"epoch\": 4, \"model\": 21}, \"Metrics\": {\"train_absolute_loss_objective\": {\"sum\": 0.3421902847290039, \"count\": 1, \"min\": 0.3421902847290039, \"max\": 0.3421902847290039}}}\u001b[0m\n",
      "\u001b[34m#metrics {\"StartTime\": 1693633607.7284198, \"EndTime\": 1693633607.7284367, \"Dimensions\": {\"Algorithm\": \"Linear Learner\", \"Host\": \"algo-1\", \"Operation\": \"training\", \"epoch\": 4, \"model\": 22}, \"Metrics\": {\"train_absolute_loss_objective\": {\"sum\": 0.29204501152038576, \"count\": 1, \"min\": 0.29204501152038576, \"max\": 0.29204501152038576}}}\u001b[0m\n",
      "\u001b[34m#metrics {\"StartTime\": 1693633607.7285168, \"EndTime\": 1693633607.7285378, \"Dimensions\": {\"Algorithm\": \"Linear Learner\", \"Host\": \"algo-1\", \"Operation\": \"training\", \"epoch\": 4, \"model\": 23}, \"Metrics\": {\"train_absolute_loss_objective\": {\"sum\": 0.3316446542739868, \"count\": 1, \"min\": 0.3316446542739868, \"max\": 0.3316446542739868}}}\u001b[0m\n",
      "\u001b[34m#metrics {\"StartTime\": 1693633607.7286196, \"EndTime\": 1693633607.728637, \"Dimensions\": {\"Algorithm\": \"Linear Learner\", \"Host\": \"algo-1\", \"Operation\": \"training\", \"epoch\": 4, \"model\": 24}, \"Metrics\": {\"train_absolute_loss_objective\": {\"sum\": 0.9120406627655029, \"count\": 1, \"min\": 0.9120406627655029, \"max\": 0.9120406627655029}}}\u001b[0m\n",
      "\u001b[34m#metrics {\"StartTime\": 1693633607.728684, \"EndTime\": 1693633607.7287006, \"Dimensions\": {\"Algorithm\": \"Linear Learner\", \"Host\": \"algo-1\", \"Operation\": \"training\", \"epoch\": 4, \"model\": 25}, \"Metrics\": {\"train_absolute_loss_objective\": {\"sum\": 0.8933376407623291, \"count\": 1, \"min\": 0.8933376407623291, \"max\": 0.8933376407623291}}}\u001b[0m\n",
      "\u001b[34m#metrics {\"StartTime\": 1693633607.728741, \"EndTime\": 1693633607.7287552, \"Dimensions\": {\"Algorithm\": \"Linear Learner\", \"Host\": \"algo-1\", \"Operation\": \"training\", \"epoch\": 4, \"model\": 26}, \"Metrics\": {\"train_absolute_loss_objective\": {\"sum\": 0.9036842823028565, \"count\": 1, \"min\": 0.9036842823028565, \"max\": 0.9036842823028565}}}\u001b[0m\n",
      "\u001b[34m#metrics {\"StartTime\": 1693633607.72881, \"EndTime\": 1693633607.7288275, \"Dimensions\": {\"Algorithm\": \"Linear Learner\", \"Host\": \"algo-1\", \"Operation\": \"training\", \"epoch\": 4, \"model\": 27}, \"Metrics\": {\"train_absolute_loss_objective\": {\"sum\": 0.9000548267364502, \"count\": 1, \"min\": 0.9000548267364502, \"max\": 0.9000548267364502}}}\u001b[0m\n",
      "\u001b[34m#metrics {\"StartTime\": 1693633607.728884, \"EndTime\": 1693633607.728901, \"Dimensions\": {\"Algorithm\": \"Linear Learner\", \"Host\": \"algo-1\", \"Operation\": \"training\", \"epoch\": 4, \"model\": 28}, \"Metrics\": {\"train_absolute_loss_objective\": {\"sum\": 0.9237017822265625, \"count\": 1, \"min\": 0.9237017822265625, \"max\": 0.9237017822265625}}}\u001b[0m\n",
      "\u001b[34m#metrics {\"StartTime\": 1693633607.728958, \"EndTime\": 1693633607.7289746, \"Dimensions\": {\"Algorithm\": \"Linear Learner\", \"Host\": \"algo-1\", \"Operation\": \"training\", \"epoch\": 4, \"model\": 29}, \"Metrics\": {\"train_absolute_loss_objective\": {\"sum\": 0.9245404624938964, \"count\": 1, \"min\": 0.9245404624938964, \"max\": 0.9245404624938964}}}\u001b[0m\n",
      "\u001b[34m#metrics {\"StartTime\": 1693633607.729027, \"EndTime\": 1693633607.7290432, \"Dimensions\": {\"Algorithm\": \"Linear Learner\", \"Host\": \"algo-1\", \"Operation\": \"training\", \"epoch\": 4, \"model\": 30}, \"Metrics\": {\"train_absolute_loss_objective\": {\"sum\": 0.9093102073669433, \"count\": 1, \"min\": 0.9093102073669433, \"max\": 0.9093102073669433}}}\u001b[0m\n",
      "\u001b[34m#metrics {\"StartTime\": 1693633607.7290957, \"EndTime\": 1693633607.729111, \"Dimensions\": {\"Algorithm\": \"Linear Learner\", \"Host\": \"algo-1\", \"Operation\": \"training\", \"epoch\": 4, \"model\": 31}, \"Metrics\": {\"train_absolute_loss_objective\": {\"sum\": 0.919789752960205, \"count\": 1, \"min\": 0.919789752960205, \"max\": 0.919789752960205}}}\u001b[0m\n",
      "\u001b[34m[09/02/2023 05:46:47 INFO 140628399605568] #quality_metric: host=algo-1, epoch=4, train absolute_loss_objective <loss>=0.8146057987213134\u001b[0m\n",
      "\u001b[34m[09/02/2023 05:46:47 INFO 140628399605568] #early_stopping_criteria_metric: host=algo-1, epoch=4, criteria=absolute_loss_objective, value=0.24694702744483948\u001b[0m\n",
      "\u001b[34m[09/02/2023 05:46:47 INFO 140628399605568] Saving model for epoch: 4\u001b[0m\n",
      "\u001b[34m[09/02/2023 05:46:47 INFO 140628399605568] Saved checkpoint to \"/tmp/tmprbi_jdhs/mx-mod-0000.params\"\u001b[0m\n",
      "\u001b[34m[09/02/2023 05:46:47 INFO 140628399605568] #progress_metric: host=algo-1, completed 10.0 % of epochs\u001b[0m\n",
      "\u001b[34m#metrics {\"StartTime\": 1693633607.642663, \"EndTime\": 1693633607.735513, \"Dimensions\": {\"Algorithm\": \"Linear Learner\", \"Host\": \"algo-1\", \"Operation\": \"training\", \"epoch\": 4, \"Meta\": \"training_data_iter\"}, \"Metrics\": {\"Total Records Seen\": {\"sum\": 161.0, \"count\": 1, \"min\": 161, \"max\": 161}, \"Total Batches Seen\": {\"sum\": 37.0, \"count\": 1, \"min\": 37, \"max\": 37}, \"Max Records Seen Between Resets\": {\"sum\": 26.0, \"count\": 1, \"min\": 26, \"max\": 26}, \"Max Batches Seen Between Resets\": {\"sum\": 6.0, \"count\": 1, \"min\": 6, \"max\": 6}, \"Reset Count\": {\"sum\": 7.0, \"count\": 1, \"min\": 7, \"max\": 7}, \"Number of Records Since Last Reset\": {\"sum\": 26.0, \"count\": 1, \"min\": 26, \"max\": 26}, \"Number of Batches Since Last Reset\": {\"sum\": 6.0, \"count\": 1, \"min\": 6, \"max\": 6}}}\u001b[0m\n",
      "\u001b[34m[09/02/2023 05:46:47 INFO 140628399605568] #throughput_metric: host=algo-1, train throughput=279.66329178848025 records/second\u001b[0m\n",
      "\u001b[34m[2023-09-02 05:46:47.833] [tensorio] [info] epoch_stats={\"data_pipeline\": \"/opt/ml/input/data/train\", \"epoch\": 14, \"duration\": 97, \"num_examples\": 6, \"num_bytes\": 1248}\u001b[0m\n",
      "\u001b[34m#metrics {\"StartTime\": 1693633607.8336027, \"EndTime\": 1693633607.8336666, \"Dimensions\": {\"Algorithm\": \"Linear Learner\", \"Host\": \"algo-1\", \"Operation\": \"training\", \"epoch\": 5, \"model\": 0}, \"Metrics\": {\"train_absolute_loss_objective\": {\"sum\": 0.7940724182128907, \"count\": 1, \"min\": 0.7940724182128907, \"max\": 0.7940724182128907}}}\u001b[0m\n",
      "\u001b[34m#metrics {\"StartTime\": 1693633607.8337307, \"EndTime\": 1693633607.8337488, \"Dimensions\": {\"Algorithm\": \"Linear Learner\", \"Host\": \"algo-1\", \"Operation\": \"training\", \"epoch\": 5, \"model\": 1}, \"Metrics\": {\"train_absolute_loss_objective\": {\"sum\": 0.8131902980804443, \"count\": 1, \"min\": 0.8131902980804443, \"max\": 0.8131902980804443}}}\u001b[0m\n",
      "\u001b[34m#metrics {\"StartTime\": 1693633607.833794, \"EndTime\": 1693633607.8338096, \"Dimensions\": {\"Algorithm\": \"Linear Learner\", \"Host\": \"algo-1\", \"Operation\": \"training\", \"epoch\": 5, \"model\": 2}, \"Metrics\": {\"train_absolute_loss_objective\": {\"sum\": 0.7965030193328857, \"count\": 1, \"min\": 0.7965030193328857, \"max\": 0.7965030193328857}}}\u001b[0m\n",
      "\u001b[34m#metrics {\"StartTime\": 1693633607.8338656, \"EndTime\": 1693633607.8338826, \"Dimensions\": {\"Algorithm\": \"Linear Learner\", \"Host\": \"algo-1\", \"Operation\": \"training\", \"epoch\": 5, \"model\": 3}, \"Metrics\": {\"train_absolute_loss_objective\": {\"sum\": 0.812164888381958, \"count\": 1, \"min\": 0.812164888381958, \"max\": 0.812164888381958}}}\u001b[0m\n",
      "\u001b[34m#metrics {\"StartTime\": 1693633607.8339376, \"EndTime\": 1693633607.833954, \"Dimensions\": {\"Algorithm\": \"Linear Learner\", \"Host\": \"algo-1\", \"Operation\": \"training\", \"epoch\": 5, \"model\": 4}, \"Metrics\": {\"train_absolute_loss_objective\": {\"sum\": 0.24009905576705934, \"count\": 1, \"min\": 0.24009905576705934, \"max\": 0.24009905576705934}}}\u001b[0m\n",
      "\u001b[34m#metrics {\"StartTime\": 1693633607.8340077, \"EndTime\": 1693633607.8340237, \"Dimensions\": {\"Algorithm\": \"Linear Learner\", \"Host\": \"algo-1\", \"Operation\": \"training\", \"epoch\": 5, \"model\": 5}, \"Metrics\": {\"train_absolute_loss_objective\": {\"sum\": 0.20393304347991945, \"count\": 1, \"min\": 0.20393304347991945, \"max\": 0.20393304347991945}}}\u001b[0m\n",
      "\u001b[34m#metrics {\"StartTime\": 1693633607.8340735, \"EndTime\": 1693633607.8340902, \"Dimensions\": {\"Algorithm\": \"Linear Learner\", \"Host\": \"algo-1\", \"Operation\": \"training\", \"epoch\": 5, \"model\": 6}, \"Metrics\": {\"train_absolute_loss_objective\": {\"sum\": 0.19663942813873292, \"count\": 1, \"min\": 0.19663942813873292, \"max\": 0.19663942813873292}}}\u001b[0m\n",
      "\u001b[34m#metrics {\"StartTime\": 1693633607.8341296, \"EndTime\": 1693633607.834143, \"Dimensions\": {\"Algorithm\": \"Linear Learner\", \"Host\": \"algo-1\", \"Operation\": \"training\", \"epoch\": 5, \"model\": 7}, \"Metrics\": {\"train_absolute_loss_objective\": {\"sum\": 0.3149174857139587, \"count\": 1, \"min\": 0.3149174857139587, \"max\": 0.3149174857139587}}}\u001b[0m\n",
      "\u001b[34m#metrics {\"StartTime\": 1693633607.8341904, \"EndTime\": 1693633607.834206, \"Dimensions\": {\"Algorithm\": \"Linear Learner\", \"Host\": \"algo-1\", \"Operation\": \"training\", \"epoch\": 5, \"model\": 8}, \"Metrics\": {\"train_absolute_loss_objective\": {\"sum\": 0.849628028869629, \"count\": 1, \"min\": 0.849628028869629, \"max\": 0.849628028869629}}}\u001b[0m\n",
      "\u001b[34m#metrics {\"StartTime\": 1693633607.8342507, \"EndTime\": 1693633607.8342657, \"Dimensions\": {\"Algorithm\": \"Linear Learner\", \"Host\": \"algo-1\", \"Operation\": \"training\", \"epoch\": 5, \"model\": 9}, \"Metrics\": {\"train_absolute_loss_objective\": {\"sum\": 0.7820563220977783, \"count\": 1, \"min\": 0.7820563220977783, \"max\": 0.7820563220977783}}}\u001b[0m\n",
      "\u001b[34m#metrics {\"StartTime\": 1693633607.8343153, \"EndTime\": 1693633607.8343294, \"Dimensions\": {\"Algorithm\": \"Linear Learner\", \"Host\": \"algo-1\", \"Operation\": \"training\", \"epoch\": 5, \"model\": 10}, \"Metrics\": {\"train_absolute_loss_objective\": {\"sum\": 0.788718490600586, \"count\": 1, \"min\": 0.788718490600586, \"max\": 0.788718490600586}}}\u001b[0m\n",
      "\u001b[34m#metrics {\"StartTime\": 1693633607.8343678, \"EndTime\": 1693633607.8343828, \"Dimensions\": {\"Algorithm\": \"Linear Learner\", \"Host\": \"algo-1\", \"Operation\": \"training\", \"epoch\": 5, \"model\": 11}, \"Metrics\": {\"train_absolute_loss_objective\": {\"sum\": 0.7741191482543945, \"count\": 1, \"min\": 0.7741191482543945, \"max\": 0.7741191482543945}}}\u001b[0m\n",
      "\u001b[34m#metrics {\"StartTime\": 1693633607.834426, \"EndTime\": 1693633607.83444, \"Dimensions\": {\"Algorithm\": \"Linear Learner\", \"Host\": \"algo-1\", \"Operation\": \"training\", \"epoch\": 5, \"model\": 12}, \"Metrics\": {\"train_absolute_loss_objective\": {\"sum\": 0.1978473997116089, \"count\": 1, \"min\": 0.1978473997116089, \"max\": 0.1978473997116089}}}\u001b[0m\n",
      "\u001b[34m#metrics {\"StartTime\": 1693633607.8344872, \"EndTime\": 1693633607.8345027, \"Dimensions\": {\"Algorithm\": \"Linear Learner\", \"Host\": \"algo-1\", \"Operation\": \"training\", \"epoch\": 5, \"model\": 13}, \"Metrics\": {\"train_absolute_loss_objective\": {\"sum\": 0.23519619703292846, \"count\": 1, \"min\": 0.23519619703292846, \"max\": 0.23519619703292846}}}\u001b[0m\n",
      "\u001b[34m#metrics {\"StartTime\": 1693633607.834552, \"EndTime\": 1693633607.8345668, \"Dimensions\": {\"Algorithm\": \"Linear Learner\", \"Host\": \"algo-1\", \"Operation\": \"training\", \"epoch\": 5, \"model\": 14}, \"Metrics\": {\"train_absolute_loss_objective\": {\"sum\": 0.19827130794525147, \"count\": 1, \"min\": 0.19827130794525147, \"max\": 0.19827130794525147}}}\u001b[0m\n",
      "\u001b[34m#metrics {\"StartTime\": 1693633607.8346212, \"EndTime\": 1693633607.8346364, \"Dimensions\": {\"Algorithm\": \"Linear Learner\", \"Host\": \"algo-1\", \"Operation\": \"training\", \"epoch\": 5, \"model\": 15}, \"Metrics\": {\"train_absolute_loss_objective\": {\"sum\": 0.31667366743087766, \"count\": 1, \"min\": 0.31667366743087766, \"max\": 0.31667366743087766}}}\u001b[0m\n",
      "\u001b[34m#metrics {\"StartTime\": 1693633607.8346846, \"EndTime\": 1693633607.8347003, \"Dimensions\": {\"Algorithm\": \"Linear Learner\", \"Host\": \"algo-1\", \"Operation\": \"training\", \"epoch\": 5, \"model\": 16}, \"Metrics\": {\"train_absolute_loss_objective\": {\"sum\": 0.7620388221740723, \"count\": 1, \"min\": 0.7620388221740723, \"max\": 0.7620388221740723}}}\u001b[0m\n",
      "\u001b[34m#metrics {\"StartTime\": 1693633607.8347478, \"EndTime\": 1693633607.8347638, \"Dimensions\": {\"Algorithm\": \"Linear Learner\", \"Host\": \"algo-1\", \"Operation\": \"training\", \"epoch\": 5, \"model\": 17}, \"Metrics\": {\"train_absolute_loss_objective\": {\"sum\": 0.810068998336792, \"count\": 1, \"min\": 0.810068998336792, \"max\": 0.810068998336792}}}\u001b[0m\n",
      "\u001b[34m#metrics {\"StartTime\": 1693633607.8348126, \"EndTime\": 1693633607.8348293, \"Dimensions\": {\"Algorithm\": \"Linear Learner\", \"Host\": \"algo-1\", \"Operation\": \"training\", \"epoch\": 5, \"model\": 18}, \"Metrics\": {\"train_absolute_loss_objective\": {\"sum\": 0.7879377365112304, \"count\": 1, \"min\": 0.7879377365112304, \"max\": 0.7879377365112304}}}\u001b[0m\n",
      "\u001b[34m#metrics {\"StartTime\": 1693633607.834881, \"EndTime\": 1693633607.8348968, \"Dimensions\": {\"Algorithm\": \"Linear Learner\", \"Host\": \"algo-1\", \"Operation\": \"training\", \"epoch\": 5, \"model\": 19}, \"Metrics\": {\"train_absolute_loss_objective\": {\"sum\": 0.7844833755493164, \"count\": 1, \"min\": 0.7844833755493164, \"max\": 0.7844833755493164}}}\u001b[0m\n",
      "\u001b[34m#metrics {\"StartTime\": 1693633607.8349526, \"EndTime\": 1693633607.834968, \"Dimensions\": {\"Algorithm\": \"Linear Learner\", \"Host\": \"algo-1\", \"Operation\": \"training\", \"epoch\": 5, \"model\": 20}, \"Metrics\": {\"train_absolute_loss_objective\": {\"sum\": 0.3158315658569336, \"count\": 1, \"min\": 0.3158315658569336, \"max\": 0.3158315658569336}}}\u001b[0m\n",
      "\u001b[34m#metrics {\"StartTime\": 1693633607.835023, \"EndTime\": 1693633607.8350384, \"Dimensions\": {\"Algorithm\": \"Linear Learner\", \"Host\": \"algo-1\", \"Operation\": \"training\", \"epoch\": 5, \"model\": 21}, \"Metrics\": {\"train_absolute_loss_objective\": {\"sum\": 0.43637221336364745, \"count\": 1, \"min\": 0.43637221336364745, \"max\": 0.43637221336364745}}}\u001b[0m\n",
      "\u001b[34m#metrics {\"StartTime\": 1693633607.8350854, \"EndTime\": 1693633607.8351002, \"Dimensions\": {\"Algorithm\": \"Linear Learner\", \"Host\": \"algo-1\", \"Operation\": \"training\", \"epoch\": 5, \"model\": 22}, \"Metrics\": {\"train_absolute_loss_objective\": {\"sum\": 0.30891658782958986, \"count\": 1, \"min\": 0.30891658782958986, \"max\": 0.30891658782958986}}}\u001b[0m\n",
      "\u001b[34m#metrics {\"StartTime\": 1693633607.835148, \"EndTime\": 1693633607.8351634, \"Dimensions\": {\"Algorithm\": \"Linear Learner\", \"Host\": \"algo-1\", \"Operation\": \"training\", \"epoch\": 5, \"model\": 23}, \"Metrics\": {\"train_absolute_loss_objective\": {\"sum\": 0.4247026014328003, \"count\": 1, \"min\": 0.4247026014328003, \"max\": 0.4247026014328003}}}\u001b[0m\n",
      "\u001b[34m#metrics {\"StartTime\": 1693633607.835216, \"EndTime\": 1693633607.8352323, \"Dimensions\": {\"Algorithm\": \"Linear Learner\", \"Host\": \"algo-1\", \"Operation\": \"training\", \"epoch\": 5, \"model\": 24}, \"Metrics\": {\"train_absolute_loss_objective\": {\"sum\": 0.9092554759979248, \"count\": 1, \"min\": 0.9092554759979248, \"max\": 0.9092554759979248}}}\u001b[0m\n",
      "\u001b[34m#metrics {\"StartTime\": 1693633607.835283, \"EndTime\": 1693633607.8352985, \"Dimensions\": {\"Algorithm\": \"Linear Learner\", \"Host\": \"algo-1\", \"Operation\": \"training\", \"epoch\": 5, \"model\": 25}, \"Metrics\": {\"train_absolute_loss_objective\": {\"sum\": 0.9003782653808594, \"count\": 1, \"min\": 0.9003782653808594, \"max\": 0.9003782653808594}}}\u001b[0m\n",
      "\u001b[34m#metrics {\"StartTime\": 1693633607.8353436, \"EndTime\": 1693633607.8353574, \"Dimensions\": {\"Algorithm\": \"Linear Learner\", \"Host\": \"algo-1\", \"Operation\": \"training\", \"epoch\": 5, \"model\": 26}, \"Metrics\": {\"train_absolute_loss_objective\": {\"sum\": 0.9043457508087158, \"count\": 1, \"min\": 0.9043457508087158, \"max\": 0.9043457508087158}}}\u001b[0m\n",
      "\u001b[34m#metrics {\"StartTime\": 1693633607.8354065, \"EndTime\": 1693633607.8354223, \"Dimensions\": {\"Algorithm\": \"Linear Learner\", \"Host\": \"algo-1\", \"Operation\": \"training\", \"epoch\": 5, \"model\": 27}, \"Metrics\": {\"train_absolute_loss_objective\": {\"sum\": 0.8998706817626954, \"count\": 1, \"min\": 0.8998706817626954, \"max\": 0.8998706817626954}}}\u001b[0m\n",
      "\u001b[34m#metrics {\"StartTime\": 1693633607.8354762, \"EndTime\": 1693633607.8354924, \"Dimensions\": {\"Algorithm\": \"Linear Learner\", \"Host\": \"algo-1\", \"Operation\": \"training\", \"epoch\": 5, \"model\": 28}, \"Metrics\": {\"train_absolute_loss_objective\": {\"sum\": 0.9091199684143066, \"count\": 1, \"min\": 0.9091199684143066, \"max\": 0.9091199684143066}}}\u001b[0m\n",
      "\u001b[34m#metrics {\"StartTime\": 1693633607.8356044, \"EndTime\": 1693633607.8356245, \"Dimensions\": {\"Algorithm\": \"Linear Learner\", \"Host\": \"algo-1\", \"Operation\": \"training\", \"epoch\": 5, \"model\": 29}, \"Metrics\": {\"train_absolute_loss_objective\": {\"sum\": 0.9093192768096924, \"count\": 1, \"min\": 0.9093192768096924, \"max\": 0.9093192768096924}}}\u001b[0m\n",
      "\u001b[34m#metrics {\"StartTime\": 1693633607.8357072, \"EndTime\": 1693633607.8357255, \"Dimensions\": {\"Algorithm\": \"Linear Learner\", \"Host\": \"algo-1\", \"Operation\": \"training\", \"epoch\": 5, \"model\": 30}, \"Metrics\": {\"train_absolute_loss_objective\": {\"sum\": 0.9240415382385254, \"count\": 1, \"min\": 0.9240415382385254, \"max\": 0.9240415382385254}}}\u001b[0m\n",
      "\u001b[34m#metrics {\"StartTime\": 1693633607.8357713, \"EndTime\": 1693633607.8357863, \"Dimensions\": {\"Algorithm\": \"Linear Learner\", \"Host\": \"algo-1\", \"Operation\": \"training\", \"epoch\": 5, \"model\": 31}, \"Metrics\": {\"train_absolute_loss_objective\": {\"sum\": 0.9170456504821778, \"count\": 1, \"min\": 0.9170456504821778, \"max\": 0.9170456504821778}}}\u001b[0m\n",
      "\u001b[34m[09/02/2023 05:46:47 INFO 140628399605568] #quality_metric: host=algo-1, epoch=5, train absolute_loss_objective <loss>=0.7940724182128907\u001b[0m\n",
      "\u001b[34m[09/02/2023 05:46:47 INFO 140628399605568] #early_stopping_criteria_metric: host=algo-1, epoch=5, criteria=absolute_loss_objective, value=0.19663942813873292\u001b[0m\n",
      "\u001b[34m[09/02/2023 05:46:47 INFO 140628399605568] Epoch 5: Loss improved. Updating best model\u001b[0m\n",
      "\u001b[34m[09/02/2023 05:46:47 INFO 140628399605568] Saving model for epoch: 5\u001b[0m\n",
      "\u001b[34m[09/02/2023 05:46:47 INFO 140628399605568] Saved checkpoint to \"/tmp/tmpvb7mz41v/mx-mod-0000.params\"\u001b[0m\n",
      "\u001b[34m[09/02/2023 05:46:47 INFO 140628399605568] #progress_metric: host=algo-1, completed 12.0 % of epochs\u001b[0m\n",
      "\u001b[34m#metrics {\"StartTime\": 1693633607.735781, \"EndTime\": 1693633607.843579, \"Dimensions\": {\"Algorithm\": \"Linear Learner\", \"Host\": \"algo-1\", \"Operation\": \"training\", \"epoch\": 5, \"Meta\": \"training_data_iter\"}, \"Metrics\": {\"Total Records Seen\": {\"sum\": 187.0, \"count\": 1, \"min\": 187, \"max\": 187}, \"Total Batches Seen\": {\"sum\": 43.0, \"count\": 1, \"min\": 43, \"max\": 43}, \"Max Records Seen Between Resets\": {\"sum\": 26.0, \"count\": 1, \"min\": 26, \"max\": 26}, \"Max Batches Seen Between Resets\": {\"sum\": 6.0, \"count\": 1, \"min\": 6, \"max\": 6}, \"Reset Count\": {\"sum\": 8.0, \"count\": 1, \"min\": 8, \"max\": 8}, \"Number of Records Since Last Reset\": {\"sum\": 26.0, \"count\": 1, \"min\": 26, \"max\": 26}, \"Number of Batches Since Last Reset\": {\"sum\": 6.0, \"count\": 1, \"min\": 6, \"max\": 6}}}\u001b[0m\n",
      "\u001b[34m[09/02/2023 05:46:47 INFO 140628399605568] #throughput_metric: host=algo-1, train throughput=240.90870812889773 records/second\u001b[0m\n",
      "\u001b[34m[2023-09-02 05:46:47.938] [tensorio] [info] epoch_stats={\"data_pipeline\": \"/opt/ml/input/data/train\", \"epoch\": 16, \"duration\": 94, \"num_examples\": 6, \"num_bytes\": 1248}\u001b[0m\n",
      "\u001b[34m#metrics {\"StartTime\": 1693633607.9387035, \"EndTime\": 1693633607.9387782, \"Dimensions\": {\"Algorithm\": \"Linear Learner\", \"Host\": \"algo-1\", \"Operation\": \"training\", \"epoch\": 6, \"model\": 0}, \"Metrics\": {\"train_absolute_loss_objective\": {\"sum\": 0.775442180633545, \"count\": 1, \"min\": 0.775442180633545, \"max\": 0.775442180633545}}}\u001b[0m\n",
      "\u001b[34m#metrics {\"StartTime\": 1693633607.9388623, \"EndTime\": 1693633607.9388826, \"Dimensions\": {\"Algorithm\": \"Linear Learner\", \"Host\": \"algo-1\", \"Operation\": \"training\", \"epoch\": 6, \"model\": 1}, \"Metrics\": {\"train_absolute_loss_objective\": {\"sum\": 0.7935651874542237, \"count\": 1, \"min\": 0.7935651874542237, \"max\": 0.7935651874542237}}}\u001b[0m\n",
      "\u001b[34m#metrics {\"StartTime\": 1693633607.9389496, \"EndTime\": 1693633607.9389677, \"Dimensions\": {\"Algorithm\": \"Linear Learner\", \"Host\": \"algo-1\", \"Operation\": \"training\", \"epoch\": 6, \"model\": 2}, \"Metrics\": {\"train_absolute_loss_objective\": {\"sum\": 0.7778016471862793, \"count\": 1, \"min\": 0.7778016471862793, \"max\": 0.7778016471862793}}}\u001b[0m\n",
      "\u001b[34m#metrics {\"StartTime\": 1693633607.939026, \"EndTime\": 1693633607.9390433, \"Dimensions\": {\"Algorithm\": \"Linear Learner\", \"Host\": \"algo-1\", \"Operation\": \"training\", \"epoch\": 6, \"model\": 3}, \"Metrics\": {\"train_absolute_loss_objective\": {\"sum\": 0.792569808959961, \"count\": 1, \"min\": 0.792569808959961, \"max\": 0.792569808959961}}}\u001b[0m\n",
      "\u001b[34m#metrics {\"StartTime\": 1693633607.9390988, \"EndTime\": 1693633607.9391153, \"Dimensions\": {\"Algorithm\": \"Linear Learner\", \"Host\": \"algo-1\", \"Operation\": \"training\", \"epoch\": 6, \"model\": 4}, \"Metrics\": {\"train_absolute_loss_objective\": {\"sum\": 0.21814650654792786, \"count\": 1, \"min\": 0.21814650654792786, \"max\": 0.21814650654792786}}}\u001b[0m\n",
      "\u001b[34m#metrics {\"StartTime\": 1693633607.9391706, \"EndTime\": 1693633607.9391866, \"Dimensions\": {\"Algorithm\": \"Linear Learner\", \"Host\": \"algo-1\", \"Operation\": \"training\", \"epoch\": 6, \"model\": 5}, \"Metrics\": {\"train_absolute_loss_objective\": {\"sum\": 0.2968879270553589, \"count\": 1, \"min\": 0.2968879270553589, \"max\": 0.2968879270553589}}}\u001b[0m\n",
      "\u001b[34m#metrics {\"StartTime\": 1693633607.93924, \"EndTime\": 1693633607.9392552, \"Dimensions\": {\"Algorithm\": \"Linear Learner\", \"Host\": \"algo-1\", \"Operation\": \"training\", \"epoch\": 6, \"model\": 6}, \"Metrics\": {\"train_absolute_loss_objective\": {\"sum\": 0.25180461645126345, \"count\": 1, \"min\": 0.25180461645126345, \"max\": 0.25180461645126345}}}\u001b[0m\n",
      "\u001b[34m#metrics {\"StartTime\": 1693633607.939309, \"EndTime\": 1693633607.9393246, \"Dimensions\": {\"Algorithm\": \"Linear Learner\", \"Host\": \"algo-1\", \"Operation\": \"training\", \"epoch\": 6, \"model\": 7}, \"Metrics\": {\"train_absolute_loss_objective\": {\"sum\": 0.2196635603904724, \"count\": 1, \"min\": 0.2196635603904724, \"max\": 0.2196635603904724}}}\u001b[0m\n",
      "\u001b[34m#metrics {\"StartTime\": 1693633607.939378, \"EndTime\": 1693633607.939394, \"Dimensions\": {\"Algorithm\": \"Linear Learner\", \"Host\": \"algo-1\", \"Operation\": \"training\", \"epoch\": 6, \"model\": 8}, \"Metrics\": {\"train_absolute_loss_objective\": {\"sum\": 0.830850715637207, \"count\": 1, \"min\": 0.830850715637207, \"max\": 0.830850715637207}}}\u001b[0m\n",
      "\u001b[34m#metrics {\"StartTime\": 1693633607.9394464, \"EndTime\": 1693633607.9394624, \"Dimensions\": {\"Algorithm\": \"Linear Learner\", \"Host\": \"algo-1\", \"Operation\": \"training\", \"epoch\": 6, \"model\": 9}, \"Metrics\": {\"train_absolute_loss_objective\": {\"sum\": 0.7619760990142822, \"count\": 1, \"min\": 0.7619760990142822, \"max\": 0.7619760990142822}}}\u001b[0m\n",
      "\u001b[34m#metrics {\"StartTime\": 1693633607.9395156, \"EndTime\": 1693633607.939531, \"Dimensions\": {\"Algorithm\": \"Linear Learner\", \"Host\": \"algo-1\", \"Operation\": \"training\", \"epoch\": 6, \"model\": 10}, \"Metrics\": {\"train_absolute_loss_objective\": {\"sum\": 0.7702541160583496, \"count\": 1, \"min\": 0.7702541160583496, \"max\": 0.7702541160583496}}}\u001b[0m\n",
      "\u001b[34m#metrics {\"StartTime\": 1693633607.9395833, \"EndTime\": 1693633607.9395986, \"Dimensions\": {\"Algorithm\": \"Linear Learner\", \"Host\": \"algo-1\", \"Operation\": \"training\", \"epoch\": 6, \"model\": 11}, \"Metrics\": {\"train_absolute_loss_objective\": {\"sum\": 0.7538000202178955, \"count\": 1, \"min\": 0.7538000202178955, \"max\": 0.7538000202178955}}}\u001b[0m\n",
      "\u001b[34m#metrics {\"StartTime\": 1693633607.9396498, \"EndTime\": 1693633607.9396656, \"Dimensions\": {\"Algorithm\": \"Linear Learner\", \"Host\": \"algo-1\", \"Operation\": \"training\", \"epoch\": 6, \"model\": 12}, \"Metrics\": {\"train_absolute_loss_objective\": {\"sum\": 0.28194728374481204, \"count\": 1, \"min\": 0.28194728374481204, \"max\": 0.28194728374481204}}}\u001b[0m\n",
      "\u001b[34m#metrics {\"StartTime\": 1693633607.939717, \"EndTime\": 1693633607.9397333, \"Dimensions\": {\"Algorithm\": \"Linear Learner\", \"Host\": \"algo-1\", \"Operation\": \"training\", \"epoch\": 6, \"model\": 13}, \"Metrics\": {\"train_absolute_loss_objective\": {\"sum\": 0.17108471393585206, \"count\": 1, \"min\": 0.17108471393585206, \"max\": 0.17108471393585206}}}\u001b[0m\n",
      "\u001b[34m#metrics {\"StartTime\": 1693633607.9397848, \"EndTime\": 1693633607.939801, \"Dimensions\": {\"Algorithm\": \"Linear Learner\", \"Host\": \"algo-1\", \"Operation\": \"training\", \"epoch\": 6, \"model\": 14}, \"Metrics\": {\"train_absolute_loss_objective\": {\"sum\": 0.2818421697616577, \"count\": 1, \"min\": 0.2818421697616577, \"max\": 0.2818421697616577}}}\u001b[0m\n",
      "\u001b[34m#metrics {\"StartTime\": 1693633607.939854, \"EndTime\": 1693633607.93987, \"Dimensions\": {\"Algorithm\": \"Linear Learner\", \"Host\": \"algo-1\", \"Operation\": \"training\", \"epoch\": 6, \"model\": 15}, \"Metrics\": {\"train_absolute_loss_objective\": {\"sum\": 0.2405808997154236, \"count\": 1, \"min\": 0.2405808997154236, \"max\": 0.2405808997154236}}}\u001b[0m\n",
      "\u001b[34m#metrics {\"StartTime\": 1693633607.9399266, \"EndTime\": 1693633607.9399438, \"Dimensions\": {\"Algorithm\": \"Linear Learner\", \"Host\": \"algo-1\", \"Operation\": \"training\", \"epoch\": 6, \"model\": 16}, \"Metrics\": {\"train_absolute_loss_objective\": {\"sum\": 0.7430644798278808, \"count\": 1, \"min\": 0.7430644798278808, \"max\": 0.7430644798278808}}}\u001b[0m\n",
      "\u001b[34m#metrics {\"StartTime\": 1693633607.9399953, \"EndTime\": 1693633607.9400117, \"Dimensions\": {\"Algorithm\": \"Linear Learner\", \"Host\": \"algo-1\", \"Operation\": \"training\", \"epoch\": 6, \"model\": 17}, \"Metrics\": {\"train_absolute_loss_objective\": {\"sum\": 0.7914939785003662, \"count\": 1, \"min\": 0.7914939785003662, \"max\": 0.7914939785003662}}}\u001b[0m\n",
      "\u001b[34m#metrics {\"StartTime\": 1693633607.9400635, \"EndTime\": 1693633607.9400792, \"Dimensions\": {\"Algorithm\": \"Linear Learner\", \"Host\": \"algo-1\", \"Operation\": \"training\", \"epoch\": 6, \"model\": 18}, \"Metrics\": {\"train_absolute_loss_objective\": {\"sum\": 0.76958571434021, \"count\": 1, \"min\": 0.76958571434021, \"max\": 0.76958571434021}}}\u001b[0m\n",
      "\u001b[34m#metrics {\"StartTime\": 1693633607.9401367, \"EndTime\": 1693633607.9401543, \"Dimensions\": {\"Algorithm\": \"Linear Learner\", \"Host\": \"algo-1\", \"Operation\": \"training\", \"epoch\": 6, \"model\": 19}, \"Metrics\": {\"train_absolute_loss_objective\": {\"sum\": 0.7656199359893798, \"count\": 1, \"min\": 0.7656199359893798, \"max\": 0.7656199359893798}}}\u001b[0m\n",
      "\u001b[34m#metrics {\"StartTime\": 1693633607.9402065, \"EndTime\": 1693633607.940223, \"Dimensions\": {\"Algorithm\": \"Linear Learner\", \"Host\": \"algo-1\", \"Operation\": \"training\", \"epoch\": 6, \"model\": 20}, \"Metrics\": {\"train_absolute_loss_objective\": {\"sum\": 0.30771557331085203, \"count\": 1, \"min\": 0.30771557331085203, \"max\": 0.30771557331085203}}}\u001b[0m\n",
      "\u001b[34m#metrics {\"StartTime\": 1693633607.9402683, \"EndTime\": 1693633607.940283, \"Dimensions\": {\"Algorithm\": \"Linear Learner\", \"Host\": \"algo-1\", \"Operation\": \"training\", \"epoch\": 6, \"model\": 21}, \"Metrics\": {\"train_absolute_loss_objective\": {\"sum\": 0.41392687797546385, \"count\": 1, \"min\": 0.41392687797546385, \"max\": 0.41392687797546385}}}\u001b[0m\n",
      "\u001b[34m#metrics {\"StartTime\": 1693633607.9403415, \"EndTime\": 1693633607.9403582, \"Dimensions\": {\"Algorithm\": \"Linear Learner\", \"Host\": \"algo-1\", \"Operation\": \"training\", \"epoch\": 6, \"model\": 22}, \"Metrics\": {\"train_absolute_loss_objective\": {\"sum\": 0.31163200855255124, \"count\": 1, \"min\": 0.31163200855255124, \"max\": 0.31163200855255124}}}\u001b[0m\n",
      "\u001b[34m#metrics {\"StartTime\": 1693633607.940419, \"EndTime\": 1693633607.9404354, \"Dimensions\": {\"Algorithm\": \"Linear Learner\", \"Host\": \"algo-1\", \"Operation\": \"training\", \"epoch\": 6, \"model\": 23}, \"Metrics\": {\"train_absolute_loss_objective\": {\"sum\": 0.39653024196624753, \"count\": 1, \"min\": 0.39653024196624753, \"max\": 0.39653024196624753}}}\u001b[0m\n",
      "\u001b[34m#metrics {\"StartTime\": 1693633607.940493, \"EndTime\": 1693633607.9405098, \"Dimensions\": {\"Algorithm\": \"Linear Learner\", \"Host\": \"algo-1\", \"Operation\": \"training\", \"epoch\": 6, \"model\": 24}, \"Metrics\": {\"train_absolute_loss_objective\": {\"sum\": 0.902673282623291, \"count\": 1, \"min\": 0.902673282623291, \"max\": 0.902673282623291}}}\u001b[0m\n",
      "\u001b[34m#metrics {\"StartTime\": 1693633607.9405885, \"EndTime\": 1693633607.9406054, \"Dimensions\": {\"Algorithm\": \"Linear Learner\", \"Host\": \"algo-1\", \"Operation\": \"training\", \"epoch\": 6, \"model\": 25}, \"Metrics\": {\"train_absolute_loss_objective\": {\"sum\": 0.9042138481140136, \"count\": 1, \"min\": 0.9042138481140136, \"max\": 0.9042138481140136}}}\u001b[0m\n",
      "\u001b[34m#metrics {\"StartTime\": 1693633607.9406674, \"EndTime\": 1693633607.9406843, \"Dimensions\": {\"Algorithm\": \"Linear Learner\", \"Host\": \"algo-1\", \"Operation\": \"training\", \"epoch\": 6, \"model\": 26}, \"Metrics\": {\"train_absolute_loss_objective\": {\"sum\": 0.8999539852142334, \"count\": 1, \"min\": 0.8999539852142334, \"max\": 0.8999539852142334}}}\u001b[0m\n",
      "\u001b[34m#metrics {\"StartTime\": 1693633607.9407427, \"EndTime\": 1693633607.9407597, \"Dimensions\": {\"Algorithm\": \"Linear Learner\", \"Host\": \"algo-1\", \"Operation\": \"training\", \"epoch\": 6, \"model\": 27}, \"Metrics\": {\"train_absolute_loss_objective\": {\"sum\": 0.9002734565734863, \"count\": 1, \"min\": 0.9002734565734863, \"max\": 0.9002734565734863}}}\u001b[0m\n",
      "\u001b[34m#metrics {\"StartTime\": 1693633607.9408193, \"EndTime\": 1693633607.9408364, \"Dimensions\": {\"Algorithm\": \"Linear Learner\", \"Host\": \"algo-1\", \"Operation\": \"training\", \"epoch\": 6, \"model\": 28}, \"Metrics\": {\"train_absolute_loss_objective\": {\"sum\": 0.9252285480499267, \"count\": 1, \"min\": 0.9252285480499267, \"max\": 0.9252285480499267}}}\u001b[0m\n",
      "\u001b[34m#metrics {\"StartTime\": 1693633607.9408922, \"EndTime\": 1693633607.940908, \"Dimensions\": {\"Algorithm\": \"Linear Learner\", \"Host\": \"algo-1\", \"Operation\": \"training\", \"epoch\": 6, \"model\": 29}, \"Metrics\": {\"train_absolute_loss_objective\": {\"sum\": 0.9264354228973388, \"count\": 1, \"min\": 0.9264354228973388, \"max\": 0.9264354228973388}}}\u001b[0m\n",
      "\u001b[34m#metrics {\"StartTime\": 1693633607.9409692, \"EndTime\": 1693633607.9409869, \"Dimensions\": {\"Algorithm\": \"Linear Learner\", \"Host\": \"algo-1\", \"Operation\": \"training\", \"epoch\": 6, \"model\": 30}, \"Metrics\": {\"train_absolute_loss_objective\": {\"sum\": 0.9093392086029053, \"count\": 1, \"min\": 0.9093392086029053, \"max\": 0.9093392086029053}}}\u001b[0m\n",
      "\u001b[34m#metrics {\"StartTime\": 1693633607.9410436, \"EndTime\": 1693633607.9410594, \"Dimensions\": {\"Algorithm\": \"Linear Learner\", \"Host\": \"algo-1\", \"Operation\": \"training\", \"epoch\": 6, \"model\": 31}, \"Metrics\": {\"train_absolute_loss_objective\": {\"sum\": 0.9221542167663574, \"count\": 1, \"min\": 0.9221542167663574, \"max\": 0.9221542167663574}}}\u001b[0m\n",
      "\u001b[34m[09/02/2023 05:46:47 INFO 140628399605568] #quality_metric: host=algo-1, epoch=6, train absolute_loss_objective <loss>=0.775442180633545\u001b[0m\n",
      "\u001b[34m[09/02/2023 05:46:47 INFO 140628399605568] #early_stopping_criteria_metric: host=algo-1, epoch=6, criteria=absolute_loss_objective, value=0.17108471393585206\u001b[0m\n",
      "\u001b[34m[09/02/2023 05:46:47 INFO 140628399605568] Epoch 6: Loss improved. Updating best model\u001b[0m\n",
      "\u001b[34m[09/02/2023 05:46:47 INFO 140628399605568] Saving model for epoch: 6\u001b[0m\n",
      "\u001b[34m[09/02/2023 05:46:47 INFO 140628399605568] Saved checkpoint to \"/tmp/tmprlwipovw/mx-mod-0000.params\"\u001b[0m\n",
      "\u001b[34m[09/02/2023 05:46:47 INFO 140628399605568] #progress_metric: host=algo-1, completed 14.0 % of epochs\u001b[0m\n",
      "\u001b[34m#metrics {\"StartTime\": 1693633607.8438554, \"EndTime\": 1693633607.9485483, \"Dimensions\": {\"Algorithm\": \"Linear Learner\", \"Host\": \"algo-1\", \"Operation\": \"training\", \"epoch\": 6, \"Meta\": \"training_data_iter\"}, \"Metrics\": {\"Total Records Seen\": {\"sum\": 213.0, \"count\": 1, \"min\": 213, \"max\": 213}, \"Total Batches Seen\": {\"sum\": 49.0, \"count\": 1, \"min\": 49, \"max\": 49}, \"Max Records Seen Between Resets\": {\"sum\": 26.0, \"count\": 1, \"min\": 26, \"max\": 26}, \"Max Batches Seen Between Resets\": {\"sum\": 6.0, \"count\": 1, \"min\": 6, \"max\": 6}, \"Reset Count\": {\"sum\": 9.0, \"count\": 1, \"min\": 9, \"max\": 9}, \"Number of Records Since Last Reset\": {\"sum\": 26.0, \"count\": 1, \"min\": 26, \"max\": 26}, \"Number of Batches Since Last Reset\": {\"sum\": 6.0, \"count\": 1, \"min\": 6, \"max\": 6}}}\u001b[0m\n",
      "\u001b[34m[09/02/2023 05:46:47 INFO 140628399605568] #throughput_metric: host=algo-1, train throughput=248.03238807463813 records/second\u001b[0m\n",
      "\u001b[34m[2023-09-02 05:46:48.028] [tensorio] [info] epoch_stats={\"data_pipeline\": \"/opt/ml/input/data/train\", \"epoch\": 18, \"duration\": 79, \"num_examples\": 6, \"num_bytes\": 1248}\u001b[0m\n",
      "\u001b[34m#metrics {\"StartTime\": 1693633608.0289097, \"EndTime\": 1693633608.028969, \"Dimensions\": {\"Algorithm\": \"Linear Learner\", \"Host\": \"algo-1\", \"Operation\": \"training\", \"epoch\": 7, \"model\": 0}, \"Metrics\": {\"train_absolute_loss_objective\": {\"sum\": 0.7560279750823975, \"count\": 1, \"min\": 0.7560279750823975, \"max\": 0.7560279750823975}}}\u001b[0m\n",
      "\u001b[34m#metrics {\"StartTime\": 1693633608.0290337, \"EndTime\": 1693633608.029046, \"Dimensions\": {\"Algorithm\": \"Linear Learner\", \"Host\": \"algo-1\", \"Operation\": \"training\", \"epoch\": 7, \"model\": 1}, \"Metrics\": {\"train_absolute_loss_objective\": {\"sum\": 0.7728972721099854, \"count\": 1, \"min\": 0.7728972721099854, \"max\": 0.7728972721099854}}}\u001b[0m\n",
      "\u001b[34m#metrics {\"StartTime\": 1693633608.029102, \"EndTime\": 1693633608.029113, \"Dimensions\": {\"Algorithm\": \"Linear Learner\", \"Host\": \"algo-1\", \"Operation\": \"training\", \"epoch\": 7, \"model\": 2}, \"Metrics\": {\"train_absolute_loss_objective\": {\"sum\": 0.7583874320983887, \"count\": 1, \"min\": 0.7583874320983887, \"max\": 0.7583874320983887}}}\u001b[0m\n",
      "\u001b[34m#metrics {\"StartTime\": 1693633608.0291653, \"EndTime\": 1693633608.0291815, \"Dimensions\": {\"Algorithm\": \"Linear Learner\", \"Host\": \"algo-1\", \"Operation\": \"training\", \"epoch\": 7, \"model\": 3}, \"Metrics\": {\"train_absolute_loss_objective\": {\"sum\": 0.7718718719482421, \"count\": 1, \"min\": 0.7718718719482421, \"max\": 0.7718718719482421}}}\u001b[0m\n",
      "\u001b[34m#metrics {\"StartTime\": 1693633608.0292542, \"EndTime\": 1693633608.029293, \"Dimensions\": {\"Algorithm\": \"Linear Learner\", \"Host\": \"algo-1\", \"Operation\": \"training\", \"epoch\": 7, \"model\": 4}, \"Metrics\": {\"train_absolute_loss_objective\": {\"sum\": 0.29346022844314573, \"count\": 1, \"min\": 0.29346022844314573, \"max\": 0.29346022844314573}}}\u001b[0m\n",
      "\u001b[34m#metrics {\"StartTime\": 1693633608.0293374, \"EndTime\": 1693633608.0293534, \"Dimensions\": {\"Algorithm\": \"Linear Learner\", \"Host\": \"algo-1\", \"Operation\": \"training\", \"epoch\": 7, \"model\": 5}, \"Metrics\": {\"train_absolute_loss_objective\": {\"sum\": 0.25382443428039553, \"count\": 1, \"min\": 0.25382443428039553, \"max\": 0.25382443428039553}}}\u001b[0m\n",
      "\u001b[34m#metrics {\"StartTime\": 1693633608.0294366, \"EndTime\": 1693633608.0294554, \"Dimensions\": {\"Algorithm\": \"Linear Learner\", \"Host\": \"algo-1\", \"Operation\": \"training\", \"epoch\": 7, \"model\": 6}, \"Metrics\": {\"train_absolute_loss_objective\": {\"sum\": 0.21121927976608276, \"count\": 1, \"min\": 0.21121927976608276, \"max\": 0.21121927976608276}}}\u001b[0m\n",
      "\u001b[34m#metrics {\"StartTime\": 1693633608.029515, \"EndTime\": 1693633608.029529, \"Dimensions\": {\"Algorithm\": \"Linear Learner\", \"Host\": \"algo-1\", \"Operation\": \"training\", \"epoch\": 7, \"model\": 7}, \"Metrics\": {\"train_absolute_loss_objective\": {\"sum\": 0.2735255789756775, \"count\": 1, \"min\": 0.2735255789756775, \"max\": 0.2735255789756775}}}\u001b[0m\n",
      "\u001b[34m#metrics {\"StartTime\": 1693633608.0295863, \"EndTime\": 1693633608.0296023, \"Dimensions\": {\"Algorithm\": \"Linear Learner\", \"Host\": \"algo-1\", \"Operation\": \"training\", \"epoch\": 7, \"model\": 8}, \"Metrics\": {\"train_absolute_loss_objective\": {\"sum\": 0.8115077495574952, \"count\": 1, \"min\": 0.8115077495574952, \"max\": 0.8115077495574952}}}\u001b[0m\n",
      "\u001b[34m#metrics {\"StartTime\": 1693633608.0296555, \"EndTime\": 1693633608.029672, \"Dimensions\": {\"Algorithm\": \"Linear Learner\", \"Host\": \"algo-1\", \"Operation\": \"training\", \"epoch\": 7, \"model\": 9}, \"Metrics\": {\"train_absolute_loss_objective\": {\"sum\": 0.7414499855041504, \"count\": 1, \"min\": 0.7414499855041504, \"max\": 0.7414499855041504}}}\u001b[0m\n",
      "\u001b[34m#metrics {\"StartTime\": 1693633608.0297203, \"EndTime\": 1693633608.0297353, \"Dimensions\": {\"Algorithm\": \"Linear Learner\", \"Host\": \"algo-1\", \"Operation\": \"training\", \"epoch\": 7, \"model\": 10}, \"Metrics\": {\"train_absolute_loss_objective\": {\"sum\": 0.7508515930175781, \"count\": 1, \"min\": 0.7508515930175781, \"max\": 0.7508515930175781}}}\u001b[0m\n",
      "\u001b[34m#metrics {\"StartTime\": 1693633608.029791, \"EndTime\": 1693633608.029807, \"Dimensions\": {\"Algorithm\": \"Linear Learner\", \"Host\": \"algo-1\", \"Operation\": \"training\", \"epoch\": 7, \"model\": 11}, \"Metrics\": {\"train_absolute_loss_objective\": {\"sum\": 0.7332742118835449, \"count\": 1, \"min\": 0.7332742118835449, \"max\": 0.7332742118835449}}}\u001b[0m\n",
      "\u001b[34m#metrics {\"StartTime\": 1693633608.029862, \"EndTime\": 1693633608.0298786, \"Dimensions\": {\"Algorithm\": \"Linear Learner\", \"Host\": \"algo-1\", \"Operation\": \"training\", \"epoch\": 7, \"model\": 12}, \"Metrics\": {\"train_absolute_loss_objective\": {\"sum\": 0.207547709941864, \"count\": 1, \"min\": 0.207547709941864, \"max\": 0.207547709941864}}}\u001b[0m\n",
      "\u001b[34m#metrics {\"StartTime\": 1693633608.02992, \"EndTime\": 1693633608.0299351, \"Dimensions\": {\"Algorithm\": \"Linear Learner\", \"Host\": \"algo-1\", \"Operation\": \"training\", \"epoch\": 7, \"model\": 13}, \"Metrics\": {\"train_absolute_loss_objective\": {\"sum\": 0.3053939390182495, \"count\": 1, \"min\": 0.3053939390182495, \"max\": 0.3053939390182495}}}\u001b[0m\n",
      "\u001b[34m#metrics {\"StartTime\": 1693633608.0299866, \"EndTime\": 1693633608.029997, \"Dimensions\": {\"Algorithm\": \"Linear Learner\", \"Host\": \"algo-1\", \"Operation\": \"training\", \"epoch\": 7, \"model\": 14}, \"Metrics\": {\"train_absolute_loss_objective\": {\"sum\": 0.23386346578598022, \"count\": 1, \"min\": 0.23386346578598022, \"max\": 0.23386346578598022}}}\u001b[0m\n",
      "\u001b[34m#metrics {\"StartTime\": 1693633608.0300503, \"EndTime\": 1693633608.0300665, \"Dimensions\": {\"Algorithm\": \"Linear Learner\", \"Host\": \"algo-1\", \"Operation\": \"training\", \"epoch\": 7, \"model\": 15}, \"Metrics\": {\"train_absolute_loss_objective\": {\"sum\": 0.2706838059425354, \"count\": 1, \"min\": 0.2706838059425354, \"max\": 0.2706838059425354}}}\u001b[0m\n",
      "\u001b[34m#metrics {\"StartTime\": 1693633608.0301635, \"EndTime\": 1693633608.030182, \"Dimensions\": {\"Algorithm\": \"Linear Learner\", \"Host\": \"algo-1\", \"Operation\": \"training\", \"epoch\": 7, \"model\": 16}, \"Metrics\": {\"train_absolute_loss_objective\": {\"sum\": 0.7246515941619873, \"count\": 1, \"min\": 0.7246515941619873, \"max\": 0.7246515941619873}}}\u001b[0m\n",
      "\u001b[34m#metrics {\"StartTime\": 1693633608.0302935, \"EndTime\": 1693633608.0303128, \"Dimensions\": {\"Algorithm\": \"Linear Learner\", \"Host\": \"algo-1\", \"Operation\": \"training\", \"epoch\": 7, \"model\": 17}, \"Metrics\": {\"train_absolute_loss_objective\": {\"sum\": 0.7720472240447998, \"count\": 1, \"min\": 0.7720472240447998, \"max\": 0.7720472240447998}}}\u001b[0m\n",
      "\u001b[34m#metrics {\"StartTime\": 1693633608.0303729, \"EndTime\": 1693633608.030384, \"Dimensions\": {\"Algorithm\": \"Linear Learner\", \"Host\": \"algo-1\", \"Operation\": \"training\", \"epoch\": 7, \"model\": 18}, \"Metrics\": {\"train_absolute_loss_objective\": {\"sum\": 0.7510115146636963, \"count\": 1, \"min\": 0.7510115146636963, \"max\": 0.7510115146636963}}}\u001b[0m\n",
      "\u001b[34m#metrics {\"StartTime\": 1693633608.030434, \"EndTime\": 1693633608.0304499, \"Dimensions\": {\"Algorithm\": \"Linear Learner\", \"Host\": \"algo-1\", \"Operation\": \"training\", \"epoch\": 7, \"model\": 19}, \"Metrics\": {\"train_absolute_loss_objective\": {\"sum\": 0.746510763168335, \"count\": 1, \"min\": 0.746510763168335, \"max\": 0.746510763168335}}}\u001b[0m\n",
      "\u001b[34m#metrics {\"StartTime\": 1693633608.0305097, \"EndTime\": 1693633608.030527, \"Dimensions\": {\"Algorithm\": \"Linear Learner\", \"Host\": \"algo-1\", \"Operation\": \"training\", \"epoch\": 7, \"model\": 20}, \"Metrics\": {\"train_absolute_loss_objective\": {\"sum\": 0.30986337661743163, \"count\": 1, \"min\": 0.30986337661743163, \"max\": 0.30986337661743163}}}\u001b[0m\n",
      "\u001b[34m#metrics {\"StartTime\": 1693633608.0306401, \"EndTime\": 1693633608.0306616, \"Dimensions\": {\"Algorithm\": \"Linear Learner\", \"Host\": \"algo-1\", \"Operation\": \"training\", \"epoch\": 7, \"model\": 21}, \"Metrics\": {\"train_absolute_loss_objective\": {\"sum\": 0.3141851997375488, \"count\": 1, \"min\": 0.3141851997375488, \"max\": 0.3141851997375488}}}\u001b[0m\n",
      "\u001b[34m#metrics {\"StartTime\": 1693633608.0307248, \"EndTime\": 1693633608.0307417, \"Dimensions\": {\"Algorithm\": \"Linear Learner\", \"Host\": \"algo-1\", \"Operation\": \"training\", \"epoch\": 7, \"model\": 22}, \"Metrics\": {\"train_absolute_loss_objective\": {\"sum\": 0.2804545211791992, \"count\": 1, \"min\": 0.2804545211791992, \"max\": 0.2804545211791992}}}\u001b[0m\n",
      "\u001b[34m#metrics {\"StartTime\": 1693633608.0308003, \"EndTime\": 1693633608.030811, \"Dimensions\": {\"Algorithm\": \"Linear Learner\", \"Host\": \"algo-1\", \"Operation\": \"training\", \"epoch\": 7, \"model\": 23}, \"Metrics\": {\"train_absolute_loss_objective\": {\"sum\": 0.33858546257019045, \"count\": 1, \"min\": 0.33858546257019045, \"max\": 0.33858546257019045}}}\u001b[0m\n",
      "\u001b[34m#metrics {\"StartTime\": 1693633608.030856, \"EndTime\": 1693633608.0308664, \"Dimensions\": {\"Algorithm\": \"Linear Learner\", \"Host\": \"algo-1\", \"Operation\": \"training\", \"epoch\": 7, \"model\": 24}, \"Metrics\": {\"train_absolute_loss_objective\": {\"sum\": 0.8986797904968262, \"count\": 1, \"min\": 0.8986797904968262, \"max\": 0.8986797904968262}}}\u001b[0m\n",
      "\u001b[34m#metrics {\"StartTime\": 1693633608.0309033, \"EndTime\": 1693633608.0309176, \"Dimensions\": {\"Algorithm\": \"Linear Learner\", \"Host\": \"algo-1\", \"Operation\": \"training\", \"epoch\": 7, \"model\": 25}, \"Metrics\": {\"train_absolute_loss_objective\": {\"sum\": 0.9039604091644287, \"count\": 1, \"min\": 0.9039604091644287, \"max\": 0.9039604091644287}}}\u001b[0m\n",
      "\u001b[34m#metrics {\"StartTime\": 1693633608.0310152, \"EndTime\": 1693633608.0310292, \"Dimensions\": {\"Algorithm\": \"Linear Learner\", \"Host\": \"algo-1\", \"Operation\": \"training\", \"epoch\": 7, \"model\": 26}, \"Metrics\": {\"train_absolute_loss_objective\": {\"sum\": 0.8984152317047119, \"count\": 1, \"min\": 0.8984152317047119, \"max\": 0.8984152317047119}}}\u001b[0m\n",
      "\u001b[34m#metrics {\"StartTime\": 1693633608.0310814, \"EndTime\": 1693633608.0310924, \"Dimensions\": {\"Algorithm\": \"Linear Learner\", \"Host\": \"algo-1\", \"Operation\": \"training\", \"epoch\": 7, \"model\": 27}, \"Metrics\": {\"train_absolute_loss_objective\": {\"sum\": 0.9009195327758789, \"count\": 1, \"min\": 0.9009195327758789, \"max\": 0.9009195327758789}}}\u001b[0m\n",
      "\u001b[34m#metrics {\"StartTime\": 1693633608.0311394, \"EndTime\": 1693633608.031153, \"Dimensions\": {\"Algorithm\": \"Linear Learner\", \"Host\": \"algo-1\", \"Operation\": \"training\", \"epoch\": 7, \"model\": 28}, \"Metrics\": {\"train_absolute_loss_objective\": {\"sum\": 0.9411713504791259, \"count\": 1, \"min\": 0.9411713504791259, \"max\": 0.9411713504791259}}}\u001b[0m\n",
      "\u001b[34m#metrics {\"StartTime\": 1693633608.0311913, \"EndTime\": 1693633608.0312061, \"Dimensions\": {\"Algorithm\": \"Linear Learner\", \"Host\": \"algo-1\", \"Operation\": \"training\", \"epoch\": 7, \"model\": 29}, \"Metrics\": {\"train_absolute_loss_objective\": {\"sum\": 0.941382646560669, \"count\": 1, \"min\": 0.941382646560669, \"max\": 0.941382646560669}}}\u001b[0m\n",
      "\u001b[34m#metrics {\"StartTime\": 1693633608.031285, \"EndTime\": 1693633608.031302, \"Dimensions\": {\"Algorithm\": \"Linear Learner\", \"Host\": \"algo-1\", \"Operation\": \"training\", \"epoch\": 7, \"model\": 30}, \"Metrics\": {\"train_absolute_loss_objective\": {\"sum\": 0.9203746795654297, \"count\": 1, \"min\": 0.9203746795654297, \"max\": 0.9203746795654297}}}\u001b[0m\n",
      "\u001b[34m#metrics {\"StartTime\": 1693633608.0313518, \"EndTime\": 1693633608.031369, \"Dimensions\": {\"Algorithm\": \"Linear Learner\", \"Host\": \"algo-1\", \"Operation\": \"training\", \"epoch\": 7, \"model\": 31}, \"Metrics\": {\"train_absolute_loss_objective\": {\"sum\": 0.9381919574737548, \"count\": 1, \"min\": 0.9381919574737548, \"max\": 0.9381919574737548}}}\u001b[0m\n",
      "\u001b[34m[09/02/2023 05:46:48 INFO 140628399605568] #quality_metric: host=algo-1, epoch=7, train absolute_loss_objective <loss>=0.7560279750823975\u001b[0m\n",
      "\u001b[34m[09/02/2023 05:46:48 INFO 140628399605568] #early_stopping_criteria_metric: host=algo-1, epoch=7, criteria=absolute_loss_objective, value=0.207547709941864\u001b[0m\n",
      "\u001b[34m[09/02/2023 05:46:48 INFO 140628399605568] Saving model for epoch: 7\u001b[0m\n",
      "\u001b[34m[09/02/2023 05:46:48 INFO 140628399605568] Saved checkpoint to \"/tmp/tmp2ced453s/mx-mod-0000.params\"\u001b[0m\n",
      "\u001b[34m[09/02/2023 05:46:48 INFO 140628399605568] #progress_metric: host=algo-1, completed 16.0 % of epochs\u001b[0m\n",
      "\u001b[34m#metrics {\"StartTime\": 1693633607.9488313, \"EndTime\": 1693633608.0379639, \"Dimensions\": {\"Algorithm\": \"Linear Learner\", \"Host\": \"algo-1\", \"Operation\": \"training\", \"epoch\": 7, \"Meta\": \"training_data_iter\"}, \"Metrics\": {\"Total Records Seen\": {\"sum\": 239.0, \"count\": 1, \"min\": 239, \"max\": 239}, \"Total Batches Seen\": {\"sum\": 55.0, \"count\": 1, \"min\": 55, \"max\": 55}, \"Max Records Seen Between Resets\": {\"sum\": 26.0, \"count\": 1, \"min\": 26, \"max\": 26}, \"Max Batches Seen Between Resets\": {\"sum\": 6.0, \"count\": 1, \"min\": 6, \"max\": 6}, \"Reset Count\": {\"sum\": 10.0, \"count\": 1, \"min\": 10, \"max\": 10}, \"Number of Records Since Last Reset\": {\"sum\": 26.0, \"count\": 1, \"min\": 26, \"max\": 26}, \"Number of Batches Since Last Reset\": {\"sum\": 6.0, \"count\": 1, \"min\": 6, \"max\": 6}}}\u001b[0m\n",
      "\u001b[34m[09/02/2023 05:46:48 INFO 140628399605568] #throughput_metric: host=algo-1, train throughput=291.3037894208218 records/second\u001b[0m\n",
      "\u001b[34m[2023-09-02 05:46:48.134] [tensorio] [info] epoch_stats={\"data_pipeline\": \"/opt/ml/input/data/train\", \"epoch\": 20, \"duration\": 96, \"num_examples\": 6, \"num_bytes\": 1248}\u001b[0m\n",
      "\u001b[34m#metrics {\"StartTime\": 1693633608.1348214, \"EndTime\": 1693633608.134883, \"Dimensions\": {\"Algorithm\": \"Linear Learner\", \"Host\": \"algo-1\", \"Operation\": \"training\", \"epoch\": 8, \"model\": 0}, \"Metrics\": {\"train_absolute_loss_objective\": {\"sum\": 0.7362944793701172, \"count\": 1, \"min\": 0.7362944793701172, \"max\": 0.7362944793701172}}}\u001b[0m\n",
      "\u001b[34m#metrics {\"StartTime\": 1693633608.1349463, \"EndTime\": 1693633608.134965, \"Dimensions\": {\"Algorithm\": \"Linear Learner\", \"Host\": \"algo-1\", \"Operation\": \"training\", \"epoch\": 8, \"model\": 1}, \"Metrics\": {\"train_absolute_loss_objective\": {\"sum\": 0.7539655780792236, \"count\": 1, \"min\": 0.7539655780792236, \"max\": 0.7539655780792236}}}\u001b[0m\n",
      "\u001b[34m#metrics {\"StartTime\": 1693633608.1350265, \"EndTime\": 1693633608.135043, \"Dimensions\": {\"Algorithm\": \"Linear Learner\", \"Host\": \"algo-1\", \"Operation\": \"training\", \"epoch\": 8, \"model\": 2}, \"Metrics\": {\"train_absolute_loss_objective\": {\"sum\": 0.7387250423431396, \"count\": 1, \"min\": 0.7387250423431396, \"max\": 0.7387250423431396}}}\u001b[0m\n",
      "\u001b[34m#metrics {\"StartTime\": 1693633608.1350935, \"EndTime\": 1693633608.1351106, \"Dimensions\": {\"Algorithm\": \"Linear Learner\", \"Host\": \"algo-1\", \"Operation\": \"training\", \"epoch\": 8, \"model\": 3}, \"Metrics\": {\"train_absolute_loss_objective\": {\"sum\": 0.7529701995849609, \"count\": 1, \"min\": 0.7529701995849609, \"max\": 0.7529701995849609}}}\u001b[0m\n",
      "\u001b[34m#metrics {\"StartTime\": 1693633608.1351695, \"EndTime\": 1693633608.1351855, \"Dimensions\": {\"Algorithm\": \"Linear Learner\", \"Host\": \"algo-1\", \"Operation\": \"training\", \"epoch\": 8, \"model\": 4}, \"Metrics\": {\"train_absolute_loss_objective\": {\"sum\": 0.1950964903831482, \"count\": 1, \"min\": 0.1950964903831482, \"max\": 0.1950964903831482}}}\u001b[0m\n",
      "\u001b[34m#metrics {\"StartTime\": 1693633608.1352355, \"EndTime\": 1693633608.1352518, \"Dimensions\": {\"Algorithm\": \"Linear Learner\", \"Host\": \"algo-1\", \"Operation\": \"training\", \"epoch\": 8, \"model\": 5}, \"Metrics\": {\"train_absolute_loss_objective\": {\"sum\": 0.32532448530197144, \"count\": 1, \"min\": 0.32532448530197144, \"max\": 0.32532448530197144}}}\u001b[0m\n",
      "\u001b[34m#metrics {\"StartTime\": 1693633608.1353037, \"EndTime\": 1693633608.1353195, \"Dimensions\": {\"Algorithm\": \"Linear Learner\", \"Host\": \"algo-1\", \"Operation\": \"training\", \"epoch\": 8, \"model\": 6}, \"Metrics\": {\"train_absolute_loss_objective\": {\"sum\": 0.22738511800765993, \"count\": 1, \"min\": 0.22738511800765993, \"max\": 0.22738511800765993}}}\u001b[0m\n",
      "\u001b[34m#metrics {\"StartTime\": 1693633608.1353724, \"EndTime\": 1693633608.135388, \"Dimensions\": {\"Algorithm\": \"Linear Learner\", \"Host\": \"algo-1\", \"Operation\": \"training\", \"epoch\": 8, \"model\": 7}, \"Metrics\": {\"train_absolute_loss_objective\": {\"sum\": 0.20958833694458007, \"count\": 1, \"min\": 0.20958833694458007, \"max\": 0.20958833694458007}}}\u001b[0m\n",
      "\u001b[34m#metrics {\"StartTime\": 1693633608.1354373, \"EndTime\": 1693633608.1354542, \"Dimensions\": {\"Algorithm\": \"Linear Learner\", \"Host\": \"algo-1\", \"Operation\": \"training\", \"epoch\": 8, \"model\": 8}, \"Metrics\": {\"train_absolute_loss_objective\": {\"sum\": 0.7916547870635986, \"count\": 1, \"min\": 0.7916547870635986, \"max\": 0.7916547870635986}}}\u001b[0m\n",
      "\u001b[34m#metrics {\"StartTime\": 1693633608.1355069, \"EndTime\": 1693633608.1355224, \"Dimensions\": {\"Algorithm\": \"Linear Learner\", \"Host\": \"algo-1\", \"Operation\": \"training\", \"epoch\": 8, \"model\": 9}, \"Metrics\": {\"train_absolute_loss_objective\": {\"sum\": 0.7223584651947021, \"count\": 1, \"min\": 0.7223584651947021, \"max\": 0.7223584651947021}}}\u001b[0m\n",
      "\u001b[34m#metrics {\"StartTime\": 1693633608.1355753, \"EndTime\": 1693633608.1355922, \"Dimensions\": {\"Algorithm\": \"Linear Learner\", \"Host\": \"algo-1\", \"Operation\": \"training\", \"epoch\": 8, \"model\": 10}, \"Metrics\": {\"train_absolute_loss_objective\": {\"sum\": 0.7309767532348633, \"count\": 1, \"min\": 0.7309767532348633, \"max\": 0.7309767532348633}}}\u001b[0m\n",
      "\u001b[34m#metrics {\"StartTime\": 1693633608.1356423, \"EndTime\": 1693633608.1356578, \"Dimensions\": {\"Algorithm\": \"Linear Learner\", \"Host\": \"algo-1\", \"Operation\": \"training\", \"epoch\": 8, \"model\": 11}, \"Metrics\": {\"train_absolute_loss_objective\": {\"sum\": 0.7144221591949463, \"count\": 1, \"min\": 0.7144221591949463, \"max\": 0.7144221591949463}}}\u001b[0m\n",
      "\u001b[34m#metrics {\"StartTime\": 1693633608.135717, \"EndTime\": 1693633608.135734, \"Dimensions\": {\"Algorithm\": \"Linear Learner\", \"Host\": \"algo-1\", \"Operation\": \"training\", \"epoch\": 8, \"model\": 12}, \"Metrics\": {\"train_absolute_loss_objective\": {\"sum\": 0.26190985679626466, \"count\": 1, \"min\": 0.26190985679626466, \"max\": 0.26190985679626466}}}\u001b[0m\n",
      "\u001b[34m#metrics {\"StartTime\": 1693633608.1357841, \"EndTime\": 1693633608.1358006, \"Dimensions\": {\"Algorithm\": \"Linear Learner\", \"Host\": \"algo-1\", \"Operation\": \"training\", \"epoch\": 8, \"model\": 13}, \"Metrics\": {\"train_absolute_loss_objective\": {\"sum\": 0.19720948934555055, \"count\": 1, \"min\": 0.19720948934555055, \"max\": 0.19720948934555055}}}\u001b[0m\n",
      "\u001b[34m#metrics {\"StartTime\": 1693633608.13586, \"EndTime\": 1693633608.1358764, \"Dimensions\": {\"Algorithm\": \"Linear Learner\", \"Host\": \"algo-1\", \"Operation\": \"training\", \"epoch\": 8, \"model\": 14}, \"Metrics\": {\"train_absolute_loss_objective\": {\"sum\": 0.3014130449295044, \"count\": 1, \"min\": 0.3014130449295044, \"max\": 0.3014130449295044}}}\u001b[0m\n",
      "\u001b[34m#metrics {\"StartTime\": 1693633608.1359267, \"EndTime\": 1693633608.1359437, \"Dimensions\": {\"Algorithm\": \"Linear Learner\", \"Host\": \"algo-1\", \"Operation\": \"training\", \"epoch\": 8, \"model\": 15}, \"Metrics\": {\"train_absolute_loss_objective\": {\"sum\": 0.22145598888397217, \"count\": 1, \"min\": 0.22145598888397217, \"max\": 0.22145598888397217}}}\u001b[0m\n",
      "\u001b[34m#metrics {\"StartTime\": 1693633608.1360013, \"EndTime\": 1693633608.1360176, \"Dimensions\": {\"Algorithm\": \"Linear Learner\", \"Host\": \"algo-1\", \"Operation\": \"training\", \"epoch\": 8, \"model\": 16}, \"Metrics\": {\"train_absolute_loss_objective\": {\"sum\": 0.7084324932098389, \"count\": 1, \"min\": 0.7084324932098389, \"max\": 0.7084324932098389}}}\u001b[0m\n",
      "\u001b[34m#metrics {\"StartTime\": 1693633608.136073, \"EndTime\": 1693633608.1360896, \"Dimensions\": {\"Algorithm\": \"Linear Learner\", \"Host\": \"algo-1\", \"Operation\": \"training\", \"epoch\": 8, \"model\": 17}, \"Metrics\": {\"train_absolute_loss_objective\": {\"sum\": 0.754674243927002, \"count\": 1, \"min\": 0.754674243927002, \"max\": 0.754674243927002}}}\u001b[0m\n",
      "\u001b[34m#metrics {\"StartTime\": 1693633608.1361518, \"EndTime\": 1693633608.1361692, \"Dimensions\": {\"Algorithm\": \"Linear Learner\", \"Host\": \"algo-1\", \"Operation\": \"training\", \"epoch\": 8, \"model\": 18}, \"Metrics\": {\"train_absolute_loss_objective\": {\"sum\": 0.7338580799102783, \"count\": 1, \"min\": 0.7338580799102783, \"max\": 0.7338580799102783}}}\u001b[0m\n",
      "\u001b[34m#metrics {\"StartTime\": 1693633608.1362314, \"EndTime\": 1693633608.1362484, \"Dimensions\": {\"Algorithm\": \"Linear Learner\", \"Host\": \"algo-1\", \"Operation\": \"training\", \"epoch\": 8, \"model\": 19}, \"Metrics\": {\"train_absolute_loss_objective\": {\"sum\": 0.72893723487854, \"count\": 1, \"min\": 0.72893723487854, \"max\": 0.72893723487854}}}\u001b[0m\n",
      "\u001b[34m#metrics {\"StartTime\": 1693633608.1363063, \"EndTime\": 1693633608.1363227, \"Dimensions\": {\"Algorithm\": \"Linear Learner\", \"Host\": \"algo-1\", \"Operation\": \"training\", \"epoch\": 8, \"model\": 20}, \"Metrics\": {\"train_absolute_loss_objective\": {\"sum\": 0.2476785135269165, \"count\": 1, \"min\": 0.2476785135269165, \"max\": 0.2476785135269165}}}\u001b[0m\n",
      "\u001b[34m#metrics {\"StartTime\": 1693633608.1363838, \"EndTime\": 1693633608.1364002, \"Dimensions\": {\"Algorithm\": \"Linear Learner\", \"Host\": \"algo-1\", \"Operation\": \"training\", \"epoch\": 8, \"model\": 21}, \"Metrics\": {\"train_absolute_loss_objective\": {\"sum\": 0.29253986597061155, \"count\": 1, \"min\": 0.29253986597061155, \"max\": 0.29253986597061155}}}\u001b[0m\n",
      "\u001b[34m#metrics {\"StartTime\": 1693633608.1364577, \"EndTime\": 1693633608.1364746, \"Dimensions\": {\"Algorithm\": \"Linear Learner\", \"Host\": \"algo-1\", \"Operation\": \"training\", \"epoch\": 8, \"model\": 22}, \"Metrics\": {\"train_absolute_loss_objective\": {\"sum\": 0.35163360595703125, \"count\": 1, \"min\": 0.35163360595703125, \"max\": 0.35163360595703125}}}\u001b[0m\n",
      "\u001b[34m#metrics {\"StartTime\": 1693633608.1365345, \"EndTime\": 1693633608.1365511, \"Dimensions\": {\"Algorithm\": \"Linear Learner\", \"Host\": \"algo-1\", \"Operation\": \"training\", \"epoch\": 8, \"model\": 23}, \"Metrics\": {\"train_absolute_loss_objective\": {\"sum\": 0.3492309808731079, \"count\": 1, \"min\": 0.3492309808731079, \"max\": 0.3492309808731079}}}\u001b[0m\n",
      "\u001b[34m#metrics {\"StartTime\": 1693633608.1366367, \"EndTime\": 1693633608.1366549, \"Dimensions\": {\"Algorithm\": \"Linear Learner\", \"Host\": \"algo-1\", \"Operation\": \"training\", \"epoch\": 8, \"model\": 24}, \"Metrics\": {\"train_absolute_loss_objective\": {\"sum\": 0.8958180809020996, \"count\": 1, \"min\": 0.8958180809020996, \"max\": 0.8958180809020996}}}\u001b[0m\n",
      "\u001b[34m#metrics {\"StartTime\": 1693633608.136715, \"EndTime\": 1693633608.1367314, \"Dimensions\": {\"Algorithm\": \"Linear Learner\", \"Host\": \"algo-1\", \"Operation\": \"training\", \"epoch\": 8, \"model\": 25}, \"Metrics\": {\"train_absolute_loss_objective\": {\"sum\": 0.900732069015503, \"count\": 1, \"min\": 0.900732069015503, \"max\": 0.900732069015503}}}\u001b[0m\n",
      "\u001b[34m#metrics {\"StartTime\": 1693633608.1367905, \"EndTime\": 1693633608.1368074, \"Dimensions\": {\"Algorithm\": \"Linear Learner\", \"Host\": \"algo-1\", \"Operation\": \"training\", \"epoch\": 8, \"model\": 26}, \"Metrics\": {\"train_absolute_loss_objective\": {\"sum\": 0.898450870513916, \"count\": 1, \"min\": 0.898450870513916, \"max\": 0.898450870513916}}}\u001b[0m\n",
      "\u001b[34m#metrics {\"StartTime\": 1693633608.1368577, \"EndTime\": 1693633608.1368732, \"Dimensions\": {\"Algorithm\": \"Linear Learner\", \"Host\": \"algo-1\", \"Operation\": \"training\", \"epoch\": 8, \"model\": 27}, \"Metrics\": {\"train_absolute_loss_objective\": {\"sum\": 0.8993131065368652, \"count\": 1, \"min\": 0.8993131065368652, \"max\": 0.8993131065368652}}}\u001b[0m\n",
      "\u001b[34m#metrics {\"StartTime\": 1693633608.1369164, \"EndTime\": 1693633608.1369317, \"Dimensions\": {\"Algorithm\": \"Linear Learner\", \"Host\": \"algo-1\", \"Operation\": \"training\", \"epoch\": 8, \"model\": 28}, \"Metrics\": {\"train_absolute_loss_objective\": {\"sum\": 0.9296751022338867, \"count\": 1, \"min\": 0.9296751022338867, \"max\": 0.9296751022338867}}}\u001b[0m\n",
      "\u001b[34m#metrics {\"StartTime\": 1693633608.1369789, \"EndTime\": 1693633608.1369948, \"Dimensions\": {\"Algorithm\": \"Linear Learner\", \"Host\": \"algo-1\", \"Operation\": \"training\", \"epoch\": 8, \"model\": 29}, \"Metrics\": {\"train_absolute_loss_objective\": {\"sum\": 0.932171688079834, \"count\": 1, \"min\": 0.932171688079834, \"max\": 0.932171688079834}}}\u001b[0m\n",
      "\u001b[34m#metrics {\"StartTime\": 1693633608.1370387, \"EndTime\": 1693633608.1370542, \"Dimensions\": {\"Algorithm\": \"Linear Learner\", \"Host\": \"algo-1\", \"Operation\": \"training\", \"epoch\": 8, \"model\": 30}, \"Metrics\": {\"train_absolute_loss_objective\": {\"sum\": 0.9014053630828858, \"count\": 1, \"min\": 0.9014053630828858, \"max\": 0.9014053630828858}}}\u001b[0m\n",
      "\u001b[34m#metrics {\"StartTime\": 1693633608.1371076, \"EndTime\": 1693633608.137124, \"Dimensions\": {\"Algorithm\": \"Linear Learner\", \"Host\": \"algo-1\", \"Operation\": \"training\", \"epoch\": 8, \"model\": 31}, \"Metrics\": {\"train_absolute_loss_objective\": {\"sum\": 0.9315263366699219, \"count\": 1, \"min\": 0.9315263366699219, \"max\": 0.9315263366699219}}}\u001b[0m\n",
      "\u001b[34m[09/02/2023 05:46:48 INFO 140628399605568] #quality_metric: host=algo-1, epoch=8, train absolute_loss_objective <loss>=0.7362944793701172\u001b[0m\n",
      "\u001b[34m[09/02/2023 05:46:48 INFO 140628399605568] #early_stopping_criteria_metric: host=algo-1, epoch=8, criteria=absolute_loss_objective, value=0.1950964903831482\u001b[0m\n",
      "\u001b[34m[09/02/2023 05:46:48 INFO 140628399605568] Saving model for epoch: 8\u001b[0m\n",
      "\u001b[34m[09/02/2023 05:46:48 INFO 140628399605568] Saved checkpoint to \"/tmp/tmp43kb7fnn/mx-mod-0000.params\"\u001b[0m\n",
      "\u001b[34m[09/02/2023 05:46:48 INFO 140628399605568] #progress_metric: host=algo-1, completed 18.0 % of epochs\u001b[0m\n",
      "\u001b[34m#metrics {\"StartTime\": 1693633608.038213, \"EndTime\": 1693633608.143988, \"Dimensions\": {\"Algorithm\": \"Linear Learner\", \"Host\": \"algo-1\", \"Operation\": \"training\", \"epoch\": 8, \"Meta\": \"training_data_iter\"}, \"Metrics\": {\"Total Records Seen\": {\"sum\": 265.0, \"count\": 1, \"min\": 265, \"max\": 265}, \"Total Batches Seen\": {\"sum\": 61.0, \"count\": 1, \"min\": 61, \"max\": 61}, \"Max Records Seen Between Resets\": {\"sum\": 26.0, \"count\": 1, \"min\": 26, \"max\": 26}, \"Max Batches Seen Between Resets\": {\"sum\": 6.0, \"count\": 1, \"min\": 6, \"max\": 6}, \"Reset Count\": {\"sum\": 11.0, \"count\": 1, \"min\": 11, \"max\": 11}, \"Number of Records Since Last Reset\": {\"sum\": 26.0, \"count\": 1, \"min\": 26, \"max\": 26}, \"Number of Batches Since Last Reset\": {\"sum\": 6.0, \"count\": 1, \"min\": 6, \"max\": 6}}}\u001b[0m\n",
      "\u001b[34m[09/02/2023 05:46:48 INFO 140628399605568] #throughput_metric: host=algo-1, train throughput=245.49517797808252 records/second\u001b[0m\n",
      "\u001b[34m[2023-09-02 05:46:48.225] [tensorio] [info] epoch_stats={\"data_pipeline\": \"/opt/ml/input/data/train\", \"epoch\": 22, \"duration\": 80, \"num_examples\": 6, \"num_bytes\": 1248}\u001b[0m\n",
      "\u001b[34m#metrics {\"StartTime\": 1693633608.2253928, \"EndTime\": 1693633608.2254546, \"Dimensions\": {\"Algorithm\": \"Linear Learner\", \"Host\": \"algo-1\", \"Operation\": \"training\", \"epoch\": 9, \"model\": 0}, \"Metrics\": {\"train_absolute_loss_objective\": {\"sum\": 0.7164883613586426, \"count\": 1, \"min\": 0.7164883613586426, \"max\": 0.7164883613586426}}}\u001b[0m\n",
      "\u001b[34m#metrics {\"StartTime\": 1693633608.225524, \"EndTime\": 1693633608.2255402, \"Dimensions\": {\"Algorithm\": \"Linear Learner\", \"Host\": \"algo-1\", \"Operation\": \"training\", \"epoch\": 9, \"model\": 1}, \"Metrics\": {\"train_absolute_loss_objective\": {\"sum\": 0.7340518665313721, \"count\": 1, \"min\": 0.7340518665313721, \"max\": 0.7340518665313721}}}\u001b[0m\n",
      "\u001b[34m#metrics {\"StartTime\": 1693633608.225595, \"EndTime\": 1693633608.2256117, \"Dimensions\": {\"Algorithm\": \"Linear Learner\", \"Host\": \"algo-1\", \"Operation\": \"training\", \"epoch\": 9, \"model\": 2}, \"Metrics\": {\"train_absolute_loss_objective\": {\"sum\": 0.7189189720153809, \"count\": 1, \"min\": 0.7189189720153809, \"max\": 0.7189189720153809}}}\u001b[0m\n",
      "\u001b[34m#metrics {\"StartTime\": 1693633608.225668, \"EndTime\": 1693633608.2256844, \"Dimensions\": {\"Algorithm\": \"Linear Learner\", \"Host\": \"algo-1\", \"Operation\": \"training\", \"epoch\": 9, \"model\": 3}, \"Metrics\": {\"train_absolute_loss_objective\": {\"sum\": 0.7330564689636231, \"count\": 1, \"min\": 0.7330564689636231, \"max\": 0.7330564689636231}}}\u001b[0m\n",
      "\u001b[34m#metrics {\"StartTime\": 1693633608.2257447, \"EndTime\": 1693633608.225762, \"Dimensions\": {\"Algorithm\": \"Linear Learner\", \"Host\": \"algo-1\", \"Operation\": \"training\", \"epoch\": 9, \"model\": 4}, \"Metrics\": {\"train_absolute_loss_objective\": {\"sum\": 0.1695748448371887, \"count\": 1, \"min\": 0.1695748448371887, \"max\": 0.1695748448371887}}}\u001b[0m\n",
      "\u001b[34m#metrics {\"StartTime\": 1693633608.2258184, \"EndTime\": 1693633608.225836, \"Dimensions\": {\"Algorithm\": \"Linear Learner\", \"Host\": \"algo-1\", \"Operation\": \"training\", \"epoch\": 9, \"model\": 5}, \"Metrics\": {\"train_absolute_loss_objective\": {\"sum\": 0.2588885545730591, \"count\": 1, \"min\": 0.2588885545730591, \"max\": 0.2588885545730591}}}\u001b[0m\n",
      "\u001b[34m#metrics {\"StartTime\": 1693633608.2258842, \"EndTime\": 1693633608.225901, \"Dimensions\": {\"Algorithm\": \"Linear Learner\", \"Host\": \"algo-1\", \"Operation\": \"training\", \"epoch\": 9, \"model\": 6}, \"Metrics\": {\"train_absolute_loss_objective\": {\"sum\": 0.20871621131896972, \"count\": 1, \"min\": 0.20871621131896972, \"max\": 0.20871621131896972}}}\u001b[0m\n",
      "\u001b[34m#metrics {\"StartTime\": 1693633608.2259755, \"EndTime\": 1693633608.225993, \"Dimensions\": {\"Algorithm\": \"Linear Learner\", \"Host\": \"algo-1\", \"Operation\": \"training\", \"epoch\": 9, \"model\": 7}, \"Metrics\": {\"train_absolute_loss_objective\": {\"sum\": 0.1723948037624359, \"count\": 1, \"min\": 0.1723948037624359, \"max\": 0.1723948037624359}}}\u001b[0m\n",
      "\u001b[34m#metrics {\"StartTime\": 1693633608.226054, \"EndTime\": 1693633608.226072, \"Dimensions\": {\"Algorithm\": \"Linear Learner\", \"Host\": \"algo-1\", \"Operation\": \"training\", \"epoch\": 9, \"model\": 8}, \"Metrics\": {\"train_absolute_loss_objective\": {\"sum\": 0.7728379726409912, \"count\": 1, \"min\": 0.7728379726409912, \"max\": 0.7728379726409912}}}\u001b[0m\n",
      "\u001b[34m#metrics {\"StartTime\": 1693633608.2261238, \"EndTime\": 1693633608.2261386, \"Dimensions\": {\"Algorithm\": \"Linear Learner\", \"Host\": \"algo-1\", \"Operation\": \"training\", \"epoch\": 9, \"model\": 9}, \"Metrics\": {\"train_absolute_loss_objective\": {\"sum\": 0.7026267242431641, \"count\": 1, \"min\": 0.7026267242431641, \"max\": 0.7026267242431641}}}\u001b[0m\n",
      "\u001b[34m#metrics {\"StartTime\": 1693633608.2261903, \"EndTime\": 1693633608.2262065, \"Dimensions\": {\"Algorithm\": \"Linear Learner\", \"Host\": \"algo-1\", \"Operation\": \"training\", \"epoch\": 9, \"model\": 10}, \"Metrics\": {\"train_absolute_loss_objective\": {\"sum\": 0.712130184173584, \"count\": 1, \"min\": 0.712130184173584, \"max\": 0.712130184173584}}}\u001b[0m\n",
      "\u001b[34m#metrics {\"StartTime\": 1693633608.2263136, \"EndTime\": 1693633608.226333, \"Dimensions\": {\"Algorithm\": \"Linear Learner\", \"Host\": \"algo-1\", \"Operation\": \"training\", \"epoch\": 9, \"model\": 11}, \"Metrics\": {\"train_absolute_loss_objective\": {\"sum\": 0.6946907043457031, \"count\": 1, \"min\": 0.6946907043457031, \"max\": 0.6946907043457031}}}\u001b[0m\n",
      "\u001b[34m#metrics {\"StartTime\": 1693633608.2265098, \"EndTime\": 1693633608.2265303, \"Dimensions\": {\"Algorithm\": \"Linear Learner\", \"Host\": \"algo-1\", \"Operation\": \"training\", \"epoch\": 9, \"model\": 12}, \"Metrics\": {\"train_absolute_loss_objective\": {\"sum\": 0.30534754276275633, \"count\": 1, \"min\": 0.30534754276275633, \"max\": 0.30534754276275633}}}\u001b[0m\n",
      "\u001b[34m#metrics {\"StartTime\": 1693633608.226588, \"EndTime\": 1693633608.226599, \"Dimensions\": {\"Algorithm\": \"Linear Learner\", \"Host\": \"algo-1\", \"Operation\": \"training\", \"epoch\": 9, \"model\": 13}, \"Metrics\": {\"train_absolute_loss_objective\": {\"sum\": 0.23321988582611083, \"count\": 1, \"min\": 0.23321988582611083, \"max\": 0.23321988582611083}}}\u001b[0m\n",
      "\u001b[34m#metrics {\"StartTime\": 1693633608.226653, \"EndTime\": 1693633608.2266636, \"Dimensions\": {\"Algorithm\": \"Linear Learner\", \"Host\": \"algo-1\", \"Operation\": \"training\", \"epoch\": 9, \"model\": 14}, \"Metrics\": {\"train_absolute_loss_objective\": {\"sum\": 0.2420886731147766, \"count\": 1, \"min\": 0.2420886731147766, \"max\": 0.2420886731147766}}}\u001b[0m\n",
      "\u001b[34m#metrics {\"StartTime\": 1693633608.2267017, \"EndTime\": 1693633608.2267156, \"Dimensions\": {\"Algorithm\": \"Linear Learner\", \"Host\": \"algo-1\", \"Operation\": \"training\", \"epoch\": 9, \"model\": 15}, \"Metrics\": {\"train_absolute_loss_objective\": {\"sum\": 0.17574575185775757, \"count\": 1, \"min\": 0.17574575185775757, \"max\": 0.17574575185775757}}}\u001b[0m\n",
      "\u001b[34m#metrics {\"StartTime\": 1693633608.2267826, \"EndTime\": 1693633608.2267978, \"Dimensions\": {\"Algorithm\": \"Linear Learner\", \"Host\": \"algo-1\", \"Operation\": \"training\", \"epoch\": 9, \"model\": 16}, \"Metrics\": {\"train_absolute_loss_objective\": {\"sum\": 0.6915348052978516, \"count\": 1, \"min\": 0.6915348052978516, \"max\": 0.6915348052978516}}}\u001b[0m\n",
      "\u001b[34m#metrics {\"StartTime\": 1693633608.2268462, \"EndTime\": 1693633608.2268615, \"Dimensions\": {\"Algorithm\": \"Linear Learner\", \"Host\": \"algo-1\", \"Operation\": \"training\", \"epoch\": 9, \"model\": 17}, \"Metrics\": {\"train_absolute_loss_objective\": {\"sum\": 0.7366211986541749, \"count\": 1, \"min\": 0.7366211986541749, \"max\": 0.7366211986541749}}}\u001b[0m\n",
      "\u001b[34m#metrics {\"StartTime\": 1693633608.2269194, \"EndTime\": 1693633608.2269351, \"Dimensions\": {\"Algorithm\": \"Linear Learner\", \"Host\": \"algo-1\", \"Operation\": \"training\", \"epoch\": 9, \"model\": 18}, \"Metrics\": {\"train_absolute_loss_objective\": {\"sum\": 0.7167812442779541, \"count\": 1, \"min\": 0.7167812442779541, \"max\": 0.7167812442779541}}}\u001b[0m\n",
      "\u001b[34m#metrics {\"StartTime\": 1693633608.226983, \"EndTime\": 1693633608.2269983, \"Dimensions\": {\"Algorithm\": \"Linear Learner\", \"Host\": \"algo-1\", \"Operation\": \"training\", \"epoch\": 9, \"model\": 19}, \"Metrics\": {\"train_absolute_loss_objective\": {\"sum\": 0.7112147617340088, \"count\": 1, \"min\": 0.7112147617340088, \"max\": 0.7112147617340088}}}\u001b[0m\n",
      "\u001b[34m#metrics {\"StartTime\": 1693633608.2270555, \"EndTime\": 1693633608.2270715, \"Dimensions\": {\"Algorithm\": \"Linear Learner\", \"Host\": \"algo-1\", \"Operation\": \"training\", \"epoch\": 9, \"model\": 20}, \"Metrics\": {\"train_absolute_loss_objective\": {\"sum\": 0.2665368843078613, \"count\": 1, \"min\": 0.2665368843078613, \"max\": 0.2665368843078613}}}\u001b[0m\n",
      "\u001b[34m#metrics {\"StartTime\": 1693633608.2271264, \"EndTime\": 1693633608.2271419, \"Dimensions\": {\"Algorithm\": \"Linear Learner\", \"Host\": \"algo-1\", \"Operation\": \"training\", \"epoch\": 9, \"model\": 21}, \"Metrics\": {\"train_absolute_loss_objective\": {\"sum\": 0.28115206718444824, \"count\": 1, \"min\": 0.28115206718444824, \"max\": 0.28115206718444824}}}\u001b[0m\n",
      "\u001b[34m#metrics {\"StartTime\": 1693633608.2272377, \"EndTime\": 1693633608.2272568, \"Dimensions\": {\"Algorithm\": \"Linear Learner\", \"Host\": \"algo-1\", \"Operation\": \"training\", \"epoch\": 9, \"model\": 22}, \"Metrics\": {\"train_absolute_loss_objective\": {\"sum\": 0.38763845920562745, \"count\": 1, \"min\": 0.38763845920562745, \"max\": 0.38763845920562745}}}\u001b[0m\n",
      "\u001b[34m#metrics {\"StartTime\": 1693633608.227319, \"EndTime\": 1693633608.2273366, \"Dimensions\": {\"Algorithm\": \"Linear Learner\", \"Host\": \"algo-1\", \"Operation\": \"training\", \"epoch\": 9, \"model\": 23}, \"Metrics\": {\"train_absolute_loss_objective\": {\"sum\": 0.3412106847763062, \"count\": 1, \"min\": 0.3412106847763062, \"max\": 0.3412106847763062}}}\u001b[0m\n",
      "\u001b[34m#metrics {\"StartTime\": 1693633608.227379, \"EndTime\": 1693633608.2274096, \"Dimensions\": {\"Algorithm\": \"Linear Learner\", \"Host\": \"algo-1\", \"Operation\": \"training\", \"epoch\": 9, \"model\": 24}, \"Metrics\": {\"train_absolute_loss_objective\": {\"sum\": 0.8969849491119385, \"count\": 1, \"min\": 0.8969849491119385, \"max\": 0.8969849491119385}}}\u001b[0m\n",
      "\u001b[34m#metrics {\"StartTime\": 1693633608.2274594, \"EndTime\": 1693633608.2274745, \"Dimensions\": {\"Algorithm\": \"Linear Learner\", \"Host\": \"algo-1\", \"Operation\": \"training\", \"epoch\": 9, \"model\": 25}, \"Metrics\": {\"train_absolute_loss_objective\": {\"sum\": 0.8988971042633057, \"count\": 1, \"min\": 0.8988971042633057, \"max\": 0.8988971042633057}}}\u001b[0m\n",
      "\u001b[34m#metrics {\"StartTime\": 1693633608.2275298, \"EndTime\": 1693633608.2275457, \"Dimensions\": {\"Algorithm\": \"Linear Learner\", \"Host\": \"algo-1\", \"Operation\": \"training\", \"epoch\": 9, \"model\": 26}, \"Metrics\": {\"train_absolute_loss_objective\": {\"sum\": 0.9007160377502441, \"count\": 1, \"min\": 0.9007160377502441, \"max\": 0.9007160377502441}}}\u001b[0m\n",
      "\u001b[34m#metrics {\"StartTime\": 1693633608.2276044, \"EndTime\": 1693633608.227622, \"Dimensions\": {\"Algorithm\": \"Linear Learner\", \"Host\": \"algo-1\", \"Operation\": \"training\", \"epoch\": 9, \"model\": 27}, \"Metrics\": {\"train_absolute_loss_objective\": {\"sum\": 0.8999992752075195, \"count\": 1, \"min\": 0.8999992752075195, \"max\": 0.8999992752075195}}}\u001b[0m\n",
      "\u001b[34m#metrics {\"StartTime\": 1693633608.2276814, \"EndTime\": 1693633608.227693, \"Dimensions\": {\"Algorithm\": \"Linear Learner\", \"Host\": \"algo-1\", \"Operation\": \"training\", \"epoch\": 9, \"model\": 28}, \"Metrics\": {\"train_absolute_loss_objective\": {\"sum\": 0.9092693901062012, \"count\": 1, \"min\": 0.9092693901062012, \"max\": 0.9092693901062012}}}\u001b[0m\n",
      "\u001b[34m#metrics {\"StartTime\": 1693633608.2277908, \"EndTime\": 1693633608.2278075, \"Dimensions\": {\"Algorithm\": \"Linear Learner\", \"Host\": \"algo-1\", \"Operation\": \"training\", \"epoch\": 9, \"model\": 29}, \"Metrics\": {\"train_absolute_loss_objective\": {\"sum\": 0.9083160305023193, \"count\": 1, \"min\": 0.9083160305023193, \"max\": 0.9083160305023193}}}\u001b[0m\n",
      "\u001b[34m#metrics {\"StartTime\": 1693633608.227863, \"EndTime\": 1693633608.227874, \"Dimensions\": {\"Algorithm\": \"Linear Learner\", \"Host\": \"algo-1\", \"Operation\": \"training\", \"epoch\": 9, \"model\": 30}, \"Metrics\": {\"train_absolute_loss_objective\": {\"sum\": 0.927691125869751, \"count\": 1, \"min\": 0.927691125869751, \"max\": 0.927691125869751}}}\u001b[0m\n",
      "\u001b[34m#metrics {\"StartTime\": 1693633608.227911, \"EndTime\": 1693633608.2279248, \"Dimensions\": {\"Algorithm\": \"Linear Learner\", \"Host\": \"algo-1\", \"Operation\": \"training\", \"epoch\": 9, \"model\": 31}, \"Metrics\": {\"train_absolute_loss_objective\": {\"sum\": 0.9080316543579101, \"count\": 1, \"min\": 0.9080316543579101, \"max\": 0.9080316543579101}}}\u001b[0m\n",
      "\u001b[34m[09/02/2023 05:46:48 INFO 140628399605568] #quality_metric: host=algo-1, epoch=9, train absolute_loss_objective <loss>=0.7164883613586426\u001b[0m\n",
      "\u001b[34m[09/02/2023 05:46:48 INFO 140628399605568] #early_stopping_criteria_metric: host=algo-1, epoch=9, criteria=absolute_loss_objective, value=0.1695748448371887\u001b[0m\n",
      "\u001b[34m[09/02/2023 05:46:48 INFO 140628399605568] Epoch 9: Loss improved. Updating best model\u001b[0m\n",
      "\u001b[34m[09/02/2023 05:46:48 INFO 140628399605568] Saving model for epoch: 9\u001b[0m\n",
      "\u001b[34m[09/02/2023 05:46:48 INFO 140628399605568] Saved checkpoint to \"/tmp/tmpb0shx1fq/mx-mod-0000.params\"\u001b[0m\n",
      "\u001b[34m[09/02/2023 05:46:48 INFO 140628399605568] #progress_metric: host=algo-1, completed 20.0 % of epochs\u001b[0m\n",
      "\u001b[34m#metrics {\"StartTime\": 1693633608.144244, \"EndTime\": 1693633608.2353935, \"Dimensions\": {\"Algorithm\": \"Linear Learner\", \"Host\": \"algo-1\", \"Operation\": \"training\", \"epoch\": 9, \"Meta\": \"training_data_iter\"}, \"Metrics\": {\"Total Records Seen\": {\"sum\": 291.0, \"count\": 1, \"min\": 291, \"max\": 291}, \"Total Batches Seen\": {\"sum\": 67.0, \"count\": 1, \"min\": 67, \"max\": 67}, \"Max Records Seen Between Resets\": {\"sum\": 26.0, \"count\": 1, \"min\": 26, \"max\": 26}, \"Max Batches Seen Between Resets\": {\"sum\": 6.0, \"count\": 1, \"min\": 6, \"max\": 6}, \"Reset Count\": {\"sum\": 12.0, \"count\": 1, \"min\": 12, \"max\": 12}, \"Number of Records Since Last Reset\": {\"sum\": 26.0, \"count\": 1, \"min\": 26, \"max\": 26}, \"Number of Batches Since Last Reset\": {\"sum\": 6.0, \"count\": 1, \"min\": 6, \"max\": 6}}}\u001b[0m\n",
      "\u001b[34m[09/02/2023 05:46:48 INFO 140628399605568] #throughput_metric: host=algo-1, train throughput=284.8833030734466 records/second\u001b[0m\n",
      "\u001b[34m[2023-09-02 05:46:48.323] [tensorio] [info] epoch_stats={\"data_pipeline\": \"/opt/ml/input/data/train\", \"epoch\": 24, \"duration\": 87, \"num_examples\": 6, \"num_bytes\": 1248}\u001b[0m\n",
      "\u001b[34m#metrics {\"StartTime\": 1693633608.32322, \"EndTime\": 1693633608.3232806, \"Dimensions\": {\"Algorithm\": \"Linear Learner\", \"Host\": \"algo-1\", \"Operation\": \"training\", \"epoch\": 10, \"model\": 0}, \"Metrics\": {\"train_absolute_loss_objective\": {\"sum\": 0.6988163948059082, \"count\": 1, \"min\": 0.6988163948059082, \"max\": 0.6988163948059082}}}\u001b[0m\n",
      "\u001b[34m#metrics {\"StartTime\": 1693633608.3233492, \"EndTime\": 1693633608.3233685, \"Dimensions\": {\"Algorithm\": \"Linear Learner\", \"Host\": \"algo-1\", \"Operation\": \"training\", \"epoch\": 10, \"model\": 1}, \"Metrics\": {\"train_absolute_loss_objective\": {\"sum\": 0.713157262802124, \"count\": 1, \"min\": 0.713157262802124, \"max\": 0.713157262802124}}}\u001b[0m\n",
      "\u001b[34m#metrics {\"StartTime\": 1693633608.3234353, \"EndTime\": 1693633608.3234537, \"Dimensions\": {\"Algorithm\": \"Linear Learner\", \"Host\": \"algo-1\", \"Operation\": \"training\", \"epoch\": 10, \"model\": 2}, \"Metrics\": {\"train_absolute_loss_objective\": {\"sum\": 0.7011758518218995, \"count\": 1, \"min\": 0.7011758518218995, \"max\": 0.7011758518218995}}}\u001b[0m\n",
      "\u001b[34m#metrics {\"StartTime\": 1693633608.3235197, \"EndTime\": 1693633608.3235376, \"Dimensions\": {\"Algorithm\": \"Linear Learner\", \"Host\": \"algo-1\", \"Operation\": \"training\", \"epoch\": 10, \"model\": 3}, \"Metrics\": {\"train_absolute_loss_objective\": {\"sum\": 0.7121318626403809, \"count\": 1, \"min\": 0.7121318626403809, \"max\": 0.7121318626403809}}}\u001b[0m\n",
      "\u001b[34m#metrics {\"StartTime\": 1693633608.3235943, \"EndTime\": 1693633608.3236108, \"Dimensions\": {\"Algorithm\": \"Linear Learner\", \"Host\": \"algo-1\", \"Operation\": \"training\", \"epoch\": 10, \"model\": 4}, \"Metrics\": {\"train_absolute_loss_objective\": {\"sum\": 0.19161850214004517, \"count\": 1, \"min\": 0.19161850214004517, \"max\": 0.19161850214004517}}}\u001b[0m\n",
      "\u001b[34m#metrics {\"StartTime\": 1693633608.3236706, \"EndTime\": 1693633608.3236868, \"Dimensions\": {\"Algorithm\": \"Linear Learner\", \"Host\": \"algo-1\", \"Operation\": \"training\", \"epoch\": 10, \"model\": 5}, \"Metrics\": {\"train_absolute_loss_objective\": {\"sum\": 0.2858102321624756, \"count\": 1, \"min\": 0.2858102321624756, \"max\": 0.2858102321624756}}}\u001b[0m\n",
      "\u001b[34m#metrics {\"StartTime\": 1693633608.3237448, \"EndTime\": 1693633608.3237612, \"Dimensions\": {\"Algorithm\": \"Linear Learner\", \"Host\": \"algo-1\", \"Operation\": \"training\", \"epoch\": 10, \"model\": 6}, \"Metrics\": {\"train_absolute_loss_objective\": {\"sum\": 0.22330936908721924, \"count\": 1, \"min\": 0.22330936908721924, \"max\": 0.22330936908721924}}}\u001b[0m\n",
      "\u001b[34m#metrics {\"StartTime\": 1693633608.3238208, \"EndTime\": 1693633608.3238363, \"Dimensions\": {\"Algorithm\": \"Linear Learner\", \"Host\": \"algo-1\", \"Operation\": \"training\", \"epoch\": 10, \"model\": 7}, \"Metrics\": {\"train_absolute_loss_objective\": {\"sum\": 0.1916037368774414, \"count\": 1, \"min\": 0.1916037368774414, \"max\": 0.1916037368774414}}}\u001b[0m\n",
      "\u001b[34m#metrics {\"StartTime\": 1693633608.323892, \"EndTime\": 1693633608.3239086, \"Dimensions\": {\"Algorithm\": \"Linear Learner\", \"Host\": \"algo-1\", \"Operation\": \"training\", \"epoch\": 10, \"model\": 8}, \"Metrics\": {\"train_absolute_loss_objective\": {\"sum\": 0.7531562995910644, \"count\": 1, \"min\": 0.7531562995910644, \"max\": 0.7531562995910644}}}\u001b[0m\n",
      "\u001b[34m#metrics {\"StartTime\": 1693633608.3239694, \"EndTime\": 1693633608.3239863, \"Dimensions\": {\"Algorithm\": \"Linear Learner\", \"Host\": \"algo-1\", \"Operation\": \"training\", \"epoch\": 10, \"model\": 9}, \"Metrics\": {\"train_absolute_loss_objective\": {\"sum\": 0.6824299049377441, \"count\": 1, \"min\": 0.6824299049377441, \"max\": 0.6824299049377441}}}\u001b[0m\n",
      "\u001b[34m#metrics {\"StartTime\": 1693633608.3240469, \"EndTime\": 1693633608.3240638, \"Dimensions\": {\"Algorithm\": \"Linear Learner\", \"Host\": \"algo-1\", \"Operation\": \"training\", \"epoch\": 10, \"model\": 10}, \"Metrics\": {\"train_absolute_loss_objective\": {\"sum\": 0.6925189399719238, \"count\": 1, \"min\": 0.6925189399719238, \"max\": 0.6925189399719238}}}\u001b[0m\n",
      "\u001b[34m#metrics {\"StartTime\": 1693633608.324117, \"EndTime\": 1693633608.3241327, \"Dimensions\": {\"Algorithm\": \"Linear Learner\", \"Host\": \"algo-1\", \"Operation\": \"training\", \"epoch\": 10, \"model\": 11}, \"Metrics\": {\"train_absolute_loss_objective\": {\"sum\": 0.6744941902160645, \"count\": 1, \"min\": 0.6744941902160645, \"max\": 0.6744941902160645}}}\u001b[0m\n",
      "\u001b[34m#metrics {\"StartTime\": 1693633608.3241892, \"EndTime\": 1693633608.3242066, \"Dimensions\": {\"Algorithm\": \"Linear Learner\", \"Host\": \"algo-1\", \"Operation\": \"training\", \"epoch\": 10, \"model\": 12}, \"Metrics\": {\"train_absolute_loss_objective\": {\"sum\": 0.32844114303588867, \"count\": 1, \"min\": 0.32844114303588867, \"max\": 0.32844114303588867}}}\u001b[0m\n",
      "\u001b[34m#metrics {\"StartTime\": 1693633608.324265, \"EndTime\": 1693633608.3242817, \"Dimensions\": {\"Algorithm\": \"Linear Learner\", \"Host\": \"algo-1\", \"Operation\": \"training\", \"epoch\": 10, \"model\": 13}, \"Metrics\": {\"train_absolute_loss_objective\": {\"sum\": 0.18997824668884278, \"count\": 1, \"min\": 0.18997824668884278, \"max\": 0.18997824668884278}}}\u001b[0m\n",
      "\u001b[34m#metrics {\"StartTime\": 1693633608.3243399, \"EndTime\": 1693633608.3243563, \"Dimensions\": {\"Algorithm\": \"Linear Learner\", \"Host\": \"algo-1\", \"Operation\": \"training\", \"epoch\": 10, \"model\": 14}, \"Metrics\": {\"train_absolute_loss_objective\": {\"sum\": 0.31716630458831785, \"count\": 1, \"min\": 0.31716630458831785, \"max\": 0.31716630458831785}}}\u001b[0m\n",
      "\u001b[34m#metrics {\"StartTime\": 1693633608.3244088, \"EndTime\": 1693633608.3244245, \"Dimensions\": {\"Algorithm\": \"Linear Learner\", \"Host\": \"algo-1\", \"Operation\": \"training\", \"epoch\": 10, \"model\": 15}, \"Metrics\": {\"train_absolute_loss_objective\": {\"sum\": 0.2406782341003418, \"count\": 1, \"min\": 0.2406782341003418, \"max\": 0.2406782341003418}}}\u001b[0m\n",
      "\u001b[34m#metrics {\"StartTime\": 1693633608.3244824, \"EndTime\": 1693633608.3245003, \"Dimensions\": {\"Algorithm\": \"Linear Learner\", \"Host\": \"algo-1\", \"Operation\": \"training\", \"epoch\": 10, \"model\": 16}, \"Metrics\": {\"train_absolute_loss_objective\": {\"sum\": 0.6745794868469238, \"count\": 1, \"min\": 0.6745794868469238, \"max\": 0.6745794868469238}}}\u001b[0m\n",
      "\u001b[34m#metrics {\"StartTime\": 1693633608.3246174, \"EndTime\": 1693633608.324638, \"Dimensions\": {\"Algorithm\": \"Linear Learner\", \"Host\": \"algo-1\", \"Operation\": \"training\", \"epoch\": 10, \"model\": 17}, \"Metrics\": {\"train_absolute_loss_objective\": {\"sum\": 0.7180645275115967, \"count\": 1, \"min\": 0.7180645275115967, \"max\": 0.7180645275115967}}}\u001b[0m\n",
      "\u001b[34m#metrics {\"StartTime\": 1693633608.3246999, \"EndTime\": 1693633608.3247168, \"Dimensions\": {\"Algorithm\": \"Linear Learner\", \"Host\": \"algo-1\", \"Operation\": \"training\", \"epoch\": 10, \"model\": 18}, \"Metrics\": {\"train_absolute_loss_objective\": {\"sum\": 0.6988538551330566, \"count\": 1, \"min\": 0.6988538551330566, \"max\": 0.6988538551330566}}}\u001b[0m\n",
      "\u001b[34m#metrics {\"StartTime\": 1693633608.324777, \"EndTime\": 1693633608.3247929, \"Dimensions\": {\"Algorithm\": \"Linear Learner\", \"Host\": \"algo-1\", \"Operation\": \"training\", \"epoch\": 10, \"model\": 19}, \"Metrics\": {\"train_absolute_loss_objective\": {\"sum\": 0.6933805465698242, \"count\": 1, \"min\": 0.6933805465698242, \"max\": 0.6933805465698242}}}\u001b[0m\n",
      "\u001b[34m#metrics {\"StartTime\": 1693633608.324853, \"EndTime\": 1693633608.3248699, \"Dimensions\": {\"Algorithm\": \"Linear Learner\", \"Host\": \"algo-1\", \"Operation\": \"training\", \"epoch\": 10, \"model\": 20}, \"Metrics\": {\"train_absolute_loss_objective\": {\"sum\": 0.3027424669265747, \"count\": 1, \"min\": 0.3027424669265747, \"max\": 0.3027424669265747}}}\u001b[0m\n",
      "\u001b[34m#metrics {\"StartTime\": 1693633608.3249211, \"EndTime\": 1693633608.3249366, \"Dimensions\": {\"Algorithm\": \"Linear Learner\", \"Host\": \"algo-1\", \"Operation\": \"training\", \"epoch\": 10, \"model\": 21}, \"Metrics\": {\"train_absolute_loss_objective\": {\"sum\": 0.33022130489349366, \"count\": 1, \"min\": 0.33022130489349366, \"max\": 0.33022130489349366}}}\u001b[0m\n",
      "\u001b[34m#metrics {\"StartTime\": 1693633608.3249943, \"EndTime\": 1693633608.3250117, \"Dimensions\": {\"Algorithm\": \"Linear Learner\", \"Host\": \"algo-1\", \"Operation\": \"training\", \"epoch\": 10, \"model\": 22}, \"Metrics\": {\"train_absolute_loss_objective\": {\"sum\": 0.32666065692901614, \"count\": 1, \"min\": 0.32666065692901614, \"max\": 0.32666065692901614}}}\u001b[0m\n",
      "\u001b[34m#metrics {\"StartTime\": 1693633608.3250675, \"EndTime\": 1693633608.325084, \"Dimensions\": {\"Algorithm\": \"Linear Learner\", \"Host\": \"algo-1\", \"Operation\": \"training\", \"epoch\": 10, \"model\": 23}, \"Metrics\": {\"train_absolute_loss_objective\": {\"sum\": 0.3932588768005371, \"count\": 1, \"min\": 0.3932588768005371, \"max\": 0.3932588768005371}}}\u001b[0m\n",
      "\u001b[34m#metrics {\"StartTime\": 1693633608.325128, \"EndTime\": 1693633608.3251438, \"Dimensions\": {\"Algorithm\": \"Linear Learner\", \"Host\": \"algo-1\", \"Operation\": \"training\", \"epoch\": 10, \"model\": 24}, \"Metrics\": {\"train_absolute_loss_objective\": {\"sum\": 0.8985135173797607, \"count\": 1, \"min\": 0.8985135173797607, \"max\": 0.8985135173797607}}}\u001b[0m\n",
      "\u001b[34m#metrics {\"StartTime\": 1693633608.3251874, \"EndTime\": 1693633608.3252027, \"Dimensions\": {\"Algorithm\": \"Linear Learner\", \"Host\": \"algo-1\", \"Operation\": \"training\", \"epoch\": 10, \"model\": 25}, \"Metrics\": {\"train_absolute_loss_objective\": {\"sum\": 0.8985914039611816, \"count\": 1, \"min\": 0.8985914039611816, \"max\": 0.8985914039611816}}}\u001b[0m\n",
      "\u001b[34m#metrics {\"StartTime\": 1693633608.3252704, \"EndTime\": 1693633608.3252857, \"Dimensions\": {\"Algorithm\": \"Linear Learner\", \"Host\": \"algo-1\", \"Operation\": \"training\", \"epoch\": 10, \"model\": 26}, \"Metrics\": {\"train_absolute_loss_objective\": {\"sum\": 0.9008037948608398, \"count\": 1, \"min\": 0.9008037948608398, \"max\": 0.9008037948608398}}}\u001b[0m\n",
      "\u001b[34m#metrics {\"StartTime\": 1693633608.3253317, \"EndTime\": 1693633608.3253477, \"Dimensions\": {\"Algorithm\": \"Linear Learner\", \"Host\": \"algo-1\", \"Operation\": \"training\", \"epoch\": 10, \"model\": 27}, \"Metrics\": {\"train_absolute_loss_objective\": {\"sum\": 0.9001471138000489, \"count\": 1, \"min\": 0.9001471138000489, \"max\": 0.9001471138000489}}}\u001b[0m\n",
      "\u001b[34m#metrics {\"StartTime\": 1693633608.3253868, \"EndTime\": 1693633608.3254006, \"Dimensions\": {\"Algorithm\": \"Linear Learner\", \"Host\": \"algo-1\", \"Operation\": \"training\", \"epoch\": 10, \"model\": 28}, \"Metrics\": {\"train_absolute_loss_objective\": {\"sum\": 0.9188596057891846, \"count\": 1, \"min\": 0.9188596057891846, \"max\": 0.9188596057891846}}}\u001b[0m\n",
      "\u001b[34m#metrics {\"StartTime\": 1693633608.325448, \"EndTime\": 1693633608.3254638, \"Dimensions\": {\"Algorithm\": \"Linear Learner\", \"Host\": \"algo-1\", \"Operation\": \"training\", \"epoch\": 10, \"model\": 29}, \"Metrics\": {\"train_absolute_loss_objective\": {\"sum\": 0.9208019161224366, \"count\": 1, \"min\": 0.9208019161224366, \"max\": 0.9208019161224366}}}\u001b[0m\n",
      "\u001b[34m#metrics {\"StartTime\": 1693633608.3255074, \"EndTime\": 1693633608.3255222, \"Dimensions\": {\"Algorithm\": \"Linear Learner\", \"Host\": \"algo-1\", \"Operation\": \"training\", \"epoch\": 10, \"model\": 30}, \"Metrics\": {\"train_absolute_loss_objective\": {\"sum\": 0.9219072723388672, \"count\": 1, \"min\": 0.9219072723388672, \"max\": 0.9219072723388672}}}\u001b[0m\n",
      "\u001b[34m#metrics {\"StartTime\": 1693633608.325611, \"EndTime\": 1693633608.325627, \"Dimensions\": {\"Algorithm\": \"Linear Learner\", \"Host\": \"algo-1\", \"Operation\": \"training\", \"epoch\": 10, \"model\": 31}, \"Metrics\": {\"train_absolute_loss_objective\": {\"sum\": 0.9194744396209716, \"count\": 1, \"min\": 0.9194744396209716, \"max\": 0.9194744396209716}}}\u001b[0m\n",
      "\u001b[34m[09/02/2023 05:46:48 INFO 140628399605568] #quality_metric: host=algo-1, epoch=10, train absolute_loss_objective <loss>=0.6988163948059082\u001b[0m\n",
      "\u001b[34m[09/02/2023 05:46:48 INFO 140628399605568] #early_stopping_criteria_metric: host=algo-1, epoch=10, criteria=absolute_loss_objective, value=0.18997824668884278\u001b[0m\n",
      "\u001b[34m[09/02/2023 05:46:48 INFO 140628399605568] Saving model for epoch: 10\u001b[0m\n",
      "\u001b[34m[09/02/2023 05:46:48 INFO 140628399605568] Saved checkpoint to \"/tmp/tmpgp9m3ixy/mx-mod-0000.params\"\u001b[0m\n",
      "\u001b[34m[09/02/2023 05:46:48 INFO 140628399605568] #progress_metric: host=algo-1, completed 22.0 % of epochs\u001b[0m\n",
      "\u001b[34m#metrics {\"StartTime\": 1693633608.235667, \"EndTime\": 1693633608.3323965, \"Dimensions\": {\"Algorithm\": \"Linear Learner\", \"Host\": \"algo-1\", \"Operation\": \"training\", \"epoch\": 10, \"Meta\": \"training_data_iter\"}, \"Metrics\": {\"Total Records Seen\": {\"sum\": 317.0, \"count\": 1, \"min\": 317, \"max\": 317}, \"Total Batches Seen\": {\"sum\": 73.0, \"count\": 1, \"min\": 73, \"max\": 73}, \"Max Records Seen Between Resets\": {\"sum\": 26.0, \"count\": 1, \"min\": 26, \"max\": 26}, \"Max Batches Seen Between Resets\": {\"sum\": 6.0, \"count\": 1, \"min\": 6, \"max\": 6}, \"Reset Count\": {\"sum\": 13.0, \"count\": 1, \"min\": 13, \"max\": 13}, \"Number of Records Since Last Reset\": {\"sum\": 26.0, \"count\": 1, \"min\": 26, \"max\": 26}, \"Number of Batches Since Last Reset\": {\"sum\": 6.0, \"count\": 1, \"min\": 6, \"max\": 6}}}\u001b[0m\n",
      "\u001b[34m[09/02/2023 05:46:48 INFO 140628399605568] #throughput_metric: host=algo-1, train throughput=268.43016999049865 records/second\u001b[0m\n",
      "\u001b[34m[2023-09-02 05:46:48.434] [tensorio] [info] epoch_stats={\"data_pipeline\": \"/opt/ml/input/data/train\", \"epoch\": 26, \"duration\": 101, \"num_examples\": 6, \"num_bytes\": 1248}\u001b[0m\n",
      "\u001b[34m#metrics {\"StartTime\": 1693633608.4342341, \"EndTime\": 1693633608.4342964, \"Dimensions\": {\"Algorithm\": \"Linear Learner\", \"Host\": \"algo-1\", \"Operation\": \"training\", \"epoch\": 11, \"model\": 0}, \"Metrics\": {\"train_absolute_loss_objective\": {\"sum\": 0.6800654315948487, \"count\": 1, \"min\": 0.6800654315948487, \"max\": 0.6800654315948487}}}\u001b[0m\n",
      "\u001b[34m#metrics {\"StartTime\": 1693633608.4343967, \"EndTime\": 1693633608.4344127, \"Dimensions\": {\"Algorithm\": \"Linear Learner\", \"Host\": \"algo-1\", \"Operation\": \"training\", \"epoch\": 11, \"model\": 1}, \"Metrics\": {\"train_absolute_loss_objective\": {\"sum\": 0.6939251804351807, \"count\": 1, \"min\": 0.6939251804351807, \"max\": 0.6939251804351807}}}\u001b[0m\n",
      "\u001b[34m#metrics {\"StartTime\": 1693633608.4344842, \"EndTime\": 1693633608.4344964, \"Dimensions\": {\"Algorithm\": \"Linear Learner\", \"Host\": \"algo-1\", \"Operation\": \"training\", \"epoch\": 11, \"model\": 2}, \"Metrics\": {\"train_absolute_loss_objective\": {\"sum\": 0.6824249267578125, \"count\": 1, \"min\": 0.6824249267578125, \"max\": 0.6824249267578125}}}\u001b[0m\n",
      "\u001b[34m#metrics {\"StartTime\": 1693633608.43457, \"EndTime\": 1693633608.4345837, \"Dimensions\": {\"Algorithm\": \"Linear Learner\", \"Host\": \"algo-1\", \"Operation\": \"training\", \"epoch\": 11, \"model\": 3}, \"Metrics\": {\"train_absolute_loss_objective\": {\"sum\": 0.6929297542572022, \"count\": 1, \"min\": 0.6929297542572022, \"max\": 0.6929297542572022}}}\u001b[0m\n",
      "\u001b[34m#metrics {\"StartTime\": 1693633608.434651, \"EndTime\": 1693633608.4346623, \"Dimensions\": {\"Algorithm\": \"Linear Learner\", \"Host\": \"algo-1\", \"Operation\": \"training\", \"epoch\": 11, \"model\": 4}, \"Metrics\": {\"train_absolute_loss_objective\": {\"sum\": 0.18420226097106934, \"count\": 1, \"min\": 0.18420226097106934, \"max\": 0.18420226097106934}}}\u001b[0m\n",
      "\u001b[34m#metrics {\"StartTime\": 1693633608.4347332, \"EndTime\": 1693633608.4347463, \"Dimensions\": {\"Algorithm\": \"Linear Learner\", \"Host\": \"algo-1\", \"Operation\": \"training\", \"epoch\": 11, \"model\": 5}, \"Metrics\": {\"train_absolute_loss_objective\": {\"sum\": 0.2310213565826416, \"count\": 1, \"min\": 0.2310213565826416, \"max\": 0.2310213565826416}}}\u001b[0m\n",
      "\u001b[34m#metrics {\"StartTime\": 1693633608.434815, \"EndTime\": 1693633608.4348266, \"Dimensions\": {\"Algorithm\": \"Linear Learner\", \"Host\": \"algo-1\", \"Operation\": \"training\", \"epoch\": 11, \"model\": 6}, \"Metrics\": {\"train_absolute_loss_objective\": {\"sum\": 0.20018182516098024, \"count\": 1, \"min\": 0.20018182516098024, \"max\": 0.20018182516098024}}}\u001b[0m\n",
      "\u001b[34m#metrics {\"StartTime\": 1693633608.4349108, \"EndTime\": 1693633608.4349263, \"Dimensions\": {\"Algorithm\": \"Linear Learner\", \"Host\": \"algo-1\", \"Operation\": \"training\", \"epoch\": 11, \"model\": 7}, \"Metrics\": {\"train_absolute_loss_objective\": {\"sum\": 0.16730191230773925, \"count\": 1, \"min\": 0.16730191230773925, \"max\": 0.16730191230773925}}}\u001b[0m\n",
      "\u001b[34m#metrics {\"StartTime\": 1693633608.4349988, \"EndTime\": 1693633608.4350102, \"Dimensions\": {\"Algorithm\": \"Linear Learner\", \"Host\": \"algo-1\", \"Operation\": \"training\", \"epoch\": 11, \"model\": 8}, \"Metrics\": {\"train_absolute_loss_objective\": {\"sum\": 0.7350098705291748, \"count\": 1, \"min\": 0.7350098705291748, \"max\": 0.7350098705291748}}}\u001b[0m\n",
      "\u001b[34m#metrics {\"StartTime\": 1693633608.435079, \"EndTime\": 1693633608.4350924, \"Dimensions\": {\"Algorithm\": \"Linear Learner\", \"Host\": \"algo-1\", \"Operation\": \"training\", \"epoch\": 11, \"model\": 9}, \"Metrics\": {\"train_absolute_loss_objective\": {\"sum\": 0.6621344089508057, \"count\": 1, \"min\": 0.6621344089508057, \"max\": 0.6621344089508057}}}\u001b[0m\n",
      "\u001b[34m#metrics {\"StartTime\": 1693633608.435162, \"EndTime\": 1693633608.4351733, \"Dimensions\": {\"Algorithm\": \"Linear Learner\", \"Host\": \"algo-1\", \"Operation\": \"training\", \"epoch\": 11, \"model\": 10}, \"Metrics\": {\"train_absolute_loss_objective\": {\"sum\": 0.6742868328094482, \"count\": 1, \"min\": 0.6742868328094482, \"max\": 0.6742868328094482}}}\u001b[0m\n",
      "\u001b[34m#metrics {\"StartTime\": 1693633608.4352424, \"EndTime\": 1693633608.4352562, \"Dimensions\": {\"Algorithm\": \"Linear Learner\", \"Host\": \"algo-1\", \"Operation\": \"training\", \"epoch\": 11, \"model\": 11}, \"Metrics\": {\"train_absolute_loss_objective\": {\"sum\": 0.653959846496582, \"count\": 1, \"min\": 0.653959846496582, \"max\": 0.653959846496582}}}\u001b[0m\n",
      "\u001b[34m#metrics {\"StartTime\": 1693633608.4353392, \"EndTime\": 1693633608.4353538, \"Dimensions\": {\"Algorithm\": \"Linear Learner\", \"Host\": \"algo-1\", \"Operation\": \"training\", \"epoch\": 11, \"model\": 12}, \"Metrics\": {\"train_absolute_loss_objective\": {\"sum\": 0.2459604787826538, \"count\": 1, \"min\": 0.2459604787826538, \"max\": 0.2459604787826538}}}\u001b[0m\n",
      "\u001b[34m#metrics {\"StartTime\": 1693633608.4354227, \"EndTime\": 1693633608.4354343, \"Dimensions\": {\"Algorithm\": \"Linear Learner\", \"Host\": \"algo-1\", \"Operation\": \"training\", \"epoch\": 11, \"model\": 13}, \"Metrics\": {\"train_absolute_loss_objective\": {\"sum\": 0.22889652252197265, \"count\": 1, \"min\": 0.22889652252197265, \"max\": 0.22889652252197265}}}\u001b[0m\n",
      "\u001b[34m#metrics {\"StartTime\": 1693633608.4355059, \"EndTime\": 1693633608.4355187, \"Dimensions\": {\"Algorithm\": \"Linear Learner\", \"Host\": \"algo-1\", \"Operation\": \"training\", \"epoch\": 11, \"model\": 14}, \"Metrics\": {\"train_absolute_loss_objective\": {\"sum\": 0.32367402911186216, \"count\": 1, \"min\": 0.32367402911186216, \"max\": 0.32367402911186216}}}\u001b[0m\n",
      "\u001b[34m#metrics {\"StartTime\": 1693633608.4355993, \"EndTime\": 1693633608.4356134, \"Dimensions\": {\"Algorithm\": \"Linear Learner\", \"Host\": \"algo-1\", \"Operation\": \"training\", \"epoch\": 11, \"model\": 15}, \"Metrics\": {\"train_absolute_loss_objective\": {\"sum\": 0.18133665800094603, \"count\": 1, \"min\": 0.18133665800094603, \"max\": 0.18133665800094603}}}\u001b[0m\n",
      "\u001b[34m#metrics {\"StartTime\": 1693633608.4356997, \"EndTime\": 1693633608.4357142, \"Dimensions\": {\"Algorithm\": \"Linear Learner\", \"Host\": \"algo-1\", \"Operation\": \"training\", \"epoch\": 11, \"model\": 16}, \"Metrics\": {\"train_absolute_loss_objective\": {\"sum\": 0.6577318000793457, \"count\": 1, \"min\": 0.6577318000793457, \"max\": 0.6577318000793457}}}\u001b[0m\n",
      "\u001b[34m#metrics {\"StartTime\": 1693633608.4357817, \"EndTime\": 1693633608.4357932, \"Dimensions\": {\"Algorithm\": \"Linear Learner\", \"Host\": \"algo-1\", \"Operation\": \"training\", \"epoch\": 11, \"model\": 17}, \"Metrics\": {\"train_absolute_loss_objective\": {\"sum\": 0.7011942863464355, \"count\": 1, \"min\": 0.7011942863464355, \"max\": 0.7011942863464355}}}\u001b[0m\n",
      "\u001b[34m#metrics {\"StartTime\": 1693633608.4358668, \"EndTime\": 1693633608.4358797, \"Dimensions\": {\"Algorithm\": \"Linear Learner\", \"Host\": \"algo-1\", \"Operation\": \"training\", \"epoch\": 11, \"model\": 18}, \"Metrics\": {\"train_absolute_loss_objective\": {\"sum\": 0.6833208560943603, \"count\": 1, \"min\": 0.6833208560943603, \"max\": 0.6833208560943603}}}\u001b[0m\n",
      "\u001b[34m#metrics {\"StartTime\": 1693633608.4359243, \"EndTime\": 1693633608.4359393, \"Dimensions\": {\"Algorithm\": \"Linear Learner\", \"Host\": \"algo-1\", \"Operation\": \"training\", \"epoch\": 11, \"model\": 19}, \"Metrics\": {\"train_absolute_loss_objective\": {\"sum\": 0.6762088680267334, \"count\": 1, \"min\": 0.6762088680267334, \"max\": 0.6762088680267334}}}\u001b[0m\n",
      "\u001b[34m#metrics {\"StartTime\": 1693633608.4359822, \"EndTime\": 1693633608.4359965, \"Dimensions\": {\"Algorithm\": \"Linear Learner\", \"Host\": \"algo-1\", \"Operation\": \"training\", \"epoch\": 11, \"model\": 20}, \"Metrics\": {\"train_absolute_loss_objective\": {\"sum\": 0.3149872803688049, \"count\": 1, \"min\": 0.3149872803688049, \"max\": 0.3149872803688049}}}\u001b[0m\n",
      "\u001b[34m#metrics {\"StartTime\": 1693633608.4360483, \"EndTime\": 1693633608.4360635, \"Dimensions\": {\"Algorithm\": \"Linear Learner\", \"Host\": \"algo-1\", \"Operation\": \"training\", \"epoch\": 11, \"model\": 21}, \"Metrics\": {\"train_absolute_loss_objective\": {\"sum\": 0.3367165946960449, \"count\": 1, \"min\": 0.3367165946960449, \"max\": 0.3367165946960449}}}\u001b[0m\n",
      "\u001b[34m#metrics {\"StartTime\": 1693633608.4361126, \"EndTime\": 1693633608.4361274, \"Dimensions\": {\"Algorithm\": \"Linear Learner\", \"Host\": \"algo-1\", \"Operation\": \"training\", \"epoch\": 11, \"model\": 22}, \"Metrics\": {\"train_absolute_loss_objective\": {\"sum\": 0.3316385889053345, \"count\": 1, \"min\": 0.3316385889053345, \"max\": 0.3316385889053345}}}\u001b[0m\n",
      "\u001b[34m#metrics {\"StartTime\": 1693633608.4361713, \"EndTime\": 1693633608.436186, \"Dimensions\": {\"Algorithm\": \"Linear Learner\", \"Host\": \"algo-1\", \"Operation\": \"training\", \"epoch\": 11, \"model\": 23}, \"Metrics\": {\"train_absolute_loss_objective\": {\"sum\": 0.3527811479568481, \"count\": 1, \"min\": 0.3527811479568481, \"max\": 0.3527811479568481}}}\u001b[0m\n",
      "\u001b[34m#metrics {\"StartTime\": 1693633608.4362826, \"EndTime\": 1693633608.4362967, \"Dimensions\": {\"Algorithm\": \"Linear Learner\", \"Host\": \"algo-1\", \"Operation\": \"training\", \"epoch\": 11, \"model\": 24}, \"Metrics\": {\"train_absolute_loss_objective\": {\"sum\": 0.9007772064208984, \"count\": 1, \"min\": 0.9007772064208984, \"max\": 0.9007772064208984}}}\u001b[0m\n",
      "\u001b[34m#metrics {\"StartTime\": 1693633608.4363692, \"EndTime\": 1693633608.436387, \"Dimensions\": {\"Algorithm\": \"Linear Learner\", \"Host\": \"algo-1\", \"Operation\": \"training\", \"epoch\": 11, \"model\": 25}, \"Metrics\": {\"train_absolute_loss_objective\": {\"sum\": 0.899588851928711, \"count\": 1, \"min\": 0.899588851928711, \"max\": 0.899588851928711}}}\u001b[0m\n",
      "\u001b[34m#metrics {\"StartTime\": 1693633608.436485, \"EndTime\": 1693633608.4365048, \"Dimensions\": {\"Algorithm\": \"Linear Learner\", \"Host\": \"algo-1\", \"Operation\": \"training\", \"epoch\": 11, \"model\": 26}, \"Metrics\": {\"train_absolute_loss_objective\": {\"sum\": 0.9002131843566894, \"count\": 1, \"min\": 0.9002131843566894, \"max\": 0.9002131843566894}}}\u001b[0m\n",
      "\u001b[34m#metrics {\"StartTime\": 1693633608.4365473, \"EndTime\": 1693633608.4365811, \"Dimensions\": {\"Algorithm\": \"Linear Learner\", \"Host\": \"algo-1\", \"Operation\": \"training\", \"epoch\": 11, \"model\": 27}, \"Metrics\": {\"train_absolute_loss_objective\": {\"sum\": 0.9002631950378418, \"count\": 1, \"min\": 0.9002631950378418, \"max\": 0.9002631950378418}}}\u001b[0m\n",
      "\u001b[34m#metrics {\"StartTime\": 1693633608.436624, \"EndTime\": 1693633608.436639, \"Dimensions\": {\"Algorithm\": \"Linear Learner\", \"Host\": \"algo-1\", \"Operation\": \"training\", \"epoch\": 11, \"model\": 28}, \"Metrics\": {\"train_absolute_loss_objective\": {\"sum\": 0.913904333114624, \"count\": 1, \"min\": 0.913904333114624, \"max\": 0.913904333114624}}}\u001b[0m\n",
      "\u001b[34m#metrics {\"StartTime\": 1693633608.4366899, \"EndTime\": 1693633608.4367054, \"Dimensions\": {\"Algorithm\": \"Linear Learner\", \"Host\": \"algo-1\", \"Operation\": \"training\", \"epoch\": 11, \"model\": 29}, \"Metrics\": {\"train_absolute_loss_objective\": {\"sum\": 0.9160237026214599, \"count\": 1, \"min\": 0.9160237026214599, \"max\": 0.9160237026214599}}}\u001b[0m\n",
      "\u001b[34m#metrics {\"StartTime\": 1693633608.4367523, \"EndTime\": 1693633608.4367678, \"Dimensions\": {\"Algorithm\": \"Linear Learner\", \"Host\": \"algo-1\", \"Operation\": \"training\", \"epoch\": 11, \"model\": 30}, \"Metrics\": {\"train_absolute_loss_objective\": {\"sum\": 0.913859977722168, \"count\": 1, \"min\": 0.913859977722168, \"max\": 0.913859977722168}}}\u001b[0m\n",
      "\u001b[34m#metrics {\"StartTime\": 1693633608.4368114, \"EndTime\": 1693633608.4368255, \"Dimensions\": {\"Algorithm\": \"Linear Learner\", \"Host\": \"algo-1\", \"Operation\": \"training\", \"epoch\": 11, \"model\": 31}, \"Metrics\": {\"train_absolute_loss_objective\": {\"sum\": 0.9167086696624756, \"count\": 1, \"min\": 0.9167086696624756, \"max\": 0.9167086696624756}}}\u001b[0m\n",
      "\u001b[34m[09/02/2023 05:46:48 INFO 140628399605568] #quality_metric: host=algo-1, epoch=11, train absolute_loss_objective <loss>=0.6800654315948487\u001b[0m\n",
      "\u001b[34m[09/02/2023 05:46:48 INFO 140628399605568] #early_stopping_criteria_metric: host=algo-1, epoch=11, criteria=absolute_loss_objective, value=0.16730191230773925\u001b[0m\n",
      "\u001b[34m[09/02/2023 05:46:48 INFO 140628399605568] Epoch 11: Loss improved. Updating best model\u001b[0m\n",
      "\u001b[34m[09/02/2023 05:46:48 INFO 140628399605568] Saving model for epoch: 11\u001b[0m\n",
      "\u001b[34m[09/02/2023 05:46:48 INFO 140628399605568] Saved checkpoint to \"/tmp/tmplzsmq52e/mx-mod-0000.params\"\u001b[0m\n",
      "\u001b[34m[09/02/2023 05:46:48 INFO 140628399605568] #progress_metric: host=algo-1, completed 24.0 % of epochs\u001b[0m\n",
      "\u001b[34m#metrics {\"StartTime\": 1693633608.332696, \"EndTime\": 1693633608.4448867, \"Dimensions\": {\"Algorithm\": \"Linear Learner\", \"Host\": \"algo-1\", \"Operation\": \"training\", \"epoch\": 11, \"Meta\": \"training_data_iter\"}, \"Metrics\": {\"Total Records Seen\": {\"sum\": 343.0, \"count\": 1, \"min\": 343, \"max\": 343}, \"Total Batches Seen\": {\"sum\": 79.0, \"count\": 1, \"min\": 79, \"max\": 79}, \"Max Records Seen Between Resets\": {\"sum\": 26.0, \"count\": 1, \"min\": 26, \"max\": 26}, \"Max Batches Seen Between Resets\": {\"sum\": 6.0, \"count\": 1, \"min\": 6, \"max\": 6}, \"Reset Count\": {\"sum\": 14.0, \"count\": 1, \"min\": 14, \"max\": 14}, \"Number of Records Since Last Reset\": {\"sum\": 26.0, \"count\": 1, \"min\": 26, \"max\": 26}, \"Number of Batches Since Last Reset\": {\"sum\": 6.0, \"count\": 1, \"min\": 6, \"max\": 6}}}\u001b[0m\n",
      "\u001b[34m[09/02/2023 05:46:48 INFO 140628399605568] #throughput_metric: host=algo-1, train throughput=231.4815921749762 records/second\u001b[0m\n",
      "\u001b[34m[2023-09-02 05:46:48.549] [tensorio] [info] epoch_stats={\"data_pipeline\": \"/opt/ml/input/data/train\", \"epoch\": 28, \"duration\": 104, \"num_examples\": 6, \"num_bytes\": 1248}\u001b[0m\n",
      "\u001b[34m#metrics {\"StartTime\": 1693633608.5498853, \"EndTime\": 1693633608.5499709, \"Dimensions\": {\"Algorithm\": \"Linear Learner\", \"Host\": \"algo-1\", \"Operation\": \"training\", \"epoch\": 12, \"model\": 0}, \"Metrics\": {\"train_absolute_loss_objective\": {\"sum\": 0.6609110832214355, \"count\": 1, \"min\": 0.6609110832214355, \"max\": 0.6609110832214355}}}\u001b[0m\n",
      "\u001b[34m#metrics {\"StartTime\": 1693633608.5500648, \"EndTime\": 1693633608.5500863, \"Dimensions\": {\"Algorithm\": \"Linear Learner\", \"Host\": \"algo-1\", \"Operation\": \"training\", \"epoch\": 12, \"model\": 1}, \"Metrics\": {\"train_absolute_loss_objective\": {\"sum\": 0.6739014911651612, \"count\": 1, \"min\": 0.6739014911651612, \"max\": 0.6739014911651612}}}\u001b[0m\n",
      "\u001b[34m#metrics {\"StartTime\": 1693633608.5501342, \"EndTime\": 1693633608.5501513, \"Dimensions\": {\"Algorithm\": \"Linear Learner\", \"Host\": \"algo-1\", \"Operation\": \"training\", \"epoch\": 12, \"model\": 2}, \"Metrics\": {\"train_absolute_loss_objective\": {\"sum\": 0.6632705497741699, \"count\": 1, \"min\": 0.6632705497741699, \"max\": 0.6632705497741699}}}\u001b[0m\n",
      "\u001b[34m#metrics {\"StartTime\": 1693633608.5502117, \"EndTime\": 1693633608.5502293, \"Dimensions\": {\"Algorithm\": \"Linear Learner\", \"Host\": \"algo-1\", \"Operation\": \"training\", \"epoch\": 12, \"model\": 3}, \"Metrics\": {\"train_absolute_loss_objective\": {\"sum\": 0.672906084060669, \"count\": 1, \"min\": 0.672906084060669, \"max\": 0.672906084060669}}}\u001b[0m\n",
      "\u001b[34m#metrics {\"StartTime\": 1693633608.5502844, \"EndTime\": 1693633608.550301, \"Dimensions\": {\"Algorithm\": \"Linear Learner\", \"Host\": \"algo-1\", \"Operation\": \"training\", \"epoch\": 12, \"model\": 4}, \"Metrics\": {\"train_absolute_loss_objective\": {\"sum\": 0.22091869354248048, \"count\": 1, \"min\": 0.22091869354248048, \"max\": 0.22091869354248048}}}\u001b[0m\n",
      "\u001b[34m#metrics {\"StartTime\": 1693633608.550356, \"EndTime\": 1693633608.5503724, \"Dimensions\": {\"Algorithm\": \"Linear Learner\", \"Host\": \"algo-1\", \"Operation\": \"training\", \"epoch\": 12, \"model\": 5}, \"Metrics\": {\"train_absolute_loss_objective\": {\"sum\": 0.22267006158828737, \"count\": 1, \"min\": 0.22267006158828737, \"max\": 0.22267006158828737}}}\u001b[0m\n",
      "\u001b[34m#metrics {\"StartTime\": 1693633608.550429, \"EndTime\": 1693633608.5504458, \"Dimensions\": {\"Algorithm\": \"Linear Learner\", \"Host\": \"algo-1\", \"Operation\": \"training\", \"epoch\": 12, \"model\": 6}, \"Metrics\": {\"train_absolute_loss_objective\": {\"sum\": 0.18333948850631715, \"count\": 1, \"min\": 0.18333948850631715, \"max\": 0.18333948850631715}}}\u001b[0m\n",
      "\u001b[34m#metrics {\"StartTime\": 1693633608.5505078, \"EndTime\": 1693633608.550525, \"Dimensions\": {\"Algorithm\": \"Linear Learner\", \"Host\": \"algo-1\", \"Operation\": \"training\", \"epoch\": 12, \"model\": 7}, \"Metrics\": {\"train_absolute_loss_objective\": {\"sum\": 0.2243066430091858, \"count\": 1, \"min\": 0.2243066430091858, \"max\": 0.2243066430091858}}}\u001b[0m\n",
      "\u001b[34m#metrics {\"StartTime\": 1693633608.550585, \"EndTime\": 1693633608.5506024, \"Dimensions\": {\"Algorithm\": \"Linear Learner\", \"Host\": \"algo-1\", \"Operation\": \"training\", \"epoch\": 12, \"model\": 8}, \"Metrics\": {\"train_absolute_loss_objective\": {\"sum\": 0.7161406517028809, \"count\": 1, \"min\": 0.7161406517028809, \"max\": 0.7161406517028809}}}\u001b[0m\n",
      "\u001b[34m#metrics {\"StartTime\": 1693633608.5506644, \"EndTime\": 1693633608.5506818, \"Dimensions\": {\"Algorithm\": \"Linear Learner\", \"Host\": \"algo-1\", \"Operation\": \"training\", \"epoch\": 12, \"model\": 9}, \"Metrics\": {\"train_absolute_loss_objective\": {\"sum\": 0.6416248178482056, \"count\": 1, \"min\": 0.6416248178482056, \"max\": 0.6416248178482056}}}\u001b[0m\n",
      "\u001b[34m#metrics {\"StartTime\": 1693633608.550735, \"EndTime\": 1693633608.5507517, \"Dimensions\": {\"Algorithm\": \"Linear Learner\", \"Host\": \"algo-1\", \"Operation\": \"training\", \"epoch\": 12, \"model\": 10}, \"Metrics\": {\"train_absolute_loss_objective\": {\"sum\": 0.6554154777526855, \"count\": 1, \"min\": 0.6554154777526855, \"max\": 0.6554154777526855}}}\u001b[0m\n",
      "\u001b[34m#metrics {\"StartTime\": 1693633608.5508127, \"EndTime\": 1693633608.5508301, \"Dimensions\": {\"Algorithm\": \"Linear Learner\", \"Host\": \"algo-1\", \"Operation\": \"training\", \"epoch\": 12, \"model\": 11}, \"Metrics\": {\"train_absolute_loss_objective\": {\"sum\": 0.6334505701065063, \"count\": 1, \"min\": 0.6334505701065063, \"max\": 0.6334505701065063}}}\u001b[0m\n",
      "\u001b[34m#metrics {\"StartTime\": 1693633608.5508902, \"EndTime\": 1693633608.550907, \"Dimensions\": {\"Algorithm\": \"Linear Learner\", \"Host\": \"algo-1\", \"Operation\": \"training\", \"epoch\": 12, \"model\": 12}, \"Metrics\": {\"train_absolute_loss_objective\": {\"sum\": 0.30504971027374267, \"count\": 1, \"min\": 0.30504971027374267, \"max\": 0.30504971027374267}}}\u001b[0m\n",
      "\u001b[34m#metrics {\"StartTime\": 1693633608.5509675, \"EndTime\": 1693633608.5509846, \"Dimensions\": {\"Algorithm\": \"Linear Learner\", \"Host\": \"algo-1\", \"Operation\": \"training\", \"epoch\": 12, \"model\": 13}, \"Metrics\": {\"train_absolute_loss_objective\": {\"sum\": 0.20285090327262878, \"count\": 1, \"min\": 0.20285090327262878, \"max\": 0.20285090327262878}}}\u001b[0m\n",
      "\u001b[34m#metrics {\"StartTime\": 1693633608.551047, \"EndTime\": 1693633608.5510645, \"Dimensions\": {\"Algorithm\": \"Linear Learner\", \"Host\": \"algo-1\", \"Operation\": \"training\", \"epoch\": 12, \"model\": 14}, \"Metrics\": {\"train_absolute_loss_objective\": {\"sum\": 0.34334707736968995, \"count\": 1, \"min\": 0.34334707736968995, \"max\": 0.34334707736968995}}}\u001b[0m\n",
      "\u001b[34m#metrics {\"StartTime\": 1693633608.5511248, \"EndTime\": 1693633608.5511422, \"Dimensions\": {\"Algorithm\": \"Linear Learner\", \"Host\": \"algo-1\", \"Operation\": \"training\", \"epoch\": 12, \"model\": 15}, \"Metrics\": {\"train_absolute_loss_objective\": {\"sum\": 0.18634979486465453, \"count\": 1, \"min\": 0.18634979486465453, \"max\": 0.18634979486465453}}}\u001b[0m\n",
      "\u001b[34m#metrics {\"StartTime\": 1693633608.5512016, \"EndTime\": 1693633608.5512195, \"Dimensions\": {\"Algorithm\": \"Linear Learner\", \"Host\": \"algo-1\", \"Operation\": \"training\", \"epoch\": 12, \"model\": 16}, \"Metrics\": {\"train_absolute_loss_objective\": {\"sum\": 0.6413625526428223, \"count\": 1, \"min\": 0.6413625526428223, \"max\": 0.6413625526428223}}}\u001b[0m\n",
      "\u001b[34m#metrics {\"StartTime\": 1693633608.5512679, \"EndTime\": 1693633608.551282, \"Dimensions\": {\"Algorithm\": \"Linear Learner\", \"Host\": \"algo-1\", \"Operation\": \"training\", \"epoch\": 12, \"model\": 17}, \"Metrics\": {\"train_absolute_loss_objective\": {\"sum\": 0.6833960247039795, \"count\": 1, \"min\": 0.6833960247039795, \"max\": 0.6833960247039795}}}\u001b[0m\n",
      "\u001b[34m#metrics {\"StartTime\": 1693633608.5513232, \"EndTime\": 1693633608.5513363, \"Dimensions\": {\"Algorithm\": \"Linear Learner\", \"Host\": \"algo-1\", \"Operation\": \"training\", \"epoch\": 12, \"model\": 18}, \"Metrics\": {\"train_absolute_loss_objective\": {\"sum\": 0.6671725845336914, \"count\": 1, \"min\": 0.6671725845336914, \"max\": 0.6671725845336914}}}\u001b[0m\n",
      "\u001b[34m#metrics {\"StartTime\": 1693633608.5513794, \"EndTime\": 1693633608.5513947, \"Dimensions\": {\"Algorithm\": \"Linear Learner\", \"Host\": \"algo-1\", \"Operation\": \"training\", \"epoch\": 12, \"model\": 19}, \"Metrics\": {\"train_absolute_loss_objective\": {\"sum\": 0.6588120651245117, \"count\": 1, \"min\": 0.6588120651245117, \"max\": 0.6588120651245117}}}\u001b[0m\n",
      "\u001b[34m#metrics {\"StartTime\": 1693633608.5514412, \"EndTime\": 1693633608.5514555, \"Dimensions\": {\"Algorithm\": \"Linear Learner\", \"Host\": \"algo-1\", \"Operation\": \"training\", \"epoch\": 12, \"model\": 20}, \"Metrics\": {\"train_absolute_loss_objective\": {\"sum\": 0.3822511720657349, \"count\": 1, \"min\": 0.3822511720657349, \"max\": 0.3822511720657349}}}\u001b[0m\n",
      "\u001b[34m#metrics {\"StartTime\": 1693633608.5515022, \"EndTime\": 1693633608.551517, \"Dimensions\": {\"Algorithm\": \"Linear Learner\", \"Host\": \"algo-1\", \"Operation\": \"training\", \"epoch\": 12, \"model\": 21}, \"Metrics\": {\"train_absolute_loss_objective\": {\"sum\": 0.31859281063079836, \"count\": 1, \"min\": 0.31859281063079836, \"max\": 0.31859281063079836}}}\u001b[0m\n",
      "\u001b[34m#metrics {\"StartTime\": 1693633608.5515752, \"EndTime\": 1693633608.5515916, \"Dimensions\": {\"Algorithm\": \"Linear Learner\", \"Host\": \"algo-1\", \"Operation\": \"training\", \"epoch\": 12, \"model\": 22}, \"Metrics\": {\"train_absolute_loss_objective\": {\"sum\": 0.323994140625, \"count\": 1, \"min\": 0.323994140625, \"max\": 0.323994140625}}}\u001b[0m\n",
      "\u001b[34m#metrics {\"StartTime\": 1693633608.5516524, \"EndTime\": 1693633608.5516694, \"Dimensions\": {\"Algorithm\": \"Linear Learner\", \"Host\": \"algo-1\", \"Operation\": \"training\", \"epoch\": 12, \"model\": 23}, \"Metrics\": {\"train_absolute_loss_objective\": {\"sum\": 0.37247911930084227, \"count\": 1, \"min\": 0.37247911930084227, \"max\": 0.37247911930084227}}}\u001b[0m\n",
      "\u001b[34m#metrics {\"StartTime\": 1693633608.55173, \"EndTime\": 1693633608.551747, \"Dimensions\": {\"Algorithm\": \"Linear Learner\", \"Host\": \"algo-1\", \"Operation\": \"training\", \"epoch\": 12, \"model\": 24}, \"Metrics\": {\"train_absolute_loss_objective\": {\"sum\": 0.9012141609191895, \"count\": 1, \"min\": 0.9012141609191895, \"max\": 0.9012141609191895}}}\u001b[0m\n",
      "\u001b[34m#metrics {\"StartTime\": 1693633608.5518067, \"EndTime\": 1693633608.5518246, \"Dimensions\": {\"Algorithm\": \"Linear Learner\", \"Host\": \"algo-1\", \"Operation\": \"training\", \"epoch\": 12, \"model\": 25}, \"Metrics\": {\"train_absolute_loss_objective\": {\"sum\": 0.9003426837921142, \"count\": 1, \"min\": 0.9003426837921142, \"max\": 0.9003426837921142}}}\u001b[0m\n",
      "\u001b[34m#metrics {\"StartTime\": 1693633608.551884, \"EndTime\": 1693633608.5519013, \"Dimensions\": {\"Algorithm\": \"Linear Learner\", \"Host\": \"algo-1\", \"Operation\": \"training\", \"epoch\": 12, \"model\": 26}, \"Metrics\": {\"train_absolute_loss_objective\": {\"sum\": 0.8991961479187012, \"count\": 1, \"min\": 0.8991961479187012, \"max\": 0.8991961479187012}}}\u001b[0m\n",
      "\u001b[34m#metrics {\"StartTime\": 1693633608.5519629, \"EndTime\": 1693633608.5519805, \"Dimensions\": {\"Algorithm\": \"Linear Learner\", \"Host\": \"algo-1\", \"Operation\": \"training\", \"epoch\": 12, \"model\": 27}, \"Metrics\": {\"train_absolute_loss_objective\": {\"sum\": 0.8996241283416748, \"count\": 1, \"min\": 0.8996241283416748, \"max\": 0.8996241283416748}}}\u001b[0m\n",
      "\u001b[34m#metrics {\"StartTime\": 1693633608.5520332, \"EndTime\": 1693633608.5520499, \"Dimensions\": {\"Algorithm\": \"Linear Learner\", \"Host\": \"algo-1\", \"Operation\": \"training\", \"epoch\": 12, \"model\": 28}, \"Metrics\": {\"train_absolute_loss_objective\": {\"sum\": 0.9216695594787597, \"count\": 1, \"min\": 0.9216695594787597, \"max\": 0.9216695594787597}}}\u001b[0m\n",
      "\u001b[34m#metrics {\"StartTime\": 1693633608.5521102, \"EndTime\": 1693633608.552126, \"Dimensions\": {\"Algorithm\": \"Linear Learner\", \"Host\": \"algo-1\", \"Operation\": \"training\", \"epoch\": 12, \"model\": 29}, \"Metrics\": {\"train_absolute_loss_objective\": {\"sum\": 0.9223256587982178, \"count\": 1, \"min\": 0.9223256587982178, \"max\": 0.9223256587982178}}}\u001b[0m\n",
      "\u001b[34m#metrics {\"StartTime\": 1693633608.5521743, \"EndTime\": 1693633608.5521894, \"Dimensions\": {\"Algorithm\": \"Linear Learner\", \"Host\": \"algo-1\", \"Operation\": \"training\", \"epoch\": 12, \"model\": 30}, \"Metrics\": {\"train_absolute_loss_objective\": {\"sum\": 0.90349928855896, \"count\": 1, \"min\": 0.90349928855896, \"max\": 0.90349928855896}}}\u001b[0m\n",
      "\u001b[34m#metrics {\"StartTime\": 1693633608.5522413, \"EndTime\": 1693633608.552257, \"Dimensions\": {\"Algorithm\": \"Linear Learner\", \"Host\": \"algo-1\", \"Operation\": \"training\", \"epoch\": 12, \"model\": 31}, \"Metrics\": {\"train_absolute_loss_objective\": {\"sum\": 0.9213708972930909, \"count\": 1, \"min\": 0.9213708972930909, \"max\": 0.9213708972930909}}}\u001b[0m\n",
      "\u001b[34m[09/02/2023 05:46:48 INFO 140628399605568] #quality_metric: host=algo-1, epoch=12, train absolute_loss_objective <loss>=0.6609110832214355\u001b[0m\n",
      "\u001b[34m[09/02/2023 05:46:48 INFO 140628399605568] #early_stopping_criteria_metric: host=algo-1, epoch=12, criteria=absolute_loss_objective, value=0.18333948850631715\u001b[0m\n",
      "\u001b[34m[09/02/2023 05:46:48 INFO 140628399605568] Saving model for epoch: 12\u001b[0m\n",
      "\u001b[34m[09/02/2023 05:46:48 INFO 140628399605568] Saved checkpoint to \"/tmp/tmpa47rurot/mx-mod-0000.params\"\u001b[0m\n",
      "\u001b[34m[09/02/2023 05:46:48 INFO 140628399605568] #progress_metric: host=algo-1, completed 26.0 % of epochs\u001b[0m\n",
      "\u001b[34m#metrics {\"StartTime\": 1693633608.4451678, \"EndTime\": 1693633608.56233, \"Dimensions\": {\"Algorithm\": \"Linear Learner\", \"Host\": \"algo-1\", \"Operation\": \"training\", \"epoch\": 12, \"Meta\": \"training_data_iter\"}, \"Metrics\": {\"Total Records Seen\": {\"sum\": 369.0, \"count\": 1, \"min\": 369, \"max\": 369}, \"Total Batches Seen\": {\"sum\": 85.0, \"count\": 1, \"min\": 85, \"max\": 85}, \"Max Records Seen Between Resets\": {\"sum\": 26.0, \"count\": 1, \"min\": 26, \"max\": 26}, \"Max Batches Seen Between Resets\": {\"sum\": 6.0, \"count\": 1, \"min\": 6, \"max\": 6}, \"Reset Count\": {\"sum\": 15.0, \"count\": 1, \"min\": 15, \"max\": 15}, \"Number of Records Since Last Reset\": {\"sum\": 26.0, \"count\": 1, \"min\": 26, \"max\": 26}, \"Number of Batches Since Last Reset\": {\"sum\": 6.0, \"count\": 1, \"min\": 6, \"max\": 6}}}\u001b[0m\n",
      "\u001b[34m[09/02/2023 05:46:48 INFO 140628399605568] #throughput_metric: host=algo-1, train throughput=221.643453959737 records/second\u001b[0m\n",
      "\u001b[34m[2023-09-02 05:46:48.698] [tensorio] [info] epoch_stats={\"data_pipeline\": \"/opt/ml/input/data/train\", \"epoch\": 30, \"duration\": 135, \"num_examples\": 6, \"num_bytes\": 1248}\u001b[0m\n",
      "\u001b[34m#metrics {\"StartTime\": 1693633608.6991262, \"EndTime\": 1693633608.6992164, \"Dimensions\": {\"Algorithm\": \"Linear Learner\", \"Host\": \"algo-1\", \"Operation\": \"training\", \"epoch\": 13, \"model\": 0}, \"Metrics\": {\"train_absolute_loss_objective\": {\"sum\": 0.641023588180542, \"count\": 1, \"min\": 0.641023588180542, \"max\": 0.641023588180542}}}\u001b[0m\n",
      "\u001b[34m#metrics {\"StartTime\": 1693633608.699546, \"EndTime\": 1693633608.6995702, \"Dimensions\": {\"Algorithm\": \"Linear Learner\", \"Host\": \"algo-1\", \"Operation\": \"training\", \"epoch\": 13, \"model\": 1}, \"Metrics\": {\"train_absolute_loss_objective\": {\"sum\": 0.653793568611145, \"count\": 1, \"min\": 0.653793568611145, \"max\": 0.653793568611145}}}\u001b[0m\n",
      "\u001b[34m#metrics {\"StartTime\": 1693633608.69985, \"EndTime\": 1693633608.6998718, \"Dimensions\": {\"Algorithm\": \"Linear Learner\", \"Host\": \"algo-1\", \"Operation\": \"training\", \"epoch\": 13, \"model\": 2}, \"Metrics\": {\"train_absolute_loss_objective\": {\"sum\": 0.6434541511535644, \"count\": 1, \"min\": 0.6434541511535644, \"max\": 0.6434541511535644}}}\u001b[0m\n",
      "\u001b[34m#metrics {\"StartTime\": 1693633608.7001505, \"EndTime\": 1693633608.7001722, \"Dimensions\": {\"Algorithm\": \"Linear Learner\", \"Host\": \"algo-1\", \"Operation\": \"training\", \"epoch\": 13, \"model\": 3}, \"Metrics\": {\"train_absolute_loss_objective\": {\"sum\": 0.652768144607544, \"count\": 1, \"min\": 0.652768144607544, \"max\": 0.652768144607544}}}\u001b[0m\n",
      "\u001b[34m#metrics {\"StartTime\": 1693633608.7004542, \"EndTime\": 1693633608.7004762, \"Dimensions\": {\"Algorithm\": \"Linear Learner\", \"Host\": \"algo-1\", \"Operation\": \"training\", \"epoch\": 13, \"model\": 4}, \"Metrics\": {\"train_absolute_loss_objective\": {\"sum\": 0.15494707345962525, \"count\": 1, \"min\": 0.15494707345962525, \"max\": 0.15494707345962525}}}\u001b[0m\n",
      "\u001b[34m#metrics {\"StartTime\": 1693633608.7008116, \"EndTime\": 1693633608.7008345, \"Dimensions\": {\"Algorithm\": \"Linear Learner\", \"Host\": \"algo-1\", \"Operation\": \"training\", \"epoch\": 13, \"model\": 5}, \"Metrics\": {\"train_absolute_loss_objective\": {\"sum\": 0.2176256012916565, \"count\": 1, \"min\": 0.2176256012916565, \"max\": 0.2176256012916565}}}\u001b[0m\n",
      "\u001b[34m#metrics {\"StartTime\": 1693633608.7011428, \"EndTime\": 1693633608.7011645, \"Dimensions\": {\"Algorithm\": \"Linear Learner\", \"Host\": \"algo-1\", \"Operation\": \"training\", \"epoch\": 13, \"model\": 6}, \"Metrics\": {\"train_absolute_loss_objective\": {\"sum\": 0.19656664609909058, \"count\": 1, \"min\": 0.19656664609909058, \"max\": 0.19656664609909058}}}\u001b[0m\n",
      "\u001b[34m#metrics {\"StartTime\": 1693633608.7014759, \"EndTime\": 1693633608.7014983, \"Dimensions\": {\"Algorithm\": \"Linear Learner\", \"Host\": \"algo-1\", \"Operation\": \"training\", \"epoch\": 13, \"model\": 7}, \"Metrics\": {\"train_absolute_loss_objective\": {\"sum\": 0.1697636640071869, \"count\": 1, \"min\": 0.1697636640071869, \"max\": 0.1697636640071869}}}\u001b[0m\n",
      "\u001b[34m#metrics {\"StartTime\": 1693633608.7018137, \"EndTime\": 1693633608.701836, \"Dimensions\": {\"Algorithm\": \"Linear Learner\", \"Host\": \"algo-1\", \"Operation\": \"training\", \"epoch\": 13, \"model\": 8}, \"Metrics\": {\"train_absolute_loss_objective\": {\"sum\": 0.69668062210083, \"count\": 1, \"min\": 0.69668062210083, \"max\": 0.69668062210083}}}\u001b[0m\n",
      "\u001b[34m#metrics {\"StartTime\": 1693633608.7021403, \"EndTime\": 1693633608.7021887, \"Dimensions\": {\"Algorithm\": \"Linear Learner\", \"Host\": \"algo-1\", \"Operation\": \"training\", \"epoch\": 13, \"model\": 9}, \"Metrics\": {\"train_absolute_loss_objective\": {\"sum\": 0.6227396059036255, \"count\": 1, \"min\": 0.6227396059036255, \"max\": 0.6227396059036255}}}\u001b[0m\n",
      "\u001b[34m#metrics {\"StartTime\": 1693633608.7024748, \"EndTime\": 1693633608.702497, \"Dimensions\": {\"Algorithm\": \"Linear Learner\", \"Host\": \"algo-1\", \"Operation\": \"training\", \"epoch\": 13, \"model\": 10}, \"Metrics\": {\"train_absolute_loss_objective\": {\"sum\": 0.6360648250579835, \"count\": 1, \"min\": 0.6360648250579835, \"max\": 0.6360648250579835}}}\u001b[0m\n",
      "\u001b[34m#metrics {\"StartTime\": 1693633608.7028098, \"EndTime\": 1693633608.702832, \"Dimensions\": {\"Algorithm\": \"Linear Learner\", \"Host\": \"algo-1\", \"Operation\": \"training\", \"epoch\": 13, \"model\": 11}, \"Metrics\": {\"train_absolute_loss_objective\": {\"sum\": 0.614804801940918, \"count\": 1, \"min\": 0.614804801940918, \"max\": 0.614804801940918}}}\u001b[0m\n",
      "\u001b[34m#metrics {\"StartTime\": 1693633608.7031498, \"EndTime\": 1693633608.7031722, \"Dimensions\": {\"Algorithm\": \"Linear Learner\", \"Host\": \"algo-1\", \"Operation\": \"training\", \"epoch\": 13, \"model\": 12}, \"Metrics\": {\"train_absolute_loss_objective\": {\"sum\": 0.21772658109664916, \"count\": 1, \"min\": 0.21772658109664916, \"max\": 0.21772658109664916}}}\u001b[0m\n",
      "\u001b[34m#metrics {\"StartTime\": 1693633608.7034898, \"EndTime\": 1693633608.7035124, \"Dimensions\": {\"Algorithm\": \"Linear Learner\", \"Host\": \"algo-1\", \"Operation\": \"training\", \"epoch\": 13, \"model\": 13}, \"Metrics\": {\"train_absolute_loss_objective\": {\"sum\": 0.19234556674957276, \"count\": 1, \"min\": 0.19234556674957276, \"max\": 0.19234556674957276}}}\u001b[0m\n",
      "\u001b[34m#metrics {\"StartTime\": 1693633608.703823, \"EndTime\": 1693633608.7038448, \"Dimensions\": {\"Algorithm\": \"Linear Learner\", \"Host\": \"algo-1\", \"Operation\": \"training\", \"epoch\": 13, \"model\": 14}, \"Metrics\": {\"train_absolute_loss_objective\": {\"sum\": 0.24604904651641846, \"count\": 1, \"min\": 0.24604904651641846, \"max\": 0.24604904651641846}}}\u001b[0m\n",
      "\u001b[34m#metrics {\"StartTime\": 1693633608.7041602, \"EndTime\": 1693633608.7041829, \"Dimensions\": {\"Algorithm\": \"Linear Learner\", \"Host\": \"algo-1\", \"Operation\": \"training\", \"epoch\": 13, \"model\": 15}, \"Metrics\": {\"train_absolute_loss_objective\": {\"sum\": 0.19577507972717284, \"count\": 1, \"min\": 0.19577507972717284, \"max\": 0.19577507972717284}}}\u001b[0m\n",
      "\u001b[34m#metrics {\"StartTime\": 1693633608.7044904, \"EndTime\": 1693633608.704513, \"Dimensions\": {\"Algorithm\": \"Linear Learner\", \"Host\": \"algo-1\", \"Operation\": \"training\", \"epoch\": 13, \"model\": 16}, \"Metrics\": {\"train_absolute_loss_objective\": {\"sum\": 0.6269819164276123, \"count\": 1, \"min\": 0.6269819164276123, \"max\": 0.6269819164276123}}}\u001b[0m\n",
      "\u001b[34m#metrics {\"StartTime\": 1693633608.7048023, \"EndTime\": 1693633608.704824, \"Dimensions\": {\"Algorithm\": \"Linear Learner\", \"Host\": \"algo-1\", \"Operation\": \"training\", \"epoch\": 13, \"model\": 17}, \"Metrics\": {\"train_absolute_loss_objective\": {\"sum\": 0.6675456523895263, \"count\": 1, \"min\": 0.6675456523895263, \"max\": 0.6675456523895263}}}\u001b[0m\n",
      "\u001b[34m#metrics {\"StartTime\": 1693633608.7050934, \"EndTime\": 1693633608.7051153, \"Dimensions\": {\"Algorithm\": \"Linear Learner\", \"Host\": \"algo-1\", \"Operation\": \"training\", \"epoch\": 13, \"model\": 18}, \"Metrics\": {\"train_absolute_loss_objective\": {\"sum\": 0.6511953353881836, \"count\": 1, \"min\": 0.6511953353881836, \"max\": 0.6511953353881836}}}\u001b[0m\n",
      "\u001b[34m#metrics {\"StartTime\": 1693633608.7053647, \"EndTime\": 1693633608.705386, \"Dimensions\": {\"Algorithm\": \"Linear Learner\", \"Host\": \"algo-1\", \"Operation\": \"training\", \"epoch\": 13, \"model\": 19}, \"Metrics\": {\"train_absolute_loss_objective\": {\"sum\": 0.6427697944641113, \"count\": 1, \"min\": 0.6427697944641113, \"max\": 0.6427697944641113}}}\u001b[0m\n",
      "\u001b[34m#metrics {\"StartTime\": 1693633608.7054515, \"EndTime\": 1693633608.7054949, \"Dimensions\": {\"Algorithm\": \"Linear Learner\", \"Host\": \"algo-1\", \"Operation\": \"training\", \"epoch\": 13, \"model\": 20}, \"Metrics\": {\"train_absolute_loss_objective\": {\"sum\": 0.4014063835144043, \"count\": 1, \"min\": 0.4014063835144043, \"max\": 0.4014063835144043}}}\u001b[0m\n",
      "\u001b[34m#metrics {\"StartTime\": 1693633608.7055573, \"EndTime\": 1693633608.705573, \"Dimensions\": {\"Algorithm\": \"Linear Learner\", \"Host\": \"algo-1\", \"Operation\": \"training\", \"epoch\": 13, \"model\": 21}, \"Metrics\": {\"train_absolute_loss_objective\": {\"sum\": 0.3488669729232788, \"count\": 1, \"min\": 0.3488669729232788, \"max\": 0.3488669729232788}}}\u001b[0m\n",
      "\u001b[34m#metrics {\"StartTime\": 1693633608.7056286, \"EndTime\": 1693633608.705643, \"Dimensions\": {\"Algorithm\": \"Linear Learner\", \"Host\": \"algo-1\", \"Operation\": \"training\", \"epoch\": 13, \"model\": 22}, \"Metrics\": {\"train_absolute_loss_objective\": {\"sum\": 0.3002448844909668, \"count\": 1, \"min\": 0.3002448844909668, \"max\": 0.3002448844909668}}}\u001b[0m\n",
      "\u001b[34m#metrics {\"StartTime\": 1693633608.705697, \"EndTime\": 1693633608.7057104, \"Dimensions\": {\"Algorithm\": \"Linear Learner\", \"Host\": \"algo-1\", \"Operation\": \"training\", \"epoch\": 13, \"model\": 23}, \"Metrics\": {\"train_absolute_loss_objective\": {\"sum\": 0.3973871612548828, \"count\": 1, \"min\": 0.3973871612548828, \"max\": 0.3973871612548828}}}\u001b[0m\n",
      "\u001b[34m#metrics {\"StartTime\": 1693633608.705762, \"EndTime\": 1693633608.7057755, \"Dimensions\": {\"Algorithm\": \"Linear Learner\", \"Host\": \"algo-1\", \"Operation\": \"training\", \"epoch\": 13, \"model\": 24}, \"Metrics\": {\"train_absolute_loss_objective\": {\"sum\": 0.9011672496795654, \"count\": 1, \"min\": 0.9011672496795654, \"max\": 0.9011672496795654}}}\u001b[0m\n",
      "\u001b[34m#metrics {\"StartTime\": 1693633608.7058647, \"EndTime\": 1693633608.7058804, \"Dimensions\": {\"Algorithm\": \"Linear Learner\", \"Host\": \"algo-1\", \"Operation\": \"training\", \"epoch\": 13, \"model\": 25}, \"Metrics\": {\"train_absolute_loss_objective\": {\"sum\": 0.9011091709136962, \"count\": 1, \"min\": 0.9011091709136962, \"max\": 0.9011091709136962}}}\u001b[0m\n",
      "\u001b[34m#metrics {\"StartTime\": 1693633608.705956, \"EndTime\": 1693633608.7059712, \"Dimensions\": {\"Algorithm\": \"Linear Learner\", \"Host\": \"algo-1\", \"Operation\": \"training\", \"epoch\": 13, \"model\": 26}, \"Metrics\": {\"train_absolute_loss_objective\": {\"sum\": 0.8998203563690186, \"count\": 1, \"min\": 0.8998203563690186, \"max\": 0.8998203563690186}}}\u001b[0m\n",
      "\u001b[34m#metrics {\"StartTime\": 1693633608.706072, \"EndTime\": 1693633608.7060893, \"Dimensions\": {\"Algorithm\": \"Linear Learner\", \"Host\": \"algo-1\", \"Operation\": \"training\", \"epoch\": 13, \"model\": 27}, \"Metrics\": {\"train_absolute_loss_objective\": {\"sum\": 0.9001930141448975, \"count\": 1, \"min\": 0.9001930141448975, \"max\": 0.9001930141448975}}}\u001b[0m\n",
      "\u001b[34m#metrics {\"StartTime\": 1693633608.7061706, \"EndTime\": 1693633608.706185, \"Dimensions\": {\"Algorithm\": \"Linear Learner\", \"Host\": \"algo-1\", \"Operation\": \"training\", \"epoch\": 13, \"model\": 28}, \"Metrics\": {\"train_absolute_loss_objective\": {\"sum\": 0.9308812046051025, \"count\": 1, \"min\": 0.9308812046051025, \"max\": 0.9308812046051025}}}\u001b[0m\n",
      "\u001b[34m#metrics {\"StartTime\": 1693633608.7062678, \"EndTime\": 1693633608.7062838, \"Dimensions\": {\"Algorithm\": \"Linear Learner\", \"Host\": \"algo-1\", \"Operation\": \"training\", \"epoch\": 13, \"model\": 29}, \"Metrics\": {\"train_absolute_loss_objective\": {\"sum\": 0.9337489318847656, \"count\": 1, \"min\": 0.9337489318847656, \"max\": 0.9337489318847656}}}\u001b[0m\n",
      "\u001b[34m#metrics {\"StartTime\": 1693633608.7063782, \"EndTime\": 1693633608.7063954, \"Dimensions\": {\"Algorithm\": \"Linear Learner\", \"Host\": \"algo-1\", \"Operation\": \"training\", \"epoch\": 13, \"model\": 30}, \"Metrics\": {\"train_absolute_loss_objective\": {\"sum\": 0.9275471496582032, \"count\": 1, \"min\": 0.9275471496582032, \"max\": 0.9275471496582032}}}\u001b[0m\n",
      "\u001b[34m#metrics {\"StartTime\": 1693633608.70659, \"EndTime\": 1693633608.7066102, \"Dimensions\": {\"Algorithm\": \"Linear Learner\", \"Host\": \"algo-1\", \"Operation\": \"training\", \"epoch\": 13, \"model\": 31}, \"Metrics\": {\"train_absolute_loss_objective\": {\"sum\": 0.9318636894226074, \"count\": 1, \"min\": 0.9318636894226074, \"max\": 0.9318636894226074}}}\u001b[0m\n",
      "\u001b[34m[09/02/2023 05:46:48 INFO 140628399605568] #quality_metric: host=algo-1, epoch=13, train absolute_loss_objective <loss>=0.641023588180542\u001b[0m\n",
      "\u001b[34m[09/02/2023 05:46:48 INFO 140628399605568] #early_stopping_criteria_metric: host=algo-1, epoch=13, criteria=absolute_loss_objective, value=0.15494707345962525\u001b[0m\n",
      "\u001b[34m[09/02/2023 05:46:48 INFO 140628399605568] Epoch 13: Loss improved. Updating best model\u001b[0m\n",
      "\u001b[34m[09/02/2023 05:46:48 INFO 140628399605568] Saving model for epoch: 13\u001b[0m\n",
      "\u001b[34m[09/02/2023 05:46:48 INFO 140628399605568] Saved checkpoint to \"/tmp/tmp247iz7hc/mx-mod-0000.params\"\u001b[0m\n",
      "\u001b[34m[09/02/2023 05:46:48 INFO 140628399605568] #progress_metric: host=algo-1, completed 28.0 % of epochs\u001b[0m\n",
      "\u001b[34m#metrics {\"StartTime\": 1693633608.5627916, \"EndTime\": 1693633608.719703, \"Dimensions\": {\"Algorithm\": \"Linear Learner\", \"Host\": \"algo-1\", \"Operation\": \"training\", \"epoch\": 13, \"Meta\": \"training_data_iter\"}, \"Metrics\": {\"Total Records Seen\": {\"sum\": 395.0, \"count\": 1, \"min\": 395, \"max\": 395}, \"Total Batches Seen\": {\"sum\": 91.0, \"count\": 1, \"min\": 91, \"max\": 91}, \"Max Records Seen Between Resets\": {\"sum\": 26.0, \"count\": 1, \"min\": 26, \"max\": 26}, \"Max Batches Seen Between Resets\": {\"sum\": 6.0, \"count\": 1, \"min\": 6, \"max\": 6}, \"Reset Count\": {\"sum\": 16.0, \"count\": 1, \"min\": 16, \"max\": 16}, \"Number of Records Since Last Reset\": {\"sum\": 26.0, \"count\": 1, \"min\": 26, \"max\": 26}, \"Number of Batches Since Last Reset\": {\"sum\": 6.0, \"count\": 1, \"min\": 6, \"max\": 6}}}\u001b[0m\n",
      "\u001b[34m[09/02/2023 05:46:48 INFO 140628399605568] #throughput_metric: host=algo-1, train throughput=165.5391640152527 records/second\u001b[0m\n",
      "\u001b[34m[2023-09-02 05:46:48.843] [tensorio] [info] epoch_stats={\"data_pipeline\": \"/opt/ml/input/data/train\", \"epoch\": 32, \"duration\": 123, \"num_examples\": 6, \"num_bytes\": 1248}\u001b[0m\n",
      "\u001b[34m#metrics {\"StartTime\": 1693633608.843636, \"EndTime\": 1693633608.8437119, \"Dimensions\": {\"Algorithm\": \"Linear Learner\", \"Host\": \"algo-1\", \"Operation\": \"training\", \"epoch\": 14, \"model\": 0}, \"Metrics\": {\"train_absolute_loss_objective\": {\"sum\": 0.6229217386245728, \"count\": 1, \"min\": 0.6229217386245728, \"max\": 0.6229217386245728}}}\u001b[0m\n",
      "\u001b[34m#metrics {\"StartTime\": 1693633608.8437805, \"EndTime\": 1693633608.843797, \"Dimensions\": {\"Algorithm\": \"Linear Learner\", \"Host\": \"algo-1\", \"Operation\": \"training\", \"epoch\": 14, \"model\": 1}, \"Metrics\": {\"train_absolute_loss_objective\": {\"sum\": 0.6331810474395752, \"count\": 1, \"min\": 0.6331810474395752, \"max\": 0.6331810474395752}}}\u001b[0m\n",
      "\u001b[34m#metrics {\"StartTime\": 1693633608.84385, \"EndTime\": 1693633608.8438654, \"Dimensions\": {\"Algorithm\": \"Linear Learner\", \"Host\": \"algo-1\", \"Operation\": \"training\", \"epoch\": 14, \"model\": 2}, \"Metrics\": {\"train_absolute_loss_objective\": {\"sum\": 0.6252812099456787, \"count\": 1, \"min\": 0.6252812099456787, \"max\": 0.6252812099456787}}}\u001b[0m\n",
      "\u001b[34m#metrics {\"StartTime\": 1693633608.843911, \"EndTime\": 1693633608.8439264, \"Dimensions\": {\"Algorithm\": \"Linear Learner\", \"Host\": \"algo-1\", \"Operation\": \"training\", \"epoch\": 14, \"model\": 3}, \"Metrics\": {\"train_absolute_loss_objective\": {\"sum\": 0.6321556520462036, \"count\": 1, \"min\": 0.6321556520462036, \"max\": 0.6321556520462036}}}\u001b[0m\n",
      "\u001b[34m#metrics {\"StartTime\": 1693633608.8439584, \"EndTime\": 1693633608.8439696, \"Dimensions\": {\"Algorithm\": \"Linear Learner\", \"Host\": \"algo-1\", \"Operation\": \"training\", \"epoch\": 14, \"model\": 4}, \"Metrics\": {\"train_absolute_loss_objective\": {\"sum\": 0.2822741436958313, \"count\": 1, \"min\": 0.2822741436958313, \"max\": 0.2822741436958313}}}\u001b[0m\n",
      "\u001b[34m#metrics {\"StartTime\": 1693633608.844015, \"EndTime\": 1693633608.8440304, \"Dimensions\": {\"Algorithm\": \"Linear Learner\", \"Host\": \"algo-1\", \"Operation\": \"training\", \"epoch\": 14, \"model\": 5}, \"Metrics\": {\"train_absolute_loss_objective\": {\"sum\": 0.2060830044746399, \"count\": 1, \"min\": 0.2060830044746399, \"max\": 0.2060830044746399}}}\u001b[0m\n",
      "\u001b[34m#metrics {\"StartTime\": 1693633608.8440816, \"EndTime\": 1693633608.8440983, \"Dimensions\": {\"Algorithm\": \"Linear Learner\", \"Host\": \"algo-1\", \"Operation\": \"training\", \"epoch\": 14, \"model\": 6}, \"Metrics\": {\"train_absolute_loss_objective\": {\"sum\": 0.1782001531124115, \"count\": 1, \"min\": 0.1782001531124115, \"max\": 0.1782001531124115}}}\u001b[0m\n",
      "\u001b[34m#metrics {\"StartTime\": 1693633608.844153, \"EndTime\": 1693633608.844168, \"Dimensions\": {\"Algorithm\": \"Linear Learner\", \"Host\": \"algo-1\", \"Operation\": \"training\", \"epoch\": 14, \"model\": 7}, \"Metrics\": {\"train_absolute_loss_objective\": {\"sum\": 0.23022817611694335, \"count\": 1, \"min\": 0.23022817611694335, \"max\": 0.23022817611694335}}}\u001b[0m\n",
      "\u001b[34m#metrics {\"StartTime\": 1693633608.8442154, \"EndTime\": 1693633608.8442302, \"Dimensions\": {\"Algorithm\": \"Linear Learner\", \"Host\": \"algo-1\", \"Operation\": \"training\", \"epoch\": 14, \"model\": 8}, \"Metrics\": {\"train_absolute_loss_objective\": {\"sum\": 0.6784443569183349, \"count\": 1, \"min\": 0.6784443569183349, \"max\": 0.6784443569183349}}}\u001b[0m\n",
      "\u001b[34m#metrics {\"StartTime\": 1693633608.844283, \"EndTime\": 1693633608.8442993, \"Dimensions\": {\"Algorithm\": \"Linear Learner\", \"Host\": \"algo-1\", \"Operation\": \"training\", \"epoch\": 14, \"model\": 9}, \"Metrics\": {\"train_absolute_loss_objective\": {\"sum\": 0.6030226278305054, \"count\": 1, \"min\": 0.6030226278305054, \"max\": 0.6030226278305054}}}\u001b[0m\n",
      "\u001b[34m#metrics {\"StartTime\": 1693633608.8443413, \"EndTime\": 1693633608.8443568, \"Dimensions\": {\"Algorithm\": \"Linear Learner\", \"Host\": \"algo-1\", \"Operation\": \"training\", \"epoch\": 14, \"model\": 10}, \"Metrics\": {\"train_absolute_loss_objective\": {\"sum\": 0.617719407081604, \"count\": 1, \"min\": 0.617719407081604, \"max\": 0.617719407081604}}}\u001b[0m\n",
      "\u001b[34m#metrics {\"StartTime\": 1693633608.844412, \"EndTime\": 1693633608.844428, \"Dimensions\": {\"Algorithm\": \"Linear Learner\", \"Host\": \"algo-1\", \"Operation\": \"training\", \"epoch\": 14, \"model\": 11}, \"Metrics\": {\"train_absolute_loss_objective\": {\"sum\": 0.5950881385803223, \"count\": 1, \"min\": 0.5950881385803223, \"max\": 0.5950881385803223}}}\u001b[0m\n",
      "\u001b[34m#metrics {\"StartTime\": 1693633608.8444827, \"EndTime\": 1693633608.8444977, \"Dimensions\": {\"Algorithm\": \"Linear Learner\", \"Host\": \"algo-1\", \"Operation\": \"training\", \"epoch\": 14, \"model\": 12}, \"Metrics\": {\"train_absolute_loss_objective\": {\"sum\": 0.23297377824783325, \"count\": 1, \"min\": 0.23297377824783325, \"max\": 0.23297377824783325}}}\u001b[0m\n",
      "\u001b[34m#metrics {\"StartTime\": 1693633608.8445473, \"EndTime\": 1693633608.8445833, \"Dimensions\": {\"Algorithm\": \"Linear Learner\", \"Host\": \"algo-1\", \"Operation\": \"training\", \"epoch\": 14, \"model\": 13}, \"Metrics\": {\"train_absolute_loss_objective\": {\"sum\": 0.215188627243042, \"count\": 1, \"min\": 0.215188627243042, \"max\": 0.215188627243042}}}\u001b[0m\n",
      "\u001b[34m#metrics {\"StartTime\": 1693633608.8446414, \"EndTime\": 1693633608.8446586, \"Dimensions\": {\"Algorithm\": \"Linear Learner\", \"Host\": \"algo-1\", \"Operation\": \"training\", \"epoch\": 14, \"model\": 14}, \"Metrics\": {\"train_absolute_loss_objective\": {\"sum\": 0.3584639596939087, \"count\": 1, \"min\": 0.3584639596939087, \"max\": 0.3584639596939087}}}\u001b[0m\n",
      "\u001b[34m#metrics {\"StartTime\": 1693633608.8447034, \"EndTime\": 1693633608.8447196, \"Dimensions\": {\"Algorithm\": \"Linear Learner\", \"Host\": \"algo-1\", \"Operation\": \"training\", \"epoch\": 14, \"model\": 15}, \"Metrics\": {\"train_absolute_loss_objective\": {\"sum\": 0.1759318995475769, \"count\": 1, \"min\": 0.1759318995475769, \"max\": 0.1759318995475769}}}\u001b[0m\n",
      "\u001b[34m#metrics {\"StartTime\": 1693633608.8447702, \"EndTime\": 1693633608.8447855, \"Dimensions\": {\"Algorithm\": \"Linear Learner\", \"Host\": \"algo-1\", \"Operation\": \"training\", \"epoch\": 14, \"model\": 16}, \"Metrics\": {\"train_absolute_loss_objective\": {\"sum\": 0.6120646858215332, \"count\": 1, \"min\": 0.6120646858215332, \"max\": 0.6120646858215332}}}\u001b[0m\n",
      "\u001b[34m#metrics {\"StartTime\": 1693633608.8448327, \"EndTime\": 1693633608.8448486, \"Dimensions\": {\"Algorithm\": \"Linear Learner\", \"Host\": \"algo-1\", \"Operation\": \"training\", \"epoch\": 14, \"model\": 17}, \"Metrics\": {\"train_absolute_loss_objective\": {\"sum\": 0.651160159111023, \"count\": 1, \"min\": 0.651160159111023, \"max\": 0.651160159111023}}}\u001b[0m\n",
      "\u001b[34m#metrics {\"StartTime\": 1693633608.8449013, \"EndTime\": 1693633608.844917, \"Dimensions\": {\"Algorithm\": \"Linear Learner\", \"Host\": \"algo-1\", \"Operation\": \"training\", \"epoch\": 14, \"model\": 18}, \"Metrics\": {\"train_absolute_loss_objective\": {\"sum\": 0.6353291368484497, \"count\": 1, \"min\": 0.6353291368484497, \"max\": 0.6353291368484497}}}\u001b[0m\n",
      "\u001b[34m#metrics {\"StartTime\": 1693633608.844969, \"EndTime\": 1693633608.8449843, \"Dimensions\": {\"Algorithm\": \"Linear Learner\", \"Host\": \"algo-1\", \"Operation\": \"training\", \"epoch\": 14, \"model\": 19}, \"Metrics\": {\"train_absolute_loss_objective\": {\"sum\": 0.6267813968658448, \"count\": 1, \"min\": 0.6267813968658448, \"max\": 0.6267813968658448}}}\u001b[0m\n",
      "\u001b[34m#metrics {\"StartTime\": 1693633608.8450327, \"EndTime\": 1693633608.845047, \"Dimensions\": {\"Algorithm\": \"Linear Learner\", \"Host\": \"algo-1\", \"Operation\": \"training\", \"epoch\": 14, \"model\": 20}, \"Metrics\": {\"train_absolute_loss_objective\": {\"sum\": 0.3081802725791931, \"count\": 1, \"min\": 0.3081802725791931, \"max\": 0.3081802725791931}}}\u001b[0m\n",
      "\u001b[34m#metrics {\"StartTime\": 1693633608.8451006, \"EndTime\": 1693633608.8451173, \"Dimensions\": {\"Algorithm\": \"Linear Learner\", \"Host\": \"algo-1\", \"Operation\": \"training\", \"epoch\": 14, \"model\": 21}, \"Metrics\": {\"train_absolute_loss_objective\": {\"sum\": 0.3778819942474365, \"count\": 1, \"min\": 0.3778819942474365, \"max\": 0.3778819942474365}}}\u001b[0m\n",
      "\u001b[34m#metrics {\"StartTime\": 1693633608.845159, \"EndTime\": 1693633608.845175, \"Dimensions\": {\"Algorithm\": \"Linear Learner\", \"Host\": \"algo-1\", \"Operation\": \"training\", \"epoch\": 14, \"model\": 22}, \"Metrics\": {\"train_absolute_loss_objective\": {\"sum\": 0.29599610328674314, \"count\": 1, \"min\": 0.29599610328674314, \"max\": 0.29599610328674314}}}\u001b[0m\n",
      "\u001b[34m#metrics {\"StartTime\": 1693633608.8452163, \"EndTime\": 1693633608.8452306, \"Dimensions\": {\"Algorithm\": \"Linear Learner\", \"Host\": \"algo-1\", \"Operation\": \"training\", \"epoch\": 14, \"model\": 23}, \"Metrics\": {\"train_absolute_loss_objective\": {\"sum\": 0.3327276611328125, \"count\": 1, \"min\": 0.3327276611328125, \"max\": 0.3327276611328125}}}\u001b[0m\n",
      "\u001b[34m#metrics {\"StartTime\": 1693633608.8452804, \"EndTime\": 1693633608.8452964, \"Dimensions\": {\"Algorithm\": \"Linear Learner\", \"Host\": \"algo-1\", \"Operation\": \"training\", \"epoch\": 14, \"model\": 24}, \"Metrics\": {\"train_absolute_loss_objective\": {\"sum\": 0.8999713897705078, \"count\": 1, \"min\": 0.8999713897705078, \"max\": 0.8999713897705078}}}\u001b[0m\n",
      "\u001b[34m#metrics {\"StartTime\": 1693633608.845345, \"EndTime\": 1693633608.845361, \"Dimensions\": {\"Algorithm\": \"Linear Learner\", \"Host\": \"algo-1\", \"Operation\": \"training\", \"epoch\": 14, \"model\": 25}, \"Metrics\": {\"train_absolute_loss_objective\": {\"sum\": 0.9006160354614258, \"count\": 1, \"min\": 0.9006160354614258, \"max\": 0.9006160354614258}}}\u001b[0m\n",
      "\u001b[34m#metrics {\"StartTime\": 1693633608.8454177, \"EndTime\": 1693633608.8454318, \"Dimensions\": {\"Algorithm\": \"Linear Learner\", \"Host\": \"algo-1\", \"Operation\": \"training\", \"epoch\": 14, \"model\": 26}, \"Metrics\": {\"train_absolute_loss_objective\": {\"sum\": 0.9000197696685791, \"count\": 1, \"min\": 0.9000197696685791, \"max\": 0.9000197696685791}}}\u001b[0m\n",
      "\u001b[34m#metrics {\"StartTime\": 1693633608.84553, \"EndTime\": 1693633608.8455484, \"Dimensions\": {\"Algorithm\": \"Linear Learner\", \"Host\": \"algo-1\", \"Operation\": \"training\", \"epoch\": 14, \"model\": 27}, \"Metrics\": {\"train_absolute_loss_objective\": {\"sum\": 0.899950761795044, \"count\": 1, \"min\": 0.899950761795044, \"max\": 0.899950761795044}}}\u001b[0m\n",
      "\u001b[34m#metrics {\"StartTime\": 1693633608.845636, \"EndTime\": 1693633608.8456545, \"Dimensions\": {\"Algorithm\": \"Linear Learner\", \"Host\": \"algo-1\", \"Operation\": \"training\", \"epoch\": 14, \"model\": 28}, \"Metrics\": {\"train_absolute_loss_objective\": {\"sum\": 0.9293357276916504, \"count\": 1, \"min\": 0.9293357276916504, \"max\": 0.9293357276916504}}}\u001b[0m\n",
      "\u001b[34m#metrics {\"StartTime\": 1693633608.8457072, \"EndTime\": 1693633608.845723, \"Dimensions\": {\"Algorithm\": \"Linear Learner\", \"Host\": \"algo-1\", \"Operation\": \"training\", \"epoch\": 14, \"model\": 29}, \"Metrics\": {\"train_absolute_loss_objective\": {\"sum\": 0.9306836414337158, \"count\": 1, \"min\": 0.9306836414337158, \"max\": 0.9306836414337158}}}\u001b[0m\n",
      "\u001b[34m#metrics {\"StartTime\": 1693633608.8457754, \"EndTime\": 1693633608.8457916, \"Dimensions\": {\"Algorithm\": \"Linear Learner\", \"Host\": \"algo-1\", \"Operation\": \"training\", \"epoch\": 14, \"model\": 30}, \"Metrics\": {\"train_absolute_loss_objective\": {\"sum\": 0.9259716701507569, \"count\": 1, \"min\": 0.9259716701507569, \"max\": 0.9259716701507569}}}\u001b[0m\n",
      "\u001b[34m#metrics {\"StartTime\": 1693633608.8458416, \"EndTime\": 1693633608.8458574, \"Dimensions\": {\"Algorithm\": \"Linear Learner\", \"Host\": \"algo-1\", \"Operation\": \"training\", \"epoch\": 14, \"model\": 31}, \"Metrics\": {\"train_absolute_loss_objective\": {\"sum\": 0.9304976081848144, \"count\": 1, \"min\": 0.9304976081848144, \"max\": 0.9304976081848144}}}\u001b[0m\n",
      "\u001b[34m[09/02/2023 05:46:48 INFO 140628399605568] #quality_metric: host=algo-1, epoch=14, train absolute_loss_objective <loss>=0.6229217386245728\u001b[0m\n",
      "\u001b[34m[09/02/2023 05:46:48 INFO 140628399605568] #early_stopping_criteria_metric: host=algo-1, epoch=14, criteria=absolute_loss_objective, value=0.1759318995475769\u001b[0m\n",
      "\u001b[34m[09/02/2023 05:46:48 INFO 140628399605568] Saving model for epoch: 14\u001b[0m\n",
      "\u001b[34m[09/02/2023 05:46:48 INFO 140628399605568] Saved checkpoint to \"/tmp/tmp44cmjxy7/mx-mod-0000.params\"\u001b[0m\n",
      "\u001b[34m[09/02/2023 05:46:48 INFO 140628399605568] #progress_metric: host=algo-1, completed 30.0 % of epochs\u001b[0m\n",
      "\u001b[34m#metrics {\"StartTime\": 1693633608.7200017, \"EndTime\": 1693633608.8541517, \"Dimensions\": {\"Algorithm\": \"Linear Learner\", \"Host\": \"algo-1\", \"Operation\": \"training\", \"epoch\": 14, \"Meta\": \"training_data_iter\"}, \"Metrics\": {\"Total Records Seen\": {\"sum\": 421.0, \"count\": 1, \"min\": 421, \"max\": 421}, \"Total Batches Seen\": {\"sum\": 97.0, \"count\": 1, \"min\": 97, \"max\": 97}, \"Max Records Seen Between Resets\": {\"sum\": 26.0, \"count\": 1, \"min\": 26, \"max\": 26}, \"Max Batches Seen Between Resets\": {\"sum\": 6.0, \"count\": 1, \"min\": 6, \"max\": 6}, \"Reset Count\": {\"sum\": 17.0, \"count\": 1, \"min\": 17, \"max\": 17}, \"Number of Records Since Last Reset\": {\"sum\": 26.0, \"count\": 1, \"min\": 26, \"max\": 26}, \"Number of Batches Since Last Reset\": {\"sum\": 6.0, \"count\": 1, \"min\": 6, \"max\": 6}}}\u001b[0m\n",
      "\u001b[34m[09/02/2023 05:46:48 INFO 140628399605568] #throughput_metric: host=algo-1, train throughput=193.6153398196151 records/second\u001b[0m\n",
      "\u001b[34m[2023-09-02 05:46:48.971] [tensorio] [info] epoch_stats={\"data_pipeline\": \"/opt/ml/input/data/train\", \"epoch\": 34, \"duration\": 116, \"num_examples\": 6, \"num_bytes\": 1248}\u001b[0m\n",
      "\u001b[34m#metrics {\"StartTime\": 1693633608.9714894, \"EndTime\": 1693633608.9715776, \"Dimensions\": {\"Algorithm\": \"Linear Learner\", \"Host\": \"algo-1\", \"Operation\": \"training\", \"epoch\": 15, \"model\": 0}, \"Metrics\": {\"train_absolute_loss_objective\": {\"sum\": 0.6035890769958496, \"count\": 1, \"min\": 0.6035890769958496, \"max\": 0.6035890769958496}}}\u001b[0m\n",
      "\u001b[34m#metrics {\"StartTime\": 1693633608.9717348, \"EndTime\": 1693633608.9717586, \"Dimensions\": {\"Algorithm\": \"Linear Learner\", \"Host\": \"algo-1\", \"Operation\": \"training\", \"epoch\": 15, \"model\": 1}, \"Metrics\": {\"train_absolute_loss_objective\": {\"sum\": 0.6143366956710815, \"count\": 1, \"min\": 0.6143366956710815, \"max\": 0.6143366956710815}}}\u001b[0m\n",
      "\u001b[34m#metrics {\"StartTime\": 1693633608.9718642, \"EndTime\": 1693633608.9718857, \"Dimensions\": {\"Algorithm\": \"Linear Learner\", \"Host\": \"algo-1\", \"Operation\": \"training\", \"epoch\": 15, \"model\": 2}, \"Metrics\": {\"train_absolute_loss_objective\": {\"sum\": 0.6060196542739869, \"count\": 1, \"min\": 0.6060196542739869, \"max\": 0.6060196542739869}}}\u001b[0m\n",
      "\u001b[34m#metrics {\"StartTime\": 1693633608.9720032, \"EndTime\": 1693633608.972024, \"Dimensions\": {\"Algorithm\": \"Linear Learner\", \"Host\": \"algo-1\", \"Operation\": \"training\", \"epoch\": 15, \"model\": 3}, \"Metrics\": {\"train_absolute_loss_objective\": {\"sum\": 0.6133412647247315, \"count\": 1, \"min\": 0.6133412647247315, \"max\": 0.6133412647247315}}}\u001b[0m\n",
      "\u001b[34m#metrics {\"StartTime\": 1693633608.9721248, \"EndTime\": 1693633608.972145, \"Dimensions\": {\"Algorithm\": \"Linear Learner\", \"Host\": \"algo-1\", \"Operation\": \"training\", \"epoch\": 15, \"model\": 4}, \"Metrics\": {\"train_absolute_loss_objective\": {\"sum\": 0.1894102883338928, \"count\": 1, \"min\": 0.1894102883338928, \"max\": 0.1894102883338928}}}\u001b[0m\n",
      "\u001b[34m#metrics {\"StartTime\": 1693633608.9722643, \"EndTime\": 1693633608.972285, \"Dimensions\": {\"Algorithm\": \"Linear Learner\", \"Host\": \"algo-1\", \"Operation\": \"training\", \"epoch\": 15, \"model\": 5}, \"Metrics\": {\"train_absolute_loss_objective\": {\"sum\": 0.18421398997306823, \"count\": 1, \"min\": 0.18421398997306823, \"max\": 0.18421398997306823}}}\u001b[0m\n",
      "\u001b[34m#metrics {\"StartTime\": 1693633608.9723866, \"EndTime\": 1693633608.972406, \"Dimensions\": {\"Algorithm\": \"Linear Learner\", \"Host\": \"algo-1\", \"Operation\": \"training\", \"epoch\": 15, \"model\": 6}, \"Metrics\": {\"train_absolute_loss_objective\": {\"sum\": 0.23874440431594848, \"count\": 1, \"min\": 0.23874440431594848, \"max\": 0.23874440431594848}}}\u001b[0m\n",
      "\u001b[34m#metrics {\"StartTime\": 1693633608.9725187, \"EndTime\": 1693633608.9725392, \"Dimensions\": {\"Algorithm\": \"Linear Learner\", \"Host\": \"algo-1\", \"Operation\": \"training\", \"epoch\": 15, \"model\": 7}, \"Metrics\": {\"train_absolute_loss_objective\": {\"sum\": 0.1879550540447235, \"count\": 1, \"min\": 0.1879550540447235, \"max\": 0.1879550540447235}}}\u001b[0m\n",
      "\u001b[34m#metrics {\"StartTime\": 1693633608.9726782, \"EndTime\": 1693633608.9726987, \"Dimensions\": {\"Algorithm\": \"Linear Learner\", \"Host\": \"algo-1\", \"Operation\": \"training\", \"epoch\": 15, \"model\": 8}, \"Metrics\": {\"train_absolute_loss_objective\": {\"sum\": 0.6591470432281494, \"count\": 1, \"min\": 0.6591470432281494, \"max\": 0.6591470432281494}}}\u001b[0m\n",
      "\u001b[34m#metrics {\"StartTime\": 1693633608.9727957, \"EndTime\": 1693633608.9728153, \"Dimensions\": {\"Algorithm\": \"Linear Learner\", \"Host\": \"algo-1\", \"Operation\": \"training\", \"epoch\": 15, \"model\": 9}, \"Metrics\": {\"train_absolute_loss_objective\": {\"sum\": 0.5828414630889892, \"count\": 1, \"min\": 0.5828414630889892, \"max\": 0.5828414630889892}}}\u001b[0m\n",
      "\u001b[34m#metrics {\"StartTime\": 1693633608.9729314, \"EndTime\": 1693633608.9729528, \"Dimensions\": {\"Algorithm\": \"Linear Learner\", \"Host\": \"algo-1\", \"Operation\": \"training\", \"epoch\": 15, \"model\": 10}, \"Metrics\": {\"train_absolute_loss_objective\": {\"sum\": 0.5985378980636596, \"count\": 1, \"min\": 0.5985378980636596, \"max\": 0.5985378980636596}}}\u001b[0m\n",
      "\u001b[34m#metrics {\"StartTime\": 1693633608.9730635, \"EndTime\": 1693633608.9730837, \"Dimensions\": {\"Algorithm\": \"Linear Learner\", \"Host\": \"algo-1\", \"Operation\": \"training\", \"epoch\": 15, \"model\": 11}, \"Metrics\": {\"train_absolute_loss_objective\": {\"sum\": 0.5749072551727294, \"count\": 1, \"min\": 0.5749072551727294, \"max\": 0.5749072551727294}}}\u001b[0m\n",
      "\u001b[34m#metrics {\"StartTime\": 1693633608.9733322, \"EndTime\": 1693633608.973353, \"Dimensions\": {\"Algorithm\": \"Linear Learner\", \"Host\": \"algo-1\", \"Operation\": \"training\", \"epoch\": 15, \"model\": 12}, \"Metrics\": {\"train_absolute_loss_objective\": {\"sum\": 0.17442092657089234, \"count\": 1, \"min\": 0.17442092657089234, \"max\": 0.17442092657089234}}}\u001b[0m\n",
      "\u001b[34m#metrics {\"StartTime\": 1693633608.9735954, \"EndTime\": 1693633608.9736173, \"Dimensions\": {\"Algorithm\": \"Linear Learner\", \"Host\": \"algo-1\", \"Operation\": \"training\", \"epoch\": 15, \"model\": 13}, \"Metrics\": {\"train_absolute_loss_objective\": {\"sum\": 0.17737160444259645, \"count\": 1, \"min\": 0.17737160444259645, \"max\": 0.17737160444259645}}}\u001b[0m\n",
      "\u001b[34m#metrics {\"StartTime\": 1693633608.973736, \"EndTime\": 1693633608.9737573, \"Dimensions\": {\"Algorithm\": \"Linear Learner\", \"Host\": \"algo-1\", \"Operation\": \"training\", \"epoch\": 15, \"model\": 14}, \"Metrics\": {\"train_absolute_loss_objective\": {\"sum\": 0.2750077295303345, \"count\": 1, \"min\": 0.2750077295303345, \"max\": 0.2750077295303345}}}\u001b[0m\n",
      "\u001b[34m#metrics {\"StartTime\": 1693633608.973871, \"EndTime\": 1693633608.9738917, \"Dimensions\": {\"Algorithm\": \"Linear Learner\", \"Host\": \"algo-1\", \"Operation\": \"training\", \"epoch\": 15, \"model\": 15}, \"Metrics\": {\"train_absolute_loss_objective\": {\"sum\": 0.17833800315856935, \"count\": 1, \"min\": 0.17833800315856935, \"max\": 0.17833800315856935}}}\u001b[0m\n",
      "\u001b[34m#metrics {\"StartTime\": 1693633608.974082, \"EndTime\": 1693633608.9741054, \"Dimensions\": {\"Algorithm\": \"Linear Learner\", \"Host\": \"algo-1\", \"Operation\": \"training\", \"epoch\": 15, \"model\": 16}, \"Metrics\": {\"train_absolute_loss_objective\": {\"sum\": 0.5971703147888183, \"count\": 1, \"min\": 0.5971703147888183, \"max\": 0.5971703147888183}}}\u001b[0m\n",
      "\u001b[34m#metrics {\"StartTime\": 1693633608.9742126, \"EndTime\": 1693633608.9742317, \"Dimensions\": {\"Algorithm\": \"Linear Learner\", \"Host\": \"algo-1\", \"Operation\": \"training\", \"epoch\": 15, \"model\": 17}, \"Metrics\": {\"train_absolute_loss_objective\": {\"sum\": 0.634603943824768, \"count\": 1, \"min\": 0.634603943824768, \"max\": 0.634603943824768}}}\u001b[0m\n",
      "\u001b[34m#metrics {\"StartTime\": 1693633608.974336, \"EndTime\": 1693633608.974356, \"Dimensions\": {\"Algorithm\": \"Linear Learner\", \"Host\": \"algo-1\", \"Operation\": \"training\", \"epoch\": 15, \"model\": 18}, \"Metrics\": {\"train_absolute_loss_objective\": {\"sum\": 0.6215035247802735, \"count\": 1, \"min\": 0.6215035247802735, \"max\": 0.6215035247802735}}}\u001b[0m\n",
      "\u001b[34m#metrics {\"StartTime\": 1693633608.9744663, \"EndTime\": 1693633608.9744859, \"Dimensions\": {\"Algorithm\": \"Linear Learner\", \"Host\": \"algo-1\", \"Operation\": \"training\", \"epoch\": 15, \"model\": 19}, \"Metrics\": {\"train_absolute_loss_objective\": {\"sum\": 0.6100839614868164, \"count\": 1, \"min\": 0.6100839614868164, \"max\": 0.6100839614868164}}}\u001b[0m\n",
      "\u001b[34m#metrics {\"StartTime\": 1693633608.9745848, \"EndTime\": 1693633608.9746044, \"Dimensions\": {\"Algorithm\": \"Linear Learner\", \"Host\": \"algo-1\", \"Operation\": \"training\", \"epoch\": 15, \"model\": 20}, \"Metrics\": {\"train_absolute_loss_objective\": {\"sum\": 0.278541202545166, \"count\": 1, \"min\": 0.278541202545166, \"max\": 0.278541202545166}}}\u001b[0m\n",
      "\u001b[34m#metrics {\"StartTime\": 1693633608.9747186, \"EndTime\": 1693633608.974738, \"Dimensions\": {\"Algorithm\": \"Linear Learner\", \"Host\": \"algo-1\", \"Operation\": \"training\", \"epoch\": 15, \"model\": 21}, \"Metrics\": {\"train_absolute_loss_objective\": {\"sum\": 0.3324524211883545, \"count\": 1, \"min\": 0.3324524211883545, \"max\": 0.3324524211883545}}}\u001b[0m\n",
      "\u001b[34m#metrics {\"StartTime\": 1693633608.9748487, \"EndTime\": 1693633608.9748683, \"Dimensions\": {\"Algorithm\": \"Linear Learner\", \"Host\": \"algo-1\", \"Operation\": \"training\", \"epoch\": 15, \"model\": 22}, \"Metrics\": {\"train_absolute_loss_objective\": {\"sum\": 0.2541764545440674, \"count\": 1, \"min\": 0.2541764545440674, \"max\": 0.2541764545440674}}}\u001b[0m\n",
      "\u001b[34m#metrics {\"StartTime\": 1693633608.9749668, \"EndTime\": 1693633608.9749863, \"Dimensions\": {\"Algorithm\": \"Linear Learner\", \"Host\": \"algo-1\", \"Operation\": \"training\", \"epoch\": 15, \"model\": 23}, \"Metrics\": {\"train_absolute_loss_objective\": {\"sum\": 0.247602219581604, \"count\": 1, \"min\": 0.247602219581604, \"max\": 0.247602219581604}}}\u001b[0m\n",
      "\u001b[34m#metrics {\"StartTime\": 1693633608.9750926, \"EndTime\": 1693633608.975113, \"Dimensions\": {\"Algorithm\": \"Linear Learner\", \"Host\": \"algo-1\", \"Operation\": \"training\", \"epoch\": 15, \"model\": 24}, \"Metrics\": {\"train_absolute_loss_objective\": {\"sum\": 0.8996625804901123, \"count\": 1, \"min\": 0.8996625804901123, \"max\": 0.8996625804901123}}}\u001b[0m\n",
      "\u001b[34m#metrics {\"StartTime\": 1693633608.9753256, \"EndTime\": 1693633608.9753687, \"Dimensions\": {\"Algorithm\": \"Linear Learner\", \"Host\": \"algo-1\", \"Operation\": \"training\", \"epoch\": 15, \"model\": 25}, \"Metrics\": {\"train_absolute_loss_objective\": {\"sum\": 0.8998351097106934, \"count\": 1, \"min\": 0.8998351097106934, \"max\": 0.8998351097106934}}}\u001b[0m\n",
      "\u001b[34m#metrics {\"StartTime\": 1693633608.9756002, \"EndTime\": 1693633608.9756217, \"Dimensions\": {\"Algorithm\": \"Linear Learner\", \"Host\": \"algo-1\", \"Operation\": \"training\", \"epoch\": 15, \"model\": 26}, \"Metrics\": {\"train_absolute_loss_objective\": {\"sum\": 0.90031418800354, \"count\": 1, \"min\": 0.90031418800354, \"max\": 0.90031418800354}}}\u001b[0m\n",
      "\u001b[34m#metrics {\"StartTime\": 1693633608.9757082, \"EndTime\": 1693633608.9757247, \"Dimensions\": {\"Algorithm\": \"Linear Learner\", \"Host\": \"algo-1\", \"Operation\": \"training\", \"epoch\": 15, \"model\": 27}, \"Metrics\": {\"train_absolute_loss_objective\": {\"sum\": 0.9001449775695801, \"count\": 1, \"min\": 0.9001449775695801, \"max\": 0.9001449775695801}}}\u001b[0m\n",
      "\u001b[34m#metrics {\"StartTime\": 1693633608.9757824, \"EndTime\": 1693633608.9757965, \"Dimensions\": {\"Algorithm\": \"Linear Learner\", \"Host\": \"algo-1\", \"Operation\": \"training\", \"epoch\": 15, \"model\": 28}, \"Metrics\": {\"train_absolute_loss_objective\": {\"sum\": 0.9101236057281494, \"count\": 1, \"min\": 0.9101236057281494, \"max\": 0.9101236057281494}}}\u001b[0m\n",
      "\u001b[34m#metrics {\"StartTime\": 1693633608.9758492, \"EndTime\": 1693633608.9758644, \"Dimensions\": {\"Algorithm\": \"Linear Learner\", \"Host\": \"algo-1\", \"Operation\": \"training\", \"epoch\": 15, \"model\": 29}, \"Metrics\": {\"train_absolute_loss_objective\": {\"sum\": 0.9110281467437744, \"count\": 1, \"min\": 0.9110281467437744, \"max\": 0.9110281467437744}}}\u001b[0m\n",
      "\u001b[34m#metrics {\"StartTime\": 1693633608.9759164, \"EndTime\": 1693633608.9759307, \"Dimensions\": {\"Algorithm\": \"Linear Learner\", \"Host\": \"algo-1\", \"Operation\": \"training\", \"epoch\": 15, \"model\": 30}, \"Metrics\": {\"train_absolute_loss_objective\": {\"sum\": 0.9116790866851807, \"count\": 1, \"min\": 0.9116790866851807, \"max\": 0.9116790866851807}}}\u001b[0m\n",
      "\u001b[34m#metrics {\"StartTime\": 1693633608.9759808, \"EndTime\": 1693633608.975995, \"Dimensions\": {\"Algorithm\": \"Linear Learner\", \"Host\": \"algo-1\", \"Operation\": \"training\", \"epoch\": 15, \"model\": 31}, \"Metrics\": {\"train_absolute_loss_objective\": {\"sum\": 0.9106717872619629, \"count\": 1, \"min\": 0.9106717872619629, \"max\": 0.9106717872619629}}}\u001b[0m\n",
      "\u001b[34m[09/02/2023 05:46:48 INFO 140628399605568] #quality_metric: host=algo-1, epoch=15, train absolute_loss_objective <loss>=0.6035890769958496\u001b[0m\n",
      "\u001b[34m[09/02/2023 05:46:48 INFO 140628399605568] #early_stopping_criteria_metric: host=algo-1, epoch=15, criteria=absolute_loss_objective, value=0.17442092657089234\u001b[0m\n",
      "\u001b[34m[09/02/2023 05:46:48 INFO 140628399605568] Saving model for epoch: 15\u001b[0m\n",
      "\u001b[34m[09/02/2023 05:46:48 INFO 140628399605568] Saved checkpoint to \"/tmp/tmpaw0j1de3/mx-mod-0000.params\"\u001b[0m\n",
      "\u001b[34m[09/02/2023 05:46:48 INFO 140628399605568] #progress_metric: host=algo-1, completed 32.0 % of epochs\u001b[0m\n",
      "\u001b[34m#metrics {\"StartTime\": 1693633608.8544638, \"EndTime\": 1693633608.9868455, \"Dimensions\": {\"Algorithm\": \"Linear Learner\", \"Host\": \"algo-1\", \"Operation\": \"training\", \"epoch\": 15, \"Meta\": \"training_data_iter\"}, \"Metrics\": {\"Total Records Seen\": {\"sum\": 447.0, \"count\": 1, \"min\": 447, \"max\": 447}, \"Total Batches Seen\": {\"sum\": 103.0, \"count\": 1, \"min\": 103, \"max\": 103}, \"Max Records Seen Between Resets\": {\"sum\": 26.0, \"count\": 1, \"min\": 26, \"max\": 26}, \"Max Batches Seen Between Resets\": {\"sum\": 6.0, \"count\": 1, \"min\": 6, \"max\": 6}, \"Reset Count\": {\"sum\": 18.0, \"count\": 1, \"min\": 18, \"max\": 18}, \"Number of Records Since Last Reset\": {\"sum\": 26.0, \"count\": 1, \"min\": 26, \"max\": 26}, \"Number of Batches Since Last Reset\": {\"sum\": 6.0, \"count\": 1, \"min\": 6, \"max\": 6}}}\u001b[0m\n",
      "\u001b[34m[09/02/2023 05:46:48 INFO 140628399605568] #throughput_metric: host=algo-1, train throughput=196.18132918850168 records/second\u001b[0m\n",
      "\u001b[34m[2023-09-02 05:46:49.106] [tensorio] [info] epoch_stats={\"data_pipeline\": \"/opt/ml/input/data/train\", \"epoch\": 36, \"duration\": 119, \"num_examples\": 6, \"num_bytes\": 1248}\u001b[0m\n",
      "\u001b[34m#metrics {\"StartTime\": 1693633609.1069167, \"EndTime\": 1693633609.1070087, \"Dimensions\": {\"Algorithm\": \"Linear Learner\", \"Host\": \"algo-1\", \"Operation\": \"training\", \"epoch\": 16, \"model\": 0}, \"Metrics\": {\"train_absolute_loss_objective\": {\"sum\": 0.5858928680419921, \"count\": 1, \"min\": 0.5858928680419921, \"max\": 0.5858928680419921}}}\u001b[0m\n",
      "\u001b[34m#metrics {\"StartTime\": 1693633609.107166, \"EndTime\": 1693633609.1071897, \"Dimensions\": {\"Algorithm\": \"Linear Learner\", \"Host\": \"algo-1\", \"Operation\": \"training\", \"epoch\": 16, \"model\": 1}, \"Metrics\": {\"train_absolute_loss_objective\": {\"sum\": 0.5946122121810913, \"count\": 1, \"min\": 0.5946122121810913, \"max\": 0.5946122121810913}}}\u001b[0m\n",
      "\u001b[34m#metrics {\"StartTime\": 1693633609.1072927, \"EndTime\": 1693633609.1073139, \"Dimensions\": {\"Algorithm\": \"Linear Learner\", \"Host\": \"algo-1\", \"Operation\": \"training\", \"epoch\": 16, \"model\": 2}, \"Metrics\": {\"train_absolute_loss_objective\": {\"sum\": 0.5882523345947266, \"count\": 1, \"min\": 0.5882523345947266, \"max\": 0.5882523345947266}}}\u001b[0m\n",
      "\u001b[34m#metrics {\"StartTime\": 1693633609.1074305, \"EndTime\": 1693633609.1074512, \"Dimensions\": {\"Algorithm\": \"Linear Learner\", \"Host\": \"algo-1\", \"Operation\": \"training\", \"epoch\": 16, \"model\": 3}, \"Metrics\": {\"train_absolute_loss_objective\": {\"sum\": 0.5936168241500854, \"count\": 1, \"min\": 0.5936168241500854, \"max\": 0.5936168241500854}}}\u001b[0m\n",
      "\u001b[34m#metrics {\"StartTime\": 1693633609.1075513, \"EndTime\": 1693633609.1075723, \"Dimensions\": {\"Algorithm\": \"Linear Learner\", \"Host\": \"algo-1\", \"Operation\": \"training\", \"epoch\": 16, \"model\": 4}, \"Metrics\": {\"train_absolute_loss_objective\": {\"sum\": 0.24029473662376405, \"count\": 1, \"min\": 0.24029473662376405, \"max\": 0.24029473662376405}}}\u001b[0m\n",
      "\u001b[34m#metrics {\"StartTime\": 1693633609.107675, \"EndTime\": 1693633609.1076965, \"Dimensions\": {\"Algorithm\": \"Linear Learner\", \"Host\": \"algo-1\", \"Operation\": \"training\", \"epoch\": 16, \"model\": 5}, \"Metrics\": {\"train_absolute_loss_objective\": {\"sum\": 0.2383186376094818, \"count\": 1, \"min\": 0.2383186376094818, \"max\": 0.2383186376094818}}}\u001b[0m\n",
      "\u001b[34m#metrics {\"StartTime\": 1693633609.1078074, \"EndTime\": 1693633609.1078286, \"Dimensions\": {\"Algorithm\": \"Linear Learner\", \"Host\": \"algo-1\", \"Operation\": \"training\", \"epoch\": 16, \"model\": 6}, \"Metrics\": {\"train_absolute_loss_objective\": {\"sum\": 0.18603096008300782, \"count\": 1, \"min\": 0.18603096008300782, \"max\": 0.18603096008300782}}}\u001b[0m\n",
      "\u001b[34m#metrics {\"StartTime\": 1693633609.1079257, \"EndTime\": 1693633609.1079457, \"Dimensions\": {\"Algorithm\": \"Linear Learner\", \"Host\": \"algo-1\", \"Operation\": \"training\", \"epoch\": 16, \"model\": 7}, \"Metrics\": {\"train_absolute_loss_objective\": {\"sum\": 0.18531134843826294, \"count\": 1, \"min\": 0.18531134843826294, \"max\": 0.18531134843826294}}}\u001b[0m\n",
      "\u001b[34m#metrics {\"StartTime\": 1693633609.1080592, \"EndTime\": 1693633609.108081, \"Dimensions\": {\"Algorithm\": \"Linear Learner\", \"Host\": \"algo-1\", \"Operation\": \"training\", \"epoch\": 16, \"model\": 8}, \"Metrics\": {\"train_absolute_loss_objective\": {\"sum\": 0.6415604972839355, \"count\": 1, \"min\": 0.6415604972839355, \"max\": 0.6415604972839355}}}\u001b[0m\n",
      "\u001b[34m#metrics {\"StartTime\": 1693633609.108184, \"EndTime\": 1693633609.108205, \"Dimensions\": {\"Algorithm\": \"Linear Learner\", \"Host\": \"algo-1\", \"Operation\": \"training\", \"epoch\": 16, \"model\": 9}, \"Metrics\": {\"train_absolute_loss_objective\": {\"sum\": 0.5623593330383301, \"count\": 1, \"min\": 0.5623593330383301, \"max\": 0.5623593330383301}}}\u001b[0m\n",
      "\u001b[34m#metrics {\"StartTime\": 1693633609.108324, \"EndTime\": 1693633609.1083443, \"Dimensions\": {\"Algorithm\": \"Linear Learner\", \"Host\": \"algo-1\", \"Operation\": \"training\", \"epoch\": 16, \"model\": 10}, \"Metrics\": {\"train_absolute_loss_objective\": {\"sum\": 0.580838212966919, \"count\": 1, \"min\": 0.580838212966919, \"max\": 0.580838212966919}}}\u001b[0m\n",
      "\u001b[34m#metrics {\"StartTime\": 1693633609.1084468, \"EndTime\": 1693633609.108467, \"Dimensions\": {\"Algorithm\": \"Linear Learner\", \"Host\": \"algo-1\", \"Operation\": \"training\", \"epoch\": 16, \"model\": 11}, \"Metrics\": {\"train_absolute_loss_objective\": {\"sum\": 0.5541862869262695, \"count\": 1, \"min\": 0.5541862869262695, \"max\": 0.5541862869262695}}}\u001b[0m\n",
      "\u001b[34m#metrics {\"StartTime\": 1693633609.1085865, \"EndTime\": 1693633609.1086075, \"Dimensions\": {\"Algorithm\": \"Linear Learner\", \"Host\": \"algo-1\", \"Operation\": \"training\", \"epoch\": 16, \"model\": 12}, \"Metrics\": {\"train_absolute_loss_objective\": {\"sum\": 0.226490159034729, \"count\": 1, \"min\": 0.226490159034729, \"max\": 0.226490159034729}}}\u001b[0m\n",
      "\u001b[34m#metrics {\"StartTime\": 1693633609.1087234, \"EndTime\": 1693633609.1087458, \"Dimensions\": {\"Algorithm\": \"Linear Learner\", \"Host\": \"algo-1\", \"Operation\": \"training\", \"epoch\": 16, \"model\": 13}, \"Metrics\": {\"train_absolute_loss_objective\": {\"sum\": 0.2294916582107544, \"count\": 1, \"min\": 0.2294916582107544, \"max\": 0.2294916582107544}}}\u001b[0m\n",
      "\u001b[34m#metrics {\"StartTime\": 1693633609.1088967, \"EndTime\": 1693633609.108918, \"Dimensions\": {\"Algorithm\": \"Linear Learner\", \"Host\": \"algo-1\", \"Operation\": \"training\", \"epoch\": 16, \"model\": 14}, \"Metrics\": {\"train_absolute_loss_objective\": {\"sum\": 0.33171070337295533, \"count\": 1, \"min\": 0.33171070337295533, \"max\": 0.33171070337295533}}}\u001b[0m\n",
      "\u001b[34m#metrics {\"StartTime\": 1693633609.1091309, \"EndTime\": 1693633609.1091528, \"Dimensions\": {\"Algorithm\": \"Linear Learner\", \"Host\": \"algo-1\", \"Operation\": \"training\", \"epoch\": 16, \"model\": 15}, \"Metrics\": {\"train_absolute_loss_objective\": {\"sum\": 0.17188340187072754, \"count\": 1, \"min\": 0.17188340187072754, \"max\": 0.17188340187072754}}}\u001b[0m\n",
      "\u001b[34m#metrics {\"StartTime\": 1693633609.1093192, \"EndTime\": 1693633609.1093416, \"Dimensions\": {\"Algorithm\": \"Linear Learner\", \"Host\": \"algo-1\", \"Operation\": \"training\", \"epoch\": 16, \"model\": 16}, \"Metrics\": {\"train_absolute_loss_objective\": {\"sum\": 0.5826657438278198, \"count\": 1, \"min\": 0.5826657438278198, \"max\": 0.5826657438278198}}}\u001b[0m\n",
      "\u001b[34m#metrics {\"StartTime\": 1693633609.109574, \"EndTime\": 1693633609.1096172, \"Dimensions\": {\"Algorithm\": \"Linear Learner\", \"Host\": \"algo-1\", \"Operation\": \"training\", \"epoch\": 16, \"model\": 17}, \"Metrics\": {\"train_absolute_loss_objective\": {\"sum\": 0.6182855129241943, \"count\": 1, \"min\": 0.6182855129241943, \"max\": 0.6182855129241943}}}\u001b[0m\n",
      "\u001b[34m#metrics {\"StartTime\": 1693633609.1096873, \"EndTime\": 1693633609.1097062, \"Dimensions\": {\"Algorithm\": \"Linear Learner\", \"Host\": \"algo-1\", \"Operation\": \"training\", \"epoch\": 16, \"model\": 18}, \"Metrics\": {\"train_absolute_loss_objective\": {\"sum\": 0.6071475458145141, \"count\": 1, \"min\": 0.6071475458145141, \"max\": 0.6071475458145141}}}\u001b[0m\n",
      "\u001b[34m#metrics {\"StartTime\": 1693633609.1098895, \"EndTime\": 1693633609.1099098, \"Dimensions\": {\"Algorithm\": \"Linear Learner\", \"Host\": \"algo-1\", \"Operation\": \"training\", \"epoch\": 16, \"model\": 19}, \"Metrics\": {\"train_absolute_loss_objective\": {\"sum\": 0.5953864526748657, \"count\": 1, \"min\": 0.5953864526748657, \"max\": 0.5953864526748657}}}\u001b[0m\n",
      "\u001b[34m#metrics {\"StartTime\": 1693633609.110012, \"EndTime\": 1693633609.1100338, \"Dimensions\": {\"Algorithm\": \"Linear Learner\", \"Host\": \"algo-1\", \"Operation\": \"training\", \"epoch\": 16, \"model\": 20}, \"Metrics\": {\"train_absolute_loss_objective\": {\"sum\": 0.26632198333740237, \"count\": 1, \"min\": 0.26632198333740237, \"max\": 0.26632198333740237}}}\u001b[0m\n",
      "\u001b[34m#metrics {\"StartTime\": 1693633609.1101344, \"EndTime\": 1693633609.1101542, \"Dimensions\": {\"Algorithm\": \"Linear Learner\", \"Host\": \"algo-1\", \"Operation\": \"training\", \"epoch\": 16, \"model\": 21}, \"Metrics\": {\"train_absolute_loss_objective\": {\"sum\": 0.33610651969909666, \"count\": 1, \"min\": 0.33610651969909666, \"max\": 0.33610651969909666}}}\u001b[0m\n",
      "\u001b[34m#metrics {\"StartTime\": 1693633609.110249, \"EndTime\": 1693633609.1102695, \"Dimensions\": {\"Algorithm\": \"Linear Learner\", \"Host\": \"algo-1\", \"Operation\": \"training\", \"epoch\": 16, \"model\": 22}, \"Metrics\": {\"train_absolute_loss_objective\": {\"sum\": 0.3048379325866699, \"count\": 1, \"min\": 0.3048379325866699, \"max\": 0.3048379325866699}}}\u001b[0m\n",
      "\u001b[34m#metrics {\"StartTime\": 1693633609.1103709, \"EndTime\": 1693633609.1103916, \"Dimensions\": {\"Algorithm\": \"Linear Learner\", \"Host\": \"algo-1\", \"Operation\": \"training\", \"epoch\": 16, \"model\": 23}, \"Metrics\": {\"train_absolute_loss_objective\": {\"sum\": 0.2568428826332092, \"count\": 1, \"min\": 0.2568428826332092, \"max\": 0.2568428826332092}}}\u001b[0m\n",
      "\u001b[34m#metrics {\"StartTime\": 1693633609.1104898, \"EndTime\": 1693633609.1105092, \"Dimensions\": {\"Algorithm\": \"Linear Learner\", \"Host\": \"algo-1\", \"Operation\": \"training\", \"epoch\": 16, \"model\": 24}, \"Metrics\": {\"train_absolute_loss_objective\": {\"sum\": 0.8991573619842529, \"count\": 1, \"min\": 0.8991573619842529, \"max\": 0.8991573619842529}}}\u001b[0m\n",
      "\u001b[34m#metrics {\"StartTime\": 1693633609.110608, \"EndTime\": 1693633609.1106286, \"Dimensions\": {\"Algorithm\": \"Linear Learner\", \"Host\": \"algo-1\", \"Operation\": \"training\", \"epoch\": 16, \"model\": 25}, \"Metrics\": {\"train_absolute_loss_objective\": {\"sum\": 0.8993024826049805, \"count\": 1, \"min\": 0.8993024826049805, \"max\": 0.8993024826049805}}}\u001b[0m\n",
      "\u001b[34m#metrics {\"StartTime\": 1693633609.1107254, \"EndTime\": 1693633609.1107454, \"Dimensions\": {\"Algorithm\": \"Linear Learner\", \"Host\": \"algo-1\", \"Operation\": \"training\", \"epoch\": 16, \"model\": 26}, \"Metrics\": {\"train_absolute_loss_objective\": {\"sum\": 0.8996848392486573, \"count\": 1, \"min\": 0.8996848392486573, \"max\": 0.8996848392486573}}}\u001b[0m\n",
      "\u001b[34m#metrics {\"StartTime\": 1693633609.1108465, \"EndTime\": 1693633609.1108668, \"Dimensions\": {\"Algorithm\": \"Linear Learner\", \"Host\": \"algo-1\", \"Operation\": \"training\", \"epoch\": 16, \"model\": 27}, \"Metrics\": {\"train_absolute_loss_objective\": {\"sum\": 0.8997658824920655, \"count\": 1, \"min\": 0.8997658824920655, \"max\": 0.8997658824920655}}}\u001b[0m\n",
      "\u001b[34m#metrics {\"StartTime\": 1693633609.1109824, \"EndTime\": 1693633609.1110013, \"Dimensions\": {\"Algorithm\": \"Linear Learner\", \"Host\": \"algo-1\", \"Operation\": \"training\", \"epoch\": 16, \"model\": 28}, \"Metrics\": {\"train_absolute_loss_objective\": {\"sum\": 0.9173878383636475, \"count\": 1, \"min\": 0.9173878383636475, \"max\": 0.9173878383636475}}}\u001b[0m\n",
      "\u001b[34m#metrics {\"StartTime\": 1693633609.111101, \"EndTime\": 1693633609.1111221, \"Dimensions\": {\"Algorithm\": \"Linear Learner\", \"Host\": \"algo-1\", \"Operation\": \"training\", \"epoch\": 16, \"model\": 29}, \"Metrics\": {\"train_absolute_loss_objective\": {\"sum\": 0.9052503490447998, \"count\": 1, \"min\": 0.9052503490447998, \"max\": 0.9052503490447998}}}\u001b[0m\n",
      "\u001b[34m#metrics {\"StartTime\": 1693633609.1112247, \"EndTime\": 1693633609.1112454, \"Dimensions\": {\"Algorithm\": \"Linear Learner\", \"Host\": \"algo-1\", \"Operation\": \"training\", \"epoch\": 16, \"model\": 30}, \"Metrics\": {\"train_absolute_loss_objective\": {\"sum\": 0.9048038005828858, \"count\": 1, \"min\": 0.9048038005828858, \"max\": 0.9048038005828858}}}\u001b[0m\n",
      "\u001b[34m#metrics {\"StartTime\": 1693633609.1113436, \"EndTime\": 1693633609.111364, \"Dimensions\": {\"Algorithm\": \"Linear Learner\", \"Host\": \"algo-1\", \"Operation\": \"training\", \"epoch\": 16, \"model\": 31}, \"Metrics\": {\"train_absolute_loss_objective\": {\"sum\": 0.9051533222198487, \"count\": 1, \"min\": 0.9051533222198487, \"max\": 0.9051533222198487}}}\u001b[0m\n",
      "\u001b[34m[09/02/2023 05:46:49 INFO 140628399605568] #quality_metric: host=algo-1, epoch=16, train absolute_loss_objective <loss>=0.5858928680419921\u001b[0m\n",
      "\u001b[34m[09/02/2023 05:46:49 INFO 140628399605568] #early_stopping_criteria_metric: host=algo-1, epoch=16, criteria=absolute_loss_objective, value=0.17188340187072754\u001b[0m\n",
      "\u001b[34m[09/02/2023 05:46:49 INFO 140628399605568] Saving model for epoch: 16\u001b[0m\n",
      "\u001b[34m[09/02/2023 05:46:49 INFO 140628399605568] Saved checkpoint to \"/tmp/tmpxykrelt8/mx-mod-0000.params\"\u001b[0m\n",
      "\u001b[34m[09/02/2023 05:46:49 INFO 140628399605568] #progress_metric: host=algo-1, completed 34.0 % of epochs\u001b[0m\n",
      "\u001b[34m#metrics {\"StartTime\": 1693633608.9871964, \"EndTime\": 1693633609.1228888, \"Dimensions\": {\"Algorithm\": \"Linear Learner\", \"Host\": \"algo-1\", \"Operation\": \"training\", \"epoch\": 16, \"Meta\": \"training_data_iter\"}, \"Metrics\": {\"Total Records Seen\": {\"sum\": 473.0, \"count\": 1, \"min\": 473, \"max\": 473}, \"Total Batches Seen\": {\"sum\": 109.0, \"count\": 1, \"min\": 109, \"max\": 109}, \"Max Records Seen Between Resets\": {\"sum\": 26.0, \"count\": 1, \"min\": 26, \"max\": 26}, \"Max Batches Seen Between Resets\": {\"sum\": 6.0, \"count\": 1, \"min\": 6, \"max\": 6}, \"Reset Count\": {\"sum\": 19.0, \"count\": 1, \"min\": 19, \"max\": 19}, \"Number of Records Since Last Reset\": {\"sum\": 26.0, \"count\": 1, \"min\": 26, \"max\": 26}, \"Number of Batches Since Last Reset\": {\"sum\": 6.0, \"count\": 1, \"min\": 6, \"max\": 6}}}\u001b[0m\n",
      "\u001b[34m[09/02/2023 05:46:49 INFO 140628399605568] #throughput_metric: host=algo-1, train throughput=191.3997191800056 records/second\u001b[0m\n",
      "\u001b[34m[2023-09-02 05:46:49.250] [tensorio] [info] epoch_stats={\"data_pipeline\": \"/opt/ml/input/data/train\", \"epoch\": 38, \"duration\": 127, \"num_examples\": 6, \"num_bytes\": 1248}\u001b[0m\n",
      "\u001b[34m#metrics {\"StartTime\": 1693633609.250785, \"EndTime\": 1693633609.2508726, \"Dimensions\": {\"Algorithm\": \"Linear Learner\", \"Host\": \"algo-1\", \"Operation\": \"training\", \"epoch\": 17, \"model\": 0}, \"Metrics\": {\"train_absolute_loss_objective\": {\"sum\": 0.5674883127212524, \"count\": 1, \"min\": 0.5674883127212524, \"max\": 0.5674883127212524}}}\u001b[0m\n",
      "\u001b[34m#metrics {\"StartTime\": 1693633609.2509618, \"EndTime\": 1693633609.2509809, \"Dimensions\": {\"Algorithm\": \"Linear Learner\", \"Host\": \"algo-1\", \"Operation\": \"training\", \"epoch\": 17, \"model\": 1}, \"Metrics\": {\"train_absolute_loss_objective\": {\"sum\": 0.5744079542160034, \"count\": 1, \"min\": 0.5744079542160034, \"max\": 0.5744079542160034}}}\u001b[0m\n",
      "\u001b[34m#metrics {\"StartTime\": 1693633609.2510288, \"EndTime\": 1693633609.2510426, \"Dimensions\": {\"Algorithm\": \"Linear Learner\", \"Host\": \"algo-1\", \"Operation\": \"training\", \"epoch\": 17, \"model\": 2}, \"Metrics\": {\"train_absolute_loss_objective\": {\"sum\": 0.5698477363586426, \"count\": 1, \"min\": 0.5698477363586426, \"max\": 0.5698477363586426}}}\u001b[0m\n",
      "\u001b[34m#metrics {\"StartTime\": 1693633609.2510915, \"EndTime\": 1693633609.2511077, \"Dimensions\": {\"Algorithm\": \"Linear Learner\", \"Host\": \"algo-1\", \"Operation\": \"training\", \"epoch\": 17, \"model\": 3}, \"Metrics\": {\"train_absolute_loss_objective\": {\"sum\": 0.5734125471115112, \"count\": 1, \"min\": 0.5734125471115112, \"max\": 0.5734125471115112}}}\u001b[0m\n",
      "\u001b[34m#metrics {\"StartTime\": 1693633609.25116, \"EndTime\": 1693633609.2511754, \"Dimensions\": {\"Algorithm\": \"Linear Learner\", \"Host\": \"algo-1\", \"Operation\": \"training\", \"epoch\": 17, \"model\": 4}, \"Metrics\": {\"train_absolute_loss_objective\": {\"sum\": 0.2373241925239563, \"count\": 1, \"min\": 0.2373241925239563, \"max\": 0.2373241925239563}}}\u001b[0m\n",
      "\u001b[34m#metrics {\"StartTime\": 1693633609.2512245, \"EndTime\": 1693633609.251241, \"Dimensions\": {\"Algorithm\": \"Linear Learner\", \"Host\": \"algo-1\", \"Operation\": \"training\", \"epoch\": 17, \"model\": 5}, \"Metrics\": {\"train_absolute_loss_objective\": {\"sum\": 0.20133451700210572, \"count\": 1, \"min\": 0.20133451700210572, \"max\": 0.20133451700210572}}}\u001b[0m\n",
      "\u001b[34m#metrics {\"StartTime\": 1693633609.2512956, \"EndTime\": 1693633609.2513108, \"Dimensions\": {\"Algorithm\": \"Linear Learner\", \"Host\": \"algo-1\", \"Operation\": \"training\", \"epoch\": 17, \"model\": 6}, \"Metrics\": {\"train_absolute_loss_objective\": {\"sum\": 0.23980345249176024, \"count\": 1, \"min\": 0.23980345249176024, \"max\": 0.23980345249176024}}}\u001b[0m\n",
      "\u001b[34m#metrics {\"StartTime\": 1693633609.2513638, \"EndTime\": 1693633609.2513804, \"Dimensions\": {\"Algorithm\": \"Linear Learner\", \"Host\": \"algo-1\", \"Operation\": \"training\", \"epoch\": 17, \"model\": 7}, \"Metrics\": {\"train_absolute_loss_objective\": {\"sum\": 0.1682630169391632, \"count\": 1, \"min\": 0.1682630169391632, \"max\": 0.1682630169391632}}}\u001b[0m\n",
      "\u001b[34m#metrics {\"StartTime\": 1693633609.251434, \"EndTime\": 1693633609.2514505, \"Dimensions\": {\"Algorithm\": \"Linear Learner\", \"Host\": \"algo-1\", \"Operation\": \"training\", \"epoch\": 17, \"model\": 8}, \"Metrics\": {\"train_absolute_loss_objective\": {\"sum\": 0.6232083129882813, \"count\": 1, \"min\": 0.6232083129882813, \"max\": 0.6232083129882813}}}\u001b[0m\n",
      "\u001b[34m#metrics {\"StartTime\": 1693633609.251502, \"EndTime\": 1693633609.2515185, \"Dimensions\": {\"Algorithm\": \"Linear Learner\", \"Host\": \"algo-1\", \"Operation\": \"training\", \"epoch\": 17, \"model\": 9}, \"Metrics\": {\"train_absolute_loss_objective\": {\"sum\": 0.5418569993972778, \"count\": 1, \"min\": 0.5418569993972778, \"max\": 0.5418569993972778}}}\u001b[0m\n",
      "\u001b[34m#metrics {\"StartTime\": 1693633609.2515712, \"EndTime\": 1693633609.2515876, \"Dimensions\": {\"Algorithm\": \"Linear Learner\", \"Host\": \"algo-1\", \"Operation\": \"training\", \"epoch\": 17, \"model\": 10}, \"Metrics\": {\"train_absolute_loss_objective\": {\"sum\": 0.562487759590149, \"count\": 1, \"min\": 0.562487759590149, \"max\": 0.562487759590149}}}\u001b[0m\n",
      "\u001b[34m#metrics {\"StartTime\": 1693633609.2516415, \"EndTime\": 1693633609.2516582, \"Dimensions\": {\"Algorithm\": \"Linear Learner\", \"Host\": \"algo-1\", \"Operation\": \"training\", \"epoch\": 17, \"model\": 11}, \"Metrics\": {\"train_absolute_loss_objective\": {\"sum\": 0.5345509481430054, \"count\": 1, \"min\": 0.5345509481430054, \"max\": 0.5345509481430054}}}\u001b[0m\n",
      "\u001b[34m#metrics {\"StartTime\": 1693633609.251712, \"EndTime\": 1693633609.2517292, \"Dimensions\": {\"Algorithm\": \"Linear Learner\", \"Host\": \"algo-1\", \"Operation\": \"training\", \"epoch\": 17, \"model\": 12}, \"Metrics\": {\"train_absolute_loss_objective\": {\"sum\": 0.1632023584842682, \"count\": 1, \"min\": 0.1632023584842682, \"max\": 0.1632023584842682}}}\u001b[0m\n",
      "\u001b[34m#metrics {\"StartTime\": 1693633609.2517776, \"EndTime\": 1693633609.2517936, \"Dimensions\": {\"Algorithm\": \"Linear Learner\", \"Host\": \"algo-1\", \"Operation\": \"training\", \"epoch\": 17, \"model\": 13}, \"Metrics\": {\"train_absolute_loss_objective\": {\"sum\": 0.16880276679992676, \"count\": 1, \"min\": 0.16880276679992676, \"max\": 0.16880276679992676}}}\u001b[0m\n",
      "\u001b[34m#metrics {\"StartTime\": 1693633609.251848, \"EndTime\": 1693633609.2518656, \"Dimensions\": {\"Algorithm\": \"Linear Learner\", \"Host\": \"algo-1\", \"Operation\": \"training\", \"epoch\": 17, \"model\": 14}, \"Metrics\": {\"train_absolute_loss_objective\": {\"sum\": 0.24119056940078734, \"count\": 1, \"min\": 0.24119056940078734, \"max\": 0.24119056940078734}}}\u001b[0m\n",
      "\u001b[34m#metrics {\"StartTime\": 1693633609.2519176, \"EndTime\": 1693633609.2519338, \"Dimensions\": {\"Algorithm\": \"Linear Learner\", \"Host\": \"algo-1\", \"Operation\": \"training\", \"epoch\": 17, \"model\": 15}, \"Metrics\": {\"train_absolute_loss_objective\": {\"sum\": 0.25327166080474856, \"count\": 1, \"min\": 0.25327166080474856, \"max\": 0.25327166080474856}}}\u001b[0m\n",
      "\u001b[34m#metrics {\"StartTime\": 1693633609.251982, \"EndTime\": 1693633609.2519975, \"Dimensions\": {\"Algorithm\": \"Linear Learner\", \"Host\": \"algo-1\", \"Operation\": \"training\", \"epoch\": 17, \"model\": 16}, \"Metrics\": {\"train_absolute_loss_objective\": {\"sum\": 0.5683460998535156, \"count\": 1, \"min\": 0.5683460998535156, \"max\": 0.5683460998535156}}}\u001b[0m\n",
      "\u001b[34m#metrics {\"StartTime\": 1693633609.252052, \"EndTime\": 1693633609.2520685, \"Dimensions\": {\"Algorithm\": \"Linear Learner\", \"Host\": \"algo-1\", \"Operation\": \"training\", \"epoch\": 17, \"model\": 17}, \"Metrics\": {\"train_absolute_loss_objective\": {\"sum\": 0.6043329668045044, \"count\": 1, \"min\": 0.6043329668045044, \"max\": 0.6043329668045044}}}\u001b[0m\n",
      "\u001b[34m#metrics {\"StartTime\": 1693633609.2521224, \"EndTime\": 1693633609.2521386, \"Dimensions\": {\"Algorithm\": \"Linear Learner\", \"Host\": \"algo-1\", \"Operation\": \"training\", \"epoch\": 17, \"model\": 18}, \"Metrics\": {\"train_absolute_loss_objective\": {\"sum\": 0.5927844142913818, \"count\": 1, \"min\": 0.5927844142913818, \"max\": 0.5927844142913818}}}\u001b[0m\n",
      "\u001b[34m#metrics {\"StartTime\": 1693633609.2521913, \"EndTime\": 1693633609.252207, \"Dimensions\": {\"Algorithm\": \"Linear Learner\", \"Host\": \"algo-1\", \"Operation\": \"training\", \"epoch\": 17, \"model\": 19}, \"Metrics\": {\"train_absolute_loss_objective\": {\"sum\": 0.580244722366333, \"count\": 1, \"min\": 0.580244722366333, \"max\": 0.580244722366333}}}\u001b[0m\n",
      "\u001b[34m#metrics {\"StartTime\": 1693633609.2522619, \"EndTime\": 1693633609.2522771, \"Dimensions\": {\"Algorithm\": \"Linear Learner\", \"Host\": \"algo-1\", \"Operation\": \"training\", \"epoch\": 17, \"model\": 20}, \"Metrics\": {\"train_absolute_loss_objective\": {\"sum\": 0.3226721954345703, \"count\": 1, \"min\": 0.3226721954345703, \"max\": 0.3226721954345703}}}\u001b[0m\n",
      "\u001b[34m#metrics {\"StartTime\": 1693633609.2523265, \"EndTime\": 1693633609.252342, \"Dimensions\": {\"Algorithm\": \"Linear Learner\", \"Host\": \"algo-1\", \"Operation\": \"training\", \"epoch\": 17, \"model\": 21}, \"Metrics\": {\"train_absolute_loss_objective\": {\"sum\": 0.32584075927734374, \"count\": 1, \"min\": 0.32584075927734374, \"max\": 0.32584075927734374}}}\u001b[0m\n",
      "\u001b[34m#metrics {\"StartTime\": 1693633609.2523887, \"EndTime\": 1693633609.2524037, \"Dimensions\": {\"Algorithm\": \"Linear Learner\", \"Host\": \"algo-1\", \"Operation\": \"training\", \"epoch\": 17, \"model\": 22}, \"Metrics\": {\"train_absolute_loss_objective\": {\"sum\": 0.3012649941444397, \"count\": 1, \"min\": 0.3012649941444397, \"max\": 0.3012649941444397}}}\u001b[0m\n",
      "\u001b[34m#metrics {\"StartTime\": 1693633609.2524652, \"EndTime\": 1693633609.2524827, \"Dimensions\": {\"Algorithm\": \"Linear Learner\", \"Host\": \"algo-1\", \"Operation\": \"training\", \"epoch\": 17, \"model\": 23}, \"Metrics\": {\"train_absolute_loss_objective\": {\"sum\": 0.2660504388809204, \"count\": 1, \"min\": 0.2660504388809204, \"max\": 0.2660504388809204}}}\u001b[0m\n",
      "\u001b[34m#metrics {\"StartTime\": 1693633609.2525368, \"EndTime\": 1693633609.2525523, \"Dimensions\": {\"Algorithm\": \"Linear Learner\", \"Host\": \"algo-1\", \"Operation\": \"training\", \"epoch\": 17, \"model\": 24}, \"Metrics\": {\"train_absolute_loss_objective\": {\"sum\": 0.8997916030883789, \"count\": 1, \"min\": 0.8997916030883789, \"max\": 0.8997916030883789}}}\u001b[0m\n",
      "\u001b[34m#metrics {\"StartTime\": 1693633609.2526257, \"EndTime\": 1693633609.2526436, \"Dimensions\": {\"Algorithm\": \"Linear Learner\", \"Host\": \"algo-1\", \"Operation\": \"training\", \"epoch\": 17, \"model\": 25}, \"Metrics\": {\"train_absolute_loss_objective\": {\"sum\": 0.9002669429779053, \"count\": 1, \"min\": 0.9002669429779053, \"max\": 0.9002669429779053}}}\u001b[0m\n",
      "\u001b[34m#metrics {\"StartTime\": 1693633609.2526968, \"EndTime\": 1693633609.2527122, \"Dimensions\": {\"Algorithm\": \"Linear Learner\", \"Host\": \"algo-1\", \"Operation\": \"training\", \"epoch\": 17, \"model\": 26}, \"Metrics\": {\"train_absolute_loss_objective\": {\"sum\": 0.8999057197570801, \"count\": 1, \"min\": 0.8999057197570801, \"max\": 0.8999057197570801}}}\u001b[0m\n",
      "\u001b[34m#metrics {\"StartTime\": 1693633609.2527728, \"EndTime\": 1693633609.2527893, \"Dimensions\": {\"Algorithm\": \"Linear Learner\", \"Host\": \"algo-1\", \"Operation\": \"training\", \"epoch\": 17, \"model\": 27}, \"Metrics\": {\"train_absolute_loss_objective\": {\"sum\": 0.9002352428436279, \"count\": 1, \"min\": 0.9002352428436279, \"max\": 0.9002352428436279}}}\u001b[0m\n",
      "\u001b[34m#metrics {\"StartTime\": 1693633609.2528436, \"EndTime\": 1693633609.2528589, \"Dimensions\": {\"Algorithm\": \"Linear Learner\", \"Host\": \"algo-1\", \"Operation\": \"training\", \"epoch\": 17, \"model\": 28}, \"Metrics\": {\"train_absolute_loss_objective\": {\"sum\": 0.9157351684570313, \"count\": 1, \"min\": 0.9157351684570313, \"max\": 0.9157351684570313}}}\u001b[0m\n",
      "\u001b[34m#metrics {\"StartTime\": 1693633609.25292, \"EndTime\": 1693633609.2529373, \"Dimensions\": {\"Algorithm\": \"Linear Learner\", \"Host\": \"algo-1\", \"Operation\": \"training\", \"epoch\": 17, \"model\": 29}, \"Metrics\": {\"train_absolute_loss_objective\": {\"sum\": 0.9285365295410156, \"count\": 1, \"min\": 0.9285365295410156, \"max\": 0.9285365295410156}}}\u001b[0m\n",
      "\u001b[34m#metrics {\"StartTime\": 1693633609.2529893, \"EndTime\": 1693633609.2530053, \"Dimensions\": {\"Algorithm\": \"Linear Learner\", \"Host\": \"algo-1\", \"Operation\": \"training\", \"epoch\": 17, \"model\": 30}, \"Metrics\": {\"train_absolute_loss_objective\": {\"sum\": 0.9272052955627441, \"count\": 1, \"min\": 0.9272052955627441, \"max\": 0.9272052955627441}}}\u001b[0m\n",
      "\u001b[34m#metrics {\"StartTime\": 1693633609.2530665, \"EndTime\": 1693633609.2530837, \"Dimensions\": {\"Algorithm\": \"Linear Learner\", \"Host\": \"algo-1\", \"Operation\": \"training\", \"epoch\": 17, \"model\": 31}, \"Metrics\": {\"train_absolute_loss_objective\": {\"sum\": 0.9278039169311524, \"count\": 1, \"min\": 0.9278039169311524, \"max\": 0.9278039169311524}}}\u001b[0m\n",
      "\u001b[34m[09/02/2023 05:46:49 INFO 140628399605568] #quality_metric: host=algo-1, epoch=17, train absolute_loss_objective <loss>=0.5674883127212524\u001b[0m\n",
      "\u001b[34m[09/02/2023 05:46:49 INFO 140628399605568] #early_stopping_criteria_metric: host=algo-1, epoch=17, criteria=absolute_loss_objective, value=0.1632023584842682\u001b[0m\n",
      "\u001b[34m[09/02/2023 05:46:49 INFO 140628399605568] Epoch 17: Loss has not improved for 0 epochs.\u001b[0m\n",
      "\u001b[34m[09/02/2023 05:46:49 INFO 140628399605568] Saving model for epoch: 17\u001b[0m\n",
      "\u001b[34m[09/02/2023 05:46:49 INFO 140628399605568] Saved checkpoint to \"/tmp/tmpopug4uhs/mx-mod-0000.params\"\u001b[0m\n",
      "\u001b[34m[09/02/2023 05:46:49 INFO 140628399605568] #progress_metric: host=algo-1, completed 36.0 % of epochs\u001b[0m\n",
      "\u001b[34m#metrics {\"StartTime\": 1693633609.1231947, \"EndTime\": 1693633609.2635555, \"Dimensions\": {\"Algorithm\": \"Linear Learner\", \"Host\": \"algo-1\", \"Operation\": \"training\", \"epoch\": 17, \"Meta\": \"training_data_iter\"}, \"Metrics\": {\"Total Records Seen\": {\"sum\": 499.0, \"count\": 1, \"min\": 499, \"max\": 499}, \"Total Batches Seen\": {\"sum\": 115.0, \"count\": 1, \"min\": 115, \"max\": 115}, \"Max Records Seen Between Resets\": {\"sum\": 26.0, \"count\": 1, \"min\": 26, \"max\": 26}, \"Max Batches Seen Between Resets\": {\"sum\": 6.0, \"count\": 1, \"min\": 6, \"max\": 6}, \"Reset Count\": {\"sum\": 20.0, \"count\": 1, \"min\": 20, \"max\": 20}, \"Number of Records Since Last Reset\": {\"sum\": 26.0, \"count\": 1, \"min\": 26, \"max\": 26}, \"Number of Batches Since Last Reset\": {\"sum\": 6.0, \"count\": 1, \"min\": 6, \"max\": 6}}}\u001b[0m\n",
      "\u001b[34m[09/02/2023 05:46:49 INFO 140628399605568] #throughput_metric: host=algo-1, train throughput=185.07087725967511 records/second\u001b[0m\n",
      "\u001b[34m[2023-09-02 05:46:49.388] [tensorio] [info] epoch_stats={\"data_pipeline\": \"/opt/ml/input/data/train\", \"epoch\": 40, \"duration\": 124, \"num_examples\": 6, \"num_bytes\": 1248}\u001b[0m\n",
      "\u001b[34m#metrics {\"StartTime\": 1693633609.3881624, \"EndTime\": 1693633609.3882513, \"Dimensions\": {\"Algorithm\": \"Linear Learner\", \"Host\": \"algo-1\", \"Operation\": \"training\", \"epoch\": 18, \"model\": 0}, \"Metrics\": {\"train_absolute_loss_objective\": {\"sum\": 0.5484715700149536, \"count\": 1, \"min\": 0.5484715700149536, \"max\": 0.5484715700149536}}}\u001b[0m\n",
      "\u001b[34m#metrics {\"StartTime\": 1693633609.388325, \"EndTime\": 1693633609.3883424, \"Dimensions\": {\"Algorithm\": \"Linear Learner\", \"Host\": \"algo-1\", \"Operation\": \"training\", \"epoch\": 18, \"model\": 1}, \"Metrics\": {\"train_absolute_loss_objective\": {\"sum\": 0.5536938619613647, \"count\": 1, \"min\": 0.5536938619613647, \"max\": 0.5536938619613647}}}\u001b[0m\n",
      "\u001b[34m#metrics {\"StartTime\": 1693633609.3883893, \"EndTime\": 1693633609.3884044, \"Dimensions\": {\"Algorithm\": \"Linear Learner\", \"Host\": \"algo-1\", \"Operation\": \"training\", \"epoch\": 18, \"model\": 2}, \"Metrics\": {\"train_absolute_loss_objective\": {\"sum\": 0.5509020900726318, \"count\": 1, \"min\": 0.5509020900726318, \"max\": 0.5509020900726318}}}\u001b[0m\n",
      "\u001b[34m#metrics {\"StartTime\": 1693633609.388448, \"EndTime\": 1693633609.3884635, \"Dimensions\": {\"Algorithm\": \"Linear Learner\", \"Host\": \"algo-1\", \"Operation\": \"training\", \"epoch\": 18, \"model\": 3}, \"Metrics\": {\"train_absolute_loss_objective\": {\"sum\": 0.5526684617996216, \"count\": 1, \"min\": 0.5526684617996216, \"max\": 0.5526684617996216}}}\u001b[0m\n",
      "\u001b[34m#metrics {\"StartTime\": 1693633609.3885255, \"EndTime\": 1693633609.3885431, \"Dimensions\": {\"Algorithm\": \"Linear Learner\", \"Host\": \"algo-1\", \"Operation\": \"training\", \"epoch\": 18, \"model\": 4}, \"Metrics\": {\"train_absolute_loss_objective\": {\"sum\": 0.21765435338020325, \"count\": 1, \"min\": 0.21765435338020325, \"max\": 0.21765435338020325}}}\u001b[0m\n",
      "\u001b[34m#metrics {\"StartTime\": 1693633609.3886259, \"EndTime\": 1693633609.3886447, \"Dimensions\": {\"Algorithm\": \"Linear Learner\", \"Host\": \"algo-1\", \"Operation\": \"training\", \"epoch\": 18, \"model\": 5}, \"Metrics\": {\"train_absolute_loss_objective\": {\"sum\": 0.21775025010108948, \"count\": 1, \"min\": 0.21775025010108948, \"max\": 0.21775025010108948}}}\u001b[0m\n",
      "\u001b[34m#metrics {\"StartTime\": 1693633609.3886995, \"EndTime\": 1693633609.3887162, \"Dimensions\": {\"Algorithm\": \"Linear Learner\", \"Host\": \"algo-1\", \"Operation\": \"training\", \"epoch\": 18, \"model\": 6}, \"Metrics\": {\"train_absolute_loss_objective\": {\"sum\": 0.16604529857635497, \"count\": 1, \"min\": 0.16604529857635497, \"max\": 0.16604529857635497}}}\u001b[0m\n",
      "\u001b[34m#metrics {\"StartTime\": 1693633609.388768, \"EndTime\": 1693633609.3887844, \"Dimensions\": {\"Algorithm\": \"Linear Learner\", \"Host\": \"algo-1\", \"Operation\": \"training\", \"epoch\": 18, \"model\": 7}, \"Metrics\": {\"train_absolute_loss_objective\": {\"sum\": 0.23028087139129638, \"count\": 1, \"min\": 0.23028087139129638, \"max\": 0.23028087139129638}}}\u001b[0m\n",
      "\u001b[34m#metrics {\"StartTime\": 1693633609.388844, \"EndTime\": 1693633609.388861, \"Dimensions\": {\"Algorithm\": \"Linear Learner\", \"Host\": \"algo-1\", \"Operation\": \"training\", \"epoch\": 18, \"model\": 8}, \"Metrics\": {\"train_absolute_loss_objective\": {\"sum\": 0.6040690469741822, \"count\": 1, \"min\": 0.6040690469741822, \"max\": 0.6040690469741822}}}\u001b[0m\n",
      "\u001b[34m#metrics {\"StartTime\": 1693633609.388911, \"EndTime\": 1693633609.3889282, \"Dimensions\": {\"Algorithm\": \"Linear Learner\", \"Host\": \"algo-1\", \"Operation\": \"training\", \"epoch\": 18, \"model\": 9}, \"Metrics\": {\"train_absolute_loss_objective\": {\"sum\": 0.5231507492065429, \"count\": 1, \"min\": 0.5231507492065429, \"max\": 0.5231507492065429}}}\u001b[0m\n",
      "\u001b[34m#metrics {\"StartTime\": 1693633609.388987, \"EndTime\": 1693633609.3890042, \"Dimensions\": {\"Algorithm\": \"Linear Learner\", \"Host\": \"algo-1\", \"Operation\": \"training\", \"epoch\": 18, \"model\": 10}, \"Metrics\": {\"train_absolute_loss_objective\": {\"sum\": 0.5434672403335571, \"count\": 1, \"min\": 0.5434672403335571, \"max\": 0.5434672403335571}}}\u001b[0m\n",
      "\u001b[34m#metrics {\"StartTime\": 1693633609.3890545, \"EndTime\": 1693633609.3890717, \"Dimensions\": {\"Algorithm\": \"Linear Learner\", \"Host\": \"algo-1\", \"Operation\": \"training\", \"epoch\": 18, \"model\": 11}, \"Metrics\": {\"train_absolute_loss_objective\": {\"sum\": 0.5142381906509399, \"count\": 1, \"min\": 0.5142381906509399, \"max\": 0.5142381906509399}}}\u001b[0m\n",
      "\u001b[34m#metrics {\"StartTime\": 1693633609.389125, \"EndTime\": 1693633609.3891423, \"Dimensions\": {\"Algorithm\": \"Linear Learner\", \"Host\": \"algo-1\", \"Operation\": \"training\", \"epoch\": 18, \"model\": 12}, \"Metrics\": {\"train_absolute_loss_objective\": {\"sum\": 0.20783880472183228, \"count\": 1, \"min\": 0.20783880472183228, \"max\": 0.20783880472183228}}}\u001b[0m\n",
      "\u001b[34m#metrics {\"StartTime\": 1693633609.3891947, \"EndTime\": 1693633609.3892112, \"Dimensions\": {\"Algorithm\": \"Linear Learner\", \"Host\": \"algo-1\", \"Operation\": \"training\", \"epoch\": 18, \"model\": 13}, \"Metrics\": {\"train_absolute_loss_objective\": {\"sum\": 0.26961973428726194, \"count\": 1, \"min\": 0.26961973428726194, \"max\": 0.26961973428726194}}}\u001b[0m\n",
      "\u001b[34m#metrics {\"StartTime\": 1693633609.3892727, \"EndTime\": 1693633609.3892891, \"Dimensions\": {\"Algorithm\": \"Linear Learner\", \"Host\": \"algo-1\", \"Operation\": \"training\", \"epoch\": 18, \"model\": 14}, \"Metrics\": {\"train_absolute_loss_objective\": {\"sum\": 0.33287647247314456, \"count\": 1, \"min\": 0.33287647247314456, \"max\": 0.33287647247314456}}}\u001b[0m\n",
      "\u001b[34m#metrics {\"StartTime\": 1693633609.3893397, \"EndTime\": 1693633609.3893566, \"Dimensions\": {\"Algorithm\": \"Linear Learner\", \"Host\": \"algo-1\", \"Operation\": \"training\", \"epoch\": 18, \"model\": 15}, \"Metrics\": {\"train_absolute_loss_objective\": {\"sum\": 0.2044046115875244, \"count\": 1, \"min\": 0.2044046115875244, \"max\": 0.2044046115875244}}}\u001b[0m\n",
      "\u001b[34m#metrics {\"StartTime\": 1693633609.3894155, \"EndTime\": 1693633609.3894317, \"Dimensions\": {\"Algorithm\": \"Linear Learner\", \"Host\": \"algo-1\", \"Operation\": \"training\", \"epoch\": 18, \"model\": 16}, \"Metrics\": {\"train_absolute_loss_objective\": {\"sum\": 0.5554255533218384, \"count\": 1, \"min\": 0.5554255533218384, \"max\": 0.5554255533218384}}}\u001b[0m\n",
      "\u001b[34m#metrics {\"StartTime\": 1693633609.3894813, \"EndTime\": 1693633609.389497, \"Dimensions\": {\"Algorithm\": \"Linear Learner\", \"Host\": \"algo-1\", \"Operation\": \"training\", \"epoch\": 18, \"model\": 17}, \"Metrics\": {\"train_absolute_loss_objective\": {\"sum\": 0.5895328855514527, \"count\": 1, \"min\": 0.5895328855514527, \"max\": 0.5895328855514527}}}\u001b[0m\n",
      "\u001b[34m#metrics {\"StartTime\": 1693633609.389555, \"EndTime\": 1693633609.3895724, \"Dimensions\": {\"Algorithm\": \"Linear Learner\", \"Host\": \"algo-1\", \"Operation\": \"training\", \"epoch\": 18, \"model\": 18}, \"Metrics\": {\"train_absolute_loss_objective\": {\"sum\": 0.5786812162399292, \"count\": 1, \"min\": 0.5786812162399292, \"max\": 0.5786812162399292}}}\u001b[0m\n",
      "\u001b[34m#metrics {\"StartTime\": 1693633609.3896308, \"EndTime\": 1693633609.3896477, \"Dimensions\": {\"Algorithm\": \"Linear Learner\", \"Host\": \"algo-1\", \"Operation\": \"training\", \"epoch\": 18, \"model\": 19}, \"Metrics\": {\"train_absolute_loss_objective\": {\"sum\": 0.5655635356903076, \"count\": 1, \"min\": 0.5655635356903076, \"max\": 0.5655635356903076}}}\u001b[0m\n",
      "\u001b[34m#metrics {\"StartTime\": 1693633609.3896952, \"EndTime\": 1693633609.3897119, \"Dimensions\": {\"Algorithm\": \"Linear Learner\", \"Host\": \"algo-1\", \"Operation\": \"training\", \"epoch\": 18, \"model\": 20}, \"Metrics\": {\"train_absolute_loss_objective\": {\"sum\": 0.38290856838226317, \"count\": 1, \"min\": 0.38290856838226317, \"max\": 0.38290856838226317}}}\u001b[0m\n",
      "\u001b[34m#metrics {\"StartTime\": 1693633609.3897681, \"EndTime\": 1693633609.389786, \"Dimensions\": {\"Algorithm\": \"Linear Learner\", \"Host\": \"algo-1\", \"Operation\": \"training\", \"epoch\": 18, \"model\": 21}, \"Metrics\": {\"train_absolute_loss_objective\": {\"sum\": 0.3409355401992798, \"count\": 1, \"min\": 0.3409355401992798, \"max\": 0.3409355401992798}}}\u001b[0m\n",
      "\u001b[34m#metrics {\"StartTime\": 1693633609.3898425, \"EndTime\": 1693633609.3898597, \"Dimensions\": {\"Algorithm\": \"Linear Learner\", \"Host\": \"algo-1\", \"Operation\": \"training\", \"epoch\": 18, \"model\": 22}, \"Metrics\": {\"train_absolute_loss_objective\": {\"sum\": 0.3709885215759277, \"count\": 1, \"min\": 0.3709885215759277, \"max\": 0.3709885215759277}}}\u001b[0m\n",
      "\u001b[34m#metrics {\"StartTime\": 1693633609.3899093, \"EndTime\": 1693633609.3899238, \"Dimensions\": {\"Algorithm\": \"Linear Learner\", \"Host\": \"algo-1\", \"Operation\": \"training\", \"epoch\": 18, \"model\": 23}, \"Metrics\": {\"train_absolute_loss_objective\": {\"sum\": 0.38317615032196045, \"count\": 1, \"min\": 0.38317615032196045, \"max\": 0.38317615032196045}}}\u001b[0m\n",
      "\u001b[34m#metrics {\"StartTime\": 1693633609.3900378, \"EndTime\": 1693633609.3900573, \"Dimensions\": {\"Algorithm\": \"Linear Learner\", \"Host\": \"algo-1\", \"Operation\": \"training\", \"epoch\": 18, \"model\": 24}, \"Metrics\": {\"train_absolute_loss_objective\": {\"sum\": 0.8997805309295654, \"count\": 1, \"min\": 0.8997805309295654, \"max\": 0.8997805309295654}}}\u001b[0m\n",
      "\u001b[34m#metrics {\"StartTime\": 1693633609.390154, \"EndTime\": 1693633609.3901737, \"Dimensions\": {\"Algorithm\": \"Linear Learner\", \"Host\": \"algo-1\", \"Operation\": \"training\", \"epoch\": 18, \"model\": 25}, \"Metrics\": {\"train_absolute_loss_objective\": {\"sum\": 0.900630168914795, \"count\": 1, \"min\": 0.900630168914795, \"max\": 0.900630168914795}}}\u001b[0m\n",
      "\u001b[34m#metrics {\"StartTime\": 1693633609.3903239, \"EndTime\": 1693633609.3903458, \"Dimensions\": {\"Algorithm\": \"Linear Learner\", \"Host\": \"algo-1\", \"Operation\": \"training\", \"epoch\": 18, \"model\": 26}, \"Metrics\": {\"train_absolute_loss_objective\": {\"sum\": 0.8997501564025879, \"count\": 1, \"min\": 0.8997501564025879, \"max\": 0.8997501564025879}}}\u001b[0m\n",
      "\u001b[34m#metrics {\"StartTime\": 1693633609.3905435, \"EndTime\": 1693633609.3905644, \"Dimensions\": {\"Algorithm\": \"Linear Learner\", \"Host\": \"algo-1\", \"Operation\": \"training\", \"epoch\": 18, \"model\": 27}, \"Metrics\": {\"train_absolute_loss_objective\": {\"sum\": 0.8998362064361572, \"count\": 1, \"min\": 0.8998362064361572, \"max\": 0.8998362064361572}}}\u001b[0m\n",
      "\u001b[34m#metrics {\"StartTime\": 1693633609.390736, \"EndTime\": 1693633609.390758, \"Dimensions\": {\"Algorithm\": \"Linear Learner\", \"Host\": \"algo-1\", \"Operation\": \"training\", \"epoch\": 18, \"model\": 28}, \"Metrics\": {\"train_absolute_loss_objective\": {\"sum\": 0.9206512832641601, \"count\": 1, \"min\": 0.9206512832641601, \"max\": 0.9206512832641601}}}\u001b[0m\n",
      "\u001b[34m#metrics {\"StartTime\": 1693633609.390876, \"EndTime\": 1693633609.3908978, \"Dimensions\": {\"Algorithm\": \"Linear Learner\", \"Host\": \"algo-1\", \"Operation\": \"training\", \"epoch\": 18, \"model\": 29}, \"Metrics\": {\"train_absolute_loss_objective\": {\"sum\": 0.9287397861480713, \"count\": 1, \"min\": 0.9287397861480713, \"max\": 0.9287397861480713}}}\u001b[0m\n",
      "\u001b[34m#metrics {\"StartTime\": 1693633609.3909984, \"EndTime\": 1693633609.3910196, \"Dimensions\": {\"Algorithm\": \"Linear Learner\", \"Host\": \"algo-1\", \"Operation\": \"training\", \"epoch\": 18, \"model\": 30}, \"Metrics\": {\"train_absolute_loss_objective\": {\"sum\": 0.927778263092041, \"count\": 1, \"min\": 0.927778263092041, \"max\": 0.927778263092041}}}\u001b[0m\n",
      "\u001b[34m#metrics {\"StartTime\": 1693633609.391126, \"EndTime\": 1693633609.3911462, \"Dimensions\": {\"Algorithm\": \"Linear Learner\", \"Host\": \"algo-1\", \"Operation\": \"training\", \"epoch\": 18, \"model\": 31}, \"Metrics\": {\"train_absolute_loss_objective\": {\"sum\": 0.927702693939209, \"count\": 1, \"min\": 0.927702693939209, \"max\": 0.927702693939209}}}\u001b[0m\n",
      "\u001b[34m[09/02/2023 05:46:49 INFO 140628399605568] #quality_metric: host=algo-1, epoch=18, train absolute_loss_objective <loss>=0.5484715700149536\u001b[0m\n",
      "\u001b[34m[09/02/2023 05:46:49 INFO 140628399605568] #early_stopping_criteria_metric: host=algo-1, epoch=18, criteria=absolute_loss_objective, value=0.16604529857635497\u001b[0m\n",
      "\u001b[34m[09/02/2023 05:46:49 INFO 140628399605568] Saving model for epoch: 18\u001b[0m\n",
      "\u001b[34m[09/02/2023 05:46:49 INFO 140628399605568] Saved checkpoint to \"/tmp/tmpk1cop8au/mx-mod-0000.params\"\u001b[0m\n",
      "\u001b[34m[09/02/2023 05:46:49 INFO 140628399605568] #progress_metric: host=algo-1, completed 38.0 % of epochs\u001b[0m\n",
      "\u001b[34m#metrics {\"StartTime\": 1693633609.26384, \"EndTime\": 1693633609.4002068, \"Dimensions\": {\"Algorithm\": \"Linear Learner\", \"Host\": \"algo-1\", \"Operation\": \"training\", \"epoch\": 18, \"Meta\": \"training_data_iter\"}, \"Metrics\": {\"Total Records Seen\": {\"sum\": 525.0, \"count\": 1, \"min\": 525, \"max\": 525}, \"Total Batches Seen\": {\"sum\": 121.0, \"count\": 1, \"min\": 121, \"max\": 121}, \"Max Records Seen Between Resets\": {\"sum\": 26.0, \"count\": 1, \"min\": 26, \"max\": 26}, \"Max Batches Seen Between Resets\": {\"sum\": 6.0, \"count\": 1, \"min\": 6, \"max\": 6}, \"Reset Count\": {\"sum\": 21.0, \"count\": 1, \"min\": 21, \"max\": 21}, \"Number of Records Since Last Reset\": {\"sum\": 26.0, \"count\": 1, \"min\": 26, \"max\": 26}, \"Number of Batches Since Last Reset\": {\"sum\": 6.0, \"count\": 1, \"min\": 6, \"max\": 6}}}\u001b[0m\n",
      "\u001b[34m[09/02/2023 05:46:49 INFO 140628399605568] #throughput_metric: host=algo-1, train throughput=190.4297892997964 records/second\u001b[0m\n",
      "\u001b[34m[2023-09-02 05:46:49.512] [tensorio] [info] epoch_stats={\"data_pipeline\": \"/opt/ml/input/data/train\", \"epoch\": 42, \"duration\": 111, \"num_examples\": 6, \"num_bytes\": 1248}\u001b[0m\n",
      "\u001b[34m#metrics {\"StartTime\": 1693633609.5129652, \"EndTime\": 1693633609.513047, \"Dimensions\": {\"Algorithm\": \"Linear Learner\", \"Host\": \"algo-1\", \"Operation\": \"training\", \"epoch\": 19, \"model\": 0}, \"Metrics\": {\"train_absolute_loss_objective\": {\"sum\": 0.5306418800354004, \"count\": 1, \"min\": 0.5306418800354004, \"max\": 0.5306418800354004}}}\u001b[0m\n",
      "\u001b[34m#metrics {\"StartTime\": 1693633609.5134003, \"EndTime\": 1693633609.5134215, \"Dimensions\": {\"Algorithm\": \"Linear Learner\", \"Host\": \"algo-1\", \"Operation\": \"training\", \"epoch\": 19, \"model\": 1}, \"Metrics\": {\"train_absolute_loss_objective\": {\"sum\": 0.5331433391571045, \"count\": 1, \"min\": 0.5331433391571045, \"max\": 0.5331433391571045}}}\u001b[0m\n",
      "\u001b[34m#metrics {\"StartTime\": 1693633609.513682, \"EndTime\": 1693633609.5137048, \"Dimensions\": {\"Algorithm\": \"Linear Learner\", \"Host\": \"algo-1\", \"Operation\": \"training\", \"epoch\": 19, \"model\": 2}, \"Metrics\": {\"train_absolute_loss_objective\": {\"sum\": 0.5330012989044189, \"count\": 1, \"min\": 0.5330012989044189, \"max\": 0.5330012989044189}}}\u001b[0m\n",
      "\u001b[34m#metrics {\"StartTime\": 1693633609.513977, \"EndTime\": 1693633609.5139973, \"Dimensions\": {\"Algorithm\": \"Linear Learner\", \"Host\": \"algo-1\", \"Operation\": \"training\", \"epoch\": 19, \"model\": 3}, \"Metrics\": {\"train_absolute_loss_objective\": {\"sum\": 0.5329820346832276, \"count\": 1, \"min\": 0.5329820346832276, \"max\": 0.5329820346832276}}}\u001b[0m\n",
      "\u001b[34m#metrics {\"StartTime\": 1693633609.5142562, \"EndTime\": 1693633609.5142748, \"Dimensions\": {\"Algorithm\": \"Linear Learner\", \"Host\": \"algo-1\", \"Operation\": \"training\", \"epoch\": 19, \"model\": 4}, \"Metrics\": {\"train_absolute_loss_objective\": {\"sum\": 0.21645113945007324, \"count\": 1, \"min\": 0.21645113945007324, \"max\": 0.21645113945007324}}}\u001b[0m\n",
      "\u001b[34m#metrics {\"StartTime\": 1693633609.5145264, \"EndTime\": 1693633609.514546, \"Dimensions\": {\"Algorithm\": \"Linear Learner\", \"Host\": \"algo-1\", \"Operation\": \"training\", \"epoch\": 19, \"model\": 5}, \"Metrics\": {\"train_absolute_loss_objective\": {\"sum\": 0.2255623745918274, \"count\": 1, \"min\": 0.2255623745918274, \"max\": 0.2255623745918274}}}\u001b[0m\n",
      "\u001b[34m#metrics {\"StartTime\": 1693633609.5147994, \"EndTime\": 1693633609.5148187, \"Dimensions\": {\"Algorithm\": \"Linear Learner\", \"Host\": \"algo-1\", \"Operation\": \"training\", \"epoch\": 19, \"model\": 6}, \"Metrics\": {\"train_absolute_loss_objective\": {\"sum\": 0.25419424057006834, \"count\": 1, \"min\": 0.25419424057006834, \"max\": 0.25419424057006834}}}\u001b[0m\n",
      "\u001b[34m#metrics {\"StartTime\": 1693633609.514873, \"EndTime\": 1693633609.514889, \"Dimensions\": {\"Algorithm\": \"Linear Learner\", \"Host\": \"algo-1\", \"Operation\": \"training\", \"epoch\": 19, \"model\": 7}, \"Metrics\": {\"train_absolute_loss_objective\": {\"sum\": 0.17274863719940187, \"count\": 1, \"min\": 0.17274863719940187, \"max\": 0.17274863719940187}}}\u001b[0m\n",
      "\u001b[34m#metrics {\"StartTime\": 1693633609.5150375, \"EndTime\": 1693633609.5150595, \"Dimensions\": {\"Algorithm\": \"Linear Learner\", \"Host\": \"algo-1\", \"Operation\": \"training\", \"epoch\": 19, \"model\": 8}, \"Metrics\": {\"train_absolute_loss_objective\": {\"sum\": 0.5864538621902465, \"count\": 1, \"min\": 0.5864538621902465, \"max\": 0.5864538621902465}}}\u001b[0m\n",
      "\u001b[34m#metrics {\"StartTime\": 1693633609.5151813, \"EndTime\": 1693633609.5152025, \"Dimensions\": {\"Algorithm\": \"Linear Learner\", \"Host\": \"algo-1\", \"Operation\": \"training\", \"epoch\": 19, \"model\": 9}, \"Metrics\": {\"train_absolute_loss_objective\": {\"sum\": 0.5034458303451538, \"count\": 1, \"min\": 0.5034458303451538, \"max\": 0.5034458303451538}}}\u001b[0m\n",
      "\u001b[34m#metrics {\"StartTime\": 1693633609.5153198, \"EndTime\": 1693633609.5153413, \"Dimensions\": {\"Algorithm\": \"Linear Learner\", \"Host\": \"algo-1\", \"Operation\": \"training\", \"epoch\": 19, \"model\": 10}, \"Metrics\": {\"train_absolute_loss_objective\": {\"sum\": 0.5257370758056641, \"count\": 1, \"min\": 0.5257370758056641, \"max\": 0.5257370758056641}}}\u001b[0m\n",
      "\u001b[34m#metrics {\"StartTime\": 1693633609.5154636, \"EndTime\": 1693633609.5154843, \"Dimensions\": {\"Algorithm\": \"Linear Learner\", \"Host\": \"algo-1\", \"Operation\": \"training\", \"epoch\": 19, \"model\": 11}, \"Metrics\": {\"train_absolute_loss_objective\": {\"sum\": 0.49483734607696533, \"count\": 1, \"min\": 0.49483734607696533, \"max\": 0.49483734607696533}}}\u001b[0m\n",
      "\u001b[34m#metrics {\"StartTime\": 1693633609.515605, \"EndTime\": 1693633609.515625, \"Dimensions\": {\"Algorithm\": \"Linear Learner\", \"Host\": \"algo-1\", \"Operation\": \"training\", \"epoch\": 19, \"model\": 12}, \"Metrics\": {\"train_absolute_loss_objective\": {\"sum\": 0.16775458574295044, \"count\": 1, \"min\": 0.16775458574295044, \"max\": 0.16775458574295044}}}\u001b[0m\n",
      "\u001b[34m#metrics {\"StartTime\": 1693633609.5157456, \"EndTime\": 1693633609.5157657, \"Dimensions\": {\"Algorithm\": \"Linear Learner\", \"Host\": \"algo-1\", \"Operation\": \"training\", \"epoch\": 19, \"model\": 13}, \"Metrics\": {\"train_absolute_loss_objective\": {\"sum\": 0.20341686487197877, \"count\": 1, \"min\": 0.20341686487197877, \"max\": 0.20341686487197877}}}\u001b[0m\n",
      "\u001b[34m#metrics {\"StartTime\": 1693633609.5160215, \"EndTime\": 1693633609.5160377, \"Dimensions\": {\"Algorithm\": \"Linear Learner\", \"Host\": \"algo-1\", \"Operation\": \"training\", \"epoch\": 19, \"model\": 14}, \"Metrics\": {\"train_absolute_loss_objective\": {\"sum\": 0.22152890920639037, \"count\": 1, \"min\": 0.22152890920639037, \"max\": 0.22152890920639037}}}\u001b[0m\n",
      "\u001b[34m#metrics {\"StartTime\": 1693633609.516097, \"EndTime\": 1693633609.516114, \"Dimensions\": {\"Algorithm\": \"Linear Learner\", \"Host\": \"algo-1\", \"Operation\": \"training\", \"epoch\": 19, \"model\": 15}, \"Metrics\": {\"train_absolute_loss_objective\": {\"sum\": 0.2465546417236328, \"count\": 1, \"min\": 0.2465546417236328, \"max\": 0.2465546417236328}}}\u001b[0m\n",
      "\u001b[34m#metrics {\"StartTime\": 1693633609.5162091, \"EndTime\": 1693633609.5162277, \"Dimensions\": {\"Algorithm\": \"Linear Learner\", \"Host\": \"algo-1\", \"Operation\": \"training\", \"epoch\": 19, \"model\": 16}, \"Metrics\": {\"train_absolute_loss_objective\": {\"sum\": 0.5424636936187744, \"count\": 1, \"min\": 0.5424636936187744, \"max\": 0.5424636936187744}}}\u001b[0m\n",
      "\u001b[34m#metrics {\"StartTime\": 1693633609.5163608, \"EndTime\": 1693633609.5163813, \"Dimensions\": {\"Algorithm\": \"Linear Learner\", \"Host\": \"algo-1\", \"Operation\": \"training\", \"epoch\": 19, \"model\": 17}, \"Metrics\": {\"train_absolute_loss_objective\": {\"sum\": 0.5746228218078613, \"count\": 1, \"min\": 0.5746228218078613, \"max\": 0.5746228218078613}}}\u001b[0m\n",
      "\u001b[34m#metrics {\"StartTime\": 1693633609.5165296, \"EndTime\": 1693633609.5165505, \"Dimensions\": {\"Algorithm\": \"Linear Learner\", \"Host\": \"algo-1\", \"Operation\": \"training\", \"epoch\": 19, \"model\": 18}, \"Metrics\": {\"train_absolute_loss_objective\": {\"sum\": 0.5648503017425537, \"count\": 1, \"min\": 0.5648503017425537, \"max\": 0.5648503017425537}}}\u001b[0m\n",
      "\u001b[34m#metrics {\"StartTime\": 1693633609.516731, \"EndTime\": 1693633609.5167532, \"Dimensions\": {\"Algorithm\": \"Linear Learner\", \"Host\": \"algo-1\", \"Operation\": \"training\", \"epoch\": 19, \"model\": 19}, \"Metrics\": {\"train_absolute_loss_objective\": {\"sum\": 0.5506322574615479, \"count\": 1, \"min\": 0.5506322574615479, \"max\": 0.5506322574615479}}}\u001b[0m\n",
      "\u001b[34m#metrics {\"StartTime\": 1693633609.5168161, \"EndTime\": 1693633609.5168333, \"Dimensions\": {\"Algorithm\": \"Linear Learner\", \"Host\": \"algo-1\", \"Operation\": \"training\", \"epoch\": 19, \"model\": 20}, \"Metrics\": {\"train_absolute_loss_objective\": {\"sum\": 0.35290472984313964, \"count\": 1, \"min\": 0.35290472984313964, \"max\": 0.35290472984313964}}}\u001b[0m\n",
      "\u001b[34m#metrics {\"StartTime\": 1693633609.516952, \"EndTime\": 1693633609.5169723, \"Dimensions\": {\"Algorithm\": \"Linear Learner\", \"Host\": \"algo-1\", \"Operation\": \"training\", \"epoch\": 19, \"model\": 21}, \"Metrics\": {\"train_absolute_loss_objective\": {\"sum\": 0.3967233037948608, \"count\": 1, \"min\": 0.3967233037948608, \"max\": 0.3967233037948608}}}\u001b[0m\n",
      "\u001b[34m#metrics {\"StartTime\": 1693633609.5170953, \"EndTime\": 1693633609.517117, \"Dimensions\": {\"Algorithm\": \"Linear Learner\", \"Host\": \"algo-1\", \"Operation\": \"training\", \"epoch\": 19, \"model\": 22}, \"Metrics\": {\"train_absolute_loss_objective\": {\"sum\": 0.39527747631072996, \"count\": 1, \"min\": 0.39527747631072996, \"max\": 0.39527747631072996}}}\u001b[0m\n",
      "\u001b[34m#metrics {\"StartTime\": 1693633609.5172472, \"EndTime\": 1693633609.5172687, \"Dimensions\": {\"Algorithm\": \"Linear Learner\", \"Host\": \"algo-1\", \"Operation\": \"training\", \"epoch\": 19, \"model\": 23}, \"Metrics\": {\"train_absolute_loss_objective\": {\"sum\": 0.4370394802093506, \"count\": 1, \"min\": 0.4370394802093506, \"max\": 0.4370394802093506}}}\u001b[0m\n",
      "\u001b[34m#metrics {\"StartTime\": 1693633609.517395, \"EndTime\": 1693633609.517416, \"Dimensions\": {\"Algorithm\": \"Linear Learner\", \"Host\": \"algo-1\", \"Operation\": \"training\", \"epoch\": 19, \"model\": 24}, \"Metrics\": {\"train_absolute_loss_objective\": {\"sum\": 0.9002930450439454, \"count\": 1, \"min\": 0.9002930450439454, \"max\": 0.9002930450439454}}}\u001b[0m\n",
      "\u001b[34m#metrics {\"StartTime\": 1693633609.5175452, \"EndTime\": 1693633609.5175667, \"Dimensions\": {\"Algorithm\": \"Linear Learner\", \"Host\": \"algo-1\", \"Operation\": \"training\", \"epoch\": 19, \"model\": 25}, \"Metrics\": {\"train_absolute_loss_objective\": {\"sum\": 0.9003257465362549, \"count\": 1, \"min\": 0.9003257465362549, \"max\": 0.9003257465362549}}}\u001b[0m\n",
      "\u001b[34m#metrics {\"StartTime\": 1693633609.517695, \"EndTime\": 1693633609.5177166, \"Dimensions\": {\"Algorithm\": \"Linear Learner\", \"Host\": \"algo-1\", \"Operation\": \"training\", \"epoch\": 19, \"model\": 26}, \"Metrics\": {\"train_absolute_loss_objective\": {\"sum\": 0.9001553535461426, \"count\": 1, \"min\": 0.9001553535461426, \"max\": 0.9001553535461426}}}\u001b[0m\n",
      "\u001b[34m#metrics {\"StartTime\": 1693633609.5178406, \"EndTime\": 1693633609.5178611, \"Dimensions\": {\"Algorithm\": \"Linear Learner\", \"Host\": \"algo-1\", \"Operation\": \"training\", \"epoch\": 19, \"model\": 27}, \"Metrics\": {\"train_absolute_loss_objective\": {\"sum\": 0.900168514251709, \"count\": 1, \"min\": 0.900168514251709, \"max\": 0.900168514251709}}}\u001b[0m\n",
      "\u001b[34m#metrics {\"StartTime\": 1693633609.5179915, \"EndTime\": 1693633609.5180125, \"Dimensions\": {\"Algorithm\": \"Linear Learner\", \"Host\": \"algo-1\", \"Operation\": \"training\", \"epoch\": 19, \"model\": 28}, \"Metrics\": {\"train_absolute_loss_objective\": {\"sum\": 0.931490535736084, \"count\": 1, \"min\": 0.931490535736084, \"max\": 0.931490535736084}}}\u001b[0m\n",
      "\u001b[34m#metrics {\"StartTime\": 1693633609.5180767, \"EndTime\": 1693633609.5180943, \"Dimensions\": {\"Algorithm\": \"Linear Learner\", \"Host\": \"algo-1\", \"Operation\": \"training\", \"epoch\": 19, \"model\": 29}, \"Metrics\": {\"train_absolute_loss_objective\": {\"sum\": 0.9126965999603271, \"count\": 1, \"min\": 0.9126965999603271, \"max\": 0.9126965999603271}}}\u001b[0m\n",
      "\u001b[34m#metrics {\"StartTime\": 1693633609.5181582, \"EndTime\": 1693633609.518175, \"Dimensions\": {\"Algorithm\": \"Linear Learner\", \"Host\": \"algo-1\", \"Operation\": \"training\", \"epoch\": 19, \"model\": 30}, \"Metrics\": {\"train_absolute_loss_objective\": {\"sum\": 0.9108435630798339, \"count\": 1, \"min\": 0.9108435630798339, \"max\": 0.9108435630798339}}}\u001b[0m\n",
      "\u001b[34m#metrics {\"StartTime\": 1693633609.5182388, \"EndTime\": 1693633609.518256, \"Dimensions\": {\"Algorithm\": \"Linear Learner\", \"Host\": \"algo-1\", \"Operation\": \"training\", \"epoch\": 19, \"model\": 31}, \"Metrics\": {\"train_absolute_loss_objective\": {\"sum\": 0.9129433727264404, \"count\": 1, \"min\": 0.9129433727264404, \"max\": 0.9129433727264404}}}\u001b[0m\n",
      "\u001b[34m[09/02/2023 05:46:49 INFO 140628399605568] #quality_metric: host=algo-1, epoch=19, train absolute_loss_objective <loss>=0.5306418800354004\u001b[0m\n",
      "\u001b[34m[09/02/2023 05:46:49 INFO 140628399605568] #early_stopping_criteria_metric: host=algo-1, epoch=19, criteria=absolute_loss_objective, value=0.16775458574295044\u001b[0m\n",
      "\u001b[34m[09/02/2023 05:46:49 INFO 140628399605568] Saving model for epoch: 19\u001b[0m\n",
      "\u001b[34m[09/02/2023 05:46:49 INFO 140628399605568] Saved checkpoint to \"/tmp/tmpu7wt4ant/mx-mod-0000.params\"\u001b[0m\n",
      "\u001b[34m[09/02/2023 05:46:49 INFO 140628399605568] #progress_metric: host=algo-1, completed 40.0 % of epochs\u001b[0m\n",
      "\u001b[34m#metrics {\"StartTime\": 1693633609.4005873, \"EndTime\": 1693633609.5268443, \"Dimensions\": {\"Algorithm\": \"Linear Learner\", \"Host\": \"algo-1\", \"Operation\": \"training\", \"epoch\": 19, \"Meta\": \"training_data_iter\"}, \"Metrics\": {\"Total Records Seen\": {\"sum\": 551.0, \"count\": 1, \"min\": 551, \"max\": 551}, \"Total Batches Seen\": {\"sum\": 127.0, \"count\": 1, \"min\": 127, \"max\": 127}, \"Max Records Seen Between Resets\": {\"sum\": 26.0, \"count\": 1, \"min\": 26, \"max\": 26}, \"Max Batches Seen Between Resets\": {\"sum\": 6.0, \"count\": 1, \"min\": 6, \"max\": 6}, \"Reset Count\": {\"sum\": 22.0, \"count\": 1, \"min\": 22, \"max\": 22}, \"Number of Records Since Last Reset\": {\"sum\": 26.0, \"count\": 1, \"min\": 26, \"max\": 26}, \"Number of Batches Since Last Reset\": {\"sum\": 6.0, \"count\": 1, \"min\": 6, \"max\": 6}}}\u001b[0m\n",
      "\u001b[34m[09/02/2023 05:46:49 INFO 140628399605568] #throughput_metric: host=algo-1, train throughput=205.6640144235756 records/second\u001b[0m\n",
      "\u001b[34m[2023-09-02 05:46:49.632] [tensorio] [info] epoch_stats={\"data_pipeline\": \"/opt/ml/input/data/train\", \"epoch\": 44, \"duration\": 105, \"num_examples\": 6, \"num_bytes\": 1248}\u001b[0m\n",
      "\u001b[34m#metrics {\"StartTime\": 1693633609.6328197, \"EndTime\": 1693633609.632907, \"Dimensions\": {\"Algorithm\": \"Linear Learner\", \"Host\": \"algo-1\", \"Operation\": \"training\", \"epoch\": 20, \"model\": 0}, \"Metrics\": {\"train_absolute_loss_objective\": {\"sum\": 0.5118151187896729, \"count\": 1, \"min\": 0.5118151187896729, \"max\": 0.5118151187896729}}}\u001b[0m\n",
      "\u001b[34m#metrics {\"StartTime\": 1693633609.6329935, \"EndTime\": 1693633609.6330118, \"Dimensions\": {\"Algorithm\": \"Linear Learner\", \"Host\": \"algo-1\", \"Operation\": \"training\", \"epoch\": 20, \"model\": 1}, \"Metrics\": {\"train_absolute_loss_objective\": {\"sum\": 0.514660120010376, \"count\": 1, \"min\": 0.514660120010376, \"max\": 0.514660120010376}}}\u001b[0m\n",
      "\u001b[34m#metrics {\"StartTime\": 1693633609.633059, \"EndTime\": 1693633609.633073, \"Dimensions\": {\"Algorithm\": \"Linear Learner\", \"Host\": \"algo-1\", \"Operation\": \"training\", \"epoch\": 20, \"model\": 2}, \"Metrics\": {\"train_absolute_loss_objective\": {\"sum\": 0.5142456436157227, \"count\": 1, \"min\": 0.5142456436157227, \"max\": 0.5142456436157227}}}\u001b[0m\n",
      "\u001b[34m#metrics {\"StartTime\": 1693633609.6331193, \"EndTime\": 1693633609.6331356, \"Dimensions\": {\"Algorithm\": \"Linear Learner\", \"Host\": \"algo-1\", \"Operation\": \"training\", \"epoch\": 20, \"model\": 3}, \"Metrics\": {\"train_absolute_loss_objective\": {\"sum\": 0.5126988935470581, \"count\": 1, \"min\": 0.5126988935470581, \"max\": 0.5126988935470581}}}\u001b[0m\n",
      "\u001b[34m#metrics {\"StartTime\": 1693633609.6331868, \"EndTime\": 1693633609.6332028, \"Dimensions\": {\"Algorithm\": \"Linear Learner\", \"Host\": \"algo-1\", \"Operation\": \"training\", \"epoch\": 20, \"model\": 4}, \"Metrics\": {\"train_absolute_loss_objective\": {\"sum\": 0.21418527841567994, \"count\": 1, \"min\": 0.21418527841567994, \"max\": 0.21418527841567994}}}\u001b[0m\n",
      "\u001b[34m#metrics {\"StartTime\": 1693633609.6332517, \"EndTime\": 1693633609.6332672, \"Dimensions\": {\"Algorithm\": \"Linear Learner\", \"Host\": \"algo-1\", \"Operation\": \"training\", \"epoch\": 20, \"model\": 5}, \"Metrics\": {\"train_absolute_loss_objective\": {\"sum\": 0.20216902256011962, \"count\": 1, \"min\": 0.20216902256011962, \"max\": 0.20216902256011962}}}\u001b[0m\n",
      "\u001b[34m#metrics {\"StartTime\": 1693633609.6333165, \"EndTime\": 1693633609.6333337, \"Dimensions\": {\"Algorithm\": \"Linear Learner\", \"Host\": \"algo-1\", \"Operation\": \"training\", \"epoch\": 20, \"model\": 6}, \"Metrics\": {\"train_absolute_loss_objective\": {\"sum\": 0.2182394814491272, \"count\": 1, \"min\": 0.2182394814491272, \"max\": 0.2182394814491272}}}\u001b[0m\n",
      "\u001b[34m#metrics {\"StartTime\": 1693633609.6333847, \"EndTime\": 1693633609.6334002, \"Dimensions\": {\"Algorithm\": \"Linear Learner\", \"Host\": \"algo-1\", \"Operation\": \"training\", \"epoch\": 20, \"model\": 7}, \"Metrics\": {\"train_absolute_loss_objective\": {\"sum\": 0.2682409381866455, \"count\": 1, \"min\": 0.2682409381866455, \"max\": 0.2682409381866455}}}\u001b[0m\n",
      "\u001b[34m#metrics {\"StartTime\": 1693633609.6334505, \"EndTime\": 1693633609.6334655, \"Dimensions\": {\"Algorithm\": \"Linear Learner\", \"Host\": \"algo-1\", \"Operation\": \"training\", \"epoch\": 20, \"model\": 8}, \"Metrics\": {\"train_absolute_loss_objective\": {\"sum\": 0.5682523107528686, \"count\": 1, \"min\": 0.5682523107528686, \"max\": 0.5682523107528686}}}\u001b[0m\n",
      "\u001b[34m#metrics {\"StartTime\": 1693633609.633518, \"EndTime\": 1693633609.6335332, \"Dimensions\": {\"Algorithm\": \"Linear Learner\", \"Host\": \"algo-1\", \"Operation\": \"training\", \"epoch\": 20, \"model\": 9}, \"Metrics\": {\"train_absolute_loss_objective\": {\"sum\": 0.48333690643310545, \"count\": 1, \"min\": 0.48333690643310545, \"max\": 0.48333690643310545}}}\u001b[0m\n",
      "\u001b[34m#metrics {\"StartTime\": 1693633609.633582, \"EndTime\": 1693633609.6335986, \"Dimensions\": {\"Algorithm\": \"Linear Learner\", \"Host\": \"algo-1\", \"Operation\": \"training\", \"epoch\": 20, \"model\": 10}, \"Metrics\": {\"train_absolute_loss_objective\": {\"sum\": 0.506886043548584, \"count\": 1, \"min\": 0.506886043548584, \"max\": 0.506886043548584}}}\u001b[0m\n",
      "\u001b[34m#metrics {\"StartTime\": 1693633609.6336508, \"EndTime\": 1693633609.6336663, \"Dimensions\": {\"Algorithm\": \"Linear Learner\", \"Host\": \"algo-1\", \"Operation\": \"training\", \"epoch\": 20, \"model\": 11}, \"Metrics\": {\"train_absolute_loss_objective\": {\"sum\": 0.47499837875366213, \"count\": 1, \"min\": 0.47499837875366213, \"max\": 0.47499837875366213}}}\u001b[0m\n",
      "\u001b[34m#metrics {\"StartTime\": 1693633609.63372, \"EndTime\": 1693633609.6337354, \"Dimensions\": {\"Algorithm\": \"Linear Learner\", \"Host\": \"algo-1\", \"Operation\": \"training\", \"epoch\": 20, \"model\": 12}, \"Metrics\": {\"train_absolute_loss_objective\": {\"sum\": 0.2692094802856445, \"count\": 1, \"min\": 0.2692094802856445, \"max\": 0.2692094802856445}}}\u001b[0m\n",
      "\u001b[34m#metrics {\"StartTime\": 1693633609.6337843, \"EndTime\": 1693633609.6337998, \"Dimensions\": {\"Algorithm\": \"Linear Learner\", \"Host\": \"algo-1\", \"Operation\": \"training\", \"epoch\": 20, \"model\": 13}, \"Metrics\": {\"train_absolute_loss_objective\": {\"sum\": 0.2638125514984131, \"count\": 1, \"min\": 0.2638125514984131, \"max\": 0.2638125514984131}}}\u001b[0m\n",
      "\u001b[34m#metrics {\"StartTime\": 1693633609.6338494, \"EndTime\": 1693633609.6338646, \"Dimensions\": {\"Algorithm\": \"Linear Learner\", \"Host\": \"algo-1\", \"Operation\": \"training\", \"epoch\": 20, \"model\": 14}, \"Metrics\": {\"train_absolute_loss_objective\": {\"sum\": 0.2445686388015747, \"count\": 1, \"min\": 0.2445686388015747, \"max\": 0.2445686388015747}}}\u001b[0m\n",
      "\u001b[34m#metrics {\"StartTime\": 1693633609.6339154, \"EndTime\": 1693633609.6339316, \"Dimensions\": {\"Algorithm\": \"Linear Learner\", \"Host\": \"algo-1\", \"Operation\": \"training\", \"epoch\": 20, \"model\": 15}, \"Metrics\": {\"train_absolute_loss_objective\": {\"sum\": 0.18765278100967409, \"count\": 1, \"min\": 0.18765278100967409, \"max\": 0.18765278100967409}}}\u001b[0m\n",
      "\u001b[34m#metrics {\"StartTime\": 1693633609.6339843, \"EndTime\": 1693633609.6339998, \"Dimensions\": {\"Algorithm\": \"Linear Learner\", \"Host\": \"algo-1\", \"Operation\": \"training\", \"epoch\": 20, \"model\": 16}, \"Metrics\": {\"train_absolute_loss_objective\": {\"sum\": 0.5288463306427001, \"count\": 1, \"min\": 0.5288463306427001, \"max\": 0.5288463306427001}}}\u001b[0m\n",
      "\u001b[34m#metrics {\"StartTime\": 1693633609.634048, \"EndTime\": 1693633609.6340637, \"Dimensions\": {\"Algorithm\": \"Linear Learner\", \"Host\": \"algo-1\", \"Operation\": \"training\", \"epoch\": 20, \"model\": 17}, \"Metrics\": {\"train_absolute_loss_objective\": {\"sum\": 0.5597964000701904, \"count\": 1, \"min\": 0.5597964000701904, \"max\": 0.5597964000701904}}}\u001b[0m\n",
      "\u001b[34m#metrics {\"StartTime\": 1693633609.6341136, \"EndTime\": 1693633609.634129, \"Dimensions\": {\"Algorithm\": \"Linear Learner\", \"Host\": \"algo-1\", \"Operation\": \"training\", \"epoch\": 20, \"model\": 18}, \"Metrics\": {\"train_absolute_loss_objective\": {\"sum\": 0.5524901533126831, \"count\": 1, \"min\": 0.5524901533126831, \"max\": 0.5524901533126831}}}\u001b[0m\n",
      "\u001b[34m#metrics {\"StartTime\": 1693633609.634177, \"EndTime\": 1693633609.6341922, \"Dimensions\": {\"Algorithm\": \"Linear Learner\", \"Host\": \"algo-1\", \"Operation\": \"training\", \"epoch\": 20, \"model\": 19}, \"Metrics\": {\"train_absolute_loss_objective\": {\"sum\": 0.5373341703414917, \"count\": 1, \"min\": 0.5373341703414917, \"max\": 0.5373341703414917}}}\u001b[0m\n",
      "\u001b[34m#metrics {\"StartTime\": 1693633609.6342435, \"EndTime\": 1693633609.634259, \"Dimensions\": {\"Algorithm\": \"Linear Learner\", \"Host\": \"algo-1\", \"Operation\": \"training\", \"epoch\": 20, \"model\": 20}, \"Metrics\": {\"train_absolute_loss_objective\": {\"sum\": 0.3484587860107422, \"count\": 1, \"min\": 0.3484587860107422, \"max\": 0.3484587860107422}}}\u001b[0m\n",
      "\u001b[34m#metrics {\"StartTime\": 1693633609.6343195, \"EndTime\": 1693633609.634336, \"Dimensions\": {\"Algorithm\": \"Linear Learner\", \"Host\": \"algo-1\", \"Operation\": \"training\", \"epoch\": 20, \"model\": 21}, \"Metrics\": {\"train_absolute_loss_objective\": {\"sum\": 0.34749517917633055, \"count\": 1, \"min\": 0.34749517917633055, \"max\": 0.34749517917633055}}}\u001b[0m\n",
      "\u001b[34m#metrics {\"StartTime\": 1693633609.6343973, \"EndTime\": 1693633609.6344132, \"Dimensions\": {\"Algorithm\": \"Linear Learner\", \"Host\": \"algo-1\", \"Operation\": \"training\", \"epoch\": 20, \"model\": 22}, \"Metrics\": {\"train_absolute_loss_objective\": {\"sum\": 0.3259814691543579, \"count\": 1, \"min\": 0.3259814691543579, \"max\": 0.3259814691543579}}}\u001b[0m\n",
      "\u001b[34m#metrics {\"StartTime\": 1693633609.6344647, \"EndTime\": 1693633609.634481, \"Dimensions\": {\"Algorithm\": \"Linear Learner\", \"Host\": \"algo-1\", \"Operation\": \"training\", \"epoch\": 20, \"model\": 23}, \"Metrics\": {\"train_absolute_loss_objective\": {\"sum\": 0.3525482892990112, \"count\": 1, \"min\": 0.3525482892990112, \"max\": 0.3525482892990112}}}\u001b[0m\n",
      "\u001b[34m#metrics {\"StartTime\": 1693633609.6345372, \"EndTime\": 1693633609.6345525, \"Dimensions\": {\"Algorithm\": \"Linear Learner\", \"Host\": \"algo-1\", \"Operation\": \"training\", \"epoch\": 20, \"model\": 24}, \"Metrics\": {\"train_absolute_loss_objective\": {\"sum\": 0.8998832893371582, \"count\": 1, \"min\": 0.8998832893371582, \"max\": 0.8998832893371582}}}\u001b[0m\n",
      "\u001b[34m#metrics {\"StartTime\": 1693633609.6346107, \"EndTime\": 1693633609.6346269, \"Dimensions\": {\"Algorithm\": \"Linear Learner\", \"Host\": \"algo-1\", \"Operation\": \"training\", \"epoch\": 20, \"model\": 25}, \"Metrics\": {\"train_absolute_loss_objective\": {\"sum\": 0.8996056079864502, \"count\": 1, \"min\": 0.8996056079864502, \"max\": 0.8996056079864502}}}\u001b[0m\n",
      "\u001b[34m#metrics {\"StartTime\": 1693633609.6346767, \"EndTime\": 1693633609.6346924, \"Dimensions\": {\"Algorithm\": \"Linear Learner\", \"Host\": \"algo-1\", \"Operation\": \"training\", \"epoch\": 20, \"model\": 26}, \"Metrics\": {\"train_absolute_loss_objective\": {\"sum\": 0.8997637844085693, \"count\": 1, \"min\": 0.8997637844085693, \"max\": 0.8997637844085693}}}\u001b[0m\n",
      "\u001b[34m#metrics {\"StartTime\": 1693633609.6347432, \"EndTime\": 1693633609.63476, \"Dimensions\": {\"Algorithm\": \"Linear Learner\", \"Host\": \"algo-1\", \"Operation\": \"training\", \"epoch\": 20, \"model\": 27}, \"Metrics\": {\"train_absolute_loss_objective\": {\"sum\": 0.8998063850402832, \"count\": 1, \"min\": 0.8998063850402832, \"max\": 0.8998063850402832}}}\u001b[0m\n",
      "\u001b[34m#metrics {\"StartTime\": 1693633609.6348083, \"EndTime\": 1693633609.6348226, \"Dimensions\": {\"Algorithm\": \"Linear Learner\", \"Host\": \"algo-1\", \"Operation\": \"training\", \"epoch\": 20, \"model\": 28}, \"Metrics\": {\"train_absolute_loss_objective\": {\"sum\": 0.9292037296295166, \"count\": 1, \"min\": 0.9292037296295166, \"max\": 0.9292037296295166}}}\u001b[0m\n",
      "\u001b[34m#metrics {\"StartTime\": 1693633609.6348708, \"EndTime\": 1693633609.6348855, \"Dimensions\": {\"Algorithm\": \"Linear Learner\", \"Host\": \"algo-1\", \"Operation\": \"training\", \"epoch\": 20, \"model\": 29}, \"Metrics\": {\"train_absolute_loss_objective\": {\"sum\": 0.9061541366577148, \"count\": 1, \"min\": 0.9061541366577148, \"max\": 0.9061541366577148}}}\u001b[0m\n",
      "\u001b[34m#metrics {\"StartTime\": 1693633609.634933, \"EndTime\": 1693633609.634948, \"Dimensions\": {\"Algorithm\": \"Linear Learner\", \"Host\": \"algo-1\", \"Operation\": \"training\", \"epoch\": 20, \"model\": 30}, \"Metrics\": {\"train_absolute_loss_objective\": {\"sum\": 0.9048633193969726, \"count\": 1, \"min\": 0.9048633193969726, \"max\": 0.9048633193969726}}}\u001b[0m\n",
      "\u001b[34m#metrics {\"StartTime\": 1693633609.634994, \"EndTime\": 1693633609.6350086, \"Dimensions\": {\"Algorithm\": \"Linear Learner\", \"Host\": \"algo-1\", \"Operation\": \"training\", \"epoch\": 20, \"model\": 31}, \"Metrics\": {\"train_absolute_loss_objective\": {\"sum\": 0.9059572410583496, \"count\": 1, \"min\": 0.9059572410583496, \"max\": 0.9059572410583496}}}\u001b[0m\n",
      "\u001b[34m[09/02/2023 05:46:49 INFO 140628399605568] #quality_metric: host=algo-1, epoch=20, train absolute_loss_objective <loss>=0.5118151187896729\u001b[0m\n",
      "\u001b[34m[09/02/2023 05:46:49 INFO 140628399605568] #early_stopping_criteria_metric: host=algo-1, epoch=20, criteria=absolute_loss_objective, value=0.18765278100967409\u001b[0m\n",
      "\u001b[34m[09/02/2023 05:46:49 INFO 140628399605568] Saving model for epoch: 20\u001b[0m\n",
      "\u001b[34m[09/02/2023 05:46:49 INFO 140628399605568] Saved checkpoint to \"/tmp/tmpdjc181rp/mx-mod-0000.params\"\u001b[0m\n",
      "\u001b[34m[09/02/2023 05:46:49 INFO 140628399605568] #progress_metric: host=algo-1, completed 42.0 % of epochs\u001b[0m\n",
      "\u001b[34m#metrics {\"StartTime\": 1693633609.5271473, \"EndTime\": 1693633609.6431572, \"Dimensions\": {\"Algorithm\": \"Linear Learner\", \"Host\": \"algo-1\", \"Operation\": \"training\", \"epoch\": 20, \"Meta\": \"training_data_iter\"}, \"Metrics\": {\"Total Records Seen\": {\"sum\": 577.0, \"count\": 1, \"min\": 577, \"max\": 577}, \"Total Batches Seen\": {\"sum\": 133.0, \"count\": 1, \"min\": 133, \"max\": 133}, \"Max Records Seen Between Resets\": {\"sum\": 26.0, \"count\": 1, \"min\": 26, \"max\": 26}, \"Max Batches Seen Between Resets\": {\"sum\": 6.0, \"count\": 1, \"min\": 6, \"max\": 6}, \"Reset Count\": {\"sum\": 23.0, \"count\": 1, \"min\": 23, \"max\": 23}, \"Number of Records Since Last Reset\": {\"sum\": 26.0, \"count\": 1, \"min\": 26, \"max\": 26}, \"Number of Batches Since Last Reset\": {\"sum\": 6.0, \"count\": 1, \"min\": 6, \"max\": 6}}}\u001b[0m\n",
      "\u001b[34m[09/02/2023 05:46:49 INFO 140628399605568] #throughput_metric: host=algo-1, train throughput=223.86198600399476 records/second\u001b[0m\n",
      "\u001b[34m[2023-09-02 05:46:49.770] [tensorio] [info] epoch_stats={\"data_pipeline\": \"/opt/ml/input/data/train\", \"epoch\": 46, \"duration\": 126, \"num_examples\": 6, \"num_bytes\": 1248}\u001b[0m\n",
      "\u001b[34m#metrics {\"StartTime\": 1693633609.7705529, \"EndTime\": 1693633609.770641, \"Dimensions\": {\"Algorithm\": \"Linear Learner\", \"Host\": \"algo-1\", \"Operation\": \"training\", \"epoch\": 21, \"model\": 0}, \"Metrics\": {\"train_absolute_loss_objective\": {\"sum\": 0.49459264278411863, \"count\": 1, \"min\": 0.49459264278411863, \"max\": 0.49459264278411863}}}\u001b[0m\n",
      "\u001b[34m#metrics {\"StartTime\": 1693633609.7707407, \"EndTime\": 1693633609.770762, \"Dimensions\": {\"Algorithm\": \"Linear Learner\", \"Host\": \"algo-1\", \"Operation\": \"training\", \"epoch\": 21, \"model\": 1}, \"Metrics\": {\"train_absolute_loss_objective\": {\"sum\": 0.49510835647583007, \"count\": 1, \"min\": 0.49510835647583007, \"max\": 0.49510835647583007}}}\u001b[0m\n",
      "\u001b[34m#metrics {\"StartTime\": 1693633609.770822, \"EndTime\": 1693633609.770839, \"Dimensions\": {\"Algorithm\": \"Linear Learner\", \"Host\": \"algo-1\", \"Operation\": \"training\", \"epoch\": 21, \"model\": 2}, \"Metrics\": {\"train_absolute_loss_objective\": {\"sum\": 0.4969520664215088, \"count\": 1, \"min\": 0.4969520664215088, \"max\": 0.4969520664215088}}}\u001b[0m\n",
      "\u001b[34m#metrics {\"StartTime\": 1693633609.7708907, \"EndTime\": 1693633609.7709076, \"Dimensions\": {\"Algorithm\": \"Linear Learner\", \"Host\": \"algo-1\", \"Operation\": \"training\", \"epoch\": 21, \"model\": 3}, \"Metrics\": {\"train_absolute_loss_objective\": {\"sum\": 0.49343592643737794, \"count\": 1, \"min\": 0.49343592643737794, \"max\": 0.49343592643737794}}}\u001b[0m\n",
      "\u001b[34m#metrics {\"StartTime\": 1693633609.7709627, \"EndTime\": 1693633609.7709785, \"Dimensions\": {\"Algorithm\": \"Linear Learner\", \"Host\": \"algo-1\", \"Operation\": \"training\", \"epoch\": 21, \"model\": 4}, \"Metrics\": {\"train_absolute_loss_objective\": {\"sum\": 0.1636228632926941, \"count\": 1, \"min\": 0.1636228632926941, \"max\": 0.1636228632926941}}}\u001b[0m\n",
      "\u001b[34m#metrics {\"StartTime\": 1693633609.7710395, \"EndTime\": 1693633609.7710564, \"Dimensions\": {\"Algorithm\": \"Linear Learner\", \"Host\": \"algo-1\", \"Operation\": \"training\", \"epoch\": 21, \"model\": 5}, \"Metrics\": {\"train_absolute_loss_objective\": {\"sum\": 0.17325818181037902, \"count\": 1, \"min\": 0.17325818181037902, \"max\": 0.17325818181037902}}}\u001b[0m\n",
      "\u001b[34m#metrics {\"StartTime\": 1693633609.7711182, \"EndTime\": 1693633609.7711353, \"Dimensions\": {\"Algorithm\": \"Linear Learner\", \"Host\": \"algo-1\", \"Operation\": \"training\", \"epoch\": 21, \"model\": 6}, \"Metrics\": {\"train_absolute_loss_objective\": {\"sum\": 0.3151493215560913, \"count\": 1, \"min\": 0.3151493215560913, \"max\": 0.3151493215560913}}}\u001b[0m\n",
      "\u001b[34m#metrics {\"StartTime\": 1693633609.771197, \"EndTime\": 1693633609.7712142, \"Dimensions\": {\"Algorithm\": \"Linear Learner\", \"Host\": \"algo-1\", \"Operation\": \"training\", \"epoch\": 21, \"model\": 7}, \"Metrics\": {\"train_absolute_loss_objective\": {\"sum\": 0.22005985498428346, \"count\": 1, \"min\": 0.22005985498428346, \"max\": 0.22005985498428346}}}\u001b[0m\n",
      "\u001b[34m#metrics {\"StartTime\": 1693633609.771275, \"EndTime\": 1693633609.771292, \"Dimensions\": {\"Algorithm\": \"Linear Learner\", \"Host\": \"algo-1\", \"Operation\": \"training\", \"epoch\": 21, \"model\": 8}, \"Metrics\": {\"train_absolute_loss_objective\": {\"sum\": 0.5501800966262818, \"count\": 1, \"min\": 0.5501800966262818, \"max\": 0.5501800966262818}}}\u001b[0m\n",
      "\u001b[34m#metrics {\"StartTime\": 1693633609.771346, \"EndTime\": 1693633609.771363, \"Dimensions\": {\"Algorithm\": \"Linear Learner\", \"Host\": \"algo-1\", \"Operation\": \"training\", \"epoch\": 21, \"model\": 9}, \"Metrics\": {\"train_absolute_loss_objective\": {\"sum\": 0.46289758682250975, \"count\": 1, \"min\": 0.46289758682250975, \"max\": 0.46289758682250975}}}\u001b[0m\n",
      "\u001b[34m#metrics {\"StartTime\": 1693633609.771422, \"EndTime\": 1693633609.7714388, \"Dimensions\": {\"Algorithm\": \"Linear Learner\", \"Host\": \"algo-1\", \"Operation\": \"training\", \"epoch\": 21, \"model\": 10}, \"Metrics\": {\"train_absolute_loss_objective\": {\"sum\": 0.4897813558578491, \"count\": 1, \"min\": 0.4897813558578491, \"max\": 0.4897813558578491}}}\u001b[0m\n",
      "\u001b[34m#metrics {\"StartTime\": 1693633609.771498, \"EndTime\": 1693633609.771515, \"Dimensions\": {\"Algorithm\": \"Linear Learner\", \"Host\": \"algo-1\", \"Operation\": \"training\", \"epoch\": 21, \"model\": 11}, \"Metrics\": {\"train_absolute_loss_objective\": {\"sum\": 0.45497378826141355, \"count\": 1, \"min\": 0.45497378826141355, \"max\": 0.45497378826141355}}}\u001b[0m\n",
      "\u001b[34m#metrics {\"StartTime\": 1693633609.7715757, \"EndTime\": 1693633609.7715926, \"Dimensions\": {\"Algorithm\": \"Linear Learner\", \"Host\": \"algo-1\", \"Operation\": \"training\", \"epoch\": 21, \"model\": 12}, \"Metrics\": {\"train_absolute_loss_objective\": {\"sum\": 0.2113572883605957, \"count\": 1, \"min\": 0.2113572883605957, \"max\": 0.2113572883605957}}}\u001b[0m\n",
      "\u001b[34m#metrics {\"StartTime\": 1693633609.771646, \"EndTime\": 1693633609.7716618, \"Dimensions\": {\"Algorithm\": \"Linear Learner\", \"Host\": \"algo-1\", \"Operation\": \"training\", \"epoch\": 21, \"model\": 13}, \"Metrics\": {\"train_absolute_loss_objective\": {\"sum\": 0.20981337189674376, \"count\": 1, \"min\": 0.20981337189674376, \"max\": 0.20981337189674376}}}\u001b[0m\n",
      "\u001b[34m#metrics {\"StartTime\": 1693633609.7717202, \"EndTime\": 1693633609.7717366, \"Dimensions\": {\"Algorithm\": \"Linear Learner\", \"Host\": \"algo-1\", \"Operation\": \"training\", \"epoch\": 21, \"model\": 14}, \"Metrics\": {\"train_absolute_loss_objective\": {\"sum\": 0.18286465167999266, \"count\": 1, \"min\": 0.18286465167999266, \"max\": 0.18286465167999266}}}\u001b[0m\n",
      "\u001b[34m#metrics {\"StartTime\": 1693633609.7717917, \"EndTime\": 1693633609.7718074, \"Dimensions\": {\"Algorithm\": \"Linear Learner\", \"Host\": \"algo-1\", \"Operation\": \"training\", \"epoch\": 21, \"model\": 15}, \"Metrics\": {\"train_absolute_loss_objective\": {\"sum\": 0.19263941526412964, \"count\": 1, \"min\": 0.19263941526412964, \"max\": 0.19263941526412964}}}\u001b[0m\n",
      "\u001b[34m#metrics {\"StartTime\": 1693633609.771866, \"EndTime\": 1693633609.7718832, \"Dimensions\": {\"Algorithm\": \"Linear Learner\", \"Host\": \"algo-1\", \"Operation\": \"training\", \"epoch\": 21, \"model\": 16}, \"Metrics\": {\"train_absolute_loss_objective\": {\"sum\": 0.5171572732925415, \"count\": 1, \"min\": 0.5171572732925415, \"max\": 0.5171572732925415}}}\u001b[0m\n",
      "\u001b[34m#metrics {\"StartTime\": 1693633609.7719362, \"EndTime\": 1693633609.7719522, \"Dimensions\": {\"Algorithm\": \"Linear Learner\", \"Host\": \"algo-1\", \"Operation\": \"training\", \"epoch\": 21, \"model\": 17}, \"Metrics\": {\"train_absolute_loss_objective\": {\"sum\": 0.5455078315734864, \"count\": 1, \"min\": 0.5455078315734864, \"max\": 0.5455078315734864}}}\u001b[0m\n",
      "\u001b[34m#metrics {\"StartTime\": 1693633609.7720008, \"EndTime\": 1693633609.7720163, \"Dimensions\": {\"Algorithm\": \"Linear Learner\", \"Host\": \"algo-1\", \"Operation\": \"training\", \"epoch\": 21, \"model\": 18}, \"Metrics\": {\"train_absolute_loss_objective\": {\"sum\": 0.5399708080291749, \"count\": 1, \"min\": 0.5399708080291749, \"max\": 0.5399708080291749}}}\u001b[0m\n",
      "\u001b[34m#metrics {\"StartTime\": 1693633609.7720633, \"EndTime\": 1693633609.7720785, \"Dimensions\": {\"Algorithm\": \"Linear Learner\", \"Host\": \"algo-1\", \"Operation\": \"training\", \"epoch\": 21, \"model\": 19}, \"Metrics\": {\"train_absolute_loss_objective\": {\"sum\": 0.5240030860900879, \"count\": 1, \"min\": 0.5240030860900879, \"max\": 0.5240030860900879}}}\u001b[0m\n",
      "\u001b[34m#metrics {\"StartTime\": 1693633609.7721264, \"EndTime\": 1693633609.772143, \"Dimensions\": {\"Algorithm\": \"Linear Learner\", \"Host\": \"algo-1\", \"Operation\": \"training\", \"epoch\": 21, \"model\": 20}, \"Metrics\": {\"train_absolute_loss_objective\": {\"sum\": 0.2868674659729004, \"count\": 1, \"min\": 0.2868674659729004, \"max\": 0.2868674659729004}}}\u001b[0m\n",
      "\u001b[34m#metrics {\"StartTime\": 1693633609.7721956, \"EndTime\": 1693633609.7722101, \"Dimensions\": {\"Algorithm\": \"Linear Learner\", \"Host\": \"algo-1\", \"Operation\": \"training\", \"epoch\": 21, \"model\": 21}, \"Metrics\": {\"train_absolute_loss_objective\": {\"sum\": 0.2608372926712036, \"count\": 1, \"min\": 0.2608372926712036, \"max\": 0.2608372926712036}}}\u001b[0m\n",
      "\u001b[34m#metrics {\"StartTime\": 1693633609.7722614, \"EndTime\": 1693633609.7722766, \"Dimensions\": {\"Algorithm\": \"Linear Learner\", \"Host\": \"algo-1\", \"Operation\": \"training\", \"epoch\": 21, \"model\": 22}, \"Metrics\": {\"train_absolute_loss_objective\": {\"sum\": 0.32047539710998535, \"count\": 1, \"min\": 0.32047539710998535, \"max\": 0.32047539710998535}}}\u001b[0m\n",
      "\u001b[34m#metrics {\"StartTime\": 1693633609.7723248, \"EndTime\": 1693633609.77234, \"Dimensions\": {\"Algorithm\": \"Linear Learner\", \"Host\": \"algo-1\", \"Operation\": \"training\", \"epoch\": 21, \"model\": 23}, \"Metrics\": {\"train_absolute_loss_objective\": {\"sum\": 0.30913599967956545, \"count\": 1, \"min\": 0.30913599967956545, \"max\": 0.30913599967956545}}}\u001b[0m\n",
      "\u001b[34m#metrics {\"StartTime\": 1693633609.7723913, \"EndTime\": 1693633609.772407, \"Dimensions\": {\"Algorithm\": \"Linear Learner\", \"Host\": \"algo-1\", \"Operation\": \"training\", \"epoch\": 21, \"model\": 24}, \"Metrics\": {\"train_absolute_loss_objective\": {\"sum\": 0.9000790691375733, \"count\": 1, \"min\": 0.9000790691375733, \"max\": 0.9000790691375733}}}\u001b[0m\n",
      "\u001b[34m#metrics {\"StartTime\": 1693633609.7724538, \"EndTime\": 1693633609.7724698, \"Dimensions\": {\"Algorithm\": \"Linear Learner\", \"Host\": \"algo-1\", \"Operation\": \"training\", \"epoch\": 21, \"model\": 25}, \"Metrics\": {\"train_absolute_loss_objective\": {\"sum\": 0.900177173614502, \"count\": 1, \"min\": 0.900177173614502, \"max\": 0.900177173614502}}}\u001b[0m\n",
      "\u001b[34m#metrics {\"StartTime\": 1693633609.772517, \"EndTime\": 1693633609.772533, \"Dimensions\": {\"Algorithm\": \"Linear Learner\", \"Host\": \"algo-1\", \"Operation\": \"training\", \"epoch\": 21, \"model\": 26}, \"Metrics\": {\"train_absolute_loss_objective\": {\"sum\": 0.8999990940093994, \"count\": 1, \"min\": 0.8999990940093994, \"max\": 0.8999990940093994}}}\u001b[0m\n",
      "\u001b[34m#metrics {\"StartTime\": 1693633609.7726064, \"EndTime\": 1693633609.7726245, \"Dimensions\": {\"Algorithm\": \"Linear Learner\", \"Host\": \"algo-1\", \"Operation\": \"training\", \"epoch\": 21, \"model\": 27}, \"Metrics\": {\"train_absolute_loss_objective\": {\"sum\": 0.9002098846435547, \"count\": 1, \"min\": 0.9002098846435547, \"max\": 0.9002098846435547}}}\u001b[0m\n",
      "\u001b[34m#metrics {\"StartTime\": 1693633609.7726738, \"EndTime\": 1693633609.7726896, \"Dimensions\": {\"Algorithm\": \"Linear Learner\", \"Host\": \"algo-1\", \"Operation\": \"training\", \"epoch\": 21, \"model\": 28}, \"Metrics\": {\"train_absolute_loss_objective\": {\"sum\": 0.9095990180969238, \"count\": 1, \"min\": 0.9095990180969238, \"max\": 0.9095990180969238}}}\u001b[0m\n",
      "\u001b[34m#metrics {\"StartTime\": 1693633609.7727416, \"EndTime\": 1693633609.7727578, \"Dimensions\": {\"Algorithm\": \"Linear Learner\", \"Host\": \"algo-1\", \"Operation\": \"training\", \"epoch\": 21, \"model\": 29}, \"Metrics\": {\"train_absolute_loss_objective\": {\"sum\": 0.9288128471374512, \"count\": 1, \"min\": 0.9288128471374512, \"max\": 0.9288128471374512}}}\u001b[0m\n",
      "\u001b[34m#metrics {\"StartTime\": 1693633609.772804, \"EndTime\": 1693633609.7728188, \"Dimensions\": {\"Algorithm\": \"Linear Learner\", \"Host\": \"algo-1\", \"Operation\": \"training\", \"epoch\": 21, \"model\": 30}, \"Metrics\": {\"train_absolute_loss_objective\": {\"sum\": 0.9276729583740234, \"count\": 1, \"min\": 0.9276729583740234, \"max\": 0.9276729583740234}}}\u001b[0m\n",
      "\u001b[34m#metrics {\"StartTime\": 1693633609.772861, \"EndTime\": 1693633609.7728748, \"Dimensions\": {\"Algorithm\": \"Linear Learner\", \"Host\": \"algo-1\", \"Operation\": \"training\", \"epoch\": 21, \"model\": 31}, \"Metrics\": {\"train_absolute_loss_objective\": {\"sum\": 0.9278793430328369, \"count\": 1, \"min\": 0.9278793430328369, \"max\": 0.9278793430328369}}}\u001b[0m\n",
      "\u001b[34m[09/02/2023 05:46:49 INFO 140628399605568] #quality_metric: host=algo-1, epoch=21, train absolute_loss_objective <loss>=0.49459264278411863\u001b[0m\n",
      "\u001b[34m[09/02/2023 05:46:49 INFO 140628399605568] #early_stopping_criteria_metric: host=algo-1, epoch=21, criteria=absolute_loss_objective, value=0.1636228632926941\u001b[0m\n",
      "\u001b[34m[09/02/2023 05:46:49 INFO 140628399605568] Epoch 21: Loss has not improved for 0 epochs.\u001b[0m\n",
      "\u001b[34m[09/02/2023 05:46:49 INFO 140628399605568] Saving model for epoch: 21\u001b[0m\n",
      "\u001b[34m[09/02/2023 05:46:49 INFO 140628399605568] Saved checkpoint to \"/tmp/tmpnmkwuyt5/mx-mod-0000.params\"\u001b[0m\n",
      "\u001b[34m[09/02/2023 05:46:49 INFO 140628399605568] #progress_metric: host=algo-1, completed 44.0 % of epochs\u001b[0m\n",
      "\u001b[34m#metrics {\"StartTime\": 1693633609.643438, \"EndTime\": 1693633609.7829013, \"Dimensions\": {\"Algorithm\": \"Linear Learner\", \"Host\": \"algo-1\", \"Operation\": \"training\", \"epoch\": 21, \"Meta\": \"training_data_iter\"}, \"Metrics\": {\"Total Records Seen\": {\"sum\": 603.0, \"count\": 1, \"min\": 603, \"max\": 603}, \"Total Batches Seen\": {\"sum\": 139.0, \"count\": 1, \"min\": 139, \"max\": 139}, \"Max Records Seen Between Resets\": {\"sum\": 26.0, \"count\": 1, \"min\": 26, \"max\": 26}, \"Max Batches Seen Between Resets\": {\"sum\": 6.0, \"count\": 1, \"min\": 6, \"max\": 6}, \"Reset Count\": {\"sum\": 24.0, \"count\": 1, \"min\": 24, \"max\": 24}, \"Number of Records Since Last Reset\": {\"sum\": 26.0, \"count\": 1, \"min\": 26, \"max\": 26}, \"Number of Batches Since Last Reset\": {\"sum\": 6.0, \"count\": 1, \"min\": 6, \"max\": 6}}}\u001b[0m\n",
      "\u001b[34m[09/02/2023 05:46:49 INFO 140628399605568] #throughput_metric: host=algo-1, train throughput=186.2527288409151 records/second\u001b[0m\n",
      "\u001b[34m[2023-09-02 05:46:49.886] [tensorio] [info] epoch_stats={\"data_pipeline\": \"/opt/ml/input/data/train\", \"epoch\": 48, \"duration\": 102, \"num_examples\": 6, \"num_bytes\": 1248}\u001b[0m\n",
      "\u001b[34m#metrics {\"StartTime\": 1693633609.8863056, \"EndTime\": 1693633609.886382, \"Dimensions\": {\"Algorithm\": \"Linear Learner\", \"Host\": \"algo-1\", \"Operation\": \"training\", \"epoch\": 22, \"model\": 0}, \"Metrics\": {\"train_absolute_loss_objective\": {\"sum\": 0.47662318229675293, \"count\": 1, \"min\": 0.47662318229675293, \"max\": 0.47662318229675293}}}\u001b[0m\n",
      "\u001b[34m#metrics {\"StartTime\": 1693633609.8864865, \"EndTime\": 1693633609.8865035, \"Dimensions\": {\"Algorithm\": \"Linear Learner\", \"Host\": \"algo-1\", \"Operation\": \"training\", \"epoch\": 22, \"model\": 1}, \"Metrics\": {\"train_absolute_loss_objective\": {\"sum\": 0.47509207248687746, \"count\": 1, \"min\": 0.47509207248687746, \"max\": 0.47509207248687746}}}\u001b[0m\n",
      "\u001b[34m#metrics {\"StartTime\": 1693633609.8865457, \"EndTime\": 1693633609.8865805, \"Dimensions\": {\"Algorithm\": \"Linear Learner\", \"Host\": \"algo-1\", \"Operation\": \"training\", \"epoch\": 22, \"model\": 2}, \"Metrics\": {\"train_absolute_loss_objective\": {\"sum\": 0.47898258686065676, \"count\": 1, \"min\": 0.47898258686065676, \"max\": 0.47898258686065676}}}\u001b[0m\n",
      "\u001b[34m#metrics {\"StartTime\": 1693633609.8866239, \"EndTime\": 1693633609.8866336, \"Dimensions\": {\"Algorithm\": \"Linear Learner\", \"Host\": \"algo-1\", \"Operation\": \"training\", \"epoch\": 22, \"model\": 3}, \"Metrics\": {\"train_absolute_loss_objective\": {\"sum\": 0.4736881542205811, \"count\": 1, \"min\": 0.4736881542205811, \"max\": 0.4736881542205811}}}\u001b[0m\n",
      "\u001b[34m#metrics {\"StartTime\": 1693633609.8866673, \"EndTime\": 1693633609.8866765, \"Dimensions\": {\"Algorithm\": \"Linear Learner\", \"Host\": \"algo-1\", \"Operation\": \"training\", \"epoch\": 22, \"model\": 4}, \"Metrics\": {\"train_absolute_loss_objective\": {\"sum\": 0.27546612977981566, \"count\": 1, \"min\": 0.27546612977981566, \"max\": 0.27546612977981566}}}\u001b[0m\n",
      "\u001b[34m#metrics {\"StartTime\": 1693633609.8867195, \"EndTime\": 1693633609.8867457, \"Dimensions\": {\"Algorithm\": \"Linear Learner\", \"Host\": \"algo-1\", \"Operation\": \"training\", \"epoch\": 22, \"model\": 5}, \"Metrics\": {\"train_absolute_loss_objective\": {\"sum\": 0.21819239616394043, \"count\": 1, \"min\": 0.21819239616394043, \"max\": 0.21819239616394043}}}\u001b[0m\n",
      "\u001b[34m#metrics {\"StartTime\": 1693633609.8867862, \"EndTime\": 1693633609.886796, \"Dimensions\": {\"Algorithm\": \"Linear Learner\", \"Host\": \"algo-1\", \"Operation\": \"training\", \"epoch\": 22, \"model\": 6}, \"Metrics\": {\"train_absolute_loss_objective\": {\"sum\": 0.234095276594162, \"count\": 1, \"min\": 0.234095276594162, \"max\": 0.234095276594162}}}\u001b[0m\n",
      "\u001b[34m#metrics {\"StartTime\": 1693633609.886828, \"EndTime\": 1693633609.886837, \"Dimensions\": {\"Algorithm\": \"Linear Learner\", \"Host\": \"algo-1\", \"Operation\": \"training\", \"epoch\": 22, \"model\": 7}, \"Metrics\": {\"train_absolute_loss_objective\": {\"sum\": 0.2697941482067108, \"count\": 1, \"min\": 0.2697941482067108, \"max\": 0.2697941482067108}}}\u001b[0m\n",
      "\u001b[34m#metrics {\"StartTime\": 1693633609.886868, \"EndTime\": 1693633609.8868997, \"Dimensions\": {\"Algorithm\": \"Linear Learner\", \"Host\": \"algo-1\", \"Operation\": \"training\", \"epoch\": 22, \"model\": 8}, \"Metrics\": {\"train_absolute_loss_objective\": {\"sum\": 0.5316441583633423, \"count\": 1, \"min\": 0.5316441583633423, \"max\": 0.5316441583633423}}}\u001b[0m\n",
      "\u001b[34m#metrics {\"StartTime\": 1693633609.8869412, \"EndTime\": 1693633609.886952, \"Dimensions\": {\"Algorithm\": \"Linear Learner\", \"Host\": \"algo-1\", \"Operation\": \"training\", \"epoch\": 22, \"model\": 9}, \"Metrics\": {\"train_absolute_loss_objective\": {\"sum\": 0.4426102066040039, \"count\": 1, \"min\": 0.4426102066040039, \"max\": 0.4426102066040039}}}\u001b[0m\n",
      "\u001b[34m#metrics {\"StartTime\": 1693633609.8869867, \"EndTime\": 1693633609.886996, \"Dimensions\": {\"Algorithm\": \"Linear Learner\", \"Host\": \"algo-1\", \"Operation\": \"training\", \"epoch\": 22, \"model\": 10}, \"Metrics\": {\"train_absolute_loss_objective\": {\"sum\": 0.4718603944778442, \"count\": 1, \"min\": 0.4718603944778442, \"max\": 0.4718603944778442}}}\u001b[0m\n",
      "\u001b[34m#metrics {\"StartTime\": 1693633609.8870275, \"EndTime\": 1693633609.8870363, \"Dimensions\": {\"Algorithm\": \"Linear Learner\", \"Host\": \"algo-1\", \"Operation\": \"training\", \"epoch\": 22, \"model\": 11}, \"Metrics\": {\"train_absolute_loss_objective\": {\"sum\": 0.43458354473114014, \"count\": 1, \"min\": 0.43458354473114014, \"max\": 0.43458354473114014}}}\u001b[0m\n",
      "\u001b[34m#metrics {\"StartTime\": 1693633609.8871145, \"EndTime\": 1693633609.8871274, \"Dimensions\": {\"Algorithm\": \"Linear Learner\", \"Host\": \"algo-1\", \"Operation\": \"training\", \"epoch\": 22, \"model\": 12}, \"Metrics\": {\"train_absolute_loss_objective\": {\"sum\": 0.27484611988067625, \"count\": 1, \"min\": 0.27484611988067625, \"max\": 0.27484611988067625}}}\u001b[0m\n",
      "\u001b[34m#metrics {\"StartTime\": 1693633609.8871665, \"EndTime\": 1693633609.8871763, \"Dimensions\": {\"Algorithm\": \"Linear Learner\", \"Host\": \"algo-1\", \"Operation\": \"training\", \"epoch\": 22, \"model\": 13}, \"Metrics\": {\"train_absolute_loss_objective\": {\"sum\": 0.16181737542152405, \"count\": 1, \"min\": 0.16181737542152405, \"max\": 0.16181737542152405}}}\u001b[0m\n",
      "\u001b[34m#metrics {\"StartTime\": 1693633609.8872082, \"EndTime\": 1693633609.8872168, \"Dimensions\": {\"Algorithm\": \"Linear Learner\", \"Host\": \"algo-1\", \"Operation\": \"training\", \"epoch\": 22, \"model\": 14}, \"Metrics\": {\"train_absolute_loss_objective\": {\"sum\": 0.24557310819625855, \"count\": 1, \"min\": 0.24557310819625855, \"max\": 0.24557310819625855}}}\u001b[0m\n",
      "\u001b[34m#metrics {\"StartTime\": 1693633609.8872483, \"EndTime\": 1693633609.8872948, \"Dimensions\": {\"Algorithm\": \"Linear Learner\", \"Host\": \"algo-1\", \"Operation\": \"training\", \"epoch\": 22, \"model\": 15}, \"Metrics\": {\"train_absolute_loss_objective\": {\"sum\": 0.18431834936141966, \"count\": 1, \"min\": 0.18431834936141966, \"max\": 0.18431834936141966}}}\u001b[0m\n",
      "\u001b[34m#metrics {\"StartTime\": 1693633609.8873377, \"EndTime\": 1693633609.8873487, \"Dimensions\": {\"Algorithm\": \"Linear Learner\", \"Host\": \"algo-1\", \"Operation\": \"training\", \"epoch\": 22, \"model\": 16}, \"Metrics\": {\"train_absolute_loss_objective\": {\"sum\": 0.5043365001678467, \"count\": 1, \"min\": 0.5043365001678467, \"max\": 0.5043365001678467}}}\u001b[0m\n",
      "\u001b[34m#metrics {\"StartTime\": 1693633609.8873837, \"EndTime\": 1693633609.887393, \"Dimensions\": {\"Algorithm\": \"Linear Learner\", \"Host\": \"algo-1\", \"Operation\": \"training\", \"epoch\": 22, \"model\": 17}, \"Metrics\": {\"train_absolute_loss_objective\": {\"sum\": 0.5329664516448974, \"count\": 1, \"min\": 0.5329664516448974, \"max\": 0.5329664516448974}}}\u001b[0m\n",
      "\u001b[34m#metrics {\"StartTime\": 1693633609.8874245, \"EndTime\": 1693633609.8874335, \"Dimensions\": {\"Algorithm\": \"Linear Learner\", \"Host\": \"algo-1\", \"Operation\": \"training\", \"epoch\": 22, \"model\": 18}, \"Metrics\": {\"train_absolute_loss_objective\": {\"sum\": 0.5267035293579102, \"count\": 1, \"min\": 0.5267035293579102, \"max\": 0.5267035293579102}}}\u001b[0m\n",
      "\u001b[34m#metrics {\"StartTime\": 1693633609.887513, \"EndTime\": 1693633609.887526, \"Dimensions\": {\"Algorithm\": \"Linear Learner\", \"Host\": \"algo-1\", \"Operation\": \"training\", \"epoch\": 22, \"model\": 19}, \"Metrics\": {\"train_absolute_loss_objective\": {\"sum\": 0.5098128986358642, \"count\": 1, \"min\": 0.5098128986358642, \"max\": 0.5098128986358642}}}\u001b[0m\n",
      "\u001b[34m#metrics {\"StartTime\": 1693633609.8875651, \"EndTime\": 1693633609.8875747, \"Dimensions\": {\"Algorithm\": \"Linear Learner\", \"Host\": \"algo-1\", \"Operation\": \"training\", \"epoch\": 22, \"model\": 20}, \"Metrics\": {\"train_absolute_loss_objective\": {\"sum\": 0.32474374771118164, \"count\": 1, \"min\": 0.32474374771118164, \"max\": 0.32474374771118164}}}\u001b[0m\n",
      "\u001b[34m#metrics {\"StartTime\": 1693633609.887607, \"EndTime\": 1693633609.887616, \"Dimensions\": {\"Algorithm\": \"Linear Learner\", \"Host\": \"algo-1\", \"Operation\": \"training\", \"epoch\": 22, \"model\": 21}, \"Metrics\": {\"train_absolute_loss_objective\": {\"sum\": 0.2657041192054749, \"count\": 1, \"min\": 0.2657041192054749, \"max\": 0.2657041192054749}}}\u001b[0m\n",
      "\u001b[34m#metrics {\"StartTime\": 1693633609.887647, \"EndTime\": 1693633609.8876758, \"Dimensions\": {\"Algorithm\": \"Linear Learner\", \"Host\": \"algo-1\", \"Operation\": \"training\", \"epoch\": 22, \"model\": 22}, \"Metrics\": {\"train_absolute_loss_objective\": {\"sum\": 0.3159988117218018, \"count\": 1, \"min\": 0.3159988117218018, \"max\": 0.3159988117218018}}}\u001b[0m\n",
      "\u001b[34m#metrics {\"StartTime\": 1693633609.8877146, \"EndTime\": 1693633609.887724, \"Dimensions\": {\"Algorithm\": \"Linear Learner\", \"Host\": \"algo-1\", \"Operation\": \"training\", \"epoch\": 22, \"model\": 23}, \"Metrics\": {\"train_absolute_loss_objective\": {\"sum\": 0.27641021251678466, \"count\": 1, \"min\": 0.27641021251678466, \"max\": 0.27641021251678466}}}\u001b[0m\n",
      "\u001b[34m#metrics {\"StartTime\": 1693633609.8877494, \"EndTime\": 1693633609.8877563, \"Dimensions\": {\"Algorithm\": \"Linear Learner\", \"Host\": \"algo-1\", \"Operation\": \"training\", \"epoch\": 22, \"model\": 24}, \"Metrics\": {\"train_absolute_loss_objective\": {\"sum\": 0.8996079540252686, \"count\": 1, \"min\": 0.8996079540252686, \"max\": 0.8996079540252686}}}\u001b[0m\n",
      "\u001b[34m#metrics {\"StartTime\": 1693633609.887778, \"EndTime\": 1693633609.8877845, \"Dimensions\": {\"Algorithm\": \"Linear Learner\", \"Host\": \"algo-1\", \"Operation\": \"training\", \"epoch\": 22, \"model\": 25}, \"Metrics\": {\"train_absolute_loss_objective\": {\"sum\": 0.9004113864898682, \"count\": 1, \"min\": 0.9004113864898682, \"max\": 0.9004113864898682}}}\u001b[0m\n",
      "\u001b[34m#metrics {\"StartTime\": 1693633609.8878071, \"EndTime\": 1693633609.8878138, \"Dimensions\": {\"Algorithm\": \"Linear Learner\", \"Host\": \"algo-1\", \"Operation\": \"training\", \"epoch\": 22, \"model\": 26}, \"Metrics\": {\"train_absolute_loss_objective\": {\"sum\": 0.8997062683105469, \"count\": 1, \"min\": 0.8997062683105469, \"max\": 0.8997062683105469}}}\u001b[0m\n",
      "\u001b[34m#metrics {\"StartTime\": 1693633609.8878376, \"EndTime\": 1693633609.8878503, \"Dimensions\": {\"Algorithm\": \"Linear Learner\", \"Host\": \"algo-1\", \"Operation\": \"training\", \"epoch\": 22, \"model\": 27}, \"Metrics\": {\"train_absolute_loss_objective\": {\"sum\": 0.8997905635833741, \"count\": 1, \"min\": 0.8997905635833741, \"max\": 0.8997905635833741}}}\u001b[0m\n",
      "\u001b[34m#metrics {\"StartTime\": 1693633609.8878849, \"EndTime\": 1693633609.8878932, \"Dimensions\": {\"Algorithm\": \"Linear Learner\", \"Host\": \"algo-1\", \"Operation\": \"training\", \"epoch\": 22, \"model\": 28}, \"Metrics\": {\"train_absolute_loss_objective\": {\"sum\": 0.9178839015960694, \"count\": 1, \"min\": 0.9178839015960694, \"max\": 0.9178839015960694}}}\u001b[0m\n",
      "\u001b[34m#metrics {\"StartTime\": 1693633609.8879244, \"EndTime\": 1693633609.8879354, \"Dimensions\": {\"Algorithm\": \"Linear Learner\", \"Host\": \"algo-1\", \"Operation\": \"training\", \"epoch\": 22, \"model\": 29}, \"Metrics\": {\"train_absolute_loss_objective\": {\"sum\": 0.929022274017334, \"count\": 1, \"min\": 0.929022274017334, \"max\": 0.929022274017334}}}\u001b[0m\n",
      "\u001b[34m#metrics {\"StartTime\": 1693633609.8879635, \"EndTime\": 1693633609.887971, \"Dimensions\": {\"Algorithm\": \"Linear Learner\", \"Host\": \"algo-1\", \"Operation\": \"training\", \"epoch\": 22, \"model\": 30}, \"Metrics\": {\"train_absolute_loss_objective\": {\"sum\": 0.9279876804351807, \"count\": 1, \"min\": 0.9279876804351807, \"max\": 0.9279876804351807}}}\u001b[0m\n",
      "\u001b[34m#metrics {\"StartTime\": 1693633609.8879945, \"EndTime\": 1693633609.8880014, \"Dimensions\": {\"Algorithm\": \"Linear Learner\", \"Host\": \"algo-1\", \"Operation\": \"training\", \"epoch\": 22, \"model\": 31}, \"Metrics\": {\"train_absolute_loss_objective\": {\"sum\": 0.9281886577606201, \"count\": 1, \"min\": 0.9281886577606201, \"max\": 0.9281886577606201}}}\u001b[0m\n",
      "\u001b[34m[09/02/2023 05:46:49 INFO 140628399605568] #quality_metric: host=algo-1, epoch=22, train absolute_loss_objective <loss>=0.47662318229675293\u001b[0m\n",
      "\u001b[34m[09/02/2023 05:46:49 INFO 140628399605568] #early_stopping_criteria_metric: host=algo-1, epoch=22, criteria=absolute_loss_objective, value=0.16181737542152405\u001b[0m\n",
      "\u001b[34m[09/02/2023 05:46:49 INFO 140628399605568] Epoch 22: Loss has not improved for 0 epochs.\u001b[0m\n",
      "\u001b[34m[09/02/2023 05:46:49 INFO 140628399605568] Saving model for epoch: 22\u001b[0m\n",
      "\u001b[34m[09/02/2023 05:46:49 INFO 140628399605568] Saved checkpoint to \"/tmp/tmpq915s3p8/mx-mod-0000.params\"\u001b[0m\n",
      "\u001b[34m[09/02/2023 05:46:49 INFO 140628399605568] #progress_metric: host=algo-1, completed 46.0 % of epochs\u001b[0m\n",
      "\u001b[34m#metrics {\"StartTime\": 1693633609.783181, \"EndTime\": 1693633609.898248, \"Dimensions\": {\"Algorithm\": \"Linear Learner\", \"Host\": \"algo-1\", \"Operation\": \"training\", \"epoch\": 22, \"Meta\": \"training_data_iter\"}, \"Metrics\": {\"Total Records Seen\": {\"sum\": 629.0, \"count\": 1, \"min\": 629, \"max\": 629}, \"Total Batches Seen\": {\"sum\": 145.0, \"count\": 1, \"min\": 145, \"max\": 145}, \"Max Records Seen Between Resets\": {\"sum\": 26.0, \"count\": 1, \"min\": 26, \"max\": 26}, \"Max Batches Seen Between Resets\": {\"sum\": 6.0, \"count\": 1, \"min\": 6, \"max\": 6}, \"Reset Count\": {\"sum\": 25.0, \"count\": 1, \"min\": 25, \"max\": 25}, \"Number of Records Since Last Reset\": {\"sum\": 26.0, \"count\": 1, \"min\": 26, \"max\": 26}, \"Number of Batches Since Last Reset\": {\"sum\": 6.0, \"count\": 1, \"min\": 6, \"max\": 6}}}\u001b[0m\n",
      "\u001b[34m[09/02/2023 05:46:49 INFO 140628399605568] #throughput_metric: host=algo-1, train throughput=225.64999513738442 records/second\u001b[0m\n",
      "\u001b[34m[2023-09-02 05:46:50.053] [tensorio] [info] epoch_stats={\"data_pipeline\": \"/opt/ml/input/data/train\", \"epoch\": 50, \"duration\": 154, \"num_examples\": 6, \"num_bytes\": 1248}\u001b[0m\n",
      "\u001b[34m#metrics {\"StartTime\": 1693633610.0533738, \"EndTime\": 1693633610.0534618, \"Dimensions\": {\"Algorithm\": \"Linear Learner\", \"Host\": \"algo-1\", \"Operation\": \"training\", \"epoch\": 23, \"model\": 0}, \"Metrics\": {\"train_absolute_loss_objective\": {\"sum\": 0.45802103996276855, \"count\": 1, \"min\": 0.45802103996276855, \"max\": 0.45802103996276855}}}\u001b[0m\n",
      "\u001b[34m#metrics {\"StartTime\": 1693633610.0535624, \"EndTime\": 1693633610.0535827, \"Dimensions\": {\"Algorithm\": \"Linear Learner\", \"Host\": \"algo-1\", \"Operation\": \"training\", \"epoch\": 23, \"model\": 1}, \"Metrics\": {\"train_absolute_loss_objective\": {\"sum\": 0.45438852787017825, \"count\": 1, \"min\": 0.45438852787017825, \"max\": 0.45438852787017825}}}\u001b[0m\n",
      "\u001b[34m#metrics {\"StartTime\": 1693633610.053643, \"EndTime\": 1693633610.0536604, \"Dimensions\": {\"Algorithm\": \"Linear Learner\", \"Host\": \"algo-1\", \"Operation\": \"training\", \"epoch\": 23, \"model\": 2}, \"Metrics\": {\"train_absolute_loss_objective\": {\"sum\": 0.4604515743255615, \"count\": 1, \"min\": 0.4604515743255615, \"max\": 0.4604515743255615}}}\u001b[0m\n",
      "\u001b[34m#metrics {\"StartTime\": 1693633610.0537293, \"EndTime\": 1693633610.0537574, \"Dimensions\": {\"Algorithm\": \"Linear Learner\", \"Host\": \"algo-1\", \"Operation\": \"training\", \"epoch\": 23, \"model\": 3}, \"Metrics\": {\"train_absolute_loss_objective\": {\"sum\": 0.45361608028411865, \"count\": 1, \"min\": 0.45361608028411865, \"max\": 0.45361608028411865}}}\u001b[0m\n",
      "\u001b[34m#metrics {\"StartTime\": 1693633610.053827, \"EndTime\": 1693633610.0538442, \"Dimensions\": {\"Algorithm\": \"Linear Learner\", \"Host\": \"algo-1\", \"Operation\": \"training\", \"epoch\": 23, \"model\": 4}, \"Metrics\": {\"train_absolute_loss_objective\": {\"sum\": 0.21885108709335327, \"count\": 1, \"min\": 0.21885108709335327, \"max\": 0.21885108709335327}}}\u001b[0m\n",
      "\u001b[34m#metrics {\"StartTime\": 1693633610.0539162, \"EndTime\": 1693633610.0539324, \"Dimensions\": {\"Algorithm\": \"Linear Learner\", \"Host\": \"algo-1\", \"Operation\": \"training\", \"epoch\": 23, \"model\": 5}, \"Metrics\": {\"train_absolute_loss_objective\": {\"sum\": 0.16521998524665832, \"count\": 1, \"min\": 0.16521998524665832, \"max\": 0.16521998524665832}}}\u001b[0m\n",
      "\u001b[34m#metrics {\"StartTime\": 1693633610.0540164, \"EndTime\": 1693633610.0540376, \"Dimensions\": {\"Algorithm\": \"Linear Learner\", \"Host\": \"algo-1\", \"Operation\": \"training\", \"epoch\": 23, \"model\": 6}, \"Metrics\": {\"train_absolute_loss_objective\": {\"sum\": 0.34057005643844607, \"count\": 1, \"min\": 0.34057005643844607, \"max\": 0.34057005643844607}}}\u001b[0m\n",
      "\u001b[34m#metrics {\"StartTime\": 1693633610.0541003, \"EndTime\": 1693633610.054116, \"Dimensions\": {\"Algorithm\": \"Linear Learner\", \"Host\": \"algo-1\", \"Operation\": \"training\", \"epoch\": 23, \"model\": 7}, \"Metrics\": {\"train_absolute_loss_objective\": {\"sum\": 0.22680265903472902, \"count\": 1, \"min\": 0.22680265903472902, \"max\": 0.22680265903472902}}}\u001b[0m\n",
      "\u001b[34m#metrics {\"StartTime\": 1693633610.0541763, \"EndTime\": 1693633610.0541947, \"Dimensions\": {\"Algorithm\": \"Linear Learner\", \"Host\": \"algo-1\", \"Operation\": \"training\", \"epoch\": 23, \"model\": 8}, \"Metrics\": {\"train_absolute_loss_objective\": {\"sum\": 0.5146926689147949, \"count\": 1, \"min\": 0.5146926689147949, \"max\": 0.5146926689147949}}}\u001b[0m\n",
      "\u001b[34m#metrics {\"StartTime\": 1693633610.0542552, \"EndTime\": 1693633610.0542712, \"Dimensions\": {\"Algorithm\": \"Linear Learner\", \"Host\": \"algo-1\", \"Operation\": \"training\", \"epoch\": 23, \"model\": 9}, \"Metrics\": {\"train_absolute_loss_objective\": {\"sum\": 0.42425998687744143, \"count\": 1, \"min\": 0.42425998687744143, \"max\": 0.42425998687744143}}}\u001b[0m\n",
      "\u001b[34m#metrics {\"StartTime\": 1693633610.0543313, \"EndTime\": 1693633610.0543485, \"Dimensions\": {\"Algorithm\": \"Linear Learner\", \"Host\": \"algo-1\", \"Operation\": \"training\", \"epoch\": 23, \"model\": 10}, \"Metrics\": {\"train_absolute_loss_objective\": {\"sum\": 0.45323322772979735, \"count\": 1, \"min\": 0.45323322772979735, \"max\": 0.45323322772979735}}}\u001b[0m\n",
      "\u001b[34m#metrics {\"StartTime\": 1693633610.054408, \"EndTime\": 1693633610.0544248, \"Dimensions\": {\"Algorithm\": \"Linear Learner\", \"Host\": \"algo-1\", \"Operation\": \"training\", \"epoch\": 23, \"model\": 11}, \"Metrics\": {\"train_absolute_loss_objective\": {\"sum\": 0.4162269878387451, \"count\": 1, \"min\": 0.4162269878387451, \"max\": 0.4162269878387451}}}\u001b[0m\n",
      "\u001b[34m#metrics {\"StartTime\": 1693633610.054486, \"EndTime\": 1693633610.0545044, \"Dimensions\": {\"Algorithm\": \"Linear Learner\", \"Host\": \"algo-1\", \"Operation\": \"training\", \"epoch\": 23, \"model\": 12}, \"Metrics\": {\"train_absolute_loss_objective\": {\"sum\": 0.21919648170471193, \"count\": 1, \"min\": 0.21919648170471193, \"max\": 0.21919648170471193}}}\u001b[0m\n",
      "\u001b[34m#metrics {\"StartTime\": 1693633610.054565, \"EndTime\": 1693633610.0545816, \"Dimensions\": {\"Algorithm\": \"Linear Learner\", \"Host\": \"algo-1\", \"Operation\": \"training\", \"epoch\": 23, \"model\": 13}, \"Metrics\": {\"train_absolute_loss_objective\": {\"sum\": 0.21353092432022094, \"count\": 1, \"min\": 0.21353092432022094, \"max\": 0.21353092432022094}}}\u001b[0m\n",
      "\u001b[34m#metrics {\"StartTime\": 1693633610.0546434, \"EndTime\": 1693633610.0546608, \"Dimensions\": {\"Algorithm\": \"Linear Learner\", \"Host\": \"algo-1\", \"Operation\": \"training\", \"epoch\": 23, \"model\": 14}, \"Metrics\": {\"train_absolute_loss_objective\": {\"sum\": 0.19083050966262818, \"count\": 1, \"min\": 0.19083050966262818, \"max\": 0.19083050966262818}}}\u001b[0m\n",
      "\u001b[34m#metrics {\"StartTime\": 1693633610.0547209, \"EndTime\": 1693633610.0547383, \"Dimensions\": {\"Algorithm\": \"Linear Learner\", \"Host\": \"algo-1\", \"Operation\": \"training\", \"epoch\": 23, \"model\": 15}, \"Metrics\": {\"train_absolute_loss_objective\": {\"sum\": 0.2303110134601593, \"count\": 1, \"min\": 0.2303110134601593, \"max\": 0.2303110134601593}}}\u001b[0m\n",
      "\u001b[34m#metrics {\"StartTime\": 1693633610.0547998, \"EndTime\": 1693633610.054817, \"Dimensions\": {\"Algorithm\": \"Linear Learner\", \"Host\": \"algo-1\", \"Operation\": \"training\", \"epoch\": 23, \"model\": 16}, \"Metrics\": {\"train_absolute_loss_objective\": {\"sum\": 0.49357487678527834, \"count\": 1, \"min\": 0.49357487678527834, \"max\": 0.49357487678527834}}}\u001b[0m\n",
      "\u001b[34m#metrics {\"StartTime\": 1693633610.054877, \"EndTime\": 1693633610.054893, \"Dimensions\": {\"Algorithm\": \"Linear Learner\", \"Host\": \"algo-1\", \"Operation\": \"training\", \"epoch\": 23, \"model\": 17}, \"Metrics\": {\"train_absolute_loss_objective\": {\"sum\": 0.5199810171127319, \"count\": 1, \"min\": 0.5199810171127319, \"max\": 0.5199810171127319}}}\u001b[0m\n",
      "\u001b[34m#metrics {\"StartTime\": 1693633610.054946, \"EndTime\": 1693633610.0549626, \"Dimensions\": {\"Algorithm\": \"Linear Learner\", \"Host\": \"algo-1\", \"Operation\": \"training\", \"epoch\": 23, \"model\": 18}, \"Metrics\": {\"train_absolute_loss_objective\": {\"sum\": 0.5154904794692993, \"count\": 1, \"min\": 0.5154904794692993, \"max\": 0.5154904794692993}}}\u001b[0m\n",
      "\u001b[34m#metrics {\"StartTime\": 1693633610.0550213, \"EndTime\": 1693633610.0550382, \"Dimensions\": {\"Algorithm\": \"Linear Learner\", \"Host\": \"algo-1\", \"Operation\": \"training\", \"epoch\": 23, \"model\": 19}, \"Metrics\": {\"train_absolute_loss_objective\": {\"sum\": 0.4978595781326294, \"count\": 1, \"min\": 0.4978595781326294, \"max\": 0.4978595781326294}}}\u001b[0m\n",
      "\u001b[34m#metrics {\"StartTime\": 1693633610.055101, \"EndTime\": 1693633610.0551178, \"Dimensions\": {\"Algorithm\": \"Linear Learner\", \"Host\": \"algo-1\", \"Operation\": \"training\", \"epoch\": 23, \"model\": 20}, \"Metrics\": {\"train_absolute_loss_objective\": {\"sum\": 0.37785728454589845, \"count\": 1, \"min\": 0.37785728454589845, \"max\": 0.37785728454589845}}}\u001b[0m\n",
      "\u001b[34m#metrics {\"StartTime\": 1693633610.05518, \"EndTime\": 1693633610.055196, \"Dimensions\": {\"Algorithm\": \"Linear Learner\", \"Host\": \"algo-1\", \"Operation\": \"training\", \"epoch\": 23, \"model\": 21}, \"Metrics\": {\"train_absolute_loss_objective\": {\"sum\": 0.2683164882659912, \"count\": 1, \"min\": 0.2683164882659912, \"max\": 0.2683164882659912}}}\u001b[0m\n",
      "\u001b[34m#metrics {\"StartTime\": 1693633610.0552514, \"EndTime\": 1693633610.055267, \"Dimensions\": {\"Algorithm\": \"Linear Learner\", \"Host\": \"algo-1\", \"Operation\": \"training\", \"epoch\": 23, \"model\": 22}, \"Metrics\": {\"train_absolute_loss_objective\": {\"sum\": 0.29587257385253907, \"count\": 1, \"min\": 0.29587257385253907, \"max\": 0.29587257385253907}}}\u001b[0m\n",
      "\u001b[34m#metrics {\"StartTime\": 1693633610.0553155, \"EndTime\": 1693633610.0553327, \"Dimensions\": {\"Algorithm\": \"Linear Learner\", \"Host\": \"algo-1\", \"Operation\": \"training\", \"epoch\": 23, \"model\": 23}, \"Metrics\": {\"train_absolute_loss_objective\": {\"sum\": 0.312281928062439, \"count\": 1, \"min\": 0.312281928062439, \"max\": 0.312281928062439}}}\u001b[0m\n",
      "\u001b[34m#metrics {\"StartTime\": 1693633610.055386, \"EndTime\": 1693633610.0554023, \"Dimensions\": {\"Algorithm\": \"Linear Learner\", \"Host\": \"algo-1\", \"Operation\": \"training\", \"epoch\": 23, \"model\": 24}, \"Metrics\": {\"train_absolute_loss_objective\": {\"sum\": 0.8999606227874756, \"count\": 1, \"min\": 0.8999606227874756, \"max\": 0.8999606227874756}}}\u001b[0m\n",
      "\u001b[34m#metrics {\"StartTime\": 1693633610.0554507, \"EndTime\": 1693633610.0554662, \"Dimensions\": {\"Algorithm\": \"Linear Learner\", \"Host\": \"algo-1\", \"Operation\": \"training\", \"epoch\": 23, \"model\": 25}, \"Metrics\": {\"train_absolute_loss_objective\": {\"sum\": 0.9002258586883545, \"count\": 1, \"min\": 0.9002258586883545, \"max\": 0.9002258586883545}}}\u001b[0m\n",
      "\u001b[34m#metrics {\"StartTime\": 1693633610.0555184, \"EndTime\": 1693633610.0555346, \"Dimensions\": {\"Algorithm\": \"Linear Learner\", \"Host\": \"algo-1\", \"Operation\": \"training\", \"epoch\": 23, \"model\": 26}, \"Metrics\": {\"train_absolute_loss_objective\": {\"sum\": 0.9000684642791748, \"count\": 1, \"min\": 0.9000684642791748, \"max\": 0.9000684642791748}}}\u001b[0m\n",
      "\u001b[34m#metrics {\"StartTime\": 1693633610.0555937, \"EndTime\": 1693633610.0556107, \"Dimensions\": {\"Algorithm\": \"Linear Learner\", \"Host\": \"algo-1\", \"Operation\": \"training\", \"epoch\": 23, \"model\": 27}, \"Metrics\": {\"train_absolute_loss_objective\": {\"sum\": 0.9001902675628662, \"count\": 1, \"min\": 0.9001902675628662, \"max\": 0.9001902675628662}}}\u001b[0m\n",
      "\u001b[34m#metrics {\"StartTime\": 1693633610.0556734, \"EndTime\": 1693633610.0556905, \"Dimensions\": {\"Algorithm\": \"Linear Learner\", \"Host\": \"algo-1\", \"Operation\": \"training\", \"epoch\": 23, \"model\": 28}, \"Metrics\": {\"train_absolute_loss_objective\": {\"sum\": 0.9143515300750732, \"count\": 1, \"min\": 0.9143515300750732, \"max\": 0.9143515300750732}}}\u001b[0m\n",
      "\u001b[34m#metrics {\"StartTime\": 1693633610.055753, \"EndTime\": 1693633610.0557702, \"Dimensions\": {\"Algorithm\": \"Linear Learner\", \"Host\": \"algo-1\", \"Operation\": \"training\", \"epoch\": 23, \"model\": 29}, \"Metrics\": {\"train_absolute_loss_objective\": {\"sum\": 0.9127183055877686, \"count\": 1, \"min\": 0.9127183055877686, \"max\": 0.9127183055877686}}}\u001b[0m\n",
      "\u001b[34m#metrics {\"StartTime\": 1693633610.0558293, \"EndTime\": 1693633610.055846, \"Dimensions\": {\"Algorithm\": \"Linear Learner\", \"Host\": \"algo-1\", \"Operation\": \"training\", \"epoch\": 23, \"model\": 30}, \"Metrics\": {\"train_absolute_loss_objective\": {\"sum\": 0.9109072399139404, \"count\": 1, \"min\": 0.9109072399139404, \"max\": 0.9109072399139404}}}\u001b[0m\n",
      "\u001b[34m#metrics {\"StartTime\": 1693633610.0559058, \"EndTime\": 1693633610.0559227, \"Dimensions\": {\"Algorithm\": \"Linear Learner\", \"Host\": \"algo-1\", \"Operation\": \"training\", \"epoch\": 23, \"model\": 31}, \"Metrics\": {\"train_absolute_loss_objective\": {\"sum\": 0.9130073356628418, \"count\": 1, \"min\": 0.9130073356628418, \"max\": 0.9130073356628418}}}\u001b[0m\n",
      "\u001b[34m[09/02/2023 05:46:50 INFO 140628399605568] #quality_metric: host=algo-1, epoch=23, train absolute_loss_objective <loss>=0.45802103996276855\u001b[0m\n",
      "\u001b[34m[09/02/2023 05:46:50 INFO 140628399605568] #early_stopping_criteria_metric: host=algo-1, epoch=23, criteria=absolute_loss_objective, value=0.16521998524665832\u001b[0m\n",
      "\u001b[34m[09/02/2023 05:46:50 INFO 140628399605568] Saving model for epoch: 23\u001b[0m\n",
      "\u001b[34m[09/02/2023 05:46:50 INFO 140628399605568] Saved checkpoint to \"/tmp/tmpa__n00ue/mx-mod-0000.params\"\u001b[0m\n",
      "\u001b[34m[09/02/2023 05:46:50 INFO 140628399605568] #progress_metric: host=algo-1, completed 48.0 % of epochs\u001b[0m\n",
      "\u001b[34m#metrics {\"StartTime\": 1693633609.8985965, \"EndTime\": 1693633610.067635, \"Dimensions\": {\"Algorithm\": \"Linear Learner\", \"Host\": \"algo-1\", \"Operation\": \"training\", \"epoch\": 23, \"Meta\": \"training_data_iter\"}, \"Metrics\": {\"Total Records Seen\": {\"sum\": 655.0, \"count\": 1, \"min\": 655, \"max\": 655}, \"Total Batches Seen\": {\"sum\": 151.0, \"count\": 1, \"min\": 151, \"max\": 151}, \"Max Records Seen Between Resets\": {\"sum\": 26.0, \"count\": 1, \"min\": 26, \"max\": 26}, \"Max Batches Seen Between Resets\": {\"sum\": 6.0, \"count\": 1, \"min\": 6, \"max\": 6}, \"Reset Count\": {\"sum\": 26.0, \"count\": 1, \"min\": 26, \"max\": 26}, \"Number of Records Since Last Reset\": {\"sum\": 26.0, \"count\": 1, \"min\": 26, \"max\": 26}, \"Number of Batches Since Last Reset\": {\"sum\": 6.0, \"count\": 1, \"min\": 6, \"max\": 6}}}\u001b[0m\n",
      "\u001b[34m[09/02/2023 05:46:50 INFO 140628399605568] #throughput_metric: host=algo-1, train throughput=153.6528787748563 records/second\u001b[0m\n",
      "\u001b[34m[2023-09-02 05:46:50.186] [tensorio] [info] epoch_stats={\"data_pipeline\": \"/opt/ml/input/data/train\", \"epoch\": 52, \"duration\": 118, \"num_examples\": 6, \"num_bytes\": 1248}\u001b[0m\n",
      "\u001b[34m#metrics {\"StartTime\": 1693633610.1863456, \"EndTime\": 1693633610.1864233, \"Dimensions\": {\"Algorithm\": \"Linear Learner\", \"Host\": \"algo-1\", \"Operation\": \"training\", \"epoch\": 24, \"model\": 0}, \"Metrics\": {\"train_absolute_loss_objective\": {\"sum\": 0.440698037147522, \"count\": 1, \"min\": 0.440698037147522, \"max\": 0.440698037147522}}}\u001b[0m\n",
      "\u001b[34m#metrics {\"StartTime\": 1693633610.1865046, \"EndTime\": 1693633610.1865184, \"Dimensions\": {\"Algorithm\": \"Linear Learner\", \"Host\": \"algo-1\", \"Operation\": \"training\", \"epoch\": 24, \"model\": 1}, \"Metrics\": {\"train_absolute_loss_objective\": {\"sum\": 0.4350426197052002, \"count\": 1, \"min\": 0.4350426197052002, \"max\": 0.4350426197052002}}}\u001b[0m\n",
      "\u001b[34m#metrics {\"StartTime\": 1693633610.1865556, \"EndTime\": 1693633610.1865654, \"Dimensions\": {\"Algorithm\": \"Linear Learner\", \"Host\": \"algo-1\", \"Operation\": \"training\", \"epoch\": 24, \"model\": 2}, \"Metrics\": {\"train_absolute_loss_objective\": {\"sum\": 0.4430574512481689, \"count\": 1, \"min\": 0.4430574512481689, \"max\": 0.4430574512481689}}}\u001b[0m\n",
      "\u001b[34m#metrics {\"StartTime\": 1693633610.1865983, \"EndTime\": 1693633610.1866076, \"Dimensions\": {\"Algorithm\": \"Linear Learner\", \"Host\": \"algo-1\", \"Operation\": \"training\", \"epoch\": 24, \"model\": 3}, \"Metrics\": {\"train_absolute_loss_objective\": {\"sum\": 0.43316820621490476, \"count\": 1, \"min\": 0.43316820621490476, \"max\": 0.43316820621490476}}}\u001b[0m\n",
      "\u001b[34m#metrics {\"StartTime\": 1693633610.1866426, \"EndTime\": 1693633610.1866522, \"Dimensions\": {\"Algorithm\": \"Linear Learner\", \"Host\": \"algo-1\", \"Operation\": \"training\", \"epoch\": 24, \"model\": 4}, \"Metrics\": {\"train_absolute_loss_objective\": {\"sum\": 0.32598531007766723, \"count\": 1, \"min\": 0.32598531007766723, \"max\": 0.32598531007766723}}}\u001b[0m\n",
      "\u001b[34m#metrics {\"StartTime\": 1693633610.1866927, \"EndTime\": 1693633610.1867034, \"Dimensions\": {\"Algorithm\": \"Linear Learner\", \"Host\": \"algo-1\", \"Operation\": \"training\", \"epoch\": 24, \"model\": 5}, \"Metrics\": {\"train_absolute_loss_objective\": {\"sum\": 0.24788931846618653, \"count\": 1, \"min\": 0.24788931846618653, \"max\": 0.24788931846618653}}}\u001b[0m\n",
      "\u001b[34m#metrics {\"StartTime\": 1693633610.186743, \"EndTime\": 1693633610.186753, \"Dimensions\": {\"Algorithm\": \"Linear Learner\", \"Host\": \"algo-1\", \"Operation\": \"training\", \"epoch\": 24, \"model\": 6}, \"Metrics\": {\"train_absolute_loss_objective\": {\"sum\": 0.3084685480594635, \"count\": 1, \"min\": 0.3084685480594635, \"max\": 0.3084685480594635}}}\u001b[0m\n",
      "\u001b[34m#metrics {\"StartTime\": 1693633610.1867914, \"EndTime\": 1693633610.1868012, \"Dimensions\": {\"Algorithm\": \"Linear Learner\", \"Host\": \"algo-1\", \"Operation\": \"training\", \"epoch\": 24, \"model\": 7}, \"Metrics\": {\"train_absolute_loss_objective\": {\"sum\": 0.19596704244613647, \"count\": 1, \"min\": 0.19596704244613647, \"max\": 0.19596704244613647}}}\u001b[0m\n",
      "\u001b[34m#metrics {\"StartTime\": 1693633610.1868339, \"EndTime\": 1693633610.186843, \"Dimensions\": {\"Algorithm\": \"Linear Learner\", \"Host\": \"algo-1\", \"Operation\": \"training\", \"epoch\": 24, \"model\": 8}, \"Metrics\": {\"train_absolute_loss_objective\": {\"sum\": 0.49712961196899413, \"count\": 1, \"min\": 0.49712961196899413, \"max\": 0.49712961196899413}}}\u001b[0m\n",
      "\u001b[34m#metrics {\"StartTime\": 1693633610.1868763, \"EndTime\": 1693633610.1868856, \"Dimensions\": {\"Algorithm\": \"Linear Learner\", \"Host\": \"algo-1\", \"Operation\": \"training\", \"epoch\": 24, \"model\": 9}, \"Metrics\": {\"train_absolute_loss_objective\": {\"sum\": 0.40476466178894044, \"count\": 1, \"min\": 0.40476466178894044, \"max\": 0.40476466178894044}}}\u001b[0m\n",
      "\u001b[34m#metrics {\"StartTime\": 1693633610.1869173, \"EndTime\": 1693633610.1869261, \"Dimensions\": {\"Algorithm\": \"Linear Learner\", \"Host\": \"algo-1\", \"Operation\": \"training\", \"epoch\": 24, \"model\": 10}, \"Metrics\": {\"train_absolute_loss_objective\": {\"sum\": 0.43603689670562745, \"count\": 1, \"min\": 0.43603689670562745, \"max\": 0.43603689670562745}}}\u001b[0m\n",
      "\u001b[34m#metrics {\"StartTime\": 1693633610.1869643, \"EndTime\": 1693633610.1869743, \"Dimensions\": {\"Algorithm\": \"Linear Learner\", \"Host\": \"algo-1\", \"Operation\": \"training\", \"epoch\": 24, \"model\": 11}, \"Metrics\": {\"train_absolute_loss_objective\": {\"sum\": 0.39676477909088137, \"count\": 1, \"min\": 0.39676477909088137, \"max\": 0.39676477909088137}}}\u001b[0m\n",
      "\u001b[34m#metrics {\"StartTime\": 1693633610.187013, \"EndTime\": 1693633610.1870227, \"Dimensions\": {\"Algorithm\": \"Linear Learner\", \"Host\": \"algo-1\", \"Operation\": \"training\", \"epoch\": 24, \"model\": 12}, \"Metrics\": {\"train_absolute_loss_objective\": {\"sum\": 0.2529779863357544, \"count\": 1, \"min\": 0.2529779863357544, \"max\": 0.2529779863357544}}}\u001b[0m\n",
      "\u001b[34m#metrics {\"StartTime\": 1693633610.1870613, \"EndTime\": 1693633610.187071, \"Dimensions\": {\"Algorithm\": \"Linear Learner\", \"Host\": \"algo-1\", \"Operation\": \"training\", \"epoch\": 24, \"model\": 13}, \"Metrics\": {\"train_absolute_loss_objective\": {\"sum\": 0.185628981590271, \"count\": 1, \"min\": 0.185628981590271, \"max\": 0.185628981590271}}}\u001b[0m\n",
      "\u001b[34m#metrics {\"StartTime\": 1693633610.187106, \"EndTime\": 1693633610.187115, \"Dimensions\": {\"Algorithm\": \"Linear Learner\", \"Host\": \"algo-1\", \"Operation\": \"training\", \"epoch\": 24, \"model\": 14}, \"Metrics\": {\"train_absolute_loss_objective\": {\"sum\": 0.2615885519981384, \"count\": 1, \"min\": 0.2615885519981384, \"max\": 0.2615885519981384}}}\u001b[0m\n",
      "\u001b[34m#metrics {\"StartTime\": 1693633610.187146, \"EndTime\": 1693633610.1871548, \"Dimensions\": {\"Algorithm\": \"Linear Learner\", \"Host\": \"algo-1\", \"Operation\": \"training\", \"epoch\": 24, \"model\": 15}, \"Metrics\": {\"train_absolute_loss_objective\": {\"sum\": 0.2170898938179016, \"count\": 1, \"min\": 0.2170898938179016, \"max\": 0.2170898938179016}}}\u001b[0m\n",
      "\u001b[34m#metrics {\"StartTime\": 1693633610.1871915, \"EndTime\": 1693633610.1872013, \"Dimensions\": {\"Algorithm\": \"Linear Learner\", \"Host\": \"algo-1\", \"Operation\": \"training\", \"epoch\": 24, \"model\": 16}, \"Metrics\": {\"train_absolute_loss_objective\": {\"sum\": 0.4822345018386841, \"count\": 1, \"min\": 0.4822345018386841, \"max\": 0.4822345018386841}}}\u001b[0m\n",
      "\u001b[34m#metrics {\"StartTime\": 1693633610.1872332, \"EndTime\": 1693633610.187242, \"Dimensions\": {\"Algorithm\": \"Linear Learner\", \"Host\": \"algo-1\", \"Operation\": \"training\", \"epoch\": 24, \"model\": 17}, \"Metrics\": {\"train_absolute_loss_objective\": {\"sum\": 0.5068983554840087, \"count\": 1, \"min\": 0.5068983554840087, \"max\": 0.5068983554840087}}}\u001b[0m\n",
      "\u001b[34m#metrics {\"StartTime\": 1693633610.187282, \"EndTime\": 1693633610.1872914, \"Dimensions\": {\"Algorithm\": \"Linear Learner\", \"Host\": \"algo-1\", \"Operation\": \"training\", \"epoch\": 24, \"model\": 18}, \"Metrics\": {\"train_absolute_loss_objective\": {\"sum\": 0.5037732362747193, \"count\": 1, \"min\": 0.5037732362747193, \"max\": 0.5037732362747193}}}\u001b[0m\n",
      "\u001b[34m#metrics {\"StartTime\": 1693633610.187326, \"EndTime\": 1693633610.1873353, \"Dimensions\": {\"Algorithm\": \"Linear Learner\", \"Host\": \"algo-1\", \"Operation\": \"training\", \"epoch\": 24, \"model\": 19}, \"Metrics\": {\"train_absolute_loss_objective\": {\"sum\": 0.4853255462646484, \"count\": 1, \"min\": 0.4853255462646484, \"max\": 0.4853255462646484}}}\u001b[0m\n",
      "\u001b[34m#metrics {\"StartTime\": 1693633610.1873724, \"EndTime\": 1693633610.1873822, \"Dimensions\": {\"Algorithm\": \"Linear Learner\", \"Host\": \"algo-1\", \"Operation\": \"training\", \"epoch\": 24, \"model\": 20}, \"Metrics\": {\"train_absolute_loss_objective\": {\"sum\": 0.35310945987701414, \"count\": 1, \"min\": 0.35310945987701414, \"max\": 0.35310945987701414}}}\u001b[0m\n",
      "\u001b[34m#metrics {\"StartTime\": 1693633610.1874206, \"EndTime\": 1693633610.1874304, \"Dimensions\": {\"Algorithm\": \"Linear Learner\", \"Host\": \"algo-1\", \"Operation\": \"training\", \"epoch\": 24, \"model\": 21}, \"Metrics\": {\"train_absolute_loss_objective\": {\"sum\": 0.3851352405548096, \"count\": 1, \"min\": 0.3851352405548096, \"max\": 0.3851352405548096}}}\u001b[0m\n",
      "\u001b[34m#metrics {\"StartTime\": 1693633610.1874664, \"EndTime\": 1693633610.1874754, \"Dimensions\": {\"Algorithm\": \"Linear Learner\", \"Host\": \"algo-1\", \"Operation\": \"training\", \"epoch\": 24, \"model\": 22}, \"Metrics\": {\"train_absolute_loss_objective\": {\"sum\": 0.2962093210220337, \"count\": 1, \"min\": 0.2962093210220337, \"max\": 0.2962093210220337}}}\u001b[0m\n",
      "\u001b[34m#metrics {\"StartTime\": 1693633610.1875067, \"EndTime\": 1693633610.187515, \"Dimensions\": {\"Algorithm\": \"Linear Learner\", \"Host\": \"algo-1\", \"Operation\": \"training\", \"epoch\": 24, \"model\": 23}, \"Metrics\": {\"train_absolute_loss_objective\": {\"sum\": 0.3701030158996582, \"count\": 1, \"min\": 0.3701030158996582, \"max\": 0.3701030158996582}}}\u001b[0m\n",
      "\u001b[34m#metrics {\"StartTime\": 1693633610.1875453, \"EndTime\": 1693633610.1875541, \"Dimensions\": {\"Algorithm\": \"Linear Learner\", \"Host\": \"algo-1\", \"Operation\": \"training\", \"epoch\": 24, \"model\": 24}, \"Metrics\": {\"train_absolute_loss_objective\": {\"sum\": 0.8996577262878418, \"count\": 1, \"min\": 0.8996577262878418, \"max\": 0.8996577262878418}}}\u001b[0m\n",
      "\u001b[34m#metrics {\"StartTime\": 1693633610.1875868, \"EndTime\": 1693633610.187596, \"Dimensions\": {\"Algorithm\": \"Linear Learner\", \"Host\": \"algo-1\", \"Operation\": \"training\", \"epoch\": 24, \"model\": 25}, \"Metrics\": {\"train_absolute_loss_objective\": {\"sum\": 0.8996591091156005, \"count\": 1, \"min\": 0.8996591091156005, \"max\": 0.8996591091156005}}}\u001b[0m\n",
      "\u001b[34m#metrics {\"StartTime\": 1693633610.1876338, \"EndTime\": 1693633610.1876433, \"Dimensions\": {\"Algorithm\": \"Linear Learner\", \"Host\": \"algo-1\", \"Operation\": \"training\", \"epoch\": 24, \"model\": 26}, \"Metrics\": {\"train_absolute_loss_objective\": {\"sum\": 0.8997427082061767, \"count\": 1, \"min\": 0.8997427082061767, \"max\": 0.8997427082061767}}}\u001b[0m\n",
      "\u001b[34m#metrics {\"StartTime\": 1693633610.1876814, \"EndTime\": 1693633610.1876912, \"Dimensions\": {\"Algorithm\": \"Linear Learner\", \"Host\": \"algo-1\", \"Operation\": \"training\", \"epoch\": 24, \"model\": 27}, \"Metrics\": {\"train_absolute_loss_objective\": {\"sum\": 0.899799861907959, \"count\": 1, \"min\": 0.899799861907959, \"max\": 0.899799861907959}}}\u001b[0m\n",
      "\u001b[34m#metrics {\"StartTime\": 1693633610.1877253, \"EndTime\": 1693633610.1877344, \"Dimensions\": {\"Algorithm\": \"Linear Learner\", \"Host\": \"algo-1\", \"Operation\": \"training\", \"epoch\": 24, \"model\": 28}, \"Metrics\": {\"train_absolute_loss_objective\": {\"sum\": 0.9204225540161133, \"count\": 1, \"min\": 0.9204225540161133, \"max\": 0.9204225540161133}}}\u001b[0m\n",
      "\u001b[34m#metrics {\"StartTime\": 1693633610.1877656, \"EndTime\": 1693633610.1877742, \"Dimensions\": {\"Algorithm\": \"Linear Learner\", \"Host\": \"algo-1\", \"Operation\": \"training\", \"epoch\": 24, \"model\": 29}, \"Metrics\": {\"train_absolute_loss_objective\": {\"sum\": 0.9062556648254394, \"count\": 1, \"min\": 0.9062556648254394, \"max\": 0.9062556648254394}}}\u001b[0m\n",
      "\u001b[34m#metrics {\"StartTime\": 1693633610.1878152, \"EndTime\": 1693633610.187827, \"Dimensions\": {\"Algorithm\": \"Linear Learner\", \"Host\": \"algo-1\", \"Operation\": \"training\", \"epoch\": 24, \"model\": 30}, \"Metrics\": {\"train_absolute_loss_objective\": {\"sum\": 0.9043792724609375, \"count\": 1, \"min\": 0.9043792724609375, \"max\": 0.9043792724609375}}}\u001b[0m\n",
      "\u001b[34m#metrics {\"StartTime\": 1693633610.1878827, \"EndTime\": 1693633610.1878972, \"Dimensions\": {\"Algorithm\": \"Linear Learner\", \"Host\": \"algo-1\", \"Operation\": \"training\", \"epoch\": 24, \"model\": 31}, \"Metrics\": {\"train_absolute_loss_objective\": {\"sum\": 0.9062430477142334, \"count\": 1, \"min\": 0.9062430477142334, \"max\": 0.9062430477142334}}}\u001b[0m\n",
      "\u001b[34m[09/02/2023 05:46:50 INFO 140628399605568] #quality_metric: host=algo-1, epoch=24, train absolute_loss_objective <loss>=0.440698037147522\u001b[0m\n",
      "\u001b[34m[09/02/2023 05:46:50 INFO 140628399605568] #early_stopping_criteria_metric: host=algo-1, epoch=24, criteria=absolute_loss_objective, value=0.185628981590271\u001b[0m\n",
      "\u001b[34m[09/02/2023 05:46:50 INFO 140628399605568] Saving model for epoch: 24\u001b[0m\n",
      "\u001b[34m[09/02/2023 05:46:50 INFO 140628399605568] Saved checkpoint to \"/tmp/tmp4pepavkq/mx-mod-0000.params\"\u001b[0m\n",
      "\u001b[34m[09/02/2023 05:46:50 INFO 140628399605568] #progress_metric: host=algo-1, completed 50.0 % of epochs\u001b[0m\n",
      "\u001b[34m#metrics {\"StartTime\": 1693633610.0679922, \"EndTime\": 1693633610.1977253, \"Dimensions\": {\"Algorithm\": \"Linear Learner\", \"Host\": \"algo-1\", \"Operation\": \"training\", \"epoch\": 24, \"Meta\": \"training_data_iter\"}, \"Metrics\": {\"Total Records Seen\": {\"sum\": 681.0, \"count\": 1, \"min\": 681, \"max\": 681}, \"Total Batches Seen\": {\"sum\": 157.0, \"count\": 1, \"min\": 157, \"max\": 157}, \"Max Records Seen Between Resets\": {\"sum\": 26.0, \"count\": 1, \"min\": 26, \"max\": 26}, \"Max Batches Seen Between Resets\": {\"sum\": 6.0, \"count\": 1, \"min\": 6, \"max\": 6}, \"Reset Count\": {\"sum\": 27.0, \"count\": 1, \"min\": 27, \"max\": 27}, \"Number of Records Since Last Reset\": {\"sum\": 26.0, \"count\": 1, \"min\": 26, \"max\": 26}, \"Number of Batches Since Last Reset\": {\"sum\": 6.0, \"count\": 1, \"min\": 6, \"max\": 6}}}\u001b[0m\n",
      "\u001b[34m[09/02/2023 05:46:50 INFO 140628399605568] #throughput_metric: host=algo-1, train throughput=200.25838297622283 records/second\u001b[0m\n",
      "\u001b[34m[2023-09-02 05:46:50.309] [tensorio] [info] epoch_stats={\"data_pipeline\": \"/opt/ml/input/data/train\", \"epoch\": 54, \"duration\": 111, \"num_examples\": 6, \"num_bytes\": 1248}\u001b[0m\n",
      "\u001b[34m#metrics {\"StartTime\": 1693633610.310012, \"EndTime\": 1693633610.3101058, \"Dimensions\": {\"Algorithm\": \"Linear Learner\", \"Host\": \"algo-1\", \"Operation\": \"training\", \"epoch\": 25, \"model\": 0}, \"Metrics\": {\"train_absolute_loss_objective\": {\"sum\": 0.4222568130493164, \"count\": 1, \"min\": 0.4222568130493164, \"max\": 0.4222568130493164}}}\u001b[0m\n",
      "\u001b[34m#metrics {\"StartTime\": 1693633610.310318, \"EndTime\": 1693633610.310341, \"Dimensions\": {\"Algorithm\": \"Linear Learner\", \"Host\": \"algo-1\", \"Operation\": \"training\", \"epoch\": 25, \"model\": 1}, \"Metrics\": {\"train_absolute_loss_objective\": {\"sum\": 0.41474894523620603, \"count\": 1, \"min\": 0.41474894523620603, \"max\": 0.41474894523620603}}}\u001b[0m\n",
      "\u001b[34m#metrics {\"StartTime\": 1693633610.3104734, \"EndTime\": 1693633610.3104935, \"Dimensions\": {\"Algorithm\": \"Linear Learner\", \"Host\": \"algo-1\", \"Operation\": \"training\", \"epoch\": 25, \"model\": 2}, \"Metrics\": {\"train_absolute_loss_objective\": {\"sum\": 0.42468733310699464, \"count\": 1, \"min\": 0.42468733310699464, \"max\": 0.42468733310699464}}}\u001b[0m\n",
      "\u001b[34m#metrics {\"StartTime\": 1693633610.3106244, \"EndTime\": 1693633610.310673, \"Dimensions\": {\"Algorithm\": \"Linear Learner\", \"Host\": \"algo-1\", \"Operation\": \"training\", \"epoch\": 25, \"model\": 3}, \"Metrics\": {\"train_absolute_loss_objective\": {\"sum\": 0.41474894046783445, \"count\": 1, \"min\": 0.41474894046783445, \"max\": 0.41474894046783445}}}\u001b[0m\n",
      "\u001b[34m#metrics {\"StartTime\": 1693633610.3107827, \"EndTime\": 1693633610.3108017, \"Dimensions\": {\"Algorithm\": \"Linear Learner\", \"Host\": \"algo-1\", \"Operation\": \"training\", \"epoch\": 25, \"model\": 4}, \"Metrics\": {\"train_absolute_loss_objective\": {\"sum\": 0.32712364196777344, \"count\": 1, \"min\": 0.32712364196777344, \"max\": 0.32712364196777344}}}\u001b[0m\n",
      "\u001b[34m#metrics {\"StartTime\": 1693633610.3109508, \"EndTime\": 1693633610.3109703, \"Dimensions\": {\"Algorithm\": \"Linear Learner\", \"Host\": \"algo-1\", \"Operation\": \"training\", \"epoch\": 25, \"model\": 5}, \"Metrics\": {\"train_absolute_loss_objective\": {\"sum\": 0.1801908540725708, \"count\": 1, \"min\": 0.1801908540725708, \"max\": 0.1801908540725708}}}\u001b[0m\n",
      "\u001b[34m#metrics {\"StartTime\": 1693633610.3111105, \"EndTime\": 1693633610.3111303, \"Dimensions\": {\"Algorithm\": \"Linear Learner\", \"Host\": \"algo-1\", \"Operation\": \"training\", \"epoch\": 25, \"model\": 6}, \"Metrics\": {\"train_absolute_loss_objective\": {\"sum\": 0.4263241624832153, \"count\": 1, \"min\": 0.4263241624832153, \"max\": 0.4263241624832153}}}\u001b[0m\n",
      "\u001b[34m#metrics {\"StartTime\": 1693633610.3112702, \"EndTime\": 1693633610.311289, \"Dimensions\": {\"Algorithm\": \"Linear Learner\", \"Host\": \"algo-1\", \"Operation\": \"training\", \"epoch\": 25, \"model\": 7}, \"Metrics\": {\"train_absolute_loss_objective\": {\"sum\": 0.24839944362640382, \"count\": 1, \"min\": 0.24839944362640382, \"max\": 0.24839944362640382}}}\u001b[0m\n",
      "\u001b[34m#metrics {\"StartTime\": 1693633610.311382, \"EndTime\": 1693633610.3113997, \"Dimensions\": {\"Algorithm\": \"Linear Learner\", \"Host\": \"algo-1\", \"Operation\": \"training\", \"epoch\": 25, \"model\": 8}, \"Metrics\": {\"train_absolute_loss_objective\": {\"sum\": 0.47927069187164306, \"count\": 1, \"min\": 0.47927069187164306, \"max\": 0.47927069187164306}}}\u001b[0m\n",
      "\u001b[34m#metrics {\"StartTime\": 1693633610.3114567, \"EndTime\": 1693633610.311509, \"Dimensions\": {\"Algorithm\": \"Linear Learner\", \"Host\": \"algo-1\", \"Operation\": \"training\", \"epoch\": 25, \"model\": 9}, \"Metrics\": {\"train_absolute_loss_objective\": {\"sum\": 0.3848111581802368, \"count\": 1, \"min\": 0.3848111581802368, \"max\": 0.3848111581802368}}}\u001b[0m\n",
      "\u001b[34m#metrics {\"StartTime\": 1693633610.3115652, \"EndTime\": 1693633610.3115785, \"Dimensions\": {\"Algorithm\": \"Linear Learner\", \"Host\": \"algo-1\", \"Operation\": \"training\", \"epoch\": 25, \"model\": 10}, \"Metrics\": {\"train_absolute_loss_objective\": {\"sum\": 0.41833574771881105, \"count\": 1, \"min\": 0.41833574771881105, \"max\": 0.41833574771881105}}}\u001b[0m\n",
      "\u001b[34m#metrics {\"StartTime\": 1693633610.3116357, \"EndTime\": 1693633610.3116534, \"Dimensions\": {\"Algorithm\": \"Linear Learner\", \"Host\": \"algo-1\", \"Operation\": \"training\", \"epoch\": 25, \"model\": 11}, \"Metrics\": {\"train_absolute_loss_objective\": {\"sum\": 0.37683066844940183, \"count\": 1, \"min\": 0.37683066844940183, \"max\": 0.37683066844940183}}}\u001b[0m\n",
      "\u001b[34m#metrics {\"StartTime\": 1693633610.311709, \"EndTime\": 1693633610.3117251, \"Dimensions\": {\"Algorithm\": \"Linear Learner\", \"Host\": \"algo-1\", \"Operation\": \"training\", \"epoch\": 25, \"model\": 12}, \"Metrics\": {\"train_absolute_loss_objective\": {\"sum\": 0.23083898544311524, \"count\": 1, \"min\": 0.23083898544311524, \"max\": 0.23083898544311524}}}\u001b[0m\n",
      "\u001b[34m#metrics {\"StartTime\": 1693633610.311779, \"EndTime\": 1693633610.3117955, \"Dimensions\": {\"Algorithm\": \"Linear Learner\", \"Host\": \"algo-1\", \"Operation\": \"training\", \"epoch\": 25, \"model\": 13}, \"Metrics\": {\"train_absolute_loss_objective\": {\"sum\": 0.2927501177787781, \"count\": 1, \"min\": 0.2927501177787781, \"max\": 0.2927501177787781}}}\u001b[0m\n",
      "\u001b[34m#metrics {\"StartTime\": 1693633610.3118453, \"EndTime\": 1693633610.311861, \"Dimensions\": {\"Algorithm\": \"Linear Learner\", \"Host\": \"algo-1\", \"Operation\": \"training\", \"epoch\": 25, \"model\": 14}, \"Metrics\": {\"train_absolute_loss_objective\": {\"sum\": 0.24431511878967285, \"count\": 1, \"min\": 0.24431511878967285, \"max\": 0.24431511878967285}}}\u001b[0m\n",
      "\u001b[34m#metrics {\"StartTime\": 1693633610.3119185, \"EndTime\": 1693633610.3119323, \"Dimensions\": {\"Algorithm\": \"Linear Learner\", \"Host\": \"algo-1\", \"Operation\": \"training\", \"epoch\": 25, \"model\": 15}, \"Metrics\": {\"train_absolute_loss_objective\": {\"sum\": 0.19515531539916992, \"count\": 1, \"min\": 0.19515531539916992, \"max\": 0.19515531539916992}}}\u001b[0m\n",
      "\u001b[34m#metrics {\"StartTime\": 1693633610.3119905, \"EndTime\": 1693633610.3120077, \"Dimensions\": {\"Algorithm\": \"Linear Learner\", \"Host\": \"algo-1\", \"Operation\": \"training\", \"epoch\": 25, \"model\": 16}, \"Metrics\": {\"train_absolute_loss_objective\": {\"sum\": 0.47089663982391355, \"count\": 1, \"min\": 0.47089663982391355, \"max\": 0.47089663982391355}}}\u001b[0m\n",
      "\u001b[34m#metrics {\"StartTime\": 1693633610.312069, \"EndTime\": 1693633610.3120859, \"Dimensions\": {\"Algorithm\": \"Linear Learner\", \"Host\": \"algo-1\", \"Operation\": \"training\", \"epoch\": 25, \"model\": 17}, \"Metrics\": {\"train_absolute_loss_objective\": {\"sum\": 0.49467016220092774, \"count\": 1, \"min\": 0.49467016220092774, \"max\": 0.49467016220092774}}}\u001b[0m\n",
      "\u001b[34m#metrics {\"StartTime\": 1693633610.312146, \"EndTime\": 1693633610.3121634, \"Dimensions\": {\"Algorithm\": \"Linear Learner\", \"Host\": \"algo-1\", \"Operation\": \"training\", \"epoch\": 25, \"model\": 18}, \"Metrics\": {\"train_absolute_loss_objective\": {\"sum\": 0.4925738954544067, \"count\": 1, \"min\": 0.4925738954544067, \"max\": 0.4925738954544067}}}\u001b[0m\n",
      "\u001b[34m#metrics {\"StartTime\": 1693633610.3122241, \"EndTime\": 1693633610.3122408, \"Dimensions\": {\"Algorithm\": \"Linear Learner\", \"Host\": \"algo-1\", \"Operation\": \"training\", \"epoch\": 25, \"model\": 19}, \"Metrics\": {\"train_absolute_loss_objective\": {\"sum\": 0.4732844829559326, \"count\": 1, \"min\": 0.4732844829559326, \"max\": 0.4732844829559326}}}\u001b[0m\n",
      "\u001b[34m#metrics {\"StartTime\": 1693633610.3123338, \"EndTime\": 1693633610.312352, \"Dimensions\": {\"Algorithm\": \"Linear Learner\", \"Host\": \"algo-1\", \"Operation\": \"training\", \"epoch\": 25, \"model\": 20}, \"Metrics\": {\"train_absolute_loss_objective\": {\"sum\": 0.40433726787567137, \"count\": 1, \"min\": 0.40433726787567137, \"max\": 0.40433726787567137}}}\u001b[0m\n",
      "\u001b[34m#metrics {\"StartTime\": 1693633610.312402, \"EndTime\": 1693633610.3124175, \"Dimensions\": {\"Algorithm\": \"Linear Learner\", \"Host\": \"algo-1\", \"Operation\": \"training\", \"epoch\": 25, \"model\": 21}, \"Metrics\": {\"train_absolute_loss_objective\": {\"sum\": 0.43663142681121825, \"count\": 1, \"min\": 0.43663142681121825, \"max\": 0.43663142681121825}}}\u001b[0m\n",
      "\u001b[34m#metrics {\"StartTime\": 1693633610.3124654, \"EndTime\": 1693633610.312481, \"Dimensions\": {\"Algorithm\": \"Linear Learner\", \"Host\": \"algo-1\", \"Operation\": \"training\", \"epoch\": 25, \"model\": 22}, \"Metrics\": {\"train_absolute_loss_objective\": {\"sum\": 0.25715831279754636, \"count\": 1, \"min\": 0.25715831279754636, \"max\": 0.25715831279754636}}}\u001b[0m\n",
      "\u001b[34m#metrics {\"StartTime\": 1693633610.312539, \"EndTime\": 1693633610.3125563, \"Dimensions\": {\"Algorithm\": \"Linear Learner\", \"Host\": \"algo-1\", \"Operation\": \"training\", \"epoch\": 25, \"model\": 23}, \"Metrics\": {\"train_absolute_loss_objective\": {\"sum\": 0.3461738967895508, \"count\": 1, \"min\": 0.3461738967895508, \"max\": 0.3461738967895508}}}\u001b[0m\n",
      "\u001b[34m#metrics {\"StartTime\": 1693633610.3126397, \"EndTime\": 1693633610.312657, \"Dimensions\": {\"Algorithm\": \"Linear Learner\", \"Host\": \"algo-1\", \"Operation\": \"training\", \"epoch\": 25, \"model\": 24}, \"Metrics\": {\"train_absolute_loss_objective\": {\"sum\": 0.9000687503814697, \"count\": 1, \"min\": 0.9000687503814697, \"max\": 0.9000687503814697}}}\u001b[0m\n",
      "\u001b[34m#metrics {\"StartTime\": 1693633610.3127167, \"EndTime\": 1693633610.3127337, \"Dimensions\": {\"Algorithm\": \"Linear Learner\", \"Host\": \"algo-1\", \"Operation\": \"training\", \"epoch\": 25, \"model\": 25}, \"Metrics\": {\"train_absolute_loss_objective\": {\"sum\": 0.9002754020690918, \"count\": 1, \"min\": 0.9002754020690918, \"max\": 0.9002754020690918}}}\u001b[0m\n",
      "\u001b[34m#metrics {\"StartTime\": 1693633610.3127773, \"EndTime\": 1693633610.3127933, \"Dimensions\": {\"Algorithm\": \"Linear Learner\", \"Host\": \"algo-1\", \"Operation\": \"training\", \"epoch\": 25, \"model\": 26}, \"Metrics\": {\"train_absolute_loss_objective\": {\"sum\": 0.9000214958190917, \"count\": 1, \"min\": 0.9000214958190917, \"max\": 0.9000214958190917}}}\u001b[0m\n",
      "\u001b[34m#metrics {\"StartTime\": 1693633610.312834, \"EndTime\": 1693633610.312849, \"Dimensions\": {\"Algorithm\": \"Linear Learner\", \"Host\": \"algo-1\", \"Operation\": \"training\", \"epoch\": 25, \"model\": 27}, \"Metrics\": {\"train_absolute_loss_objective\": {\"sum\": 0.9002068901062011, \"count\": 1, \"min\": 0.9002068901062011, \"max\": 0.9002068901062011}}}\u001b[0m\n",
      "\u001b[34m#metrics {\"StartTime\": 1693633610.312889, \"EndTime\": 1693633610.3129044, \"Dimensions\": {\"Algorithm\": \"Linear Learner\", \"Host\": \"algo-1\", \"Operation\": \"training\", \"epoch\": 25, \"model\": 28}, \"Metrics\": {\"train_absolute_loss_objective\": {\"sum\": 0.9316543292999268, \"count\": 1, \"min\": 0.9316543292999268, \"max\": 0.9316543292999268}}}\u001b[0m\n",
      "\u001b[34m#metrics {\"StartTime\": 1693633610.3129597, \"EndTime\": 1693633610.312976, \"Dimensions\": {\"Algorithm\": \"Linear Learner\", \"Host\": \"algo-1\", \"Operation\": \"training\", \"epoch\": 25, \"model\": 29}, \"Metrics\": {\"train_absolute_loss_objective\": {\"sum\": 0.9298711395263672, \"count\": 1, \"min\": 0.9298711395263672, \"max\": 0.9298711395263672}}}\u001b[0m\n",
      "\u001b[34m#metrics {\"StartTime\": 1693633610.3130128, \"EndTime\": 1693633610.3130214, \"Dimensions\": {\"Algorithm\": \"Linear Learner\", \"Host\": \"algo-1\", \"Operation\": \"training\", \"epoch\": 25, \"model\": 30}, \"Metrics\": {\"train_absolute_loss_objective\": {\"sum\": 0.9280190753936768, \"count\": 1, \"min\": 0.9280190753936768, \"max\": 0.9280190753936768}}}\u001b[0m\n",
      "\u001b[34m#metrics {\"StartTime\": 1693633610.3130553, \"EndTime\": 1693633610.3130674, \"Dimensions\": {\"Algorithm\": \"Linear Learner\", \"Host\": \"algo-1\", \"Operation\": \"training\", \"epoch\": 25, \"model\": 31}, \"Metrics\": {\"train_absolute_loss_objective\": {\"sum\": 0.9285971736907959, \"count\": 1, \"min\": 0.9285971736907959, \"max\": 0.9285971736907959}}}\u001b[0m\n",
      "\u001b[34m[09/02/2023 05:46:50 INFO 140628399605568] #quality_metric: host=algo-1, epoch=25, train absolute_loss_objective <loss>=0.4222568130493164\u001b[0m\n",
      "\u001b[34m[09/02/2023 05:46:50 INFO 140628399605568] #early_stopping_criteria_metric: host=algo-1, epoch=25, criteria=absolute_loss_objective, value=0.1801908540725708\u001b[0m\n",
      "\u001b[34m[09/02/2023 05:46:50 INFO 140628399605568] Saving model for epoch: 25\u001b[0m\n",
      "\u001b[34m[09/02/2023 05:46:50 INFO 140628399605568] Saved checkpoint to \"/tmp/tmplqztzyt0/mx-mod-0000.params\"\u001b[0m\n",
      "\u001b[34m[09/02/2023 05:46:50 INFO 140628399605568] #progress_metric: host=algo-1, completed 52.0 % of epochs\u001b[0m\n",
      "\u001b[34m#metrics {\"StartTime\": 1693633610.1979156, \"EndTime\": 1693633610.3208737, \"Dimensions\": {\"Algorithm\": \"Linear Learner\", \"Host\": \"algo-1\", \"Operation\": \"training\", \"epoch\": 25, \"Meta\": \"training_data_iter\"}, \"Metrics\": {\"Total Records Seen\": {\"sum\": 707.0, \"count\": 1, \"min\": 707, \"max\": 707}, \"Total Batches Seen\": {\"sum\": 163.0, \"count\": 1, \"min\": 163, \"max\": 163}, \"Max Records Seen Between Resets\": {\"sum\": 26.0, \"count\": 1, \"min\": 26, \"max\": 26}, \"Max Batches Seen Between Resets\": {\"sum\": 6.0, \"count\": 1, \"min\": 6, \"max\": 6}, \"Reset Count\": {\"sum\": 28.0, \"count\": 1, \"min\": 28, \"max\": 28}, \"Number of Records Since Last Reset\": {\"sum\": 26.0, \"count\": 1, \"min\": 26, \"max\": 26}, \"Number of Batches Since Last Reset\": {\"sum\": 6.0, \"count\": 1, \"min\": 6, \"max\": 6}}}\u001b[0m\n",
      "\u001b[34m[09/02/2023 05:46:50 INFO 140628399605568] #throughput_metric: host=algo-1, train throughput=211.24305602637537 records/second\u001b[0m\n",
      "\u001b[34m[2023-09-02 05:46:50.421] [tensorio] [info] epoch_stats={\"data_pipeline\": \"/opt/ml/input/data/train\", \"epoch\": 56, \"duration\": 100, \"num_examples\": 6, \"num_bytes\": 1248}\u001b[0m\n",
      "\u001b[34m#metrics {\"StartTime\": 1693633610.4216988, \"EndTime\": 1693633610.42175, \"Dimensions\": {\"Algorithm\": \"Linear Learner\", \"Host\": \"algo-1\", \"Operation\": \"training\", \"epoch\": 26, \"model\": 0}, \"Metrics\": {\"train_absolute_loss_objective\": {\"sum\": 0.40554146766662597, \"count\": 1, \"min\": 0.40554146766662597, \"max\": 0.40554146766662597}}}\u001b[0m\n",
      "\u001b[34m#metrics {\"StartTime\": 1693633610.4218118, \"EndTime\": 1693633610.4218614, \"Dimensions\": {\"Algorithm\": \"Linear Learner\", \"Host\": \"algo-1\", \"Operation\": \"training\", \"epoch\": 26, \"model\": 1}, \"Metrics\": {\"train_absolute_loss_objective\": {\"sum\": 0.3956241798400879, \"count\": 1, \"min\": 0.3956241798400879, \"max\": 0.3956241798400879}}}\u001b[0m\n",
      "\u001b[34m#metrics {\"StartTime\": 1693633610.4219294, \"EndTime\": 1693633610.4219728, \"Dimensions\": {\"Algorithm\": \"Linear Learner\", \"Host\": \"algo-1\", \"Operation\": \"training\", \"epoch\": 26, \"model\": 2}, \"Metrics\": {\"train_absolute_loss_objective\": {\"sum\": 0.4079008626937866, \"count\": 1, \"min\": 0.4079008626937866, \"max\": 0.4079008626937866}}}\u001b[0m\n",
      "\u001b[34m#metrics {\"StartTime\": 1693633610.4220393, \"EndTime\": 1693633610.4220579, \"Dimensions\": {\"Algorithm\": \"Linear Learner\", \"Host\": \"algo-1\", \"Operation\": \"training\", \"epoch\": 26, \"model\": 3}, \"Metrics\": {\"train_absolute_loss_objective\": {\"sum\": 0.39522686004638674, \"count\": 1, \"min\": 0.39522686004638674, \"max\": 0.39522686004638674}}}\u001b[0m\n",
      "\u001b[34m#metrics {\"StartTime\": 1693633610.4221485, \"EndTime\": 1693633610.422192, \"Dimensions\": {\"Algorithm\": \"Linear Learner\", \"Host\": \"algo-1\", \"Operation\": \"training\", \"epoch\": 26, \"model\": 4}, \"Metrics\": {\"train_absolute_loss_objective\": {\"sum\": 0.35295834541320803, \"count\": 1, \"min\": 0.35295834541320803, \"max\": 0.35295834541320803}}}\u001b[0m\n",
      "\u001b[34m#metrics {\"StartTime\": 1693633610.4222586, \"EndTime\": 1693633610.4222777, \"Dimensions\": {\"Algorithm\": \"Linear Learner\", \"Host\": \"algo-1\", \"Operation\": \"training\", \"epoch\": 26, \"model\": 5}, \"Metrics\": {\"train_absolute_loss_objective\": {\"sum\": 0.20674830555915832, \"count\": 1, \"min\": 0.20674830555915832, \"max\": 0.20674830555915832}}}\u001b[0m\n",
      "\u001b[34m#metrics {\"StartTime\": 1693633610.4223702, \"EndTime\": 1693633610.4224117, \"Dimensions\": {\"Algorithm\": \"Linear Learner\", \"Host\": \"algo-1\", \"Operation\": \"training\", \"epoch\": 26, \"model\": 6}, \"Metrics\": {\"train_absolute_loss_objective\": {\"sum\": 0.2732231688499451, \"count\": 1, \"min\": 0.2732231688499451, \"max\": 0.2732231688499451}}}\u001b[0m\n",
      "\u001b[34m#metrics {\"StartTime\": 1693633610.4224758, \"EndTime\": 1693633610.4224944, \"Dimensions\": {\"Algorithm\": \"Linear Learner\", \"Host\": \"algo-1\", \"Operation\": \"training\", \"epoch\": 26, \"model\": 7}, \"Metrics\": {\"train_absolute_loss_objective\": {\"sum\": 0.17151202917098998, \"count\": 1, \"min\": 0.17151202917098998, \"max\": 0.17151202917098998}}}\u001b[0m\n",
      "\u001b[34m#metrics {\"StartTime\": 1693633610.422584, \"EndTime\": 1693633610.4226043, \"Dimensions\": {\"Algorithm\": \"Linear Learner\", \"Host\": \"algo-1\", \"Operation\": \"training\", \"epoch\": 26, \"model\": 8}, \"Metrics\": {\"train_absolute_loss_objective\": {\"sum\": 0.4611239957809448, \"count\": 1, \"min\": 0.4611239957809448, \"max\": 0.4611239957809448}}}\u001b[0m\n",
      "\u001b[34m#metrics {\"StartTime\": 1693633610.4226677, \"EndTime\": 1693633610.4226847, \"Dimensions\": {\"Algorithm\": \"Linear Learner\", \"Host\": \"algo-1\", \"Operation\": \"training\", \"epoch\": 26, \"model\": 9}, \"Metrics\": {\"train_absolute_loss_objective\": {\"sum\": 0.3650504493713379, \"count\": 1, \"min\": 0.3650504493713379, \"max\": 0.3650504493713379}}}\u001b[0m\n",
      "\u001b[34m#metrics {\"StartTime\": 1693633610.4227772, \"EndTime\": 1693633610.4228194, \"Dimensions\": {\"Algorithm\": \"Linear Learner\", \"Host\": \"algo-1\", \"Operation\": \"training\", \"epoch\": 26, \"model\": 10}, \"Metrics\": {\"train_absolute_loss_objective\": {\"sum\": 0.40069241523742677, \"count\": 1, \"min\": 0.40069241523742677, \"max\": 0.40069241523742677}}}\u001b[0m\n",
      "\u001b[34m#metrics {\"StartTime\": 1693633610.4228785, \"EndTime\": 1693633610.4228957, \"Dimensions\": {\"Algorithm\": \"Linear Learner\", \"Host\": \"algo-1\", \"Operation\": \"training\", \"epoch\": 26, \"model\": 11}, \"Metrics\": {\"train_absolute_loss_objective\": {\"sum\": 0.3570129442214966, \"count\": 1, \"min\": 0.3570129442214966, \"max\": 0.3570129442214966}}}\u001b[0m\n",
      "\u001b[34m#metrics {\"StartTime\": 1693633610.4229763, \"EndTime\": 1693633610.422995, \"Dimensions\": {\"Algorithm\": \"Linear Learner\", \"Host\": \"algo-1\", \"Operation\": \"training\", \"epoch\": 26, \"model\": 12}, \"Metrics\": {\"train_absolute_loss_objective\": {\"sum\": 0.3503036344051361, \"count\": 1, \"min\": 0.3503036344051361, \"max\": 0.3503036344051361}}}\u001b[0m\n",
      "\u001b[34m#metrics {\"StartTime\": 1693633610.4230573, \"EndTime\": 1693633610.4230757, \"Dimensions\": {\"Algorithm\": \"Linear Learner\", \"Host\": \"algo-1\", \"Operation\": \"training\", \"epoch\": 26, \"model\": 13}, \"Metrics\": {\"train_absolute_loss_objective\": {\"sum\": 0.23811061382293702, \"count\": 1, \"min\": 0.23811061382293702, \"max\": 0.23811061382293702}}}\u001b[0m\n",
      "\u001b[34m#metrics {\"StartTime\": 1693633610.4231195, \"EndTime\": 1693633610.4231293, \"Dimensions\": {\"Algorithm\": \"Linear Learner\", \"Host\": \"algo-1\", \"Operation\": \"training\", \"epoch\": 26, \"model\": 14}, \"Metrics\": {\"train_absolute_loss_objective\": {\"sum\": 0.33065104722976685, \"count\": 1, \"min\": 0.33065104722976685, \"max\": 0.33065104722976685}}}\u001b[0m\n",
      "\u001b[34m#metrics {\"StartTime\": 1693633610.4231682, \"EndTime\": 1693633610.4231825, \"Dimensions\": {\"Algorithm\": \"Linear Learner\", \"Host\": \"algo-1\", \"Operation\": \"training\", \"epoch\": 26, \"model\": 15}, \"Metrics\": {\"train_absolute_loss_objective\": {\"sum\": 0.17942135334014891, \"count\": 1, \"min\": 0.17942135334014891, \"max\": 0.17942135334014891}}}\u001b[0m\n",
      "\u001b[34m#metrics {\"StartTime\": 1693633610.423243, \"EndTime\": 1693633610.4232605, \"Dimensions\": {\"Algorithm\": \"Linear Learner\", \"Host\": \"algo-1\", \"Operation\": \"training\", \"epoch\": 26, \"model\": 16}, \"Metrics\": {\"train_absolute_loss_objective\": {\"sum\": 0.45974581718444824, \"count\": 1, \"min\": 0.45974581718444824, \"max\": 0.45974581718444824}}}\u001b[0m\n",
      "\u001b[34m#metrics {\"StartTime\": 1693633610.4233053, \"EndTime\": 1693633610.4233143, \"Dimensions\": {\"Algorithm\": \"Linear Learner\", \"Host\": \"algo-1\", \"Operation\": \"training\", \"epoch\": 26, \"model\": 17}, \"Metrics\": {\"train_absolute_loss_objective\": {\"sum\": 0.48210015773773196, \"count\": 1, \"min\": 0.48210015773773196, \"max\": 0.48210015773773196}}}\u001b[0m\n",
      "\u001b[34m#metrics {\"StartTime\": 1693633610.423421, \"EndTime\": 1693633610.4234414, \"Dimensions\": {\"Algorithm\": \"Linear Learner\", \"Host\": \"algo-1\", \"Operation\": \"training\", \"epoch\": 26, \"model\": 18}, \"Metrics\": {\"train_absolute_loss_objective\": {\"sum\": 0.48112295627593993, \"count\": 1, \"min\": 0.48112295627593993, \"max\": 0.48112295627593993}}}\u001b[0m\n",
      "\u001b[34m#metrics {\"StartTime\": 1693633610.4235065, \"EndTime\": 1693633610.4235187, \"Dimensions\": {\"Algorithm\": \"Linear Learner\", \"Host\": \"algo-1\", \"Operation\": \"training\", \"epoch\": 26, \"model\": 19}, \"Metrics\": {\"train_absolute_loss_objective\": {\"sum\": 0.46097842216491697, \"count\": 1, \"min\": 0.46097842216491697, \"max\": 0.46097842216491697}}}\u001b[0m\n",
      "\u001b[34m#metrics {\"StartTime\": 1693633610.42362, \"EndTime\": 1693633610.423642, \"Dimensions\": {\"Algorithm\": \"Linear Learner\", \"Host\": \"algo-1\", \"Operation\": \"training\", \"epoch\": 26, \"model\": 20}, \"Metrics\": {\"train_absolute_loss_objective\": {\"sum\": 0.3316068387031555, \"count\": 1, \"min\": 0.3316068387031555, \"max\": 0.3316068387031555}}}\u001b[0m\n",
      "\u001b[34m#metrics {\"StartTime\": 1693633610.4237013, \"EndTime\": 1693633610.4237192, \"Dimensions\": {\"Algorithm\": \"Linear Learner\", \"Host\": \"algo-1\", \"Operation\": \"training\", \"epoch\": 26, \"model\": 21}, \"Metrics\": {\"train_absolute_loss_objective\": {\"sum\": 0.3479780626296997, \"count\": 1, \"min\": 0.3479780626296997, \"max\": 0.3479780626296997}}}\u001b[0m\n",
      "\u001b[34m#metrics {\"StartTime\": 1693633610.4237678, \"EndTime\": 1693633610.4237835, \"Dimensions\": {\"Algorithm\": \"Linear Learner\", \"Host\": \"algo-1\", \"Operation\": \"training\", \"epoch\": 26, \"model\": 22}, \"Metrics\": {\"train_absolute_loss_objective\": {\"sum\": 0.3062937307357788, \"count\": 1, \"min\": 0.3062937307357788, \"max\": 0.3062937307357788}}}\u001b[0m\n",
      "\u001b[34m#metrics {\"StartTime\": 1693633610.4238312, \"EndTime\": 1693633610.4238472, \"Dimensions\": {\"Algorithm\": \"Linear Learner\", \"Host\": \"algo-1\", \"Operation\": \"training\", \"epoch\": 26, \"model\": 23}, \"Metrics\": {\"train_absolute_loss_objective\": {\"sum\": 0.35537604331970213, \"count\": 1, \"min\": 0.35537604331970213, \"max\": 0.35537604331970213}}}\u001b[0m\n",
      "\u001b[34m#metrics {\"StartTime\": 1693633610.4239054, \"EndTime\": 1693633610.423922, \"Dimensions\": {\"Algorithm\": \"Linear Learner\", \"Host\": \"algo-1\", \"Operation\": \"training\", \"epoch\": 26, \"model\": 24}, \"Metrics\": {\"train_absolute_loss_objective\": {\"sum\": 0.8997195625305175, \"count\": 1, \"min\": 0.8997195625305175, \"max\": 0.8997195625305175}}}\u001b[0m\n",
      "\u001b[34m#metrics {\"StartTime\": 1693633610.423979, \"EndTime\": 1693633610.423996, \"Dimensions\": {\"Algorithm\": \"Linear Learner\", \"Host\": \"algo-1\", \"Operation\": \"training\", \"epoch\": 26, \"model\": 25}, \"Metrics\": {\"train_absolute_loss_objective\": {\"sum\": 0.9004531860351562, \"count\": 1, \"min\": 0.9004531860351562, \"max\": 0.9004531860351562}}}\u001b[0m\n",
      "\u001b[34m#metrics {\"StartTime\": 1693633610.4240544, \"EndTime\": 1693633610.4240706, \"Dimensions\": {\"Algorithm\": \"Linear Learner\", \"Host\": \"algo-1\", \"Operation\": \"training\", \"epoch\": 26, \"model\": 26}, \"Metrics\": {\"train_absolute_loss_objective\": {\"sum\": 0.8997005939483642, \"count\": 1, \"min\": 0.8997005939483642, \"max\": 0.8997005939483642}}}\u001b[0m\n",
      "\u001b[34m#metrics {\"StartTime\": 1693633610.424128, \"EndTime\": 1693633610.424145, \"Dimensions\": {\"Algorithm\": \"Linear Learner\", \"Host\": \"algo-1\", \"Operation\": \"training\", \"epoch\": 26, \"model\": 27}, \"Metrics\": {\"train_absolute_loss_objective\": {\"sum\": 0.8997809982299805, \"count\": 1, \"min\": 0.8997809982299805, \"max\": 0.8997809982299805}}}\u001b[0m\n",
      "\u001b[34m#metrics {\"StartTime\": 1693633610.4242055, \"EndTime\": 1693633610.424222, \"Dimensions\": {\"Algorithm\": \"Linear Learner\", \"Host\": \"algo-1\", \"Operation\": \"training\", \"epoch\": 26, \"model\": 28}, \"Metrics\": {\"train_absolute_loss_objective\": {\"sum\": 0.9289585781097413, \"count\": 1, \"min\": 0.9289585781097413, \"max\": 0.9289585781097413}}}\u001b[0m\n",
      "\u001b[34m#metrics {\"StartTime\": 1693633610.4243245, \"EndTime\": 1693633610.424344, \"Dimensions\": {\"Algorithm\": \"Linear Learner\", \"Host\": \"algo-1\", \"Operation\": \"training\", \"epoch\": 26, \"model\": 29}, \"Metrics\": {\"train_absolute_loss_objective\": {\"sum\": 0.929938735961914, \"count\": 1, \"min\": 0.929938735961914, \"max\": 0.929938735961914}}}\u001b[0m\n",
      "\u001b[34m#metrics {\"StartTime\": 1693633610.4244075, \"EndTime\": 1693633610.4244258, \"Dimensions\": {\"Algorithm\": \"Linear Learner\", \"Host\": \"algo-1\", \"Operation\": \"training\", \"epoch\": 26, \"model\": 30}, \"Metrics\": {\"train_absolute_loss_objective\": {\"sum\": 0.9281475257873535, \"count\": 1, \"min\": 0.9281475257873535, \"max\": 0.9281475257873535}}}\u001b[0m\n",
      "\u001b[34m#metrics {\"StartTime\": 1693633610.424485, \"EndTime\": 1693633610.4245014, \"Dimensions\": {\"Algorithm\": \"Linear Learner\", \"Host\": \"algo-1\", \"Operation\": \"training\", \"epoch\": 26, \"model\": 31}, \"Metrics\": {\"train_absolute_loss_objective\": {\"sum\": 0.92917329788208, \"count\": 1, \"min\": 0.92917329788208, \"max\": 0.92917329788208}}}\u001b[0m\n",
      "\u001b[34m[09/02/2023 05:46:50 INFO 140628399605568] #quality_metric: host=algo-1, epoch=26, train absolute_loss_objective <loss>=0.40554146766662597\u001b[0m\n",
      "\u001b[34m[09/02/2023 05:46:50 INFO 140628399605568] #early_stopping_criteria_metric: host=algo-1, epoch=26, criteria=absolute_loss_objective, value=0.17151202917098998\u001b[0m\n",
      "\u001b[34m[09/02/2023 05:46:50 INFO 140628399605568] Saving model for epoch: 26\u001b[0m\n",
      "\u001b[34m[09/02/2023 05:46:50 INFO 140628399605568] Saved checkpoint to \"/tmp/tmpz9rk700z/mx-mod-0000.params\"\u001b[0m\n",
      "\u001b[34m[09/02/2023 05:46:50 INFO 140628399605568] Early stop condition met. Stopping training.\u001b[0m\n",
      "\u001b[34m[09/02/2023 05:46:50 INFO 140628399605568] #progress_metric: host=algo-1, completed 100 % epochs\u001b[0m\n",
      "\u001b[34m#metrics {\"StartTime\": 1693633610.3211668, \"EndTime\": 1693633610.4314086, \"Dimensions\": {\"Algorithm\": \"Linear Learner\", \"Host\": \"algo-1\", \"Operation\": \"training\", \"epoch\": 26, \"Meta\": \"training_data_iter\"}, \"Metrics\": {\"Total Records Seen\": {\"sum\": 733.0, \"count\": 1, \"min\": 733, \"max\": 733}, \"Total Batches Seen\": {\"sum\": 169.0, \"count\": 1, \"min\": 169, \"max\": 169}, \"Max Records Seen Between Resets\": {\"sum\": 26.0, \"count\": 1, \"min\": 26, \"max\": 26}, \"Max Batches Seen Between Resets\": {\"sum\": 6.0, \"count\": 1, \"min\": 6, \"max\": 6}, \"Reset Count\": {\"sum\": 29.0, \"count\": 1, \"min\": 29, \"max\": 29}, \"Number of Records Since Last Reset\": {\"sum\": 26.0, \"count\": 1, \"min\": 26, \"max\": 26}, \"Number of Batches Since Last Reset\": {\"sum\": 6.0, \"count\": 1, \"min\": 6, \"max\": 6}}}\u001b[0m\n",
      "\u001b[34m[09/02/2023 05:46:50 INFO 140628399605568] #throughput_metric: host=algo-1, train throughput=235.53174385479144 records/second\u001b[0m\n",
      "\u001b[34m[09/02/2023 05:46:50 WARNING 140628399605568] wait_for_all_workers will not sync workers since the kv store is not running distributed\u001b[0m\n",
      "\u001b[34m[09/02/2023 05:46:50 WARNING 140628399605568] wait_for_all_workers will not sync workers since the kv store is not running distributed\u001b[0m\n",
      "\u001b[34m[2023-09-02 05:46:50.432] [tensorio] [info] epoch_stats={\"data_pipeline\": \"/opt/ml/input/data/train\", \"epoch\": 58, \"duration\": 0, \"num_examples\": 1, \"num_bytes\": 240}\u001b[0m\n",
      "\u001b[34m[2023-09-02 05:46:50.444] [tensorio] [info] epoch_stats={\"data_pipeline\": \"/opt/ml/input/data/train\", \"epoch\": 60, \"duration\": 10, \"num_examples\": 6, \"num_bytes\": 1248}\u001b[0m\n",
      "\u001b[34m[09/02/2023 05:46:50 INFO 140628399605568] #train_score (algo-1) : ('absolute_loss_objective', 7372.380408653846)\u001b[0m\n",
      "\u001b[34m[09/02/2023 05:46:50 INFO 140628399605568] #train_score (algo-1) : ('mse', 88844942.3076923)\u001b[0m\n",
      "\u001b[34m[09/02/2023 05:46:50 INFO 140628399605568] #train_score (algo-1) : ('absolute_loss', 7372.380408653846)\u001b[0m\n",
      "\u001b[34m[09/02/2023 05:46:50 INFO 140628399605568] #train_score (algo-1) : ('rmse', 9425.759508267347)\u001b[0m\n",
      "\u001b[34m[09/02/2023 05:46:50 INFO 140628399605568] #train_score (algo-1) : ('r2', 0.9150204364108968)\u001b[0m\n",
      "\u001b[34m[09/02/2023 05:46:50 INFO 140628399605568] #train_score (algo-1) : ('mae', 7372.380408653846)\u001b[0m\n",
      "\u001b[34m[09/02/2023 05:46:50 INFO 140628399605568] #quality_metric: host=algo-1, train absolute_loss_objective <loss>=7372.380408653846\u001b[0m\n",
      "\u001b[34m[09/02/2023 05:46:50 INFO 140628399605568] #quality_metric: host=algo-1, train mse <loss>=88844942.3076923\u001b[0m\n",
      "\u001b[34m[09/02/2023 05:46:50 INFO 140628399605568] #quality_metric: host=algo-1, train absolute_loss <loss>=7372.380408653846\u001b[0m\n",
      "\u001b[34m[09/02/2023 05:46:50 INFO 140628399605568] #quality_metric: host=algo-1, train rmse <loss>=9425.759508267347\u001b[0m\n",
      "\u001b[34m[09/02/2023 05:46:50 INFO 140628399605568] #quality_metric: host=algo-1, train r2 <loss>=0.9150204364108968\u001b[0m\n",
      "\u001b[34m[09/02/2023 05:46:50 INFO 140628399605568] #quality_metric: host=algo-1, train mae <loss>=7372.380408653846\u001b[0m\n",
      "\u001b[34m[09/02/2023 05:46:50 INFO 140628399605568] Best model found for hyperparameters: {\"optimizer\": \"adam\", \"learning_rate\": 0.1, \"wd\": 0.0001, \"l1\": 0.0, \"lr_scheduler_step\": 10, \"lr_scheduler_factor\": 0.99, \"lr_scheduler_minimum_lr\": 1e-05}\u001b[0m\n",
      "\u001b[34m[09/02/2023 05:46:50 INFO 140628399605568] Saved checkpoint to \"/tmp/tmpswd05n5c/mx-mod-0000.params\"\u001b[0m\n",
      "\u001b[34m[09/02/2023 05:46:50 INFO 140628399605568] Test data is not provided.\u001b[0m\n",
      "\u001b[34m#metrics {\"StartTime\": 1693633607.0758598, \"EndTime\": 1693633610.451835, \"Dimensions\": {\"Algorithm\": \"Linear Learner\", \"Host\": \"algo-1\", \"Operation\": \"training\"}, \"Metrics\": {\"initialize.time\": {\"sum\": 156.4006805419922, \"count\": 1, \"min\": 156.4006805419922, \"max\": 156.4006805419922}, \"epochs\": {\"sum\": 50.0, \"count\": 1, \"min\": 50, \"max\": 50}, \"check_early_stopping.time\": {\"sum\": 13.751506805419922, \"count\": 27, \"min\": 0.16999244689941406, \"max\": 1.5659332275390625}, \"update.time\": {\"sum\": 3108.581304550171, \"count\": 27, \"min\": 86.81464195251465, \"max\": 164.58773612976074}, \"finalize.time\": {\"sum\": 15.446662902832031, \"count\": 1, \"min\": 15.446662902832031, \"max\": 15.446662902832031}, \"setuptime\": {\"sum\": 2.362966537475586, \"count\": 1, \"min\": 2.362966537475586, \"max\": 2.362966537475586}, \"totaltime\": {\"sum\": 3478.215217590332, \"count\": 1, \"min\": 3478.215217590332, \"max\": 3478.215217590332}}}\u001b[0m\n",
      "\n",
      "2023-09-02 05:47:06 Completed - Training job completed\n",
      "Training seconds: 136\n",
      "Billable seconds: 136\n"
     ]
    }
   ],
   "source": [
    "# We have pass in the container, the type of instance that we would like to use for training \n",
    "# output path and sagemaker session into the Estimator. \n",
    "# We can also specify how many instances we would like to use for training\n",
    "# sagemaker_session = sagemaker.Session()\n",
    "\n",
    "linear = sagemaker.estimator.Estimator(container,\n",
    "                                       role, \n",
    "                                       train_instance_count = 1, \n",
    "                                       train_instance_type = 'ml.c4.xlarge',\n",
    "                                       output_path = output_location,\n",
    "                                       sagemaker_session = sagemaker_session)\n",
    "\n",
    "\n",
    "# We can tune parameters like the number of features that we are passing in, type of predictor like 'regressor' or 'classifier', mini batch size, epochs\n",
    "# Train 32 different versions of the model and will get the best out of them (built-in parameters optimization!)\n",
    "\n",
    "linear.set_hyperparameters(feature_dim = 1,\n",
    "                           predictor_type = 'regressor',\n",
    "                           mini_batch_size = 5,\n",
    "                           epochs = 50,\n",
    "                           num_models = 32,\n",
    "                           loss = 'absolute_loss')\n",
    "\n",
    "# Now we are ready to pass in the training data from S3 to train the linear learner model\n",
    "\n",
    "linear.fit({'train': s3_train_data})\n",
    "\n",
    "# Let's see the progress using cloudwatch logs"
   ]
  },
  {
   "cell_type": "markdown",
   "metadata": {},
   "source": [
    "MINI CHALLENGE\n",
    "- Try to train the model with more epochs and additional number of models\n",
    "- Can you try to reduce the cost of billable seconds?"
   ]
  },
  {
   "cell_type": "code",
   "execution_count": null,
   "metadata": {},
   "outputs": [],
   "source": []
  },
  {
   "cell_type": "markdown",
   "metadata": {},
   "source": [
    "# TASK #8: DEPLOY AND TEST THE TRAINED LINEAR LEARNER MODEL "
   ]
  },
  {
   "cell_type": "code",
   "execution_count": 57,
   "metadata": {
    "tags": []
   },
   "outputs": [
    {
     "name": "stderr",
     "output_type": "stream",
     "text": [
      "INFO:sagemaker:Creating model with name: linear-learner-2023-09-02-05-47-37-465\n",
      "INFO:sagemaker:Creating endpoint-config with name linear-learner-2023-09-02-05-47-37-465\n",
      "INFO:sagemaker:Creating endpoint with name linear-learner-2023-09-02-05-47-37-465\n"
     ]
    },
    {
     "name": "stdout",
     "output_type": "stream",
     "text": [
      "-------!"
     ]
    }
   ],
   "source": [
    "# Deploying the model to perform inference \n",
    "\n",
    "linear_regressor = linear.deploy(initial_instance_count = 1,\n",
    "                                          instance_type = 'ml.m4.xlarge')"
   ]
  },
  {
   "cell_type": "code",
   "execution_count": 69,
   "metadata": {
    "tags": []
   },
   "outputs": [],
   "source": [
    "#from sagemaker.predictor import CSVSerializer, json_deserializer\n",
    "from sagemaker.deserializers import JSONDeserializer\n",
    "\n",
    "from sagemaker.serializers import CSVSerializer\n",
    "\n",
    "\n",
    "# Content type overrides the data that will be passed to the deployed model, since the deployed model expects data in text/csv format.\n",
    "\n",
    "# Serializer accepts a single argument, the input data, and returns a sequence of bytes in the specified content type\n",
    "\n",
    "# Deserializer accepts two arguments, the result data and the response content type, and return a sequence of bytes in the specified content type.\n",
    "\n",
    "# Reference: https://sagemaker.readthedocs.io/en/stable/predictors.html\n",
    "\n"
   ]
  },
  {
   "cell_type": "code",
   "execution_count": null,
   "metadata": {},
   "outputs": [],
   "source": [
    "# linear_regressor.content_type = 'text/csv'\n",
    "linear_regressor.CONTENT_TYPE = \"text/csv\"\n",
    "\n",
    "linear_regressor.serializer = CSVSerializer()\n",
    "\n",
    "linear_regressor.deserializer = JSONDeserializer()"
   ]
  },
  {
   "cell_type": "code",
   "execution_count": 71,
   "metadata": {
    "tags": []
   },
   "outputs": [],
   "source": [
    "# making prediction on the test data\n",
    "\n",
    "result = linear_regressor.predict(X_test)"
   ]
  },
  {
   "cell_type": "code",
   "execution_count": 72,
   "metadata": {
    "tags": []
   },
   "outputs": [
    {
     "data": {
      "text/plain": [
       "{'predictions': [{'score': 73735.890625},\n",
       "  {'score': 48398.91796875},\n",
       "  {'score': 56844.57421875},\n",
       "  {'score': 56000.0078125},\n",
       "  {'score': 50088.046875},\n",
       "  {'score': 117653.296875},\n",
       "  {'score': 120187.0},\n",
       "  {'score': 34041.30078125},\n",
       "  {'score': 72891.3203125}]}"
      ]
     },
     "execution_count": 72,
     "metadata": {},
     "output_type": "execute_result"
    }
   ],
   "source": [
    "result # results are in Json format"
   ]
  },
  {
   "cell_type": "code",
   "execution_count": 73,
   "metadata": {
    "tags": []
   },
   "outputs": [],
   "source": [
    "# Since the result is in json format, we access the scores by iterating through the scores in the predictions\n",
    "\n",
    "predictions = np.array([r['score'] for r in result['predictions']])"
   ]
  },
  {
   "cell_type": "code",
   "execution_count": 74,
   "metadata": {
    "tags": []
   },
   "outputs": [
    {
     "data": {
      "text/plain": [
       "array([ 73735.890625  ,  48398.91796875,  56844.57421875,  56000.0078125 ,\n",
       "        50088.046875  , 117653.296875  , 120187.        ,  34041.30078125,\n",
       "        72891.3203125 ])"
      ]
     },
     "execution_count": 74,
     "metadata": {},
     "output_type": "execute_result"
    }
   ],
   "source": [
    "predictions"
   ]
  },
  {
   "cell_type": "code",
   "execution_count": 75,
   "metadata": {
    "scrolled": true,
    "tags": []
   },
   "outputs": [
    {
     "data": {
      "text/plain": [
       "(9,)"
      ]
     },
     "execution_count": 75,
     "metadata": {},
     "output_type": "execute_result"
    }
   ],
   "source": [
    "predictions.shape"
   ]
  },
  {
   "cell_type": "code",
   "execution_count": 76,
   "metadata": {
    "tags": []
   },
   "outputs": [
    {
     "data": {
      "text/plain": [
       "Text(0.5, 1.0, 'Salary vs. Years of Experience')"
      ]
     },
     "execution_count": 76,
     "metadata": {},
     "output_type": "execute_result"
    },
    {
     "data": {
      "image/png": "[encoded data removed]",
      "text/plain": [
       "<Figure size 640x480 with 1 Axes>"
      ]
     },
     "metadata": {},
     "output_type": "display_data"
    }
   ],
   "source": [
    "# VISUALIZE TEST SET RESULTS\n",
    "plt.scatter(X_test, y_test, color = 'gray')\n",
    "plt.plot(X_test, predictions, color = 'red')\n",
    "plt.xlabel('Years of Experience (Testing Dataset)')\n",
    "plt.ylabel('salary')\n",
    "plt.title('Salary vs. Years of Experience')"
   ]
  },
  {
   "cell_type": "code",
   "execution_count": 77,
   "metadata": {
    "tags": []
   },
   "outputs": [
    {
     "name": "stderr",
     "output_type": "stream",
     "text": [
      "INFO:sagemaker:Deleting endpoint configuration with name: linear-learner-2023-09-02-05-47-37-465\n",
      "INFO:sagemaker:Deleting endpoint with name: linear-learner-2023-09-02-05-47-37-465\n"
     ]
    }
   ],
   "source": [
    "# Delete the end-point\n",
    "\n",
    "linear_regressor.delete_endpoint()"
   ]
  }
 ],
 "metadata": {
  "availableInstances": [
   {
    "_defaultOrder": 0,
    "_isFastLaunch": true,
    "category": "General purpose",
    "gpuNum": 0,
    "hideHardwareSpecs": false,
    "memoryGiB": 4,
    "name": "ml.t3.medium",
    "vcpuNum": 2
   },
   {
    "_defaultOrder": 1,
    "_isFastLaunch": false,
    "category": "General purpose",
    "gpuNum": 0,
    "hideHardwareSpecs": false,
    "memoryGiB": 8,
    "name": "ml.t3.large",
    "vcpuNum": 2
   },
   {
    "_defaultOrder": 2,
    "_isFastLaunch": false,
    "category": "General purpose",
    "gpuNum": 0,
    "hideHardwareSpecs": false,
    "memoryGiB": 16,
    "name": "ml.t3.xlarge",
    "vcpuNum": 4
   },
   {
    "_defaultOrder": 3,
    "_isFastLaunch": false,
    "category": "General purpose",
    "gpuNum": 0,
    "hideHardwareSpecs": false,
    "memoryGiB": 32,
    "name": "ml.t3.2xlarge",
    "vcpuNum": 8
   },
   {
    "_defaultOrder": 4,
    "_isFastLaunch": true,
    "category": "General purpose",
    "gpuNum": 0,
    "hideHardwareSpecs": false,
    "memoryGiB": 8,
    "name": "ml.m5.large",
    "vcpuNum": 2
   },
   {
    "_defaultOrder": 5,
    "_isFastLaunch": false,
    "category": "General purpose",
    "gpuNum": 0,
    "hideHardwareSpecs": false,
    "memoryGiB": 16,
    "name": "ml.m5.xlarge",
    "vcpuNum": 4
   },
   {
    "_defaultOrder": 6,
    "_isFastLaunch": false,
    "category": "General purpose",
    "gpuNum": 0,
    "hideHardwareSpecs": false,
    "memoryGiB": 32,
    "name": "ml.m5.2xlarge",
    "vcpuNum": 8
   },
   {
    "_defaultOrder": 7,
    "_isFastLaunch": false,
    "category": "General purpose",
    "gpuNum": 0,
    "hideHardwareSpecs": false,
    "memoryGiB": 64,
    "name": "ml.m5.4xlarge",
    "vcpuNum": 16
   },
   {
    "_defaultOrder": 8,
    "_isFastLaunch": false,
    "category": "General purpose",
    "gpuNum": 0,
    "hideHardwareSpecs": false,
    "memoryGiB": 128,
    "name": "ml.m5.8xlarge",
    "vcpuNum": 32
   },
   {
    "_defaultOrder": 9,
    "_isFastLaunch": false,
    "category": "General purpose",
    "gpuNum": 0,
    "hideHardwareSpecs": false,
    "memoryGiB": 192,
    "name": "ml.m5.12xlarge",
    "vcpuNum": 48
   },
   {
    "_defaultOrder": 10,
    "_isFastLaunch": false,
    "category": "General purpose",
    "gpuNum": 0,
    "hideHardwareSpecs": false,
    "memoryGiB": 256,
    "name": "ml.m5.16xlarge",
    "vcpuNum": 64
   },
   {
    "_defaultOrder": 11,
    "_isFastLaunch": false,
    "category": "General purpose",
    "gpuNum": 0,
    "hideHardwareSpecs": false,
    "memoryGiB": 384,
    "name": "ml.m5.24xlarge",
    "vcpuNum": 96
   },
   {
    "_defaultOrder": 12,
    "_isFastLaunch": false,
    "category": "General purpose",
    "gpuNum": 0,
    "hideHardwareSpecs": false,
    "memoryGiB": 8,
    "name": "ml.m5d.large",
    "vcpuNum": 2
   },
   {
    "_defaultOrder": 13,
    "_isFastLaunch": false,
    "category": "General purpose",
    "gpuNum": 0,
    "hideHardwareSpecs": false,
    "memoryGiB": 16,
    "name": "ml.m5d.xlarge",
    "vcpuNum": 4
   },
   {
    "_defaultOrder": 14,
    "_isFastLaunch": false,
    "category": "General purpose",
    "gpuNum": 0,
    "hideHardwareSpecs": false,
    "memoryGiB": 32,
    "name": "ml.m5d.2xlarge",
    "vcpuNum": 8
   },
   {
    "_defaultOrder": 15,
    "_isFastLaunch": false,
    "category": "General purpose",
    "gpuNum": 0,
    "hideHardwareSpecs": false,
    "memoryGiB": 64,
    "name": "ml.m5d.4xlarge",
    "vcpuNum": 16
   },
   {
    "_defaultOrder": 16,
    "_isFastLaunch": false,
    "category": "General purpose",
    "gpuNum": 0,
    "hideHardwareSpecs": false,
    "memoryGiB": 128,
    "name": "ml.m5d.8xlarge",
    "vcpuNum": 32
   },
   {
    "_defaultOrder": 17,
    "_isFastLaunch": false,
    "category": "General purpose",
    "gpuNum": 0,
    "hideHardwareSpecs": false,
    "memoryGiB": 192,
    "name": "ml.m5d.12xlarge",
    "vcpuNum": 48
   },
   {
    "_defaultOrder": 18,
    "_isFastLaunch": false,
    "category": "General purpose",
    "gpuNum": 0,
    "hideHardwareSpecs": false,
    "memoryGiB": 256,
    "name": "ml.m5d.16xlarge",
    "vcpuNum": 64
   },
   {
    "_defaultOrder": 19,
    "_isFastLaunch": false,
    "category": "General purpose",
    "gpuNum": 0,
    "hideHardwareSpecs": false,
    "memoryGiB": 384,
    "name": "ml.m5d.24xlarge",
    "vcpuNum": 96
   },
   {
    "_defaultOrder": 20,
    "_isFastLaunch": false,
    "category": "General purpose",
    "gpuNum": 0,
    "hideHardwareSpecs": true,
    "memoryGiB": 0,
    "name": "ml.geospatial.interactive",
    "supportedImageNames": [
     "sagemaker-geospatial-v1-0"
    ],
    "vcpuNum": 0
   },
   {
    "_defaultOrder": 21,
    "_isFastLaunch": true,
    "category": "Compute optimized",
    "gpuNum": 0,
    "hideHardwareSpecs": false,
    "memoryGiB": 4,
    "name": "ml.c5.large",
    "vcpuNum": 2
   },
   {
    "_defaultOrder": 22,
    "_isFastLaunch": false,
    "category": "Compute optimized",
    "gpuNum": 0,
    "hideHardwareSpecs": false,
    "memoryGiB": 8,
    "name": "ml.c5.xlarge",
    "vcpuNum": 4
   },
   {
    "_defaultOrder": 23,
    "_isFastLaunch": false,
    "category": "Compute optimized",
    "gpuNum": 0,
    "hideHardwareSpecs": false,
    "memoryGiB": 16,
    "name": "ml.c5.2xlarge",
    "vcpuNum": 8
   },
   {
    "_defaultOrder": 24,
    "_isFastLaunch": false,
    "category": "Compute optimized",
    "gpuNum": 0,
    "hideHardwareSpecs": false,
    "memoryGiB": 32,
    "name": "ml.c5.4xlarge",
    "vcpuNum": 16
   },
   {
    "_defaultOrder": 25,
    "_isFastLaunch": false,
    "category": "Compute optimized",
    "gpuNum": 0,
    "hideHardwareSpecs": false,
    "memoryGiB": 72,
    "name": "ml.c5.9xlarge",
    "vcpuNum": 36
   },
   {
    "_defaultOrder": 26,
    "_isFastLaunch": false,
    "category": "Compute optimized",
    "gpuNum": 0,
    "hideHardwareSpecs": false,
    "memoryGiB": 96,
    "name": "ml.c5.12xlarge",
    "vcpuNum": 48
   },
   {
    "_defaultOrder": 27,
    "_isFastLaunch": false,
    "category": "Compute optimized",
    "gpuNum": 0,
    "hideHardwareSpecs": false,
    "memoryGiB": 144,
    "name": "ml.c5.18xlarge",
    "vcpuNum": 72
   },
   {
    "_defaultOrder": 28,
    "_isFastLaunch": false,
    "category": "Compute optimized",
    "gpuNum": 0,
    "hideHardwareSpecs": false,
    "memoryGiB": 192,
    "name": "ml.c5.24xlarge",
    "vcpuNum": 96
   },
   {
    "_defaultOrder": 29,
    "_isFastLaunch": true,
    "category": "Accelerated computing",
    "gpuNum": 1,
    "hideHardwareSpecs": false,
    "memoryGiB": 16,
    "name": "ml.g4dn.xlarge",
    "vcpuNum": 4
   },
   {
    "_defaultOrder": 30,
    "_isFastLaunch": false,
    "category": "Accelerated computing",
    "gpuNum": 1,
    "hideHardwareSpecs": false,
    "memoryGiB": 32,
    "name": "ml.g4dn.2xlarge",
    "vcpuNum": 8
   },
   {
    "_defaultOrder": 31,
    "_isFastLaunch": false,
    "category": "Accelerated computing",
    "gpuNum": 1,
    "hideHardwareSpecs": false,
    "memoryGiB": 64,
    "name": "ml.g4dn.4xlarge",
    "vcpuNum": 16
   },
   {
    "_defaultOrder": 32,
    "_isFastLaunch": false,
    "category": "Accelerated computing",
    "gpuNum": 1,
    "hideHardwareSpecs": false,
    "memoryGiB": 128,
    "name": "ml.g4dn.8xlarge",
    "vcpuNum": 32
   },
   {
    "_defaultOrder": 33,
    "_isFastLaunch": false,
    "category": "Accelerated computing",
    "gpuNum": 4,
    "hideHardwareSpecs": false,
    "memoryGiB": 192,
    "name": "ml.g4dn.12xlarge",
    "vcpuNum": 48
   },
   {
    "_defaultOrder": 34,
    "_isFastLaunch": false,
    "category": "Accelerated computing",
    "gpuNum": 1,
    "hideHardwareSpecs": false,
    "memoryGiB": 256,
    "name": "ml.g4dn.16xlarge",
    "vcpuNum": 64
   },
   {
    "_defaultOrder": 35,
    "_isFastLaunch": false,
    "category": "Accelerated computing",
    "gpuNum": 1,
    "hideHardwareSpecs": false,
    "memoryGiB": 61,
    "name": "ml.p3.2xlarge",
    "vcpuNum": 8
   },
   {
    "_defaultOrder": 36,
    "_isFastLaunch": false,
    "category": "Accelerated computing",
    "gpuNum": 4,
    "hideHardwareSpecs": false,
    "memoryGiB": 244,
    "name": "ml.p3.8xlarge",
    "vcpuNum": 32
   },
   {
    "_defaultOrder": 37,
    "_isFastLaunch": false,
    "category": "Accelerated computing",
    "gpuNum": 8,
    "hideHardwareSpecs": false,
    "memoryGiB": 488,
    "name": "ml.p3.16xlarge",
    "vcpuNum": 64
   },
   {
    "_defaultOrder": 38,
    "_isFastLaunch": false,
    "category": "Accelerated computing",
    "gpuNum": 8,
    "hideHardwareSpecs": false,
    "memoryGiB": 768,
    "name": "ml.p3dn.24xlarge",
    "vcpuNum": 96
   },
   {
    "_defaultOrder": 39,
    "_isFastLaunch": false,
    "category": "Memory Optimized",
    "gpuNum": 0,
    "hideHardwareSpecs": false,
    "memoryGiB": 16,
    "name": "ml.r5.large",
    "vcpuNum": 2
   },
   {
    "_defaultOrder": 40,
    "_isFastLaunch": false,
    "category": "Memory Optimized",
    "gpuNum": 0,
    "hideHardwareSpecs": false,
    "memoryGiB": 32,
    "name": "ml.r5.xlarge",
    "vcpuNum": 4
   },
   {
    "_defaultOrder": 41,
    "_isFastLaunch": false,
    "category": "Memory Optimized",
    "gpuNum": 0,
    "hideHardwareSpecs": false,
    "memoryGiB": 64,
    "name": "ml.r5.2xlarge",
    "vcpuNum": 8
   },
   {
    "_defaultOrder": 42,
    "_isFastLaunch": false,
    "category": "Memory Optimized",
    "gpuNum": 0,
    "hideHardwareSpecs": false,
    "memoryGiB": 128,
    "name": "ml.r5.4xlarge",
    "vcpuNum": 16
   },
   {
    "_defaultOrder": 43,
    "_isFastLaunch": false,
    "category": "Memory Optimized",
    "gpuNum": 0,
    "hideHardwareSpecs": false,
    "memoryGiB": 256,
    "name": "ml.r5.8xlarge",
    "vcpuNum": 32
   },
   {
    "_defaultOrder": 44,
    "_isFastLaunch": false,
    "category": "Memory Optimized",
    "gpuNum": 0,
    "hideHardwareSpecs": false,
    "memoryGiB": 384,
    "name": "ml.r5.12xlarge",
    "vcpuNum": 48
   },
   {
    "_defaultOrder": 45,
    "_isFastLaunch": false,
    "category": "Memory Optimized",
    "gpuNum": 0,
    "hideHardwareSpecs": false,
    "memoryGiB": 512,
    "name": "ml.r5.16xlarge",
    "vcpuNum": 64
   },
   {
    "_defaultOrder": 46,
    "_isFastLaunch": false,
    "category": "Memory Optimized",
    "gpuNum": 0,
    "hideHardwareSpecs": false,
    "memoryGiB": 768,
    "name": "ml.r5.24xlarge",
    "vcpuNum": 96
   },
   {
    "_defaultOrder": 47,
    "_isFastLaunch": false,
    "category": "Accelerated computing",
    "gpuNum": 1,
    "hideHardwareSpecs": false,
    "memoryGiB": 16,
    "name": "ml.g5.xlarge",
    "vcpuNum": 4
   },
   {
    "_defaultOrder": 48,
    "_isFastLaunch": false,
    "category": "Accelerated computing",
    "gpuNum": 1,
    "hideHardwareSpecs": false,
    "memoryGiB": 32,
    "name": "ml.g5.2xlarge",
    "vcpuNum": 8
   },
   {
    "_defaultOrder": 49,
    "_isFastLaunch": false,
    "category": "Accelerated computing",
    "gpuNum": 1,
    "hideHardwareSpecs": false,
    "memoryGiB": 64,
    "name": "ml.g5.4xlarge",
    "vcpuNum": 16
   },
   {
    "_defaultOrder": 50,
    "_isFastLaunch": false,
    "category": "Accelerated computing",
    "gpuNum": 1,
    "hideHardwareSpecs": false,
    "memoryGiB": 128,
    "name": "ml.g5.8xlarge",
    "vcpuNum": 32
   },
   {
    "_defaultOrder": 51,
    "_isFastLaunch": false,
    "category": "Accelerated computing",
    "gpuNum": 1,
    "hideHardwareSpecs": false,
    "memoryGiB": 256,
    "name": "ml.g5.16xlarge",
    "vcpuNum": 64
   },
   {
    "_defaultOrder": 52,
    "_isFastLaunch": false,
    "category": "Accelerated computing",
    "gpuNum": 4,
    "hideHardwareSpecs": false,
    "memoryGiB": 192,
    "name": "ml.g5.12xlarge",
    "vcpuNum": 48
   },
   {
    "_defaultOrder": 53,
    "_isFastLaunch": false,
    "category": "Accelerated computing",
    "gpuNum": 4,
    "hideHardwareSpecs": false,
    "memoryGiB": 384,
    "name": "ml.g5.24xlarge",
    "vcpuNum": 96
   },
   {
    "_defaultOrder": 54,
    "_isFastLaunch": false,
    "category": "Accelerated computing",
    "gpuNum": 8,
    "hideHardwareSpecs": false,
    "memoryGiB": 768,
    "name": "ml.g5.48xlarge",
    "vcpuNum": 192
   },
   {
    "_defaultOrder": 55,
    "_isFastLaunch": false,
    "category": "Accelerated computing",
    "gpuNum": 8,
    "hideHardwareSpecs": false,
    "memoryGiB": 1152,
    "name": "ml.p4d.24xlarge",
    "vcpuNum": 96
   },
   {
    "_defaultOrder": 56,
    "_isFastLaunch": false,
    "category": "Accelerated computing",
    "gpuNum": 8,
    "hideHardwareSpecs": false,
    "memoryGiB": 1152,
    "name": "ml.p4de.24xlarge",
    "vcpuNum": 96
   }
  ],
  "colab": {
   "collapsed_sections": [],
   "name": "Graduate_Admission_Prediction.ipynb",
   "provenance": [],
   "toc_visible": true
  },
  "instance_type": "ml.t3.medium",
  "kernelspec": {
   "display_name": "Python 3 (Data Science 3.0)",
   "language": "python",
   "name": "python3__SAGEMAKER_INTERNAL__arn:aws:sagemaker:us-east-2:429704687514:image/sagemaker-data-science-310-v1"
  },
  "language_info": {
   "codemirror_mode": {
    "name": "ipython",
    "version": 3
   },
   "file_extension": ".py",
   "mimetype": "text/x-python",
   "name": "python",
   "nbconvert_exporter": "python",
   "pygments_lexer": "ipython3",
   "version": "3.10.6"
  },
  "toc-autonumbering": false,
  "toc-showmarkdowntxt": false
 },
 "nbformat": 4,
 "nbformat_minor": 4
}
